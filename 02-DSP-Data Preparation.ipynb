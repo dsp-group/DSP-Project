{
 "cells": [
  {
   "cell_type": "markdown",
   "metadata": {},
   "source": [
    "# Read me\n",
    "\n",
    "This code clean the data listed in our DSP data dictionary"
   ]
  },
  {
   "cell_type": "code",
   "execution_count": 1,
   "metadata": {},
   "outputs": [],
   "source": [
    "import numpy as np\n",
    "import pandas as pd"
   ]
  },
  {
   "cell_type": "code",
   "execution_count": 2,
   "metadata": {
    "scrolled": false
   },
   "outputs": [
    {
     "data": {
      "text/plain": [
       "(132445, 391)"
      ]
     },
     "execution_count": 2,
     "metadata": {},
     "output_type": "execute_result"
    }
   ],
   "source": [
    "contact_dataset = pd.read_csv('SalesForce_Contact.csv', encoding='latin', low_memory=False)\n",
    "contact_dataset.shape"
   ]
  },
  {
   "cell_type": "markdown",
   "metadata": {},
   "source": [
    "## General Methods"
   ]
  },
  {
   "cell_type": "code",
   "execution_count": 3,
   "metadata": {},
   "outputs": [],
   "source": [
    "def count_records_unique_null(feature, data):\n",
    "    print(\"Number of records:\", len(data[feature].index))\n",
    "    print(\"Unique Values:\", data[feature].nunique())\n",
    "    print(\"Null Values:\", data[feature].isna().sum())\n",
    "    print(\"Null Values %:\", data[feature].isna().sum()/len(data.index)*100)\n",
    "def count_table(feature, data):\n",
    "    data_by_feature = data.groupby(feature)\n",
    "    countTable = data_by_feature[feature].agg(['count'])\n",
    "    total_feature = countTable.values.sum()\n",
    "    proportion = np.divide(countTable['count'], total_feature/100)\n",
    "    countTable['%'] = proportion\n",
    "    countTable = countTable.reset_index()\n",
    "    return countTable.nlargest(30, 'count')\n",
    "def drop_null(feature, data):\n",
    "    print(\"*** Before ***\")\n",
    "    count_records_unique_null(feature, data)\n",
    "    clean_dataset = data.dropna(subset = [feature])\n",
    "    return clean_dataset\n",
    "def summary(feature, data):\n",
    "    print(\"*** After ***\")\n",
    "    count_records_unique_null(feature, data)\n",
    "    return count_table(feature, data)"
   ]
  },
  {
   "cell_type": "markdown",
   "metadata": {},
   "source": [
    "## 1. State"
   ]
  },
  {
   "cell_type": "code",
   "execution_count": 4,
   "metadata": {},
   "outputs": [],
   "source": [
    "# Maxim's Code"
   ]
  },
  {
   "cell_type": "markdown",
   "metadata": {},
   "source": [
    "## 2. Gender"
   ]
  },
  {
   "cell_type": "code",
   "execution_count": 5,
   "metadata": {},
   "outputs": [],
   "source": [
    "# Alhasan's Code"
   ]
  },
  {
   "cell_type": "markdown",
   "metadata": {},
   "source": [
    "### Clean the data by droping all the rows with missing values"
   ]
  },
  {
   "cell_type": "code",
   "execution_count": 6,
   "metadata": {
    "scrolled": true
   },
   "outputs": [
    {
     "name": "stdout",
     "output_type": "stream",
     "text": [
      "*** Before ***\n",
      "Number of records: 132445\n",
      "Unique Values: 3\n",
      "Null Values: 63159\n",
      "Null Values %: 47.68696440031711\n",
      "*** After ***\n",
      "Number of records: 69286\n",
      "Unique Values: 3\n",
      "Null Values: 0\n",
      "Null Values %: 0.0\n"
     ]
    },
    {
     "data": {
      "text/html": [
       "<div>\n",
       "<style scoped>\n",
       "    .dataframe tbody tr th:only-of-type {\n",
       "        vertical-align: middle;\n",
       "    }\n",
       "\n",
       "    .dataframe tbody tr th {\n",
       "        vertical-align: top;\n",
       "    }\n",
       "\n",
       "    .dataframe thead th {\n",
       "        text-align: right;\n",
       "    }\n",
       "</style>\n",
       "<table border=\"1\" class=\"dataframe\">\n",
       "  <thead>\n",
       "    <tr style=\"text-align: right;\">\n",
       "      <th></th>\n",
       "      <th>Gender__c</th>\n",
       "      <th>count</th>\n",
       "      <th>%</th>\n",
       "    </tr>\n",
       "  </thead>\n",
       "  <tbody>\n",
       "    <tr>\n",
       "      <th>2</th>\n",
       "      <td>Male</td>\n",
       "      <td>52760</td>\n",
       "      <td>76.148140</td>\n",
       "    </tr>\n",
       "    <tr>\n",
       "      <th>1</th>\n",
       "      <td>Female</td>\n",
       "      <td>16515</td>\n",
       "      <td>23.835984</td>\n",
       "    </tr>\n",
       "    <tr>\n",
       "      <th>0</th>\n",
       "      <td>--None--</td>\n",
       "      <td>11</td>\n",
       "      <td>0.015876</td>\n",
       "    </tr>\n",
       "  </tbody>\n",
       "</table>\n",
       "</div>"
      ],
      "text/plain": [
       "  Gender__c  count          %\n",
       "2      Male  52760  76.148140\n",
       "1    Female  16515  23.835984\n",
       "0  --None--     11   0.015876"
      ]
     },
     "execution_count": 6,
     "metadata": {},
     "output_type": "execute_result"
    }
   ],
   "source": [
    "clean_contact_dataset = drop_null('Gender__c', contact_dataset)\n",
    "summary('Gender__c', clean_contact_dataset)"
   ]
  },
  {
   "cell_type": "markdown",
   "metadata": {},
   "source": [
    "### Clean the data by droping all the rows with \"--None--\""
   ]
  },
  {
   "cell_type": "code",
   "execution_count": 7,
   "metadata": {},
   "outputs": [
    {
     "name": "stdout",
     "output_type": "stream",
     "text": [
      "*** After ***\n",
      "Number of records: 69275\n",
      "Unique Values: 2\n",
      "Null Values: 0\n",
      "Null Values %: 0.0\n"
     ]
    },
    {
     "data": {
      "text/html": [
       "<div>\n",
       "<style scoped>\n",
       "    .dataframe tbody tr th:only-of-type {\n",
       "        vertical-align: middle;\n",
       "    }\n",
       "\n",
       "    .dataframe tbody tr th {\n",
       "        vertical-align: top;\n",
       "    }\n",
       "\n",
       "    .dataframe thead th {\n",
       "        text-align: right;\n",
       "    }\n",
       "</style>\n",
       "<table border=\"1\" class=\"dataframe\">\n",
       "  <thead>\n",
       "    <tr style=\"text-align: right;\">\n",
       "      <th></th>\n",
       "      <th>Gender__c</th>\n",
       "      <th>count</th>\n",
       "      <th>%</th>\n",
       "    </tr>\n",
       "  </thead>\n",
       "  <tbody>\n",
       "    <tr>\n",
       "      <th>1</th>\n",
       "      <td>Male</td>\n",
       "      <td>52760</td>\n",
       "      <td>76.160231</td>\n",
       "    </tr>\n",
       "    <tr>\n",
       "      <th>0</th>\n",
       "      <td>Female</td>\n",
       "      <td>16515</td>\n",
       "      <td>23.839769</td>\n",
       "    </tr>\n",
       "  </tbody>\n",
       "</table>\n",
       "</div>"
      ],
      "text/plain": [
       "  Gender__c  count          %\n",
       "1      Male  52760  76.160231\n",
       "0    Female  16515  23.839769"
      ]
     },
     "execution_count": 7,
     "metadata": {},
     "output_type": "execute_result"
    }
   ],
   "source": [
    "clean_contact_dataset = clean_contact_dataset.drop(clean_contact_dataset[clean_contact_dataset.Gender__c == \"--None--\"].index)\n",
    "summary('Gender__c', clean_contact_dataset)"
   ]
  },
  {
   "cell_type": "markdown",
   "metadata": {},
   "source": [
    "## 3. Race"
   ]
  },
  {
   "cell_type": "code",
   "execution_count": 8,
   "metadata": {},
   "outputs": [],
   "source": [
    "# Alhasan's Code"
   ]
  },
  {
   "cell_type": "markdown",
   "metadata": {},
   "source": [
    "## 4. Service_Branch"
   ]
  },
  {
   "cell_type": "code",
   "execution_count": 9,
   "metadata": {},
   "outputs": [],
   "source": [
    "# Alhasan's Code"
   ]
  },
  {
   "cell_type": "markdown",
   "metadata": {},
   "source": [
    "### Clean the data by droping all the rows with missing values"
   ]
  },
  {
   "cell_type": "code",
   "execution_count": 10,
   "metadata": {},
   "outputs": [
    {
     "name": "stdout",
     "output_type": "stream",
     "text": [
      "*** Before ***\n",
      "Number of records: 69275\n",
      "Unique Values: 8\n",
      "Null Values: 6675\n",
      "Null Values %: 9.635510645976183\n",
      "*** After ***\n",
      "Number of records: 62600\n",
      "Unique Values: 8\n",
      "Null Values: 0\n",
      "Null Values %: 0.0\n"
     ]
    },
    {
     "data": {
      "text/html": [
       "<div>\n",
       "<style scoped>\n",
       "    .dataframe tbody tr th:only-of-type {\n",
       "        vertical-align: middle;\n",
       "    }\n",
       "\n",
       "    .dataframe tbody tr th {\n",
       "        vertical-align: top;\n",
       "    }\n",
       "\n",
       "    .dataframe thead th {\n",
       "        text-align: right;\n",
       "    }\n",
       "</style>\n",
       "<table border=\"1\" class=\"dataframe\">\n",
       "  <thead>\n",
       "    <tr style=\"text-align: right;\">\n",
       "      <th></th>\n",
       "      <th>Service_Branch__c</th>\n",
       "      <th>count</th>\n",
       "      <th>%</th>\n",
       "    </tr>\n",
       "  </thead>\n",
       "  <tbody>\n",
       "    <tr>\n",
       "      <th>1</th>\n",
       "      <td>Army</td>\n",
       "      <td>34203</td>\n",
       "      <td>54.637380</td>\n",
       "    </tr>\n",
       "    <tr>\n",
       "      <th>5</th>\n",
       "      <td>Navy</td>\n",
       "      <td>10204</td>\n",
       "      <td>16.300319</td>\n",
       "    </tr>\n",
       "    <tr>\n",
       "      <th>0</th>\n",
       "      <td>Air Force</td>\n",
       "      <td>8969</td>\n",
       "      <td>14.327476</td>\n",
       "    </tr>\n",
       "    <tr>\n",
       "      <th>3</th>\n",
       "      <td>Marines</td>\n",
       "      <td>8657</td>\n",
       "      <td>13.829073</td>\n",
       "    </tr>\n",
       "    <tr>\n",
       "      <th>2</th>\n",
       "      <td>Coast Guard</td>\n",
       "      <td>560</td>\n",
       "      <td>0.894569</td>\n",
       "    </tr>\n",
       "    <tr>\n",
       "      <th>6</th>\n",
       "      <td>Not Applicable</td>\n",
       "      <td>4</td>\n",
       "      <td>0.006390</td>\n",
       "    </tr>\n",
       "    <tr>\n",
       "      <th>7</th>\n",
       "      <td>Spouse</td>\n",
       "      <td>2</td>\n",
       "      <td>0.003195</td>\n",
       "    </tr>\n",
       "    <tr>\n",
       "      <th>4</th>\n",
       "      <td>Merchant Marine</td>\n",
       "      <td>1</td>\n",
       "      <td>0.001597</td>\n",
       "    </tr>\n",
       "  </tbody>\n",
       "</table>\n",
       "</div>"
      ],
      "text/plain": [
       "  Service_Branch__c  count          %\n",
       "1              Army  34203  54.637380\n",
       "5              Navy  10204  16.300319\n",
       "0         Air Force   8969  14.327476\n",
       "3           Marines   8657  13.829073\n",
       "2       Coast Guard    560   0.894569\n",
       "6    Not Applicable      4   0.006390\n",
       "7            Spouse      2   0.003195\n",
       "4   Merchant Marine      1   0.001597"
      ]
     },
     "execution_count": 10,
     "metadata": {},
     "output_type": "execute_result"
    }
   ],
   "source": [
    "clean_contact_dataset = drop_null('Service_Branch__c', clean_contact_dataset)\n",
    "summary('Service_Branch__c', clean_contact_dataset)"
   ]
  },
  {
   "cell_type": "markdown",
   "metadata": {},
   "source": [
    "### Clean the data by including {Spouse, Merchant Marine} into Not Applicable"
   ]
  },
  {
   "cell_type": "code",
   "execution_count": 11,
   "metadata": {},
   "outputs": [],
   "source": [
    "col = clean_contact_dataset['Service_Branch__c']\n",
    "col = col.where(col != \"Spouse\", \"Not Applicable\")\n",
    "col = col.where(col != \"Merchant Marine\", \"Not Applicable\")\n",
    "clean_contact_dataset['Service_Branch__c'] = col"
   ]
  },
  {
   "cell_type": "code",
   "execution_count": 12,
   "metadata": {},
   "outputs": [
    {
     "name": "stdout",
     "output_type": "stream",
     "text": [
      "*** After ***\n",
      "Number of records: 62600\n",
      "Unique Values: 6\n",
      "Null Values: 0\n",
      "Null Values %: 0.0\n"
     ]
    },
    {
     "data": {
      "text/html": [
       "<div>\n",
       "<style scoped>\n",
       "    .dataframe tbody tr th:only-of-type {\n",
       "        vertical-align: middle;\n",
       "    }\n",
       "\n",
       "    .dataframe tbody tr th {\n",
       "        vertical-align: top;\n",
       "    }\n",
       "\n",
       "    .dataframe thead th {\n",
       "        text-align: right;\n",
       "    }\n",
       "</style>\n",
       "<table border=\"1\" class=\"dataframe\">\n",
       "  <thead>\n",
       "    <tr style=\"text-align: right;\">\n",
       "      <th></th>\n",
       "      <th>Service_Branch__c</th>\n",
       "      <th>count</th>\n",
       "      <th>%</th>\n",
       "    </tr>\n",
       "  </thead>\n",
       "  <tbody>\n",
       "    <tr>\n",
       "      <th>1</th>\n",
       "      <td>Army</td>\n",
       "      <td>34203</td>\n",
       "      <td>54.637380</td>\n",
       "    </tr>\n",
       "    <tr>\n",
       "      <th>4</th>\n",
       "      <td>Navy</td>\n",
       "      <td>10204</td>\n",
       "      <td>16.300319</td>\n",
       "    </tr>\n",
       "    <tr>\n",
       "      <th>0</th>\n",
       "      <td>Air Force</td>\n",
       "      <td>8969</td>\n",
       "      <td>14.327476</td>\n",
       "    </tr>\n",
       "    <tr>\n",
       "      <th>3</th>\n",
       "      <td>Marines</td>\n",
       "      <td>8657</td>\n",
       "      <td>13.829073</td>\n",
       "    </tr>\n",
       "    <tr>\n",
       "      <th>2</th>\n",
       "      <td>Coast Guard</td>\n",
       "      <td>560</td>\n",
       "      <td>0.894569</td>\n",
       "    </tr>\n",
       "    <tr>\n",
       "      <th>5</th>\n",
       "      <td>Not Applicable</td>\n",
       "      <td>7</td>\n",
       "      <td>0.011182</td>\n",
       "    </tr>\n",
       "  </tbody>\n",
       "</table>\n",
       "</div>"
      ],
      "text/plain": [
       "  Service_Branch__c  count          %\n",
       "1              Army  34203  54.637380\n",
       "4              Navy  10204  16.300319\n",
       "0         Air Force   8969  14.327476\n",
       "3           Marines   8657  13.829073\n",
       "2       Coast Guard    560   0.894569\n",
       "5    Not Applicable      7   0.011182"
      ]
     },
     "execution_count": 12,
     "metadata": {},
     "output_type": "execute_result"
    }
   ],
   "source": [
    "summary('Service_Branch__c', clean_contact_dataset)"
   ]
  },
  {
   "cell_type": "markdown",
   "metadata": {},
   "source": [
    "## 5. Last_Service_Rank"
   ]
  },
  {
   "cell_type": "code",
   "execution_count": 13,
   "metadata": {},
   "outputs": [],
   "source": [
    "# Alhasan's Code"
   ]
  },
  {
   "cell_type": "markdown",
   "metadata": {},
   "source": [
    "### Clean the data by droping all the rows with missing values"
   ]
  },
  {
   "cell_type": "code",
   "execution_count": 14,
   "metadata": {},
   "outputs": [
    {
     "name": "stdout",
     "output_type": "stream",
     "text": [
      "*** Before ***\n",
      "Number of records: 62600\n",
      "Unique Values: 27\n",
      "Null Values: 1056\n",
      "Null Values %: 1.6869009584664536\n",
      "*** After ***\n",
      "Number of records: 61544\n",
      "Unique Values: 27\n",
      "Null Values: 0\n",
      "Null Values %: 0.0\n"
     ]
    },
    {
     "data": {
      "text/html": [
       "<div>\n",
       "<style scoped>\n",
       "    .dataframe tbody tr th:only-of-type {\n",
       "        vertical-align: middle;\n",
       "    }\n",
       "\n",
       "    .dataframe tbody tr th {\n",
       "        vertical-align: top;\n",
       "    }\n",
       "\n",
       "    .dataframe thead th {\n",
       "        text-align: right;\n",
       "    }\n",
       "</style>\n",
       "<table border=\"1\" class=\"dataframe\">\n",
       "  <thead>\n",
       "    <tr style=\"text-align: right;\">\n",
       "      <th></th>\n",
       "      <th>Service_Rank__c</th>\n",
       "      <th>count</th>\n",
       "      <th>%</th>\n",
       "    </tr>\n",
       "  </thead>\n",
       "  <tbody>\n",
       "    <tr>\n",
       "      <th>6</th>\n",
       "      <td>E-4</td>\n",
       "      <td>13547</td>\n",
       "      <td>22.011894</td>\n",
       "    </tr>\n",
       "    <tr>\n",
       "      <th>7</th>\n",
       "      <td>E-5</td>\n",
       "      <td>13308</td>\n",
       "      <td>21.623554</td>\n",
       "    </tr>\n",
       "    <tr>\n",
       "      <th>8</th>\n",
       "      <td>E-6</td>\n",
       "      <td>8978</td>\n",
       "      <td>14.587937</td>\n",
       "    </tr>\n",
       "    <tr>\n",
       "      <th>9</th>\n",
       "      <td>E-7</td>\n",
       "      <td>8200</td>\n",
       "      <td>13.323801</td>\n",
       "    </tr>\n",
       "    <tr>\n",
       "      <th>10</th>\n",
       "      <td>E-8</td>\n",
       "      <td>3637</td>\n",
       "      <td>5.909593</td>\n",
       "    </tr>\n",
       "    <tr>\n",
       "      <th>15</th>\n",
       "      <td>O-3</td>\n",
       "      <td>3016</td>\n",
       "      <td>4.900559</td>\n",
       "    </tr>\n",
       "    <tr>\n",
       "      <th>5</th>\n",
       "      <td>E-3</td>\n",
       "      <td>2660</td>\n",
       "      <td>4.322111</td>\n",
       "    </tr>\n",
       "    <tr>\n",
       "      <th>16</th>\n",
       "      <td>O-4</td>\n",
       "      <td>1588</td>\n",
       "      <td>2.580268</td>\n",
       "    </tr>\n",
       "    <tr>\n",
       "      <th>11</th>\n",
       "      <td>E-9</td>\n",
       "      <td>1397</td>\n",
       "      <td>2.269921</td>\n",
       "    </tr>\n",
       "    <tr>\n",
       "      <th>17</th>\n",
       "      <td>O-5</td>\n",
       "      <td>1383</td>\n",
       "      <td>2.247173</td>\n",
       "    </tr>\n",
       "    <tr>\n",
       "      <th>14</th>\n",
       "      <td>O-2</td>\n",
       "      <td>840</td>\n",
       "      <td>1.364877</td>\n",
       "    </tr>\n",
       "    <tr>\n",
       "      <th>4</th>\n",
       "      <td>E-2</td>\n",
       "      <td>574</td>\n",
       "      <td>0.932666</td>\n",
       "    </tr>\n",
       "    <tr>\n",
       "      <th>18</th>\n",
       "      <td>O-6</td>\n",
       "      <td>562</td>\n",
       "      <td>0.913168</td>\n",
       "    </tr>\n",
       "    <tr>\n",
       "      <th>24</th>\n",
       "      <td>W-3</td>\n",
       "      <td>501</td>\n",
       "      <td>0.814052</td>\n",
       "    </tr>\n",
       "    <tr>\n",
       "      <th>25</th>\n",
       "      <td>W-4</td>\n",
       "      <td>362</td>\n",
       "      <td>0.588197</td>\n",
       "    </tr>\n",
       "    <tr>\n",
       "      <th>23</th>\n",
       "      <td>W-2</td>\n",
       "      <td>346</td>\n",
       "      <td>0.562199</td>\n",
       "    </tr>\n",
       "    <tr>\n",
       "      <th>3</th>\n",
       "      <td>E-1</td>\n",
       "      <td>300</td>\n",
       "      <td>0.487456</td>\n",
       "    </tr>\n",
       "    <tr>\n",
       "      <th>13</th>\n",
       "      <td>O-1</td>\n",
       "      <td>210</td>\n",
       "      <td>0.341219</td>\n",
       "    </tr>\n",
       "    <tr>\n",
       "      <th>26</th>\n",
       "      <td>W-5</td>\n",
       "      <td>75</td>\n",
       "      <td>0.121864</td>\n",
       "    </tr>\n",
       "    <tr>\n",
       "      <th>22</th>\n",
       "      <td>W-1</td>\n",
       "      <td>40</td>\n",
       "      <td>0.064994</td>\n",
       "    </tr>\n",
       "    <tr>\n",
       "      <th>19</th>\n",
       "      <td>O-7</td>\n",
       "      <td>7</td>\n",
       "      <td>0.011374</td>\n",
       "    </tr>\n",
       "    <tr>\n",
       "      <th>20</th>\n",
       "      <td>O-8</td>\n",
       "      <td>4</td>\n",
       "      <td>0.006499</td>\n",
       "    </tr>\n",
       "    <tr>\n",
       "      <th>1</th>\n",
       "      <td>CW-3</td>\n",
       "      <td>3</td>\n",
       "      <td>0.004875</td>\n",
       "    </tr>\n",
       "    <tr>\n",
       "      <th>2</th>\n",
       "      <td>CW-4</td>\n",
       "      <td>2</td>\n",
       "      <td>0.003250</td>\n",
       "    </tr>\n",
       "    <tr>\n",
       "      <th>0</th>\n",
       "      <td>CW-2</td>\n",
       "      <td>2</td>\n",
       "      <td>0.003250</td>\n",
       "    </tr>\n",
       "    <tr>\n",
       "      <th>21</th>\n",
       "      <td>O-9</td>\n",
       "      <td>1</td>\n",
       "      <td>0.001625</td>\n",
       "    </tr>\n",
       "    <tr>\n",
       "      <th>12</th>\n",
       "      <td>E5</td>\n",
       "      <td>1</td>\n",
       "      <td>0.001625</td>\n",
       "    </tr>\n",
       "  </tbody>\n",
       "</table>\n",
       "</div>"
      ],
      "text/plain": [
       "   Service_Rank__c  count          %\n",
       "6              E-4  13547  22.011894\n",
       "7              E-5  13308  21.623554\n",
       "8              E-6   8978  14.587937\n",
       "9              E-7   8200  13.323801\n",
       "10             E-8   3637   5.909593\n",
       "15             O-3   3016   4.900559\n",
       "5              E-3   2660   4.322111\n",
       "16             O-4   1588   2.580268\n",
       "11             E-9   1397   2.269921\n",
       "17             O-5   1383   2.247173\n",
       "14             O-2    840   1.364877\n",
       "4              E-2    574   0.932666\n",
       "18             O-6    562   0.913168\n",
       "24             W-3    501   0.814052\n",
       "25             W-4    362   0.588197\n",
       "23             W-2    346   0.562199\n",
       "3              E-1    300   0.487456\n",
       "13             O-1    210   0.341219\n",
       "26             W-5     75   0.121864\n",
       "22             W-1     40   0.064994\n",
       "19             O-7      7   0.011374\n",
       "20             O-8      4   0.006499\n",
       "1             CW-3      3   0.004875\n",
       "2             CW-4      2   0.003250\n",
       "0             CW-2      2   0.003250\n",
       "21             O-9      1   0.001625\n",
       "12              E5      1   0.001625"
      ]
     },
     "execution_count": 14,
     "metadata": {},
     "output_type": "execute_result"
    }
   ],
   "source": [
    "clean_contact_dataset = drop_null('Service_Rank__c', clean_contact_dataset)\n",
    "summary('Service_Rank__c', clean_contact_dataset)"
   ]
  },
  {
   "cell_type": "markdown",
   "metadata": {},
   "source": [
    "### Adding Last_Service_Rank Column accourding to:\n",
    "1. Enlisted Personnel (E)\n",
    "2. Warrant Officers (W, CW)\n",
    "3. Commissioned Officers (O)\n",
    "\n",
    "source: https://www.infoplease.com/us/military-personnel/us-military-ranks"
   ]
  },
  {
   "cell_type": "code",
   "execution_count": 15,
   "metadata": {},
   "outputs": [],
   "source": [
    "col = clean_contact_dataset['Service_Rank__c']\n",
    "col = col.where(col.str.startswith('O') == False, \"O\")\n",
    "col = col.where(col.str.startswith('E') == False, \"E\")\n",
    "col = col.where(col.str.contains('W') == False, \"W\")\n",
    "clean_contact_dataset['Last_Service_Rank'] = col"
   ]
  },
  {
   "cell_type": "code",
   "execution_count": 16,
   "metadata": {},
   "outputs": [
    {
     "name": "stdout",
     "output_type": "stream",
     "text": [
      "*** After ***\n",
      "Number of records: 61544\n",
      "Unique Values: 3\n",
      "Null Values: 0\n",
      "Null Values %: 0.0\n"
     ]
    },
    {
     "data": {
      "text/html": [
       "<div>\n",
       "<style scoped>\n",
       "    .dataframe tbody tr th:only-of-type {\n",
       "        vertical-align: middle;\n",
       "    }\n",
       "\n",
       "    .dataframe tbody tr th {\n",
       "        vertical-align: top;\n",
       "    }\n",
       "\n",
       "    .dataframe thead th {\n",
       "        text-align: right;\n",
       "    }\n",
       "</style>\n",
       "<table border=\"1\" class=\"dataframe\">\n",
       "  <thead>\n",
       "    <tr style=\"text-align: right;\">\n",
       "      <th></th>\n",
       "      <th>Last_Service_Rank</th>\n",
       "      <th>count</th>\n",
       "      <th>%</th>\n",
       "    </tr>\n",
       "  </thead>\n",
       "  <tbody>\n",
       "    <tr>\n",
       "      <th>0</th>\n",
       "      <td>E</td>\n",
       "      <td>52602</td>\n",
       "      <td>85.470558</td>\n",
       "    </tr>\n",
       "    <tr>\n",
       "      <th>1</th>\n",
       "      <td>O</td>\n",
       "      <td>7611</td>\n",
       "      <td>12.366762</td>\n",
       "    </tr>\n",
       "    <tr>\n",
       "      <th>2</th>\n",
       "      <td>W</td>\n",
       "      <td>1331</td>\n",
       "      <td>2.162680</td>\n",
       "    </tr>\n",
       "  </tbody>\n",
       "</table>\n",
       "</div>"
      ],
      "text/plain": [
       "  Last_Service_Rank  count          %\n",
       "0                 E  52602  85.470558\n",
       "1                 O   7611  12.366762\n",
       "2                 W   1331   2.162680"
      ]
     },
     "execution_count": 16,
     "metadata": {},
     "output_type": "execute_result"
    }
   ],
   "source": [
    "summary('Last_Service_Rank', clean_contact_dataset)"
   ]
  },
  {
   "cell_type": "markdown",
   "metadata": {},
   "source": [
    "## 8. Education"
   ]
  },
  {
   "cell_type": "code",
   "execution_count": 17,
   "metadata": {},
   "outputs": [],
   "source": [
    "# Maxim's Code"
   ]
  }
 ],
 "metadata": {
  "kernelspec": {
   "display_name": "Python 3",
   "language": "python",
   "name": "python3"
  },
  "language_info": {
   "codemirror_mode": {
    "name": "ipython",
    "version": 3
   },
   "file_extension": ".py",
   "mimetype": "text/x-python",
   "name": "python",
   "nbconvert_exporter": "python",
   "pygments_lexer": "ipython3",
   "version": "3.7.2"
  }
 },
 "nbformat": 4,
 "nbformat_minor": 2
}
