{
 "cells": [
  {
   "cell_type": "markdown",
   "metadata": {},
   "source": [
    "# Read me\n",
    "\n",
    "This code clean the data listed in our DSP data dictionary"
   ]
  },
  {
   "cell_type": "code",
   "execution_count": 53,
   "metadata": {},
   "outputs": [],
   "source": [
    "import numpy as np\n",
    "import pandas as pd"
   ]
  },
  {
   "cell_type": "code",
   "execution_count": 54,
   "metadata": {
    "scrolled": false
   },
   "outputs": [
    {
     "data": {
      "text/plain": [
       "(132445, 391)"
      ]
     },
     "execution_count": 54,
     "metadata": {},
     "output_type": "execute_result"
    }
   ],
   "source": [
    "contact_dataset = pd.read_csv('SalesForce_Contact.csv', encoding='latin', low_memory=False)\n",
    "contact_dataset.shape"
   ]
  },
  {
   "cell_type": "markdown",
   "metadata": {},
   "source": [
    "## General Methods"
   ]
  },
  {
   "cell_type": "code",
   "execution_count": 55,
   "metadata": {},
   "outputs": [],
   "source": [
    "def count_records_unique_null(feature, data):\n",
    "    print(\"Number of records:\", len(data[feature].index))\n",
    "    print(\"Unique Values:\", data[feature].nunique())\n",
    "    print(\"Null Values:\", data[feature].isna().sum())\n",
    "    print(\"Null Values %:\", data[feature].isna().sum()/len(data.index)*100)\n",
    "def count_table(feature, data):\n",
    "    data_by_feature = data.groupby(feature)\n",
    "    countTable = data_by_feature[feature].agg(['count'])\n",
    "    total_feature = countTable.values.sum()\n",
    "    proportion = np.divide(countTable['count'], total_feature/100)\n",
    "    countTable['%'] = proportion\n",
    "    countTable = countTable.reset_index()\n",
    "    return countTable.nlargest(30, 'count')\n",
    "def drop_null(feature, data):\n",
    "    print(\"*** Before ***\")\n",
    "    count_records_unique_null(feature, data)\n",
    "    clean_dataset = data.dropna(subset = [feature])\n",
    "    return clean_dataset\n",
    "def summary(feature, data):\n",
    "    print(\"*** After ***\")\n",
    "    count_records_unique_null(feature, data)\n",
    "    return count_table(feature, data)"
   ]
  },
  {
   "cell_type": "markdown",
   "metadata": {},
   "source": [
    "## 1. State"
   ]
  },
  {
   "cell_type": "code",
   "execution_count": 56,
   "metadata": {},
   "outputs": [],
   "source": [
    "# Maxim's Code edited by Nameetha"
   ]
  },
  {
   "cell_type": "code",
   "execution_count": 57,
   "metadata": {},
   "outputs": [
    {
     "name": "stdout",
     "output_type": "stream",
     "text": [
      "*** Before ***\n",
      "Number of records: 132445\n",
      "Unique Values: 381\n",
      "Null Values: 8083\n",
      "Null Values %: 6.102910642153347\n",
      "*** After ***\n",
      "Number of records: 124362\n",
      "Unique Values: 381\n",
      "Null Values: 0\n",
      "Null Values %: 0.0\n"
     ]
    },
    {
     "data": {
      "text/html": [
       "<div>\n",
       "<style scoped>\n",
       "    .dataframe tbody tr th:only-of-type {\n",
       "        vertical-align: middle;\n",
       "    }\n",
       "\n",
       "    .dataframe tbody tr th {\n",
       "        vertical-align: top;\n",
       "    }\n",
       "\n",
       "    .dataframe thead th {\n",
       "        text-align: right;\n",
       "    }\n",
       "</style>\n",
       "<table border=\"1\" class=\"dataframe\">\n",
       "  <thead>\n",
       "    <tr style=\"text-align: right;\">\n",
       "      <th></th>\n",
       "      <th>MailingState</th>\n",
       "      <th>count</th>\n",
       "      <th>%</th>\n",
       "    </tr>\n",
       "  </thead>\n",
       "  <tbody>\n",
       "    <tr>\n",
       "      <th>281</th>\n",
       "      <td>TX</td>\n",
       "      <td>14532</td>\n",
       "      <td>11.685241</td>\n",
       "    </tr>\n",
       "    <tr>\n",
       "      <th>57</th>\n",
       "      <td>CA</td>\n",
       "      <td>12999</td>\n",
       "      <td>10.452550</td>\n",
       "    </tr>\n",
       "    <tr>\n",
       "      <th>295</th>\n",
       "      <td>VA</td>\n",
       "      <td>9651</td>\n",
       "      <td>7.760409</td>\n",
       "    </tr>\n",
       "    <tr>\n",
       "      <th>96</th>\n",
       "      <td>GA</td>\n",
       "      <td>9223</td>\n",
       "      <td>7.416253</td>\n",
       "    </tr>\n",
       "    <tr>\n",
       "      <th>184</th>\n",
       "      <td>NC</td>\n",
       "      <td>7982</td>\n",
       "      <td>6.418359</td>\n",
       "    </tr>\n",
       "    <tr>\n",
       "      <th>90</th>\n",
       "      <td>FL</td>\n",
       "      <td>7686</td>\n",
       "      <td>6.180344</td>\n",
       "    </tr>\n",
       "    <tr>\n",
       "      <th>61</th>\n",
       "      <td>CO</td>\n",
       "      <td>6515</td>\n",
       "      <td>5.238739</td>\n",
       "    </tr>\n",
       "    <tr>\n",
       "      <th>309</th>\n",
       "      <td>WA</td>\n",
       "      <td>4418</td>\n",
       "      <td>3.552532</td>\n",
       "    </tr>\n",
       "    <tr>\n",
       "      <th>197</th>\n",
       "      <td>NY</td>\n",
       "      <td>4055</td>\n",
       "      <td>3.260642</td>\n",
       "    </tr>\n",
       "    <tr>\n",
       "      <th>154</th>\n",
       "      <td>MD</td>\n",
       "      <td>2740</td>\n",
       "      <td>2.203245</td>\n",
       "    </tr>\n",
       "    <tr>\n",
       "      <th>232</th>\n",
       "      <td>PA</td>\n",
       "      <td>2601</td>\n",
       "      <td>2.091475</td>\n",
       "    </tr>\n",
       "    <tr>\n",
       "      <th>122</th>\n",
       "      <td>IL</td>\n",
       "      <td>2494</td>\n",
       "      <td>2.005436</td>\n",
       "    </tr>\n",
       "    <tr>\n",
       "      <th>279</th>\n",
       "      <td>TN</td>\n",
       "      <td>2354</td>\n",
       "      <td>1.892861</td>\n",
       "    </tr>\n",
       "    <tr>\n",
       "      <th>190</th>\n",
       "      <td>NJ</td>\n",
       "      <td>2069</td>\n",
       "      <td>1.663691</td>\n",
       "    </tr>\n",
       "    <tr>\n",
       "      <th>23</th>\n",
       "      <td>AZ</td>\n",
       "      <td>2057</td>\n",
       "      <td>1.654042</td>\n",
       "    </tr>\n",
       "    <tr>\n",
       "      <th>261</th>\n",
       "      <td>SC</td>\n",
       "      <td>2051</td>\n",
       "      <td>1.649218</td>\n",
       "    </tr>\n",
       "    <tr>\n",
       "      <th>213</th>\n",
       "      <td>OH</td>\n",
       "      <td>1998</td>\n",
       "      <td>1.606600</td>\n",
       "    </tr>\n",
       "    <tr>\n",
       "      <th>14</th>\n",
       "      <td>AL</td>\n",
       "      <td>1763</td>\n",
       "      <td>1.417636</td>\n",
       "    </tr>\n",
       "    <tr>\n",
       "      <th>157</th>\n",
       "      <td>MI</td>\n",
       "      <td>1541</td>\n",
       "      <td>1.239124</td>\n",
       "    </tr>\n",
       "    <tr>\n",
       "      <th>114</th>\n",
       "      <td>HI</td>\n",
       "      <td>1537</td>\n",
       "      <td>1.235908</td>\n",
       "    </tr>\n",
       "    <tr>\n",
       "      <th>227</th>\n",
       "      <td>Other</td>\n",
       "      <td>1520</td>\n",
       "      <td>1.222238</td>\n",
       "    </tr>\n",
       "    <tr>\n",
       "      <th>121</th>\n",
       "      <td>ID</td>\n",
       "      <td>1476</td>\n",
       "      <td>1.186858</td>\n",
       "    </tr>\n",
       "    <tr>\n",
       "      <th>160</th>\n",
       "      <td>MO</td>\n",
       "      <td>1466</td>\n",
       "      <td>1.178817</td>\n",
       "    </tr>\n",
       "    <tr>\n",
       "      <th>136</th>\n",
       "      <td>KS</td>\n",
       "      <td>1393</td>\n",
       "      <td>1.120117</td>\n",
       "    </tr>\n",
       "    <tr>\n",
       "      <th>138</th>\n",
       "      <td>KY</td>\n",
       "      <td>1262</td>\n",
       "      <td>1.014779</td>\n",
       "    </tr>\n",
       "    <tr>\n",
       "      <th>147</th>\n",
       "      <td>LA</td>\n",
       "      <td>1198</td>\n",
       "      <td>0.963317</td>\n",
       "    </tr>\n",
       "    <tr>\n",
       "      <th>123</th>\n",
       "      <td>IN</td>\n",
       "      <td>1184</td>\n",
       "      <td>0.952059</td>\n",
       "    </tr>\n",
       "    <tr>\n",
       "      <th>151</th>\n",
       "      <td>MA</td>\n",
       "      <td>1171</td>\n",
       "      <td>0.941606</td>\n",
       "    </tr>\n",
       "    <tr>\n",
       "      <th>311</th>\n",
       "      <td>WI</td>\n",
       "      <td>1087</td>\n",
       "      <td>0.874061</td>\n",
       "    </tr>\n",
       "    <tr>\n",
       "      <th>214</th>\n",
       "      <td>OK</td>\n",
       "      <td>1013</td>\n",
       "      <td>0.814558</td>\n",
       "    </tr>\n",
       "  </tbody>\n",
       "</table>\n",
       "</div>"
      ],
      "text/plain": [
       "    MailingState  count          %\n",
       "281           TX  14532  11.685241\n",
       "57            CA  12999  10.452550\n",
       "295           VA   9651   7.760409\n",
       "96            GA   9223   7.416253\n",
       "184           NC   7982   6.418359\n",
       "90            FL   7686   6.180344\n",
       "61            CO   6515   5.238739\n",
       "309           WA   4418   3.552532\n",
       "197           NY   4055   3.260642\n",
       "154           MD   2740   2.203245\n",
       "232           PA   2601   2.091475\n",
       "122           IL   2494   2.005436\n",
       "279           TN   2354   1.892861\n",
       "190           NJ   2069   1.663691\n",
       "23            AZ   2057   1.654042\n",
       "261           SC   2051   1.649218\n",
       "213           OH   1998   1.606600\n",
       "14            AL   1763   1.417636\n",
       "157           MI   1541   1.239124\n",
       "114           HI   1537   1.235908\n",
       "227        Other   1520   1.222238\n",
       "121           ID   1476   1.186858\n",
       "160           MO   1466   1.178817\n",
       "136           KS   1393   1.120117\n",
       "138           KY   1262   1.014779\n",
       "147           LA   1198   0.963317\n",
       "123           IN   1184   0.952059\n",
       "151           MA   1171   0.941606\n",
       "311           WI   1087   0.874061\n",
       "214           OK   1013   0.814558"
      ]
     },
     "execution_count": 57,
     "metadata": {},
     "output_type": "execute_result"
    }
   ],
   "source": [
    "clean_contact_dataset = drop_null('MailingState', contact_dataset)\n",
    "summary('MailingState', clean_contact_dataset)"
   ]
  },
  {
   "cell_type": "markdown",
   "metadata": {},
   "source": [
    "# Focusing on United States of America as they constitute most part of the data"
   ]
  },
  {
   "cell_type": "code",
   "execution_count": 58,
   "metadata": {},
   "outputs": [],
   "source": [
    "states_dict = pd.read_csv('States_dict.csv', names=['State_abr', 'State_name'])\n",
    "abr_list=states_dict['State_abr'].tolist()\n",
    "name_list=states_dict['State_name'].tolist()"
   ]
  },
  {
   "cell_type": "code",
   "execution_count": 59,
   "metadata": {},
   "outputs": [
    {
     "name": "stderr",
     "output_type": "stream",
     "text": [
      "C:\\Users\\Nameetha\\Anaconda3\\lib\\site-packages\\ipykernel_launcher.py:1: SettingWithCopyWarning: \n",
      "A value is trying to be set on a copy of a slice from a DataFrame.\n",
      "Try using .loc[row_indexer,col_indexer] = value instead\n",
      "\n",
      "See the caveats in the documentation: http://pandas.pydata.org/pandas-docs/stable/indexing.html#indexing-view-versus-copy\n",
      "  \"\"\"Entry point for launching an IPython kernel.\n",
      "C:\\Users\\Nameetha\\Anaconda3\\lib\\site-packages\\pandas\\core\\generic.py:5890: SettingWithCopyWarning: \n",
      "A value is trying to be set on a copy of a slice from a DataFrame\n",
      "\n",
      "See the caveats in the documentation: http://pandas.pydata.org/pandas-docs/stable/indexing.html#indexing-view-versus-copy\n",
      "  self._update_inplace(new_data)\n"
     ]
    }
   ],
   "source": [
    "clean_contact_dataset['MailingState'] = clean_contact_dataset['MailingState'].str.upper()\n",
    "clean_contact_dataset.MailingState.replace(abr_list,name_list,inplace=True)\n",
    "clean_contact_dataset = clean_contact_dataset[clean_contact_dataset['MailingState'].isin(states_dict['State_name'] )]"
   ]
  },
  {
   "cell_type": "code",
   "execution_count": 60,
   "metadata": {},
   "outputs": [
    {
     "name": "stdout",
     "output_type": "stream",
     "text": [
      "*** After ***\n",
      "Number of records: 120070\n",
      "Unique Values: 50\n",
      "Null Values: 0\n",
      "Null Values %: 0.0\n"
     ]
    },
    {
     "data": {
      "text/html": [
       "<div>\n",
       "<style scoped>\n",
       "    .dataframe tbody tr th:only-of-type {\n",
       "        vertical-align: middle;\n",
       "    }\n",
       "\n",
       "    .dataframe tbody tr th {\n",
       "        vertical-align: top;\n",
       "    }\n",
       "\n",
       "    .dataframe thead th {\n",
       "        text-align: right;\n",
       "    }\n",
       "</style>\n",
       "<table border=\"1\" class=\"dataframe\">\n",
       "  <thead>\n",
       "    <tr style=\"text-align: right;\">\n",
       "      <th></th>\n",
       "      <th>MailingState</th>\n",
       "      <th>count</th>\n",
       "      <th>%</th>\n",
       "    </tr>\n",
       "  </thead>\n",
       "  <tbody>\n",
       "    <tr>\n",
       "      <th>42</th>\n",
       "      <td>Texas</td>\n",
       "      <td>14591</td>\n",
       "      <td>12.152078</td>\n",
       "    </tr>\n",
       "    <tr>\n",
       "      <th>4</th>\n",
       "      <td>California</td>\n",
       "      <td>13081</td>\n",
       "      <td>10.894478</td>\n",
       "    </tr>\n",
       "    <tr>\n",
       "      <th>45</th>\n",
       "      <td>Virginia</td>\n",
       "      <td>9692</td>\n",
       "      <td>8.071958</td>\n",
       "    </tr>\n",
       "    <tr>\n",
       "      <th>9</th>\n",
       "      <td>Georgia</td>\n",
       "      <td>9252</td>\n",
       "      <td>7.705505</td>\n",
       "    </tr>\n",
       "    <tr>\n",
       "      <th>32</th>\n",
       "      <td>North Carolina</td>\n",
       "      <td>8007</td>\n",
       "      <td>6.668610</td>\n",
       "    </tr>\n",
       "    <tr>\n",
       "      <th>8</th>\n",
       "      <td>Florida</td>\n",
       "      <td>7753</td>\n",
       "      <td>6.457067</td>\n",
       "    </tr>\n",
       "    <tr>\n",
       "      <th>5</th>\n",
       "      <td>Colorado</td>\n",
       "      <td>6531</td>\n",
       "      <td>5.439327</td>\n",
       "    </tr>\n",
       "    <tr>\n",
       "      <th>46</th>\n",
       "      <td>Washington</td>\n",
       "      <td>4453</td>\n",
       "      <td>3.708670</td>\n",
       "    </tr>\n",
       "    <tr>\n",
       "      <th>31</th>\n",
       "      <td>New York</td>\n",
       "      <td>4070</td>\n",
       "      <td>3.389689</td>\n",
       "    </tr>\n",
       "    <tr>\n",
       "      <th>19</th>\n",
       "      <td>Maryland</td>\n",
       "      <td>2749</td>\n",
       "      <td>2.289498</td>\n",
       "    </tr>\n",
       "    <tr>\n",
       "      <th>37</th>\n",
       "      <td>Pennsylvania</td>\n",
       "      <td>2604</td>\n",
       "      <td>2.168735</td>\n",
       "    </tr>\n",
       "    <tr>\n",
       "      <th>12</th>\n",
       "      <td>Illinois</td>\n",
       "      <td>2499</td>\n",
       "      <td>2.081286</td>\n",
       "    </tr>\n",
       "    <tr>\n",
       "      <th>41</th>\n",
       "      <td>Tennessee</td>\n",
       "      <td>2362</td>\n",
       "      <td>1.967186</td>\n",
       "    </tr>\n",
       "    <tr>\n",
       "      <th>29</th>\n",
       "      <td>New Jersey</td>\n",
       "      <td>2074</td>\n",
       "      <td>1.727326</td>\n",
       "    </tr>\n",
       "    <tr>\n",
       "      <th>2</th>\n",
       "      <td>Arizona</td>\n",
       "      <td>2063</td>\n",
       "      <td>1.718164</td>\n",
       "    </tr>\n",
       "    <tr>\n",
       "      <th>39</th>\n",
       "      <td>South Carolina</td>\n",
       "      <td>2054</td>\n",
       "      <td>1.710669</td>\n",
       "    </tr>\n",
       "    <tr>\n",
       "      <th>34</th>\n",
       "      <td>Ohio</td>\n",
       "      <td>2005</td>\n",
       "      <td>1.669859</td>\n",
       "    </tr>\n",
       "    <tr>\n",
       "      <th>0</th>\n",
       "      <td>Alabama</td>\n",
       "      <td>1771</td>\n",
       "      <td>1.474973</td>\n",
       "    </tr>\n",
       "    <tr>\n",
       "      <th>21</th>\n",
       "      <td>Michigan</td>\n",
       "      <td>1542</td>\n",
       "      <td>1.284251</td>\n",
       "    </tr>\n",
       "    <tr>\n",
       "      <th>10</th>\n",
       "      <td>Hawaii</td>\n",
       "      <td>1541</td>\n",
       "      <td>1.283418</td>\n",
       "    </tr>\n",
       "    <tr>\n",
       "      <th>11</th>\n",
       "      <td>Idaho</td>\n",
       "      <td>1476</td>\n",
       "      <td>1.229283</td>\n",
       "    </tr>\n",
       "    <tr>\n",
       "      <th>24</th>\n",
       "      <td>Missouri</td>\n",
       "      <td>1469</td>\n",
       "      <td>1.223453</td>\n",
       "    </tr>\n",
       "    <tr>\n",
       "      <th>15</th>\n",
       "      <td>Kansas</td>\n",
       "      <td>1394</td>\n",
       "      <td>1.160989</td>\n",
       "    </tr>\n",
       "    <tr>\n",
       "      <th>16</th>\n",
       "      <td>Kentucky</td>\n",
       "      <td>1265</td>\n",
       "      <td>1.053552</td>\n",
       "    </tr>\n",
       "    <tr>\n",
       "      <th>17</th>\n",
       "      <td>Louisiana</td>\n",
       "      <td>1201</td>\n",
       "      <td>1.000250</td>\n",
       "    </tr>\n",
       "    <tr>\n",
       "      <th>13</th>\n",
       "      <td>Indiana</td>\n",
       "      <td>1185</td>\n",
       "      <td>0.986924</td>\n",
       "    </tr>\n",
       "    <tr>\n",
       "      <th>20</th>\n",
       "      <td>Massachusetts</td>\n",
       "      <td>1173</td>\n",
       "      <td>0.976930</td>\n",
       "    </tr>\n",
       "    <tr>\n",
       "      <th>48</th>\n",
       "      <td>Wisconsin</td>\n",
       "      <td>1088</td>\n",
       "      <td>0.906138</td>\n",
       "    </tr>\n",
       "    <tr>\n",
       "      <th>35</th>\n",
       "      <td>Oklahoma</td>\n",
       "      <td>1017</td>\n",
       "      <td>0.847006</td>\n",
       "    </tr>\n",
       "    <tr>\n",
       "      <th>27</th>\n",
       "      <td>Nevada</td>\n",
       "      <td>972</td>\n",
       "      <td>0.809528</td>\n",
       "    </tr>\n",
       "  </tbody>\n",
       "</table>\n",
       "</div>"
      ],
      "text/plain": [
       "      MailingState  count          %\n",
       "42           Texas  14591  12.152078\n",
       "4       California  13081  10.894478\n",
       "45        Virginia   9692   8.071958\n",
       "9          Georgia   9252   7.705505\n",
       "32  North Carolina   8007   6.668610\n",
       "8          Florida   7753   6.457067\n",
       "5         Colorado   6531   5.439327\n",
       "46      Washington   4453   3.708670\n",
       "31        New York   4070   3.389689\n",
       "19        Maryland   2749   2.289498\n",
       "37    Pennsylvania   2604   2.168735\n",
       "12        Illinois   2499   2.081286\n",
       "41       Tennessee   2362   1.967186\n",
       "29      New Jersey   2074   1.727326\n",
       "2          Arizona   2063   1.718164\n",
       "39  South Carolina   2054   1.710669\n",
       "34            Ohio   2005   1.669859\n",
       "0          Alabama   1771   1.474973\n",
       "21        Michigan   1542   1.284251\n",
       "10          Hawaii   1541   1.283418\n",
       "11           Idaho   1476   1.229283\n",
       "24        Missouri   1469   1.223453\n",
       "15          Kansas   1394   1.160989\n",
       "16        Kentucky   1265   1.053552\n",
       "17       Louisiana   1201   1.000250\n",
       "13         Indiana   1185   0.986924\n",
       "20   Massachusetts   1173   0.976930\n",
       "48       Wisconsin   1088   0.906138\n",
       "35        Oklahoma   1017   0.847006\n",
       "27          Nevada    972   0.809528"
      ]
     },
     "execution_count": 60,
     "metadata": {},
     "output_type": "execute_result"
    }
   ],
   "source": [
    "summary('MailingState', clean_contact_dataset)"
   ]
  },
  {
   "cell_type": "markdown",
   "metadata": {},
   "source": [
    "## 2. Gender"
   ]
  },
  {
   "cell_type": "code",
   "execution_count": 61,
   "metadata": {},
   "outputs": [],
   "source": [
    "# Alhasan's Code"
   ]
  },
  {
   "cell_type": "markdown",
   "metadata": {},
   "source": [
    "### Clean the data by droping all the rows with missing values"
   ]
  },
  {
   "cell_type": "code",
   "execution_count": 62,
   "metadata": {
    "scrolled": true
   },
   "outputs": [
    {
     "name": "stdout",
     "output_type": "stream",
     "text": [
      "*** Before ***\n",
      "Number of records: 120070\n",
      "Unique Values: 3\n",
      "Null Values: 53035\n",
      "Null Values %: 44.17006746064796\n",
      "*** After ***\n",
      "Number of records: 67035\n",
      "Unique Values: 3\n",
      "Null Values: 0\n",
      "Null Values %: 0.0\n"
     ]
    },
    {
     "data": {
      "text/html": [
       "<div>\n",
       "<style scoped>\n",
       "    .dataframe tbody tr th:only-of-type {\n",
       "        vertical-align: middle;\n",
       "    }\n",
       "\n",
       "    .dataframe tbody tr th {\n",
       "        vertical-align: top;\n",
       "    }\n",
       "\n",
       "    .dataframe thead th {\n",
       "        text-align: right;\n",
       "    }\n",
       "</style>\n",
       "<table border=\"1\" class=\"dataframe\">\n",
       "  <thead>\n",
       "    <tr style=\"text-align: right;\">\n",
       "      <th></th>\n",
       "      <th>Gender__c</th>\n",
       "      <th>count</th>\n",
       "      <th>%</th>\n",
       "    </tr>\n",
       "  </thead>\n",
       "  <tbody>\n",
       "    <tr>\n",
       "      <th>2</th>\n",
       "      <td>Male</td>\n",
       "      <td>51175</td>\n",
       "      <td>76.340718</td>\n",
       "    </tr>\n",
       "    <tr>\n",
       "      <th>1</th>\n",
       "      <td>Female</td>\n",
       "      <td>15849</td>\n",
       "      <td>23.642873</td>\n",
       "    </tr>\n",
       "    <tr>\n",
       "      <th>0</th>\n",
       "      <td>--None--</td>\n",
       "      <td>11</td>\n",
       "      <td>0.016409</td>\n",
       "    </tr>\n",
       "  </tbody>\n",
       "</table>\n",
       "</div>"
      ],
      "text/plain": [
       "  Gender__c  count          %\n",
       "2      Male  51175  76.340718\n",
       "1    Female  15849  23.642873\n",
       "0  --None--     11   0.016409"
      ]
     },
     "execution_count": 62,
     "metadata": {},
     "output_type": "execute_result"
    }
   ],
   "source": [
    "clean_contact_dataset = drop_null('Gender__c', clean_contact_dataset)\n",
    "summary('Gender__c', clean_contact_dataset)"
   ]
  },
  {
   "cell_type": "markdown",
   "metadata": {},
   "source": [
    "### Clean the data by droping all the rows with \"--None--\""
   ]
  },
  {
   "cell_type": "code",
   "execution_count": 63,
   "metadata": {},
   "outputs": [
    {
     "name": "stdout",
     "output_type": "stream",
     "text": [
      "*** After ***\n",
      "Number of records: 67024\n",
      "Unique Values: 2\n",
      "Null Values: 0\n",
      "Null Values %: 0.0\n"
     ]
    },
    {
     "data": {
      "text/html": [
       "<div>\n",
       "<style scoped>\n",
       "    .dataframe tbody tr th:only-of-type {\n",
       "        vertical-align: middle;\n",
       "    }\n",
       "\n",
       "    .dataframe tbody tr th {\n",
       "        vertical-align: top;\n",
       "    }\n",
       "\n",
       "    .dataframe thead th {\n",
       "        text-align: right;\n",
       "    }\n",
       "</style>\n",
       "<table border=\"1\" class=\"dataframe\">\n",
       "  <thead>\n",
       "    <tr style=\"text-align: right;\">\n",
       "      <th></th>\n",
       "      <th>Gender__c</th>\n",
       "      <th>count</th>\n",
       "      <th>%</th>\n",
       "    </tr>\n",
       "  </thead>\n",
       "  <tbody>\n",
       "    <tr>\n",
       "      <th>1</th>\n",
       "      <td>Male</td>\n",
       "      <td>51175</td>\n",
       "      <td>76.353247</td>\n",
       "    </tr>\n",
       "    <tr>\n",
       "      <th>0</th>\n",
       "      <td>Female</td>\n",
       "      <td>15849</td>\n",
       "      <td>23.646753</td>\n",
       "    </tr>\n",
       "  </tbody>\n",
       "</table>\n",
       "</div>"
      ],
      "text/plain": [
       "  Gender__c  count          %\n",
       "1      Male  51175  76.353247\n",
       "0    Female  15849  23.646753"
      ]
     },
     "execution_count": 63,
     "metadata": {},
     "output_type": "execute_result"
    }
   ],
   "source": [
    "clean_contact_dataset = clean_contact_dataset.drop(clean_contact_dataset[clean_contact_dataset.Gender__c == \"--None--\"].index)\n",
    "summary('Gender__c', clean_contact_dataset)"
   ]
  },
  {
   "cell_type": "markdown",
   "metadata": {},
   "source": [
    "## 3. Race"
   ]
  },
  {
   "cell_type": "code",
   "execution_count": 64,
   "metadata": {},
   "outputs": [],
   "source": [
    "# Alhasan's Code"
   ]
  },
  {
   "cell_type": "markdown",
   "metadata": {},
   "source": [
    "## 4. Service_Branch"
   ]
  },
  {
   "cell_type": "code",
   "execution_count": 65,
   "metadata": {},
   "outputs": [],
   "source": [
    "# Alhasan's Code"
   ]
  },
  {
   "cell_type": "markdown",
   "metadata": {},
   "source": [
    "### Clean the data by droping all the rows with missing values"
   ]
  },
  {
   "cell_type": "code",
   "execution_count": 66,
   "metadata": {},
   "outputs": [
    {
     "name": "stdout",
     "output_type": "stream",
     "text": [
      "*** Before ***\n",
      "Number of records: 67024\n",
      "Unique Values: 8\n",
      "Null Values: 6129\n",
      "Null Values %: 9.14448555741227\n",
      "*** After ***\n",
      "Number of records: 60895\n",
      "Unique Values: 8\n",
      "Null Values: 0\n",
      "Null Values %: 0.0\n"
     ]
    },
    {
     "data": {
      "text/html": [
       "<div>\n",
       "<style scoped>\n",
       "    .dataframe tbody tr th:only-of-type {\n",
       "        vertical-align: middle;\n",
       "    }\n",
       "\n",
       "    .dataframe tbody tr th {\n",
       "        vertical-align: top;\n",
       "    }\n",
       "\n",
       "    .dataframe thead th {\n",
       "        text-align: right;\n",
       "    }\n",
       "</style>\n",
       "<table border=\"1\" class=\"dataframe\">\n",
       "  <thead>\n",
       "    <tr style=\"text-align: right;\">\n",
       "      <th></th>\n",
       "      <th>Service_Branch__c</th>\n",
       "      <th>count</th>\n",
       "      <th>%</th>\n",
       "    </tr>\n",
       "  </thead>\n",
       "  <tbody>\n",
       "    <tr>\n",
       "      <th>1</th>\n",
       "      <td>Army</td>\n",
       "      <td>33341</td>\n",
       "      <td>54.751622</td>\n",
       "    </tr>\n",
       "    <tr>\n",
       "      <th>5</th>\n",
       "      <td>Navy</td>\n",
       "      <td>9970</td>\n",
       "      <td>16.372444</td>\n",
       "    </tr>\n",
       "    <tr>\n",
       "      <th>0</th>\n",
       "      <td>Air Force</td>\n",
       "      <td>8543</td>\n",
       "      <td>14.029066</td>\n",
       "    </tr>\n",
       "    <tr>\n",
       "      <th>3</th>\n",
       "      <td>Marines</td>\n",
       "      <td>8482</td>\n",
       "      <td>13.928894</td>\n",
       "    </tr>\n",
       "    <tr>\n",
       "      <th>2</th>\n",
       "      <td>Coast Guard</td>\n",
       "      <td>553</td>\n",
       "      <td>0.908121</td>\n",
       "    </tr>\n",
       "    <tr>\n",
       "      <th>6</th>\n",
       "      <td>Not Applicable</td>\n",
       "      <td>3</td>\n",
       "      <td>0.004927</td>\n",
       "    </tr>\n",
       "    <tr>\n",
       "      <th>7</th>\n",
       "      <td>Spouse</td>\n",
       "      <td>2</td>\n",
       "      <td>0.003284</td>\n",
       "    </tr>\n",
       "    <tr>\n",
       "      <th>4</th>\n",
       "      <td>Merchant Marine</td>\n",
       "      <td>1</td>\n",
       "      <td>0.001642</td>\n",
       "    </tr>\n",
       "  </tbody>\n",
       "</table>\n",
       "</div>"
      ],
      "text/plain": [
       "  Service_Branch__c  count          %\n",
       "1              Army  33341  54.751622\n",
       "5              Navy   9970  16.372444\n",
       "0         Air Force   8543  14.029066\n",
       "3           Marines   8482  13.928894\n",
       "2       Coast Guard    553   0.908121\n",
       "6    Not Applicable      3   0.004927\n",
       "7            Spouse      2   0.003284\n",
       "4   Merchant Marine      1   0.001642"
      ]
     },
     "execution_count": 66,
     "metadata": {},
     "output_type": "execute_result"
    }
   ],
   "source": [
    "clean_contact_dataset = drop_null('Service_Branch__c', clean_contact_dataset)\n",
    "summary('Service_Branch__c', clean_contact_dataset)"
   ]
  },
  {
   "cell_type": "markdown",
   "metadata": {},
   "source": [
    "### Clean the data by including {Spouse, Merchant Marine} into Not Applicable"
   ]
  },
  {
   "cell_type": "code",
   "execution_count": 67,
   "metadata": {},
   "outputs": [],
   "source": [
    "col = clean_contact_dataset['Service_Branch__c']\n",
    "col = col.where(col != \"Spouse\", \"Not Applicable\")\n",
    "col = col.where(col != \"Merchant Marine\", \"Not Applicable\")\n",
    "clean_contact_dataset['Service_Branch__c'] = col"
   ]
  },
  {
   "cell_type": "code",
   "execution_count": 68,
   "metadata": {},
   "outputs": [
    {
     "name": "stdout",
     "output_type": "stream",
     "text": [
      "*** After ***\n",
      "Number of records: 60895\n",
      "Unique Values: 6\n",
      "Null Values: 0\n",
      "Null Values %: 0.0\n"
     ]
    },
    {
     "data": {
      "text/html": [
       "<div>\n",
       "<style scoped>\n",
       "    .dataframe tbody tr th:only-of-type {\n",
       "        vertical-align: middle;\n",
       "    }\n",
       "\n",
       "    .dataframe tbody tr th {\n",
       "        vertical-align: top;\n",
       "    }\n",
       "\n",
       "    .dataframe thead th {\n",
       "        text-align: right;\n",
       "    }\n",
       "</style>\n",
       "<table border=\"1\" class=\"dataframe\">\n",
       "  <thead>\n",
       "    <tr style=\"text-align: right;\">\n",
       "      <th></th>\n",
       "      <th>Service_Branch__c</th>\n",
       "      <th>count</th>\n",
       "      <th>%</th>\n",
       "    </tr>\n",
       "  </thead>\n",
       "  <tbody>\n",
       "    <tr>\n",
       "      <th>1</th>\n",
       "      <td>Army</td>\n",
       "      <td>33341</td>\n",
       "      <td>54.751622</td>\n",
       "    </tr>\n",
       "    <tr>\n",
       "      <th>4</th>\n",
       "      <td>Navy</td>\n",
       "      <td>9970</td>\n",
       "      <td>16.372444</td>\n",
       "    </tr>\n",
       "    <tr>\n",
       "      <th>0</th>\n",
       "      <td>Air Force</td>\n",
       "      <td>8543</td>\n",
       "      <td>14.029066</td>\n",
       "    </tr>\n",
       "    <tr>\n",
       "      <th>3</th>\n",
       "      <td>Marines</td>\n",
       "      <td>8482</td>\n",
       "      <td>13.928894</td>\n",
       "    </tr>\n",
       "    <tr>\n",
       "      <th>2</th>\n",
       "      <td>Coast Guard</td>\n",
       "      <td>553</td>\n",
       "      <td>0.908121</td>\n",
       "    </tr>\n",
       "    <tr>\n",
       "      <th>5</th>\n",
       "      <td>Not Applicable</td>\n",
       "      <td>6</td>\n",
       "      <td>0.009853</td>\n",
       "    </tr>\n",
       "  </tbody>\n",
       "</table>\n",
       "</div>"
      ],
      "text/plain": [
       "  Service_Branch__c  count          %\n",
       "1              Army  33341  54.751622\n",
       "4              Navy   9970  16.372444\n",
       "0         Air Force   8543  14.029066\n",
       "3           Marines   8482  13.928894\n",
       "2       Coast Guard    553   0.908121\n",
       "5    Not Applicable      6   0.009853"
      ]
     },
     "execution_count": 68,
     "metadata": {},
     "output_type": "execute_result"
    }
   ],
   "source": [
    "summary('Service_Branch__c', clean_contact_dataset)"
   ]
  },
  {
   "cell_type": "markdown",
   "metadata": {},
   "source": [
    "## 5. Last_Service_Rank"
   ]
  },
  {
   "cell_type": "code",
   "execution_count": 69,
   "metadata": {},
   "outputs": [],
   "source": [
    "# Alhasan's Code"
   ]
  },
  {
   "cell_type": "markdown",
   "metadata": {},
   "source": [
    "### Clean the data by droping all the rows with missing values"
   ]
  },
  {
   "cell_type": "code",
   "execution_count": 70,
   "metadata": {},
   "outputs": [
    {
     "name": "stdout",
     "output_type": "stream",
     "text": [
      "*** Before ***\n",
      "Number of records: 60895\n",
      "Unique Values: 27\n",
      "Null Values: 982\n",
      "Null Values %: 1.6126118728959686\n",
      "*** After ***\n",
      "Number of records: 59913\n",
      "Unique Values: 27\n",
      "Null Values: 0\n",
      "Null Values %: 0.0\n"
     ]
    },
    {
     "data": {
      "text/html": [
       "<div>\n",
       "<style scoped>\n",
       "    .dataframe tbody tr th:only-of-type {\n",
       "        vertical-align: middle;\n",
       "    }\n",
       "\n",
       "    .dataframe tbody tr th {\n",
       "        vertical-align: top;\n",
       "    }\n",
       "\n",
       "    .dataframe thead th {\n",
       "        text-align: right;\n",
       "    }\n",
       "</style>\n",
       "<table border=\"1\" class=\"dataframe\">\n",
       "  <thead>\n",
       "    <tr style=\"text-align: right;\">\n",
       "      <th></th>\n",
       "      <th>Service_Rank__c</th>\n",
       "      <th>count</th>\n",
       "      <th>%</th>\n",
       "    </tr>\n",
       "  </thead>\n",
       "  <tbody>\n",
       "    <tr>\n",
       "      <th>6</th>\n",
       "      <td>E-4</td>\n",
       "      <td>13289</td>\n",
       "      <td>22.180495</td>\n",
       "    </tr>\n",
       "    <tr>\n",
       "      <th>7</th>\n",
       "      <td>E-5</td>\n",
       "      <td>12970</td>\n",
       "      <td>21.648056</td>\n",
       "    </tr>\n",
       "    <tr>\n",
       "      <th>8</th>\n",
       "      <td>E-6</td>\n",
       "      <td>8745</td>\n",
       "      <td>14.596164</td>\n",
       "    </tr>\n",
       "    <tr>\n",
       "      <th>9</th>\n",
       "      <td>E-7</td>\n",
       "      <td>7903</td>\n",
       "      <td>13.190793</td>\n",
       "    </tr>\n",
       "    <tr>\n",
       "      <th>10</th>\n",
       "      <td>E-8</td>\n",
       "      <td>3512</td>\n",
       "      <td>5.861833</td>\n",
       "    </tr>\n",
       "    <tr>\n",
       "      <th>15</th>\n",
       "      <td>O-3</td>\n",
       "      <td>2913</td>\n",
       "      <td>4.862050</td>\n",
       "    </tr>\n",
       "    <tr>\n",
       "      <th>5</th>\n",
       "      <td>E-3</td>\n",
       "      <td>2603</td>\n",
       "      <td>4.344633</td>\n",
       "    </tr>\n",
       "    <tr>\n",
       "      <th>16</th>\n",
       "      <td>O-4</td>\n",
       "      <td>1529</td>\n",
       "      <td>2.552034</td>\n",
       "    </tr>\n",
       "    <tr>\n",
       "      <th>11</th>\n",
       "      <td>E-9</td>\n",
       "      <td>1371</td>\n",
       "      <td>2.288318</td>\n",
       "    </tr>\n",
       "    <tr>\n",
       "      <th>17</th>\n",
       "      <td>O-5</td>\n",
       "      <td>1337</td>\n",
       "      <td>2.231569</td>\n",
       "    </tr>\n",
       "    <tr>\n",
       "      <th>14</th>\n",
       "      <td>O-2</td>\n",
       "      <td>825</td>\n",
       "      <td>1.376997</td>\n",
       "    </tr>\n",
       "    <tr>\n",
       "      <th>4</th>\n",
       "      <td>E-2</td>\n",
       "      <td>565</td>\n",
       "      <td>0.943034</td>\n",
       "    </tr>\n",
       "    <tr>\n",
       "      <th>18</th>\n",
       "      <td>O-6</td>\n",
       "      <td>542</td>\n",
       "      <td>0.904645</td>\n",
       "    </tr>\n",
       "    <tr>\n",
       "      <th>24</th>\n",
       "      <td>W-3</td>\n",
       "      <td>489</td>\n",
       "      <td>0.816183</td>\n",
       "    </tr>\n",
       "    <tr>\n",
       "      <th>25</th>\n",
       "      <td>W-4</td>\n",
       "      <td>352</td>\n",
       "      <td>0.587519</td>\n",
       "    </tr>\n",
       "    <tr>\n",
       "      <th>23</th>\n",
       "      <td>W-2</td>\n",
       "      <td>340</td>\n",
       "      <td>0.567490</td>\n",
       "    </tr>\n",
       "    <tr>\n",
       "      <th>3</th>\n",
       "      <td>E-1</td>\n",
       "      <td>291</td>\n",
       "      <td>0.485704</td>\n",
       "    </tr>\n",
       "    <tr>\n",
       "      <th>13</th>\n",
       "      <td>O-1</td>\n",
       "      <td>204</td>\n",
       "      <td>0.340494</td>\n",
       "    </tr>\n",
       "    <tr>\n",
       "      <th>26</th>\n",
       "      <td>W-5</td>\n",
       "      <td>75</td>\n",
       "      <td>0.125182</td>\n",
       "    </tr>\n",
       "    <tr>\n",
       "      <th>22</th>\n",
       "      <td>W-1</td>\n",
       "      <td>39</td>\n",
       "      <td>0.065094</td>\n",
       "    </tr>\n",
       "    <tr>\n",
       "      <th>19</th>\n",
       "      <td>O-7</td>\n",
       "      <td>6</td>\n",
       "      <td>0.010015</td>\n",
       "    </tr>\n",
       "    <tr>\n",
       "      <th>20</th>\n",
       "      <td>O-8</td>\n",
       "      <td>4</td>\n",
       "      <td>0.006676</td>\n",
       "    </tr>\n",
       "    <tr>\n",
       "      <th>1</th>\n",
       "      <td>CW-3</td>\n",
       "      <td>3</td>\n",
       "      <td>0.005007</td>\n",
       "    </tr>\n",
       "    <tr>\n",
       "      <th>2</th>\n",
       "      <td>CW-4</td>\n",
       "      <td>2</td>\n",
       "      <td>0.003338</td>\n",
       "    </tr>\n",
       "    <tr>\n",
       "      <th>0</th>\n",
       "      <td>CW-2</td>\n",
       "      <td>2</td>\n",
       "      <td>0.003338</td>\n",
       "    </tr>\n",
       "    <tr>\n",
       "      <th>21</th>\n",
       "      <td>O-9</td>\n",
       "      <td>1</td>\n",
       "      <td>0.001669</td>\n",
       "    </tr>\n",
       "    <tr>\n",
       "      <th>12</th>\n",
       "      <td>E5</td>\n",
       "      <td>1</td>\n",
       "      <td>0.001669</td>\n",
       "    </tr>\n",
       "  </tbody>\n",
       "</table>\n",
       "</div>"
      ],
      "text/plain": [
       "   Service_Rank__c  count          %\n",
       "6              E-4  13289  22.180495\n",
       "7              E-5  12970  21.648056\n",
       "8              E-6   8745  14.596164\n",
       "9              E-7   7903  13.190793\n",
       "10             E-8   3512   5.861833\n",
       "15             O-3   2913   4.862050\n",
       "5              E-3   2603   4.344633\n",
       "16             O-4   1529   2.552034\n",
       "11             E-9   1371   2.288318\n",
       "17             O-5   1337   2.231569\n",
       "14             O-2    825   1.376997\n",
       "4              E-2    565   0.943034\n",
       "18             O-6    542   0.904645\n",
       "24             W-3    489   0.816183\n",
       "25             W-4    352   0.587519\n",
       "23             W-2    340   0.567490\n",
       "3              E-1    291   0.485704\n",
       "13             O-1    204   0.340494\n",
       "26             W-5     75   0.125182\n",
       "22             W-1     39   0.065094\n",
       "19             O-7      6   0.010015\n",
       "20             O-8      4   0.006676\n",
       "1             CW-3      3   0.005007\n",
       "2             CW-4      2   0.003338\n",
       "0             CW-2      2   0.003338\n",
       "21             O-9      1   0.001669\n",
       "12              E5      1   0.001669"
      ]
     },
     "execution_count": 70,
     "metadata": {},
     "output_type": "execute_result"
    }
   ],
   "source": [
    "clean_contact_dataset = drop_null('Service_Rank__c', clean_contact_dataset)\n",
    "summary('Service_Rank__c', clean_contact_dataset)"
   ]
  },
  {
   "cell_type": "markdown",
   "metadata": {},
   "source": [
    "### Adding Last_Service_Rank Column accourding to:\n",
    "1. Enlisted Personnel (E)\n",
    "2. Warrant Officers (W, CW)\n",
    "3. Commissioned Officers (O)\n",
    "\n",
    "source: https://www.infoplease.com/us/military-personnel/us-military-ranks"
   ]
  },
  {
   "cell_type": "code",
   "execution_count": 71,
   "metadata": {},
   "outputs": [],
   "source": [
    "col = clean_contact_dataset['Service_Rank__c']\n",
    "col = col.where(col.str.startswith('O') == False, \"O\")\n",
    "col = col.where(col.str.startswith('E') == False, \"E\")\n",
    "col = col.where(col.str.contains('W') == False, \"W\")\n",
    "clean_contact_dataset['Last_Service_Rank'] = col"
   ]
  },
  {
   "cell_type": "code",
   "execution_count": 72,
   "metadata": {},
   "outputs": [
    {
     "name": "stdout",
     "output_type": "stream",
     "text": [
      "*** After ***\n",
      "Number of records: 59913\n",
      "Unique Values: 3\n",
      "Null Values: 0\n",
      "Null Values %: 0.0\n"
     ]
    },
    {
     "data": {
      "text/html": [
       "<div>\n",
       "<style scoped>\n",
       "    .dataframe tbody tr th:only-of-type {\n",
       "        vertical-align: middle;\n",
       "    }\n",
       "\n",
       "    .dataframe tbody tr th {\n",
       "        vertical-align: top;\n",
       "    }\n",
       "\n",
       "    .dataframe thead th {\n",
       "        text-align: right;\n",
       "    }\n",
       "</style>\n",
       "<table border=\"1\" class=\"dataframe\">\n",
       "  <thead>\n",
       "    <tr style=\"text-align: right;\">\n",
       "      <th></th>\n",
       "      <th>Last_Service_Rank</th>\n",
       "      <th>count</th>\n",
       "      <th>%</th>\n",
       "    </tr>\n",
       "  </thead>\n",
       "  <tbody>\n",
       "    <tr>\n",
       "      <th>0</th>\n",
       "      <td>E</td>\n",
       "      <td>51250</td>\n",
       "      <td>85.540701</td>\n",
       "    </tr>\n",
       "    <tr>\n",
       "      <th>1</th>\n",
       "      <td>O</td>\n",
       "      <td>7361</td>\n",
       "      <td>12.286148</td>\n",
       "    </tr>\n",
       "    <tr>\n",
       "      <th>2</th>\n",
       "      <td>W</td>\n",
       "      <td>1302</td>\n",
       "      <td>2.173151</td>\n",
       "    </tr>\n",
       "  </tbody>\n",
       "</table>\n",
       "</div>"
      ],
      "text/plain": [
       "  Last_Service_Rank  count          %\n",
       "0                 E  51250  85.540701\n",
       "1                 O   7361  12.286148\n",
       "2                 W   1302   2.173151"
      ]
     },
     "execution_count": 72,
     "metadata": {},
     "output_type": "execute_result"
    }
   ],
   "source": [
    "summary('Last_Service_Rank', clean_contact_dataset)"
   ]
  },
  {
   "cell_type": "markdown",
   "metadata": {},
   "source": [
    "## 8. Education"
   ]
  },
  {
   "cell_type": "code",
   "execution_count": 73,
   "metadata": {},
   "outputs": [],
   "source": [
    "# Maxim's Code edited by Nameetha"
   ]
  },
  {
   "cell_type": "code",
   "execution_count": 74,
   "metadata": {},
   "outputs": [
    {
     "name": "stdout",
     "output_type": "stream",
     "text": [
      "*** Before ***\n",
      "Number of records: 59913\n",
      "Unique Values: 26\n",
      "Null Values: 6688\n",
      "Null Values %: 11.162852803231353\n",
      "*** After ***\n",
      "Number of records: 53225\n",
      "Unique Values: 26\n",
      "Null Values: 0\n",
      "Null Values %: 0.0\n"
     ]
    },
    {
     "data": {
      "text/html": [
       "<div>\n",
       "<style scoped>\n",
       "    .dataframe tbody tr th:only-of-type {\n",
       "        vertical-align: middle;\n",
       "    }\n",
       "\n",
       "    .dataframe tbody tr th {\n",
       "        vertical-align: top;\n",
       "    }\n",
       "\n",
       "    .dataframe thead th {\n",
       "        text-align: right;\n",
       "    }\n",
       "</style>\n",
       "<table border=\"1\" class=\"dataframe\">\n",
       "  <thead>\n",
       "    <tr style=\"text-align: right;\">\n",
       "      <th></th>\n",
       "      <th>Highest_Level_of_Education_Completed__c</th>\n",
       "      <th>count</th>\n",
       "      <th>%</th>\n",
       "    </tr>\n",
       "  </thead>\n",
       "  <tbody>\n",
       "    <tr>\n",
       "      <th>14</th>\n",
       "      <td>High School/GED</td>\n",
       "      <td>20912</td>\n",
       "      <td>39.289807</td>\n",
       "    </tr>\n",
       "    <tr>\n",
       "      <th>2</th>\n",
       "      <td>4 Year Degree (BA, BS, etc.)</td>\n",
       "      <td>14732</td>\n",
       "      <td>27.678722</td>\n",
       "    </tr>\n",
       "    <tr>\n",
       "      <th>0</th>\n",
       "      <td>2 Year Degree (AA, AS, etc.)</td>\n",
       "      <td>9083</td>\n",
       "      <td>17.065289</td>\n",
       "    </tr>\n",
       "    <tr>\n",
       "      <th>21</th>\n",
       "      <td>Post-Graduate Degree (MA, MS, JD, etc.)</td>\n",
       "      <td>8054</td>\n",
       "      <td>15.131987</td>\n",
       "    </tr>\n",
       "    <tr>\n",
       "      <th>9</th>\n",
       "      <td>Doctorate (PhD, MD, etc.)</td>\n",
       "      <td>340</td>\n",
       "      <td>0.638798</td>\n",
       "    </tr>\n",
       "    <tr>\n",
       "      <th>8</th>\n",
       "      <td>College/University</td>\n",
       "      <td>40</td>\n",
       "      <td>0.075153</td>\n",
       "    </tr>\n",
       "    <tr>\n",
       "      <th>6</th>\n",
       "      <td>Associate degree (A.A., A.S., etc.)</td>\n",
       "      <td>32</td>\n",
       "      <td>0.060122</td>\n",
       "    </tr>\n",
       "    <tr>\n",
       "      <th>3</th>\n",
       "      <td>4 year college</td>\n",
       "      <td>6</td>\n",
       "      <td>0.011273</td>\n",
       "    </tr>\n",
       "    <tr>\n",
       "      <th>20</th>\n",
       "      <td>Other, please specify</td>\n",
       "      <td>3</td>\n",
       "      <td>0.005636</td>\n",
       "    </tr>\n",
       "    <tr>\n",
       "      <th>1</th>\n",
       "      <td>2 year college</td>\n",
       "      <td>2</td>\n",
       "      <td>0.003758</td>\n",
       "    </tr>\n",
       "    <tr>\n",
       "      <th>19</th>\n",
       "      <td>Other</td>\n",
       "      <td>2</td>\n",
       "      <td>0.003758</td>\n",
       "    </tr>\n",
       "    <tr>\n",
       "      <th>16</th>\n",
       "      <td>Masters</td>\n",
       "      <td>2</td>\n",
       "      <td>0.003758</td>\n",
       "    </tr>\n",
       "    <tr>\n",
       "      <th>25</th>\n",
       "      <td>Vocational School</td>\n",
       "      <td>2</td>\n",
       "      <td>0.003758</td>\n",
       "    </tr>\n",
       "    <tr>\n",
       "      <th>10</th>\n",
       "      <td>Doctorite</td>\n",
       "      <td>2</td>\n",
       "      <td>0.003758</td>\n",
       "    </tr>\n",
       "    <tr>\n",
       "      <th>4</th>\n",
       "      <td>4 year college degree</td>\n",
       "      <td>2</td>\n",
       "      <td>0.003758</td>\n",
       "    </tr>\n",
       "    <tr>\n",
       "      <th>12</th>\n",
       "      <td>Graduate School</td>\n",
       "      <td>1</td>\n",
       "      <td>0.001879</td>\n",
       "    </tr>\n",
       "    <tr>\n",
       "      <th>11</th>\n",
       "      <td>Graduate Degree-MBA, Air Traffic Control Schoo...</td>\n",
       "      <td>1</td>\n",
       "      <td>0.001879</td>\n",
       "    </tr>\n",
       "    <tr>\n",
       "      <th>15</th>\n",
       "      <td>Master?s degree</td>\n",
       "      <td>1</td>\n",
       "      <td>0.001879</td>\n",
       "    </tr>\n",
       "    <tr>\n",
       "      <th>17</th>\n",
       "      <td>Medical Technical Classes</td>\n",
       "      <td>1</td>\n",
       "      <td>0.001879</td>\n",
       "    </tr>\n",
       "    <tr>\n",
       "      <th>18</th>\n",
       "      <td>New York State certified EMT -B Some college</td>\n",
       "      <td>1</td>\n",
       "      <td>0.001879</td>\n",
       "    </tr>\n",
       "    <tr>\n",
       "      <th>7</th>\n",
       "      <td>Bachelors of Science in Management of Informat...</td>\n",
       "      <td>1</td>\n",
       "      <td>0.001879</td>\n",
       "    </tr>\n",
       "    <tr>\n",
       "      <th>5</th>\n",
       "      <td>Associate Degree in Science (Computer Systems ...</td>\n",
       "      <td>1</td>\n",
       "      <td>0.001879</td>\n",
       "    </tr>\n",
       "    <tr>\n",
       "      <th>22</th>\n",
       "      <td>Some college-Now attending Rutgers University,...</td>\n",
       "      <td>1</td>\n",
       "      <td>0.001879</td>\n",
       "    </tr>\n",
       "    <tr>\n",
       "      <th>23</th>\n",
       "      <td>Supervisor Development Course Non Commission O...</td>\n",
       "      <td>1</td>\n",
       "      <td>0.001879</td>\n",
       "    </tr>\n",
       "    <tr>\n",
       "      <th>24</th>\n",
       "      <td>Technical Training</td>\n",
       "      <td>1</td>\n",
       "      <td>0.001879</td>\n",
       "    </tr>\n",
       "    <tr>\n",
       "      <th>13</th>\n",
       "      <td>HS/GED</td>\n",
       "      <td>1</td>\n",
       "      <td>0.001879</td>\n",
       "    </tr>\n",
       "  </tbody>\n",
       "</table>\n",
       "</div>"
      ],
      "text/plain": [
       "              Highest_Level_of_Education_Completed__c  count          %\n",
       "14                                    High School/GED  20912  39.289807\n",
       "2                        4 Year Degree (BA, BS, etc.)  14732  27.678722\n",
       "0                        2 Year Degree (AA, AS, etc.)   9083  17.065289\n",
       "21            Post-Graduate Degree (MA, MS, JD, etc.)   8054  15.131987\n",
       "9                           Doctorate (PhD, MD, etc.)    340   0.638798\n",
       "8                                  College/University     40   0.075153\n",
       "6                 Associate degree (A.A., A.S., etc.)     32   0.060122\n",
       "3                                      4 year college      6   0.011273\n",
       "20                              Other, please specify      3   0.005636\n",
       "1                                      2 year college      2   0.003758\n",
       "19                                              Other      2   0.003758\n",
       "16                                            Masters      2   0.003758\n",
       "25                                  Vocational School      2   0.003758\n",
       "10                                          Doctorite      2   0.003758\n",
       "4                               4 year college degree      2   0.003758\n",
       "12                                    Graduate School      1   0.001879\n",
       "11  Graduate Degree-MBA, Air Traffic Control Schoo...      1   0.001879\n",
       "15                                    Master?s degree      1   0.001879\n",
       "17                          Medical Technical Classes      1   0.001879\n",
       "18       New York State certified EMT -B Some college      1   0.001879\n",
       "7   Bachelors of Science in Management of Informat...      1   0.001879\n",
       "5   Associate Degree in Science (Computer Systems ...      1   0.001879\n",
       "22  Some college-Now attending Rutgers University,...      1   0.001879\n",
       "23  Supervisor Development Course Non Commission O...      1   0.001879\n",
       "24                                 Technical Training      1   0.001879\n",
       "13                                             HS/GED      1   0.001879"
      ]
     },
     "execution_count": 74,
     "metadata": {},
     "output_type": "execute_result"
    }
   ],
   "source": [
    "clean_contact_dataset = drop_null('Highest_Level_of_Education_Completed__c', clean_contact_dataset)\n",
    "summary('Highest_Level_of_Education_Completed__c', clean_contact_dataset)"
   ]
  },
  {
   "cell_type": "code",
   "execution_count": 80,
   "metadata": {},
   "outputs": [],
   "source": [
    "#Higher_education=['High School/GED','4 Year Degree (BA, BS, etc.)','2 Year Degree (AA, AS, etc.)','Post-Graduate Degree (MA, MS, JD, etc.','Doctorate (PhD, MD, etc.)','Post-Graduate Degree (MA, MS, JD, etc.)']\n",
    "clean_contact_dataset = clean_contact_dataset[clean_contact_dataset['Highest_Level_of_Education_Completed__c'].isin(['High School/GED','4 Year Degree (BA, BS, etc.)','2 Year Degree (AA, AS, etc.)','Post-Graduate Degree (MA, MS, JD, etc.','Doctorate (PhD, MD, etc.)','Post-Graduate Degree (MA, MS, JD, etc.)'] )]"
   ]
  },
  {
   "cell_type": "code",
   "execution_count": 81,
   "metadata": {},
   "outputs": [
    {
     "name": "stdout",
     "output_type": "stream",
     "text": [
      "*** After ***\n",
      "Number of records: 53121\n",
      "Unique Values: 5\n",
      "Null Values: 0\n",
      "Null Values %: 0.0\n"
     ]
    },
    {
     "data": {
      "text/html": [
       "<div>\n",
       "<style scoped>\n",
       "    .dataframe tbody tr th:only-of-type {\n",
       "        vertical-align: middle;\n",
       "    }\n",
       "\n",
       "    .dataframe tbody tr th {\n",
       "        vertical-align: top;\n",
       "    }\n",
       "\n",
       "    .dataframe thead th {\n",
       "        text-align: right;\n",
       "    }\n",
       "</style>\n",
       "<table border=\"1\" class=\"dataframe\">\n",
       "  <thead>\n",
       "    <tr style=\"text-align: right;\">\n",
       "      <th></th>\n",
       "      <th>Highest_Level_of_Education_Completed__c</th>\n",
       "      <th>count</th>\n",
       "      <th>%</th>\n",
       "    </tr>\n",
       "  </thead>\n",
       "  <tbody>\n",
       "    <tr>\n",
       "      <th>3</th>\n",
       "      <td>High School/GED</td>\n",
       "      <td>20912</td>\n",
       "      <td>39.366729</td>\n",
       "    </tr>\n",
       "    <tr>\n",
       "      <th>1</th>\n",
       "      <td>4 Year Degree (BA, BS, etc.)</td>\n",
       "      <td>14732</td>\n",
       "      <td>27.732912</td>\n",
       "    </tr>\n",
       "    <tr>\n",
       "      <th>0</th>\n",
       "      <td>2 Year Degree (AA, AS, etc.)</td>\n",
       "      <td>9083</td>\n",
       "      <td>17.098699</td>\n",
       "    </tr>\n",
       "    <tr>\n",
       "      <th>4</th>\n",
       "      <td>Post-Graduate Degree (MA, MS, JD, etc.)</td>\n",
       "      <td>8054</td>\n",
       "      <td>15.161612</td>\n",
       "    </tr>\n",
       "    <tr>\n",
       "      <th>2</th>\n",
       "      <td>Doctorate (PhD, MD, etc.)</td>\n",
       "      <td>340</td>\n",
       "      <td>0.640048</td>\n",
       "    </tr>\n",
       "  </tbody>\n",
       "</table>\n",
       "</div>"
      ],
      "text/plain": [
       "   Highest_Level_of_Education_Completed__c  count          %\n",
       "3                          High School/GED  20912  39.366729\n",
       "1             4 Year Degree (BA, BS, etc.)  14732  27.732912\n",
       "0             2 Year Degree (AA, AS, etc.)   9083  17.098699\n",
       "4  Post-Graduate Degree (MA, MS, JD, etc.)   8054  15.161612\n",
       "2                Doctorate (PhD, MD, etc.)    340   0.640048"
      ]
     },
     "execution_count": 81,
     "metadata": {},
     "output_type": "execute_result"
    }
   ],
   "source": [
    "summary('Highest_Level_of_Education_Completed__c', clean_contact_dataset)"
   ]
  },
  {
   "cell_type": "code",
   "execution_count": null,
   "metadata": {},
   "outputs": [],
   "source": [
    "#Nameetha's code"
   ]
  },
  {
   "cell_type": "markdown",
   "metadata": {},
   "source": [
    "# 9. Hire_Heroes_USA_Confirmed_Hire__c"
   ]
  },
  {
   "cell_type": "code",
   "execution_count": 82,
   "metadata": {},
   "outputs": [
    {
     "name": "stdout",
     "output_type": "stream",
     "text": [
      "*** Before ***\n",
      "Number of records: 53121\n",
      "Unique Values: 2\n",
      "Null Values: 0\n",
      "Null Values %: 0.0\n",
      "*** After ***\n",
      "Number of records: 53121\n",
      "Unique Values: 2\n",
      "Null Values: 0\n",
      "Null Values %: 0.0\n"
     ]
    },
    {
     "data": {
      "text/html": [
       "<div>\n",
       "<style scoped>\n",
       "    .dataframe tbody tr th:only-of-type {\n",
       "        vertical-align: middle;\n",
       "    }\n",
       "\n",
       "    .dataframe tbody tr th {\n",
       "        vertical-align: top;\n",
       "    }\n",
       "\n",
       "    .dataframe thead th {\n",
       "        text-align: right;\n",
       "    }\n",
       "</style>\n",
       "<table border=\"1\" class=\"dataframe\">\n",
       "  <thead>\n",
       "    <tr style=\"text-align: right;\">\n",
       "      <th></th>\n",
       "      <th>Hire_Heroes_USA_Confirmed_Hire__c</th>\n",
       "      <th>count</th>\n",
       "      <th>%</th>\n",
       "    </tr>\n",
       "  </thead>\n",
       "  <tbody>\n",
       "    <tr>\n",
       "      <th>0</th>\n",
       "      <td>0</td>\n",
       "      <td>29415</td>\n",
       "      <td>55.373581</td>\n",
       "    </tr>\n",
       "    <tr>\n",
       "      <th>1</th>\n",
       "      <td>1</td>\n",
       "      <td>23706</td>\n",
       "      <td>44.626419</td>\n",
       "    </tr>\n",
       "  </tbody>\n",
       "</table>\n",
       "</div>"
      ],
      "text/plain": [
       "   Hire_Heroes_USA_Confirmed_Hire__c  count          %\n",
       "0                                  0  29415  55.373581\n",
       "1                                  1  23706  44.626419"
      ]
     },
     "execution_count": 82,
     "metadata": {},
     "output_type": "execute_result"
    }
   ],
   "source": [
    "clean_contact_dataset = drop_null('Hire_Heroes_USA_Confirmed_Hire__c', clean_contact_dataset)\n",
    "summary('Hire_Heroes_USA_Confirmed_Hire__c', clean_contact_dataset)"
   ]
  },
  {
   "cell_type": "markdown",
   "metadata": {},
   "source": [
    "# 10. Used_Volunteer_Services__c"
   ]
  },
  {
   "cell_type": "code",
   "execution_count": 83,
   "metadata": {},
   "outputs": [
    {
     "name": "stdout",
     "output_type": "stream",
     "text": [
      "*** Before ***\n",
      "Number of records: 53121\n",
      "Unique Values: 2\n",
      "Null Values: 65\n",
      "Null Values %: 0.12236215432691402\n",
      "*** After ***\n",
      "Number of records: 53056\n",
      "Unique Values: 2\n",
      "Null Values: 0\n",
      "Null Values %: 0.0\n"
     ]
    },
    {
     "data": {
      "text/html": [
       "<div>\n",
       "<style scoped>\n",
       "    .dataframe tbody tr th:only-of-type {\n",
       "        vertical-align: middle;\n",
       "    }\n",
       "\n",
       "    .dataframe tbody tr th {\n",
       "        vertical-align: top;\n",
       "    }\n",
       "\n",
       "    .dataframe thead th {\n",
       "        text-align: right;\n",
       "    }\n",
       "</style>\n",
       "<table border=\"1\" class=\"dataframe\">\n",
       "  <thead>\n",
       "    <tr style=\"text-align: right;\">\n",
       "      <th></th>\n",
       "      <th>Used_Volunteer_Services__c</th>\n",
       "      <th>count</th>\n",
       "      <th>%</th>\n",
       "    </tr>\n",
       "  </thead>\n",
       "  <tbody>\n",
       "    <tr>\n",
       "      <th>0</th>\n",
       "      <td>0.0</td>\n",
       "      <td>48704</td>\n",
       "      <td>91.797346</td>\n",
       "    </tr>\n",
       "    <tr>\n",
       "      <th>1</th>\n",
       "      <td>1.0</td>\n",
       "      <td>4352</td>\n",
       "      <td>8.202654</td>\n",
       "    </tr>\n",
       "  </tbody>\n",
       "</table>\n",
       "</div>"
      ],
      "text/plain": [
       "   Used_Volunteer_Services__c  count          %\n",
       "0                         0.0  48704  91.797346\n",
       "1                         1.0   4352   8.202654"
      ]
     },
     "execution_count": 83,
     "metadata": {},
     "output_type": "execute_result"
    }
   ],
   "source": [
    "clean_contact_dataset = drop_null('Used_Volunteer_Services__c', clean_contact_dataset)\n",
    "summary('Used_Volunteer_Services__c', clean_contact_dataset)"
   ]
  },
  {
   "cell_type": "markdown",
   "metadata": {},
   "source": [
    "# 11. VCF_Participant__c"
   ]
  },
  {
   "cell_type": "code",
   "execution_count": 84,
   "metadata": {},
   "outputs": [
    {
     "name": "stdout",
     "output_type": "stream",
     "text": [
      "*** Before ***\n",
      "Number of records: 53056\n",
      "Unique Values: 2\n",
      "Null Values: 0\n",
      "Null Values %: 0.0\n",
      "*** After ***\n",
      "Number of records: 53056\n",
      "Unique Values: 2\n",
      "Null Values: 0\n",
      "Null Values %: 0.0\n"
     ]
    },
    {
     "data": {
      "text/html": [
       "<div>\n",
       "<style scoped>\n",
       "    .dataframe tbody tr th:only-of-type {\n",
       "        vertical-align: middle;\n",
       "    }\n",
       "\n",
       "    .dataframe tbody tr th {\n",
       "        vertical-align: top;\n",
       "    }\n",
       "\n",
       "    .dataframe thead th {\n",
       "        text-align: right;\n",
       "    }\n",
       "</style>\n",
       "<table border=\"1\" class=\"dataframe\">\n",
       "  <thead>\n",
       "    <tr style=\"text-align: right;\">\n",
       "      <th></th>\n",
       "      <th>VCF_Participant__c</th>\n",
       "      <th>count</th>\n",
       "      <th>%</th>\n",
       "    </tr>\n",
       "  </thead>\n",
       "  <tbody>\n",
       "    <tr>\n",
       "      <th>0</th>\n",
       "      <td>0.0</td>\n",
       "      <td>52159</td>\n",
       "      <td>98.309334</td>\n",
       "    </tr>\n",
       "    <tr>\n",
       "      <th>1</th>\n",
       "      <td>1.0</td>\n",
       "      <td>897</td>\n",
       "      <td>1.690666</td>\n",
       "    </tr>\n",
       "  </tbody>\n",
       "</table>\n",
       "</div>"
      ],
      "text/plain": [
       "   VCF_Participant__c  count          %\n",
       "0                 0.0  52159  98.309334\n",
       "1                 1.0    897   1.690666"
      ]
     },
     "execution_count": 84,
     "metadata": {},
     "output_type": "execute_result"
    }
   ],
   "source": [
    "clean_contact_dataset = drop_null('VCF_Participant__c', clean_contact_dataset)\n",
    "summary('VCF_Participant__c', clean_contact_dataset)"
   ]
  },
  {
   "cell_type": "markdown",
   "metadata": {},
   "source": [
    "# 12. Virtual_Workshop_Participant__c"
   ]
  },
  {
   "cell_type": "code",
   "execution_count": 86,
   "metadata": {},
   "outputs": [
    {
     "name": "stdout",
     "output_type": "stream",
     "text": [
      "*** Before ***\n",
      "Number of records: 53056\n",
      "Unique Values: 2\n",
      "Null Values: 0\n",
      "Null Values %: 0.0\n",
      "*** After ***\n",
      "Number of records: 53056\n",
      "Unique Values: 2\n",
      "Null Values: 0\n",
      "Null Values %: 0.0\n"
     ]
    },
    {
     "data": {
      "text/html": [
       "<div>\n",
       "<style scoped>\n",
       "    .dataframe tbody tr th:only-of-type {\n",
       "        vertical-align: middle;\n",
       "    }\n",
       "\n",
       "    .dataframe tbody tr th {\n",
       "        vertical-align: top;\n",
       "    }\n",
       "\n",
       "    .dataframe thead th {\n",
       "        text-align: right;\n",
       "    }\n",
       "</style>\n",
       "<table border=\"1\" class=\"dataframe\">\n",
       "  <thead>\n",
       "    <tr style=\"text-align: right;\">\n",
       "      <th></th>\n",
       "      <th>Virtual_Workshop_Participant__c</th>\n",
       "      <th>count</th>\n",
       "      <th>%</th>\n",
       "    </tr>\n",
       "  </thead>\n",
       "  <tbody>\n",
       "    <tr>\n",
       "      <th>0</th>\n",
       "      <td>0.0</td>\n",
       "      <td>52903</td>\n",
       "      <td>99.711625</td>\n",
       "    </tr>\n",
       "    <tr>\n",
       "      <th>1</th>\n",
       "      <td>1.0</td>\n",
       "      <td>153</td>\n",
       "      <td>0.288375</td>\n",
       "    </tr>\n",
       "  </tbody>\n",
       "</table>\n",
       "</div>"
      ],
      "text/plain": [
       "   Virtual_Workshop_Participant__c  count          %\n",
       "0                              0.0  52903  99.711625\n",
       "1                              1.0    153   0.288375"
      ]
     },
     "execution_count": 86,
     "metadata": {},
     "output_type": "execute_result"
    }
   ],
   "source": [
    "clean_contact_dataset = drop_null('Virtual_Workshop_Participant__c', clean_contact_dataset)\n",
    "summary('Virtual_Workshop_Participant__c', clean_contact_dataset)"
   ]
  },
  {
   "cell_type": "markdown",
   "metadata": {},
   "source": [
    "# 13. On_Job_Board__c "
   ]
  },
  {
   "cell_type": "code",
   "execution_count": 87,
   "metadata": {},
   "outputs": [
    {
     "name": "stdout",
     "output_type": "stream",
     "text": [
      "*** Before ***\n",
      "Number of records: 53056\n",
      "Unique Values: 2\n",
      "Null Values: 0\n",
      "Null Values %: 0.0\n",
      "*** After ***\n",
      "Number of records: 53056\n",
      "Unique Values: 2\n",
      "Null Values: 0\n",
      "Null Values %: 0.0\n"
     ]
    },
    {
     "data": {
      "text/html": [
       "<div>\n",
       "<style scoped>\n",
       "    .dataframe tbody tr th:only-of-type {\n",
       "        vertical-align: middle;\n",
       "    }\n",
       "\n",
       "    .dataframe tbody tr th {\n",
       "        vertical-align: top;\n",
       "    }\n",
       "\n",
       "    .dataframe thead th {\n",
       "        text-align: right;\n",
       "    }\n",
       "</style>\n",
       "<table border=\"1\" class=\"dataframe\">\n",
       "  <thead>\n",
       "    <tr style=\"text-align: right;\">\n",
       "      <th></th>\n",
       "      <th>On_Job_Board__c</th>\n",
       "      <th>count</th>\n",
       "      <th>%</th>\n",
       "    </tr>\n",
       "  </thead>\n",
       "  <tbody>\n",
       "    <tr>\n",
       "      <th>0</th>\n",
       "      <td>0.0</td>\n",
       "      <td>46781</td>\n",
       "      <td>88.172874</td>\n",
       "    </tr>\n",
       "    <tr>\n",
       "      <th>1</th>\n",
       "      <td>1.0</td>\n",
       "      <td>6275</td>\n",
       "      <td>11.827126</td>\n",
       "    </tr>\n",
       "  </tbody>\n",
       "</table>\n",
       "</div>"
      ],
      "text/plain": [
       "   On_Job_Board__c  count          %\n",
       "0              0.0  46781  88.172874\n",
       "1              1.0   6275  11.827126"
      ]
     },
     "execution_count": 87,
     "metadata": {},
     "output_type": "execute_result"
    }
   ],
   "source": [
    "clean_contact_dataset = drop_null('On_Job_Board__c', clean_contact_dataset)\n",
    "summary('On_Job_Board__c', clean_contact_dataset)"
   ]
  },
  {
   "cell_type": "markdown",
   "metadata": {},
   "source": [
    "# 14. Used_Federal_Services__c"
   ]
  },
  {
   "cell_type": "code",
   "execution_count": 88,
   "metadata": {},
   "outputs": [
    {
     "name": "stdout",
     "output_type": "stream",
     "text": [
      "*** Before ***\n",
      "Number of records: 53056\n",
      "Unique Values: 2\n",
      "Null Values: 0\n",
      "Null Values %: 0.0\n",
      "*** After ***\n",
      "Number of records: 53056\n",
      "Unique Values: 2\n",
      "Null Values: 0\n",
      "Null Values %: 0.0\n"
     ]
    },
    {
     "data": {
      "text/html": [
       "<div>\n",
       "<style scoped>\n",
       "    .dataframe tbody tr th:only-of-type {\n",
       "        vertical-align: middle;\n",
       "    }\n",
       "\n",
       "    .dataframe tbody tr th {\n",
       "        vertical-align: top;\n",
       "    }\n",
       "\n",
       "    .dataframe thead th {\n",
       "        text-align: right;\n",
       "    }\n",
       "</style>\n",
       "<table border=\"1\" class=\"dataframe\">\n",
       "  <thead>\n",
       "    <tr style=\"text-align: right;\">\n",
       "      <th></th>\n",
       "      <th>Used_Federal_Services__c</th>\n",
       "      <th>count</th>\n",
       "      <th>%</th>\n",
       "    </tr>\n",
       "  </thead>\n",
       "  <tbody>\n",
       "    <tr>\n",
       "      <th>0</th>\n",
       "      <td>0.0</td>\n",
       "      <td>50865</td>\n",
       "      <td>95.870401</td>\n",
       "    </tr>\n",
       "    <tr>\n",
       "      <th>1</th>\n",
       "      <td>1.0</td>\n",
       "      <td>2191</td>\n",
       "      <td>4.129599</td>\n",
       "    </tr>\n",
       "  </tbody>\n",
       "</table>\n",
       "</div>"
      ],
      "text/plain": [
       "   Used_Federal_Services__c  count          %\n",
       "0                       0.0  50865  95.870401\n",
       "1                       1.0   2191   4.129599"
      ]
     },
     "execution_count": 88,
     "metadata": {},
     "output_type": "execute_result"
    }
   ],
   "source": [
    "clean_contact_dataset = drop_null('Used_Federal_Services__c', clean_contact_dataset)\n",
    "summary('Used_Federal_Services__c', clean_contact_dataset)"
   ]
  },
  {
   "cell_type": "markdown",
   "metadata": {},
   "source": [
    "# 15. Interview_Skills__c"
   ]
  },
  {
   "cell_type": "code",
   "execution_count": 89,
   "metadata": {},
   "outputs": [
    {
     "name": "stdout",
     "output_type": "stream",
     "text": [
      "*** Before ***\n",
      "Number of records: 53056\n",
      "Unique Values: 2\n",
      "Null Values: 0\n",
      "Null Values %: 0.0\n",
      "*** After ***\n",
      "Number of records: 53056\n",
      "Unique Values: 2\n",
      "Null Values: 0\n",
      "Null Values %: 0.0\n"
     ]
    },
    {
     "data": {
      "text/html": [
       "<div>\n",
       "<style scoped>\n",
       "    .dataframe tbody tr th:only-of-type {\n",
       "        vertical-align: middle;\n",
       "    }\n",
       "\n",
       "    .dataframe tbody tr th {\n",
       "        vertical-align: top;\n",
       "    }\n",
       "\n",
       "    .dataframe thead th {\n",
       "        text-align: right;\n",
       "    }\n",
       "</style>\n",
       "<table border=\"1\" class=\"dataframe\">\n",
       "  <thead>\n",
       "    <tr style=\"text-align: right;\">\n",
       "      <th></th>\n",
       "      <th>Interview_Skills__c</th>\n",
       "      <th>count</th>\n",
       "      <th>%</th>\n",
       "    </tr>\n",
       "  </thead>\n",
       "  <tbody>\n",
       "    <tr>\n",
       "      <th>1</th>\n",
       "      <td>1</td>\n",
       "      <td>35543</td>\n",
       "      <td>66.991481</td>\n",
       "    </tr>\n",
       "    <tr>\n",
       "      <th>0</th>\n",
       "      <td>0</td>\n",
       "      <td>17513</td>\n",
       "      <td>33.008519</td>\n",
       "    </tr>\n",
       "  </tbody>\n",
       "</table>\n",
       "</div>"
      ],
      "text/plain": [
       "   Interview_Skills__c  count          %\n",
       "1                    1  35543  66.991481\n",
       "0                    0  17513  33.008519"
      ]
     },
     "execution_count": 89,
     "metadata": {},
     "output_type": "execute_result"
    }
   ],
   "source": [
    "clean_contact_dataset = drop_null('Interview_Skills__c', clean_contact_dataset)\n",
    "summary('Interview_Skills__c', clean_contact_dataset)"
   ]
  },
  {
   "cell_type": "markdown",
   "metadata": {},
   "source": [
    "# 16. Created_LinkedIn_account__c"
   ]
  },
  {
   "cell_type": "code",
   "execution_count": 90,
   "metadata": {},
   "outputs": [
    {
     "name": "stdout",
     "output_type": "stream",
     "text": [
      "*** Before ***\n",
      "Number of records: 53056\n",
      "Unique Values: 2\n",
      "Null Values: 0\n",
      "Null Values %: 0.0\n",
      "*** After ***\n",
      "Number of records: 53056\n",
      "Unique Values: 2\n",
      "Null Values: 0\n",
      "Null Values %: 0.0\n"
     ]
    },
    {
     "data": {
      "text/html": [
       "<div>\n",
       "<style scoped>\n",
       "    .dataframe tbody tr th:only-of-type {\n",
       "        vertical-align: middle;\n",
       "    }\n",
       "\n",
       "    .dataframe tbody tr th {\n",
       "        vertical-align: top;\n",
       "    }\n",
       "\n",
       "    .dataframe thead th {\n",
       "        text-align: right;\n",
       "    }\n",
       "</style>\n",
       "<table border=\"1\" class=\"dataframe\">\n",
       "  <thead>\n",
       "    <tr style=\"text-align: right;\">\n",
       "      <th></th>\n",
       "      <th>Created_LinkedIn_account__c</th>\n",
       "      <th>count</th>\n",
       "      <th>%</th>\n",
       "    </tr>\n",
       "  </thead>\n",
       "  <tbody>\n",
       "    <tr>\n",
       "      <th>1</th>\n",
       "      <td>1</td>\n",
       "      <td>28623</td>\n",
       "      <td>53.948658</td>\n",
       "    </tr>\n",
       "    <tr>\n",
       "      <th>0</th>\n",
       "      <td>0</td>\n",
       "      <td>24433</td>\n",
       "      <td>46.051342</td>\n",
       "    </tr>\n",
       "  </tbody>\n",
       "</table>\n",
       "</div>"
      ],
      "text/plain": [
       "   Created_LinkedIn_account__c  count          %\n",
       "1                            1  28623  53.948658\n",
       "0                            0  24433  46.051342"
      ]
     },
     "execution_count": 90,
     "metadata": {},
     "output_type": "execute_result"
    }
   ],
   "source": [
    "clean_contact_dataset = drop_null('Created_LinkedIn_account__c', clean_contact_dataset)\n",
    "summary('Created_LinkedIn_account__c', clean_contact_dataset)"
   ]
  },
  {
   "cell_type": "markdown",
   "metadata": {},
   "source": [
    "# 17. Value_Proposition__c"
   ]
  },
  {
   "cell_type": "code",
   "execution_count": 91,
   "metadata": {},
   "outputs": [
    {
     "name": "stdout",
     "output_type": "stream",
     "text": [
      "*** Before ***\n",
      "Number of records: 53056\n",
      "Unique Values: 2\n",
      "Null Values: 0\n",
      "Null Values %: 0.0\n",
      "*** After ***\n",
      "Number of records: 53056\n",
      "Unique Values: 2\n",
      "Null Values: 0\n",
      "Null Values %: 0.0\n"
     ]
    },
    {
     "data": {
      "text/html": [
       "<div>\n",
       "<style scoped>\n",
       "    .dataframe tbody tr th:only-of-type {\n",
       "        vertical-align: middle;\n",
       "    }\n",
       "\n",
       "    .dataframe tbody tr th {\n",
       "        vertical-align: top;\n",
       "    }\n",
       "\n",
       "    .dataframe thead th {\n",
       "        text-align: right;\n",
       "    }\n",
       "</style>\n",
       "<table border=\"1\" class=\"dataframe\">\n",
       "  <thead>\n",
       "    <tr style=\"text-align: right;\">\n",
       "      <th></th>\n",
       "      <th>Value_Proposition__c</th>\n",
       "      <th>count</th>\n",
       "      <th>%</th>\n",
       "    </tr>\n",
       "  </thead>\n",
       "  <tbody>\n",
       "    <tr>\n",
       "      <th>1</th>\n",
       "      <td>1.0</td>\n",
       "      <td>36552</td>\n",
       "      <td>68.893245</td>\n",
       "    </tr>\n",
       "    <tr>\n",
       "      <th>0</th>\n",
       "      <td>0.0</td>\n",
       "      <td>16504</td>\n",
       "      <td>31.106755</td>\n",
       "    </tr>\n",
       "  </tbody>\n",
       "</table>\n",
       "</div>"
      ],
      "text/plain": [
       "   Value_Proposition__c  count          %\n",
       "1                   1.0  36552  68.893245\n",
       "0                   0.0  16504  31.106755"
      ]
     },
     "execution_count": 91,
     "metadata": {},
     "output_type": "execute_result"
    }
   ],
   "source": [
    "clean_contact_dataset = drop_null('Value_Proposition__c', clean_contact_dataset)\n",
    "summary('Value_Proposition__c', clean_contact_dataset)"
   ]
  },
  {
   "cell_type": "markdown",
   "metadata": {},
   "source": [
    "# 18. Hired_with_EO_assistance__c"
   ]
  },
  {
   "cell_type": "code",
   "execution_count": 92,
   "metadata": {},
   "outputs": [
    {
     "name": "stdout",
     "output_type": "stream",
     "text": [
      "*** Before ***\n",
      "Number of records: 53056\n",
      "Unique Values: 2\n",
      "Null Values: 0\n",
      "Null Values %: 0.0\n",
      "*** After ***\n",
      "Number of records: 53056\n",
      "Unique Values: 2\n",
      "Null Values: 0\n",
      "Null Values %: 0.0\n"
     ]
    },
    {
     "data": {
      "text/html": [
       "<div>\n",
       "<style scoped>\n",
       "    .dataframe tbody tr th:only-of-type {\n",
       "        vertical-align: middle;\n",
       "    }\n",
       "\n",
       "    .dataframe tbody tr th {\n",
       "        vertical-align: top;\n",
       "    }\n",
       "\n",
       "    .dataframe thead th {\n",
       "        text-align: right;\n",
       "    }\n",
       "</style>\n",
       "<table border=\"1\" class=\"dataframe\">\n",
       "  <thead>\n",
       "    <tr style=\"text-align: right;\">\n",
       "      <th></th>\n",
       "      <th>Hired_with_EO_assistance__c</th>\n",
       "      <th>count</th>\n",
       "      <th>%</th>\n",
       "    </tr>\n",
       "  </thead>\n",
       "  <tbody>\n",
       "    <tr>\n",
       "      <th>0</th>\n",
       "      <td>0.0</td>\n",
       "      <td>53031</td>\n",
       "      <td>99.95288</td>\n",
       "    </tr>\n",
       "    <tr>\n",
       "      <th>1</th>\n",
       "      <td>1.0</td>\n",
       "      <td>25</td>\n",
       "      <td>0.04712</td>\n",
       "    </tr>\n",
       "  </tbody>\n",
       "</table>\n",
       "</div>"
      ],
      "text/plain": [
       "   Hired_with_EO_assistance__c  count         %\n",
       "0                          0.0  53031  99.95288\n",
       "1                          1.0     25   0.04712"
      ]
     },
     "execution_count": 92,
     "metadata": {},
     "output_type": "execute_result"
    }
   ],
   "source": [
    "clean_contact_dataset = drop_null('Hired_with_EO_assistance__c', clean_contact_dataset)\n",
    "summary('Hired_with_EO_assistance__c', clean_contact_dataset)"
   ]
  },
  {
   "cell_type": "markdown",
   "metadata": {},
   "source": [
    "# 19. Updated_Resume_Complete__c"
   ]
  },
  {
   "cell_type": "code",
   "execution_count": 93,
   "metadata": {},
   "outputs": [
    {
     "name": "stdout",
     "output_type": "stream",
     "text": [
      "*** Before ***\n",
      "Number of records: 53056\n",
      "Unique Values: 2\n",
      "Null Values: 0\n",
      "Null Values %: 0.0\n",
      "*** After ***\n",
      "Number of records: 53056\n",
      "Unique Values: 2\n",
      "Null Values: 0\n",
      "Null Values %: 0.0\n"
     ]
    },
    {
     "data": {
      "text/html": [
       "<div>\n",
       "<style scoped>\n",
       "    .dataframe tbody tr th:only-of-type {\n",
       "        vertical-align: middle;\n",
       "    }\n",
       "\n",
       "    .dataframe tbody tr th {\n",
       "        vertical-align: top;\n",
       "    }\n",
       "\n",
       "    .dataframe thead th {\n",
       "        text-align: right;\n",
       "    }\n",
       "</style>\n",
       "<table border=\"1\" class=\"dataframe\">\n",
       "  <thead>\n",
       "    <tr style=\"text-align: right;\">\n",
       "      <th></th>\n",
       "      <th>Updated_Resume_Complete__c</th>\n",
       "      <th>count</th>\n",
       "      <th>%</th>\n",
       "    </tr>\n",
       "  </thead>\n",
       "  <tbody>\n",
       "    <tr>\n",
       "      <th>0</th>\n",
       "      <td>0.0</td>\n",
       "      <td>51699</td>\n",
       "      <td>97.442325</td>\n",
       "    </tr>\n",
       "    <tr>\n",
       "      <th>1</th>\n",
       "      <td>1.0</td>\n",
       "      <td>1357</td>\n",
       "      <td>2.557675</td>\n",
       "    </tr>\n",
       "  </tbody>\n",
       "</table>\n",
       "</div>"
      ],
      "text/plain": [
       "   Updated_Resume_Complete__c  count          %\n",
       "0                         0.0  51699  97.442325\n",
       "1                         1.0   1357   2.557675"
      ]
     },
     "execution_count": 93,
     "metadata": {},
     "output_type": "execute_result"
    }
   ],
   "source": [
    "clean_contact_dataset = drop_null('Updated_Resume_Complete__c', clean_contact_dataset)\n",
    "summary('Updated_Resume_Complete__c', clean_contact_dataset)"
   ]
  },
  {
   "cell_type": "markdown",
   "metadata": {},
   "source": [
    "# 20. HHUSA_Workshop_Participant__c"
   ]
  },
  {
   "cell_type": "code",
   "execution_count": 94,
   "metadata": {},
   "outputs": [
    {
     "name": "stdout",
     "output_type": "stream",
     "text": [
      "*** Before ***\n",
      "Number of records: 53056\n",
      "Unique Values: 2\n",
      "Null Values: 0\n",
      "Null Values %: 0.0\n",
      "*** After ***\n",
      "Number of records: 53056\n",
      "Unique Values: 2\n",
      "Null Values: 0\n",
      "Null Values %: 0.0\n"
     ]
    },
    {
     "data": {
      "text/html": [
       "<div>\n",
       "<style scoped>\n",
       "    .dataframe tbody tr th:only-of-type {\n",
       "        vertical-align: middle;\n",
       "    }\n",
       "\n",
       "    .dataframe tbody tr th {\n",
       "        vertical-align: top;\n",
       "    }\n",
       "\n",
       "    .dataframe thead th {\n",
       "        text-align: right;\n",
       "    }\n",
       "</style>\n",
       "<table border=\"1\" class=\"dataframe\">\n",
       "  <thead>\n",
       "    <tr style=\"text-align: right;\">\n",
       "      <th></th>\n",
       "      <th>HHUSA_Workshop_Participant__c</th>\n",
       "      <th>count</th>\n",
       "      <th>%</th>\n",
       "    </tr>\n",
       "  </thead>\n",
       "  <tbody>\n",
       "    <tr>\n",
       "      <th>0</th>\n",
       "      <td>0</td>\n",
       "      <td>48866</td>\n",
       "      <td>92.102684</td>\n",
       "    </tr>\n",
       "    <tr>\n",
       "      <th>1</th>\n",
       "      <td>1</td>\n",
       "      <td>4190</td>\n",
       "      <td>7.897316</td>\n",
       "    </tr>\n",
       "  </tbody>\n",
       "</table>\n",
       "</div>"
      ],
      "text/plain": [
       "   HHUSA_Workshop_Participant__c  count          %\n",
       "0                              0  48866  92.102684\n",
       "1                              1   4190   7.897316"
      ]
     },
     "execution_count": 94,
     "metadata": {},
     "output_type": "execute_result"
    }
   ],
   "source": [
    "clean_contact_dataset = drop_null('HHUSA_Workshop_Participant__c', clean_contact_dataset)\n",
    "summary('HHUSA_Workshop_Participant__c', clean_contact_dataset)"
   ]
  },
  {
   "cell_type": "markdown",
   "metadata": {},
   "source": [
    "# 21. O2O_Initial_Assessment_Complete__c"
   ]
  },
  {
   "cell_type": "code",
   "execution_count": 95,
   "metadata": {},
   "outputs": [
    {
     "name": "stdout",
     "output_type": "stream",
     "text": [
      "*** Before ***\n",
      "Number of records: 53056\n",
      "Unique Values: 2\n",
      "Null Values: 0\n",
      "Null Values %: 0.0\n",
      "*** After ***\n",
      "Number of records: 53056\n",
      "Unique Values: 2\n",
      "Null Values: 0\n",
      "Null Values %: 0.0\n"
     ]
    },
    {
     "data": {
      "text/html": [
       "<div>\n",
       "<style scoped>\n",
       "    .dataframe tbody tr th:only-of-type {\n",
       "        vertical-align: middle;\n",
       "    }\n",
       "\n",
       "    .dataframe tbody tr th {\n",
       "        vertical-align: top;\n",
       "    }\n",
       "\n",
       "    .dataframe thead th {\n",
       "        text-align: right;\n",
       "    }\n",
       "</style>\n",
       "<table border=\"1\" class=\"dataframe\">\n",
       "  <thead>\n",
       "    <tr style=\"text-align: right;\">\n",
       "      <th></th>\n",
       "      <th>O2O_Initial_Assessment_Complete__c</th>\n",
       "      <th>count</th>\n",
       "      <th>%</th>\n",
       "    </tr>\n",
       "  </thead>\n",
       "  <tbody>\n",
       "    <tr>\n",
       "      <th>0</th>\n",
       "      <td>0.0</td>\n",
       "      <td>52677</td>\n",
       "      <td>99.28566</td>\n",
       "    </tr>\n",
       "    <tr>\n",
       "      <th>1</th>\n",
       "      <td>1.0</td>\n",
       "      <td>379</td>\n",
       "      <td>0.71434</td>\n",
       "    </tr>\n",
       "  </tbody>\n",
       "</table>\n",
       "</div>"
      ],
      "text/plain": [
       "   O2O_Initial_Assessment_Complete__c  count         %\n",
       "0                                 0.0  52677  99.28566\n",
       "1                                 1.0    379   0.71434"
      ]
     },
     "execution_count": 95,
     "metadata": {},
     "output_type": "execute_result"
    }
   ],
   "source": [
    "clean_contact_dataset = drop_null('O2O_Initial_Assessment_Complete__c', clean_contact_dataset)\n",
    "summary('O2O_Initial_Assessment_Complete__c', clean_contact_dataset)"
   ]
  },
  {
   "cell_type": "markdown",
   "metadata": {},
   "source": [
    "# 22.  Is_the_Initial_Intake_Assessment_done__c"
   ]
  },
  {
   "cell_type": "code",
   "execution_count": 96,
   "metadata": {},
   "outputs": [
    {
     "name": "stdout",
     "output_type": "stream",
     "text": [
      "*** Before ***\n",
      "Number of records: 53056\n",
      "Unique Values: 2\n",
      "Null Values: 0\n",
      "Null Values %: 0.0\n",
      "*** After ***\n",
      "Number of records: 53056\n",
      "Unique Values: 2\n",
      "Null Values: 0\n",
      "Null Values %: 0.0\n"
     ]
    },
    {
     "data": {
      "text/html": [
       "<div>\n",
       "<style scoped>\n",
       "    .dataframe tbody tr th:only-of-type {\n",
       "        vertical-align: middle;\n",
       "    }\n",
       "\n",
       "    .dataframe tbody tr th {\n",
       "        vertical-align: top;\n",
       "    }\n",
       "\n",
       "    .dataframe thead th {\n",
       "        text-align: right;\n",
       "    }\n",
       "</style>\n",
       "<table border=\"1\" class=\"dataframe\">\n",
       "  <thead>\n",
       "    <tr style=\"text-align: right;\">\n",
       "      <th></th>\n",
       "      <th>Is_the_Initial_Intake_Assessment_done__c</th>\n",
       "      <th>count</th>\n",
       "      <th>%</th>\n",
       "    </tr>\n",
       "  </thead>\n",
       "  <tbody>\n",
       "    <tr>\n",
       "      <th>1</th>\n",
       "      <td>1</td>\n",
       "      <td>45654</td>\n",
       "      <td>86.048703</td>\n",
       "    </tr>\n",
       "    <tr>\n",
       "      <th>0</th>\n",
       "      <td>0</td>\n",
       "      <td>7402</td>\n",
       "      <td>13.951297</td>\n",
       "    </tr>\n",
       "  </tbody>\n",
       "</table>\n",
       "</div>"
      ],
      "text/plain": [
       "   Is_the_Initial_Intake_Assessment_done__c  count          %\n",
       "1                                         1  45654  86.048703\n",
       "0                                         0   7402  13.951297"
      ]
     },
     "execution_count": 96,
     "metadata": {},
     "output_type": "execute_result"
    }
   ],
   "source": [
    "clean_contact_dataset = drop_null('Is_the_Initial_Intake_Assessment_done__c', clean_contact_dataset)\n",
    "summary('Is_the_Initial_Intake_Assessment_done__c', clean_contact_dataset)"
   ]
  },
  {
   "cell_type": "markdown",
   "metadata": {},
   "source": [
    "# 23.Permission_to_use_job_board_granted__c"
   ]
  },
  {
   "cell_type": "code",
   "execution_count": 97,
   "metadata": {},
   "outputs": [
    {
     "name": "stdout",
     "output_type": "stream",
     "text": [
      "*** Before ***\n",
      "Number of records: 53056\n",
      "Unique Values: 2\n",
      "Null Values: 0\n",
      "Null Values %: 0.0\n",
      "*** After ***\n",
      "Number of records: 53056\n",
      "Unique Values: 2\n",
      "Null Values: 0\n",
      "Null Values %: 0.0\n"
     ]
    },
    {
     "data": {
      "text/html": [
       "<div>\n",
       "<style scoped>\n",
       "    .dataframe tbody tr th:only-of-type {\n",
       "        vertical-align: middle;\n",
       "    }\n",
       "\n",
       "    .dataframe tbody tr th {\n",
       "        vertical-align: top;\n",
       "    }\n",
       "\n",
       "    .dataframe thead th {\n",
       "        text-align: right;\n",
       "    }\n",
       "</style>\n",
       "<table border=\"1\" class=\"dataframe\">\n",
       "  <thead>\n",
       "    <tr style=\"text-align: right;\">\n",
       "      <th></th>\n",
       "      <th>Permission_to_use_job_board_granted__c</th>\n",
       "      <th>count</th>\n",
       "      <th>%</th>\n",
       "    </tr>\n",
       "  </thead>\n",
       "  <tbody>\n",
       "    <tr>\n",
       "      <th>0</th>\n",
       "      <td>0</td>\n",
       "      <td>47494</td>\n",
       "      <td>89.516737</td>\n",
       "    </tr>\n",
       "    <tr>\n",
       "      <th>1</th>\n",
       "      <td>1</td>\n",
       "      <td>5562</td>\n",
       "      <td>10.483263</td>\n",
       "    </tr>\n",
       "  </tbody>\n",
       "</table>\n",
       "</div>"
      ],
      "text/plain": [
       "   Permission_to_use_job_board_granted__c  count          %\n",
       "0                                       0  47494  89.516737\n",
       "1                                       1   5562  10.483263"
      ]
     },
     "execution_count": 97,
     "metadata": {},
     "output_type": "execute_result"
    }
   ],
   "source": [
    "clean_contact_dataset = drop_null('Permission_to_use_job_board_granted__c', clean_contact_dataset)\n",
    "summary('Permission_to_use_job_board_granted__c', clean_contact_dataset)"
   ]
  },
  {
   "cell_type": "markdown",
   "metadata": {},
   "source": [
    "# 24. Finalized_HHUSA_revised_resume_on_file__c"
   ]
  },
  {
   "cell_type": "code",
   "execution_count": 98,
   "metadata": {},
   "outputs": [
    {
     "name": "stdout",
     "output_type": "stream",
     "text": [
      "*** Before ***\n",
      "Number of records: 53056\n",
      "Unique Values: 2\n",
      "Null Values: 0\n",
      "Null Values %: 0.0\n",
      "*** After ***\n",
      "Number of records: 53056\n",
      "Unique Values: 2\n",
      "Null Values: 0\n",
      "Null Values %: 0.0\n"
     ]
    },
    {
     "data": {
      "text/html": [
       "<div>\n",
       "<style scoped>\n",
       "    .dataframe tbody tr th:only-of-type {\n",
       "        vertical-align: middle;\n",
       "    }\n",
       "\n",
       "    .dataframe tbody tr th {\n",
       "        vertical-align: top;\n",
       "    }\n",
       "\n",
       "    .dataframe thead th {\n",
       "        text-align: right;\n",
       "    }\n",
       "</style>\n",
       "<table border=\"1\" class=\"dataframe\">\n",
       "  <thead>\n",
       "    <tr style=\"text-align: right;\">\n",
       "      <th></th>\n",
       "      <th>Finalized_HHUSA_revised_resume_on_file__c</th>\n",
       "      <th>count</th>\n",
       "      <th>%</th>\n",
       "    </tr>\n",
       "  </thead>\n",
       "  <tbody>\n",
       "    <tr>\n",
       "      <th>1</th>\n",
       "      <td>1</td>\n",
       "      <td>42145</td>\n",
       "      <td>79.434937</td>\n",
       "    </tr>\n",
       "    <tr>\n",
       "      <th>0</th>\n",
       "      <td>0</td>\n",
       "      <td>10911</td>\n",
       "      <td>20.565063</td>\n",
       "    </tr>\n",
       "  </tbody>\n",
       "</table>\n",
       "</div>"
      ],
      "text/plain": [
       "   Finalized_HHUSA_revised_resume_on_file__c  count          %\n",
       "1                                          1  42145  79.434937\n",
       "0                                          0  10911  20.565063"
      ]
     },
     "execution_count": 98,
     "metadata": {},
     "output_type": "execute_result"
    }
   ],
   "source": [
    "clean_contact_dataset = drop_null('Finalized_HHUSA_revised_resume_on_file__c', clean_contact_dataset)\n",
    "summary('Finalized_HHUSA_revised_resume_on_file__c', clean_contact_dataset)"
   ]
  },
  {
   "cell_type": "markdown",
   "metadata": {},
   "source": [
    "# more than 30000 records are getting deleted due to dropna(need to discuss with team)"
   ]
  },
  {
   "cell_type": "markdown",
   "metadata": {},
   "source": [
    "# 25.Revised_Resume_Used_to_Apply_for_Job__c"
   ]
  },
  {
   "cell_type": "code",
   "execution_count": 99,
   "metadata": {},
   "outputs": [
    {
     "name": "stdout",
     "output_type": "stream",
     "text": [
      "*** Before ***\n",
      "Number of records: 53056\n",
      "Unique Values: 2\n",
      "Null Values: 32804\n",
      "Null Values %: 61.82901085645356\n",
      "*** After ***\n",
      "Number of records: 20252\n",
      "Unique Values: 2\n",
      "Null Values: 0\n",
      "Null Values %: 0.0\n"
     ]
    },
    {
     "data": {
      "text/html": [
       "<div>\n",
       "<style scoped>\n",
       "    .dataframe tbody tr th:only-of-type {\n",
       "        vertical-align: middle;\n",
       "    }\n",
       "\n",
       "    .dataframe tbody tr th {\n",
       "        vertical-align: top;\n",
       "    }\n",
       "\n",
       "    .dataframe thead th {\n",
       "        text-align: right;\n",
       "    }\n",
       "</style>\n",
       "<table border=\"1\" class=\"dataframe\">\n",
       "  <thead>\n",
       "    <tr style=\"text-align: right;\">\n",
       "      <th></th>\n",
       "      <th>Revised_Resume_Used_to_Apply_for_Job__c</th>\n",
       "      <th>count</th>\n",
       "      <th>%</th>\n",
       "    </tr>\n",
       "  </thead>\n",
       "  <tbody>\n",
       "    <tr>\n",
       "      <th>1</th>\n",
       "      <td>Yes</td>\n",
       "      <td>18723</td>\n",
       "      <td>92.450128</td>\n",
       "    </tr>\n",
       "    <tr>\n",
       "      <th>0</th>\n",
       "      <td>No</td>\n",
       "      <td>1529</td>\n",
       "      <td>7.549872</td>\n",
       "    </tr>\n",
       "  </tbody>\n",
       "</table>\n",
       "</div>"
      ],
      "text/plain": [
       "  Revised_Resume_Used_to_Apply_for_Job__c  count          %\n",
       "1                                     Yes  18723  92.450128\n",
       "0                                      No   1529   7.549872"
      ]
     },
     "execution_count": 99,
     "metadata": {},
     "output_type": "execute_result"
    }
   ],
   "source": [
    "clean_contact_dataset = drop_null('Revised_Resume_Used_to_Apply_for_Job__c', clean_contact_dataset)\n",
    "summary('Revised_Resume_Used_to_Apply_for_Job__c', clean_contact_dataset)"
   ]
  },
  {
   "cell_type": "code",
   "execution_count": null,
   "metadata": {},
   "outputs": [],
   "source": []
  }
 ],
 "metadata": {
  "kernelspec": {
   "display_name": "Python 3",
   "language": "python",
   "name": "python3"
  },
  "language_info": {
   "codemirror_mode": {
    "name": "ipython",
    "version": 3
   },
   "file_extension": ".py",
   "mimetype": "text/x-python",
   "name": "python",
   "nbconvert_exporter": "python",
   "pygments_lexer": "ipython3",
   "version": "3.7.0"
  }
 },
 "nbformat": 4,
 "nbformat_minor": 2
}
