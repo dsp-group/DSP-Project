{
 "cells": [
  {
   "cell_type": "markdown",
   "metadata": {},
   "source": [
    "# Read me\n",
    "\n",
    "This code clean the data listed in our DSP data dictionary"
   ]
  },
  {
   "cell_type": "code",
   "execution_count": 1,
   "metadata": {},
   "outputs": [],
   "source": [
    "import numpy as np\n",
    "import pandas as pd"
   ]
  },
  {
   "cell_type": "markdown",
   "metadata": {},
   "source": [
    "# Load Contact Dataset"
   ]
  },
  {
   "cell_type": "code",
   "execution_count": 2,
   "metadata": {
    "scrolled": false
   },
   "outputs": [
    {
     "data": {
      "text/plain": [
       "(132445, 391)"
      ]
     },
     "execution_count": 2,
     "metadata": {},
     "output_type": "execute_result"
    }
   ],
   "source": [
    "contact_dataset = pd.read_csv('SalesForce_Contact.csv', encoding='latin', low_memory=False)\n",
    "contact_dataset.shape"
   ]
  },
  {
   "cell_type": "markdown",
   "metadata": {},
   "source": [
    "# Load Hire Info Dataset"
   ]
  },
  {
   "cell_type": "code",
   "execution_count": 3,
   "metadata": {},
   "outputs": [
    {
     "data": {
      "text/plain": [
       "(30754, 34)"
      ]
     },
     "execution_count": 3,
     "metadata": {},
     "output_type": "execute_result"
    }
   ],
   "source": [
    "Hireinfo_dataset = pd.read_csv('SalesForce_Hire_Information__c.csv', encoding='latin', low_memory=False)\n",
    "Hireinfo_dataset.shape"
   ]
  },
  {
   "cell_type": "markdown",
   "metadata": {},
   "source": [
    "## General Methods"
   ]
  },
  {
   "cell_type": "code",
   "execution_count": 4,
   "metadata": {},
   "outputs": [],
   "source": [
    "def count_records_unique_null(feature, data):\n",
    "    print(\"Number of records:\", len(data[feature].index))\n",
    "    print(\"Unique Values:\", data[feature].nunique())\n",
    "    print(\"Null Values:\", data[feature].isna().sum())\n",
    "    print(\"Null Values %:\", data[feature].isna().sum()/len(data.index)*100)\n",
    "def count_table(feature, data):\n",
    "    data_by_feature = data.groupby(feature)\n",
    "    countTable = data_by_feature[feature].agg(['count'])\n",
    "    total_feature = countTable.values.sum()\n",
    "    proportion = np.divide(countTable['count'], total_feature/100)\n",
    "    countTable['%'] = proportion\n",
    "    countTable = countTable.reset_index()\n",
    "    return countTable.nlargest(30, 'count')\n",
    "def drop_null(feature, data):\n",
    "    print(\"*** Before ***\")\n",
    "    count_records_unique_null(feature, data)\n",
    "    clean_dataset = data.dropna(subset = [feature])\n",
    "    return clean_dataset\n",
    "def summary(feature, data):\n",
    "    print(\"*** After ***\")\n",
    "    count_records_unique_null(feature, data)\n",
    "    return count_table(feature, data)"
   ]
  },
  {
   "cell_type": "markdown",
   "metadata": {},
   "source": [
    "## 1. State"
   ]
  },
  {
   "cell_type": "code",
   "execution_count": 5,
   "metadata": {},
   "outputs": [],
   "source": [
    "# Maxim's Code edited by Nameetha"
   ]
  },
  {
   "cell_type": "code",
   "execution_count": 6,
   "metadata": {},
   "outputs": [
    {
     "name": "stdout",
     "output_type": "stream",
     "text": [
      "*** Before ***\n",
      "Number of records: 132445\n",
      "Unique Values: 381\n",
      "Null Values: 8083\n",
      "Null Values %: 6.102910642153347\n",
      "*** After ***\n",
      "Number of records: 124362\n",
      "Unique Values: 381\n",
      "Null Values: 0\n",
      "Null Values %: 0.0\n"
     ]
    },
    {
     "data": {
      "text/html": [
       "<div>\n",
       "<style scoped>\n",
       "    .dataframe tbody tr th:only-of-type {\n",
       "        vertical-align: middle;\n",
       "    }\n",
       "\n",
       "    .dataframe tbody tr th {\n",
       "        vertical-align: top;\n",
       "    }\n",
       "\n",
       "    .dataframe thead th {\n",
       "        text-align: right;\n",
       "    }\n",
       "</style>\n",
       "<table border=\"1\" class=\"dataframe\">\n",
       "  <thead>\n",
       "    <tr style=\"text-align: right;\">\n",
       "      <th></th>\n",
       "      <th>MailingState</th>\n",
       "      <th>count</th>\n",
       "      <th>%</th>\n",
       "    </tr>\n",
       "  </thead>\n",
       "  <tbody>\n",
       "    <tr>\n",
       "      <th>281</th>\n",
       "      <td>TX</td>\n",
       "      <td>14532</td>\n",
       "      <td>11.685241</td>\n",
       "    </tr>\n",
       "    <tr>\n",
       "      <th>57</th>\n",
       "      <td>CA</td>\n",
       "      <td>12999</td>\n",
       "      <td>10.452550</td>\n",
       "    </tr>\n",
       "    <tr>\n",
       "      <th>295</th>\n",
       "      <td>VA</td>\n",
       "      <td>9651</td>\n",
       "      <td>7.760409</td>\n",
       "    </tr>\n",
       "    <tr>\n",
       "      <th>96</th>\n",
       "      <td>GA</td>\n",
       "      <td>9223</td>\n",
       "      <td>7.416253</td>\n",
       "    </tr>\n",
       "    <tr>\n",
       "      <th>184</th>\n",
       "      <td>NC</td>\n",
       "      <td>7982</td>\n",
       "      <td>6.418359</td>\n",
       "    </tr>\n",
       "    <tr>\n",
       "      <th>90</th>\n",
       "      <td>FL</td>\n",
       "      <td>7686</td>\n",
       "      <td>6.180344</td>\n",
       "    </tr>\n",
       "    <tr>\n",
       "      <th>61</th>\n",
       "      <td>CO</td>\n",
       "      <td>6515</td>\n",
       "      <td>5.238739</td>\n",
       "    </tr>\n",
       "    <tr>\n",
       "      <th>309</th>\n",
       "      <td>WA</td>\n",
       "      <td>4418</td>\n",
       "      <td>3.552532</td>\n",
       "    </tr>\n",
       "    <tr>\n",
       "      <th>197</th>\n",
       "      <td>NY</td>\n",
       "      <td>4055</td>\n",
       "      <td>3.260642</td>\n",
       "    </tr>\n",
       "    <tr>\n",
       "      <th>154</th>\n",
       "      <td>MD</td>\n",
       "      <td>2740</td>\n",
       "      <td>2.203245</td>\n",
       "    </tr>\n",
       "    <tr>\n",
       "      <th>232</th>\n",
       "      <td>PA</td>\n",
       "      <td>2601</td>\n",
       "      <td>2.091475</td>\n",
       "    </tr>\n",
       "    <tr>\n",
       "      <th>122</th>\n",
       "      <td>IL</td>\n",
       "      <td>2494</td>\n",
       "      <td>2.005436</td>\n",
       "    </tr>\n",
       "    <tr>\n",
       "      <th>279</th>\n",
       "      <td>TN</td>\n",
       "      <td>2354</td>\n",
       "      <td>1.892861</td>\n",
       "    </tr>\n",
       "    <tr>\n",
       "      <th>190</th>\n",
       "      <td>NJ</td>\n",
       "      <td>2069</td>\n",
       "      <td>1.663691</td>\n",
       "    </tr>\n",
       "    <tr>\n",
       "      <th>23</th>\n",
       "      <td>AZ</td>\n",
       "      <td>2057</td>\n",
       "      <td>1.654042</td>\n",
       "    </tr>\n",
       "    <tr>\n",
       "      <th>261</th>\n",
       "      <td>SC</td>\n",
       "      <td>2051</td>\n",
       "      <td>1.649218</td>\n",
       "    </tr>\n",
       "    <tr>\n",
       "      <th>213</th>\n",
       "      <td>OH</td>\n",
       "      <td>1998</td>\n",
       "      <td>1.606600</td>\n",
       "    </tr>\n",
       "    <tr>\n",
       "      <th>14</th>\n",
       "      <td>AL</td>\n",
       "      <td>1763</td>\n",
       "      <td>1.417636</td>\n",
       "    </tr>\n",
       "    <tr>\n",
       "      <th>157</th>\n",
       "      <td>MI</td>\n",
       "      <td>1541</td>\n",
       "      <td>1.239124</td>\n",
       "    </tr>\n",
       "    <tr>\n",
       "      <th>114</th>\n",
       "      <td>HI</td>\n",
       "      <td>1537</td>\n",
       "      <td>1.235908</td>\n",
       "    </tr>\n",
       "    <tr>\n",
       "      <th>227</th>\n",
       "      <td>Other</td>\n",
       "      <td>1520</td>\n",
       "      <td>1.222238</td>\n",
       "    </tr>\n",
       "    <tr>\n",
       "      <th>121</th>\n",
       "      <td>ID</td>\n",
       "      <td>1476</td>\n",
       "      <td>1.186858</td>\n",
       "    </tr>\n",
       "    <tr>\n",
       "      <th>160</th>\n",
       "      <td>MO</td>\n",
       "      <td>1466</td>\n",
       "      <td>1.178817</td>\n",
       "    </tr>\n",
       "    <tr>\n",
       "      <th>136</th>\n",
       "      <td>KS</td>\n",
       "      <td>1393</td>\n",
       "      <td>1.120117</td>\n",
       "    </tr>\n",
       "    <tr>\n",
       "      <th>138</th>\n",
       "      <td>KY</td>\n",
       "      <td>1262</td>\n",
       "      <td>1.014779</td>\n",
       "    </tr>\n",
       "    <tr>\n",
       "      <th>147</th>\n",
       "      <td>LA</td>\n",
       "      <td>1198</td>\n",
       "      <td>0.963317</td>\n",
       "    </tr>\n",
       "    <tr>\n",
       "      <th>123</th>\n",
       "      <td>IN</td>\n",
       "      <td>1184</td>\n",
       "      <td>0.952059</td>\n",
       "    </tr>\n",
       "    <tr>\n",
       "      <th>151</th>\n",
       "      <td>MA</td>\n",
       "      <td>1171</td>\n",
       "      <td>0.941606</td>\n",
       "    </tr>\n",
       "    <tr>\n",
       "      <th>311</th>\n",
       "      <td>WI</td>\n",
       "      <td>1087</td>\n",
       "      <td>0.874061</td>\n",
       "    </tr>\n",
       "    <tr>\n",
       "      <th>214</th>\n",
       "      <td>OK</td>\n",
       "      <td>1013</td>\n",
       "      <td>0.814558</td>\n",
       "    </tr>\n",
       "  </tbody>\n",
       "</table>\n",
       "</div>"
      ],
      "text/plain": [
       "    MailingState  count          %\n",
       "281           TX  14532  11.685241\n",
       "57            CA  12999  10.452550\n",
       "295           VA   9651   7.760409\n",
       "96            GA   9223   7.416253\n",
       "184           NC   7982   6.418359\n",
       "90            FL   7686   6.180344\n",
       "61            CO   6515   5.238739\n",
       "309           WA   4418   3.552532\n",
       "197           NY   4055   3.260642\n",
       "154           MD   2740   2.203245\n",
       "232           PA   2601   2.091475\n",
       "122           IL   2494   2.005436\n",
       "279           TN   2354   1.892861\n",
       "190           NJ   2069   1.663691\n",
       "23            AZ   2057   1.654042\n",
       "261           SC   2051   1.649218\n",
       "213           OH   1998   1.606600\n",
       "14            AL   1763   1.417636\n",
       "157           MI   1541   1.239124\n",
       "114           HI   1537   1.235908\n",
       "227        Other   1520   1.222238\n",
       "121           ID   1476   1.186858\n",
       "160           MO   1466   1.178817\n",
       "136           KS   1393   1.120117\n",
       "138           KY   1262   1.014779\n",
       "147           LA   1198   0.963317\n",
       "123           IN   1184   0.952059\n",
       "151           MA   1171   0.941606\n",
       "311           WI   1087   0.874061\n",
       "214           OK   1013   0.814558"
      ]
     },
     "execution_count": 6,
     "metadata": {},
     "output_type": "execute_result"
    }
   ],
   "source": [
    "clean_contact_dataset = drop_null('MailingState', contact_dataset)\n",
    "summary('MailingState', clean_contact_dataset)"
   ]
  },
  {
   "cell_type": "markdown",
   "metadata": {},
   "source": [
    "# Focusing on United States of America as they constitute most part of the data"
   ]
  },
  {
   "cell_type": "code",
   "execution_count": 7,
   "metadata": {},
   "outputs": [],
   "source": [
    "states_dict = pd.read_csv('States_dict.csv', names=['State_abr', 'State_name'])\n",
    "abr_list=states_dict['State_abr'].tolist()\n",
    "name_list=states_dict['State_name'].tolist()"
   ]
  },
  {
   "cell_type": "code",
   "execution_count": 8,
   "metadata": {},
   "outputs": [
    {
     "name": "stderr",
     "output_type": "stream",
     "text": [
      "C:\\Users\\Nameetha\\Anaconda3\\lib\\site-packages\\ipykernel_launcher.py:1: SettingWithCopyWarning: \n",
      "A value is trying to be set on a copy of a slice from a DataFrame.\n",
      "Try using .loc[row_indexer,col_indexer] = value instead\n",
      "\n",
      "See the caveats in the documentation: http://pandas.pydata.org/pandas-docs/stable/indexing.html#indexing-view-versus-copy\n",
      "  \"\"\"Entry point for launching an IPython kernel.\n",
      "C:\\Users\\Nameetha\\Anaconda3\\lib\\site-packages\\pandas\\core\\generic.py:5890: SettingWithCopyWarning: \n",
      "A value is trying to be set on a copy of a slice from a DataFrame\n",
      "\n",
      "See the caveats in the documentation: http://pandas.pydata.org/pandas-docs/stable/indexing.html#indexing-view-versus-copy\n",
      "  self._update_inplace(new_data)\n"
     ]
    }
   ],
   "source": [
    "clean_contact_dataset['MailingState'] = clean_contact_dataset['MailingState'].str.upper()\n",
    "clean_contact_dataset.MailingState.replace(abr_list,name_list,inplace=True)\n",
    "clean_contact_dataset = clean_contact_dataset[clean_contact_dataset['MailingState'].isin(states_dict['State_name'] )]"
   ]
  },
  {
   "cell_type": "code",
   "execution_count": 9,
   "metadata": {},
   "outputs": [
    {
     "name": "stdout",
     "output_type": "stream",
     "text": [
      "*** After ***\n",
      "Number of records: 120070\n",
      "Unique Values: 50\n",
      "Null Values: 0\n",
      "Null Values %: 0.0\n"
     ]
    },
    {
     "data": {
      "text/html": [
       "<div>\n",
       "<style scoped>\n",
       "    .dataframe tbody tr th:only-of-type {\n",
       "        vertical-align: middle;\n",
       "    }\n",
       "\n",
       "    .dataframe tbody tr th {\n",
       "        vertical-align: top;\n",
       "    }\n",
       "\n",
       "    .dataframe thead th {\n",
       "        text-align: right;\n",
       "    }\n",
       "</style>\n",
       "<table border=\"1\" class=\"dataframe\">\n",
       "  <thead>\n",
       "    <tr style=\"text-align: right;\">\n",
       "      <th></th>\n",
       "      <th>MailingState</th>\n",
       "      <th>count</th>\n",
       "      <th>%</th>\n",
       "    </tr>\n",
       "  </thead>\n",
       "  <tbody>\n",
       "    <tr>\n",
       "      <th>42</th>\n",
       "      <td>Texas</td>\n",
       "      <td>14591</td>\n",
       "      <td>12.152078</td>\n",
       "    </tr>\n",
       "    <tr>\n",
       "      <th>4</th>\n",
       "      <td>California</td>\n",
       "      <td>13081</td>\n",
       "      <td>10.894478</td>\n",
       "    </tr>\n",
       "    <tr>\n",
       "      <th>45</th>\n",
       "      <td>Virginia</td>\n",
       "      <td>9692</td>\n",
       "      <td>8.071958</td>\n",
       "    </tr>\n",
       "    <tr>\n",
       "      <th>9</th>\n",
       "      <td>Georgia</td>\n",
       "      <td>9252</td>\n",
       "      <td>7.705505</td>\n",
       "    </tr>\n",
       "    <tr>\n",
       "      <th>32</th>\n",
       "      <td>North Carolina</td>\n",
       "      <td>8007</td>\n",
       "      <td>6.668610</td>\n",
       "    </tr>\n",
       "    <tr>\n",
       "      <th>8</th>\n",
       "      <td>Florida</td>\n",
       "      <td>7753</td>\n",
       "      <td>6.457067</td>\n",
       "    </tr>\n",
       "    <tr>\n",
       "      <th>5</th>\n",
       "      <td>Colorado</td>\n",
       "      <td>6531</td>\n",
       "      <td>5.439327</td>\n",
       "    </tr>\n",
       "    <tr>\n",
       "      <th>46</th>\n",
       "      <td>Washington</td>\n",
       "      <td>4453</td>\n",
       "      <td>3.708670</td>\n",
       "    </tr>\n",
       "    <tr>\n",
       "      <th>31</th>\n",
       "      <td>New York</td>\n",
       "      <td>4070</td>\n",
       "      <td>3.389689</td>\n",
       "    </tr>\n",
       "    <tr>\n",
       "      <th>19</th>\n",
       "      <td>Maryland</td>\n",
       "      <td>2749</td>\n",
       "      <td>2.289498</td>\n",
       "    </tr>\n",
       "    <tr>\n",
       "      <th>37</th>\n",
       "      <td>Pennsylvania</td>\n",
       "      <td>2604</td>\n",
       "      <td>2.168735</td>\n",
       "    </tr>\n",
       "    <tr>\n",
       "      <th>12</th>\n",
       "      <td>Illinois</td>\n",
       "      <td>2499</td>\n",
       "      <td>2.081286</td>\n",
       "    </tr>\n",
       "    <tr>\n",
       "      <th>41</th>\n",
       "      <td>Tennessee</td>\n",
       "      <td>2362</td>\n",
       "      <td>1.967186</td>\n",
       "    </tr>\n",
       "    <tr>\n",
       "      <th>29</th>\n",
       "      <td>New Jersey</td>\n",
       "      <td>2074</td>\n",
       "      <td>1.727326</td>\n",
       "    </tr>\n",
       "    <tr>\n",
       "      <th>2</th>\n",
       "      <td>Arizona</td>\n",
       "      <td>2063</td>\n",
       "      <td>1.718164</td>\n",
       "    </tr>\n",
       "    <tr>\n",
       "      <th>39</th>\n",
       "      <td>South Carolina</td>\n",
       "      <td>2054</td>\n",
       "      <td>1.710669</td>\n",
       "    </tr>\n",
       "    <tr>\n",
       "      <th>34</th>\n",
       "      <td>Ohio</td>\n",
       "      <td>2005</td>\n",
       "      <td>1.669859</td>\n",
       "    </tr>\n",
       "    <tr>\n",
       "      <th>0</th>\n",
       "      <td>Alabama</td>\n",
       "      <td>1771</td>\n",
       "      <td>1.474973</td>\n",
       "    </tr>\n",
       "    <tr>\n",
       "      <th>21</th>\n",
       "      <td>Michigan</td>\n",
       "      <td>1542</td>\n",
       "      <td>1.284251</td>\n",
       "    </tr>\n",
       "    <tr>\n",
       "      <th>10</th>\n",
       "      <td>Hawaii</td>\n",
       "      <td>1541</td>\n",
       "      <td>1.283418</td>\n",
       "    </tr>\n",
       "    <tr>\n",
       "      <th>11</th>\n",
       "      <td>Idaho</td>\n",
       "      <td>1476</td>\n",
       "      <td>1.229283</td>\n",
       "    </tr>\n",
       "    <tr>\n",
       "      <th>24</th>\n",
       "      <td>Missouri</td>\n",
       "      <td>1469</td>\n",
       "      <td>1.223453</td>\n",
       "    </tr>\n",
       "    <tr>\n",
       "      <th>15</th>\n",
       "      <td>Kansas</td>\n",
       "      <td>1394</td>\n",
       "      <td>1.160989</td>\n",
       "    </tr>\n",
       "    <tr>\n",
       "      <th>16</th>\n",
       "      <td>Kentucky</td>\n",
       "      <td>1265</td>\n",
       "      <td>1.053552</td>\n",
       "    </tr>\n",
       "    <tr>\n",
       "      <th>17</th>\n",
       "      <td>Louisiana</td>\n",
       "      <td>1201</td>\n",
       "      <td>1.000250</td>\n",
       "    </tr>\n",
       "    <tr>\n",
       "      <th>13</th>\n",
       "      <td>Indiana</td>\n",
       "      <td>1185</td>\n",
       "      <td>0.986924</td>\n",
       "    </tr>\n",
       "    <tr>\n",
       "      <th>20</th>\n",
       "      <td>Massachusetts</td>\n",
       "      <td>1173</td>\n",
       "      <td>0.976930</td>\n",
       "    </tr>\n",
       "    <tr>\n",
       "      <th>48</th>\n",
       "      <td>Wisconsin</td>\n",
       "      <td>1088</td>\n",
       "      <td>0.906138</td>\n",
       "    </tr>\n",
       "    <tr>\n",
       "      <th>35</th>\n",
       "      <td>Oklahoma</td>\n",
       "      <td>1017</td>\n",
       "      <td>0.847006</td>\n",
       "    </tr>\n",
       "    <tr>\n",
       "      <th>27</th>\n",
       "      <td>Nevada</td>\n",
       "      <td>972</td>\n",
       "      <td>0.809528</td>\n",
       "    </tr>\n",
       "  </tbody>\n",
       "</table>\n",
       "</div>"
      ],
      "text/plain": [
       "      MailingState  count          %\n",
       "42           Texas  14591  12.152078\n",
       "4       California  13081  10.894478\n",
       "45        Virginia   9692   8.071958\n",
       "9          Georgia   9252   7.705505\n",
       "32  North Carolina   8007   6.668610\n",
       "8          Florida   7753   6.457067\n",
       "5         Colorado   6531   5.439327\n",
       "46      Washington   4453   3.708670\n",
       "31        New York   4070   3.389689\n",
       "19        Maryland   2749   2.289498\n",
       "37    Pennsylvania   2604   2.168735\n",
       "12        Illinois   2499   2.081286\n",
       "41       Tennessee   2362   1.967186\n",
       "29      New Jersey   2074   1.727326\n",
       "2          Arizona   2063   1.718164\n",
       "39  South Carolina   2054   1.710669\n",
       "34            Ohio   2005   1.669859\n",
       "0          Alabama   1771   1.474973\n",
       "21        Michigan   1542   1.284251\n",
       "10          Hawaii   1541   1.283418\n",
       "11           Idaho   1476   1.229283\n",
       "24        Missouri   1469   1.223453\n",
       "15          Kansas   1394   1.160989\n",
       "16        Kentucky   1265   1.053552\n",
       "17       Louisiana   1201   1.000250\n",
       "13         Indiana   1185   0.986924\n",
       "20   Massachusetts   1173   0.976930\n",
       "48       Wisconsin   1088   0.906138\n",
       "35        Oklahoma   1017   0.847006\n",
       "27          Nevada    972   0.809528"
      ]
     },
     "execution_count": 9,
     "metadata": {},
     "output_type": "execute_result"
    }
   ],
   "source": [
    "summary('MailingState', clean_contact_dataset)"
   ]
  },
  {
   "cell_type": "markdown",
   "metadata": {},
   "source": [
    "## 2. Gender"
   ]
  },
  {
   "cell_type": "code",
   "execution_count": 10,
   "metadata": {},
   "outputs": [],
   "source": [
    "# Alhasan's Code"
   ]
  },
  {
   "cell_type": "markdown",
   "metadata": {},
   "source": [
    "### Clean the data by droping all the rows with missing values"
   ]
  },
  {
   "cell_type": "code",
   "execution_count": 11,
   "metadata": {
    "scrolled": true
   },
   "outputs": [
    {
     "name": "stdout",
     "output_type": "stream",
     "text": [
      "*** Before ***\n",
      "Number of records: 120070\n",
      "Unique Values: 3\n",
      "Null Values: 53035\n",
      "Null Values %: 44.17006746064796\n",
      "*** After ***\n",
      "Number of records: 67035\n",
      "Unique Values: 3\n",
      "Null Values: 0\n",
      "Null Values %: 0.0\n"
     ]
    },
    {
     "data": {
      "text/html": [
       "<div>\n",
       "<style scoped>\n",
       "    .dataframe tbody tr th:only-of-type {\n",
       "        vertical-align: middle;\n",
       "    }\n",
       "\n",
       "    .dataframe tbody tr th {\n",
       "        vertical-align: top;\n",
       "    }\n",
       "\n",
       "    .dataframe thead th {\n",
       "        text-align: right;\n",
       "    }\n",
       "</style>\n",
       "<table border=\"1\" class=\"dataframe\">\n",
       "  <thead>\n",
       "    <tr style=\"text-align: right;\">\n",
       "      <th></th>\n",
       "      <th>Gender__c</th>\n",
       "      <th>count</th>\n",
       "      <th>%</th>\n",
       "    </tr>\n",
       "  </thead>\n",
       "  <tbody>\n",
       "    <tr>\n",
       "      <th>2</th>\n",
       "      <td>Male</td>\n",
       "      <td>51175</td>\n",
       "      <td>76.340718</td>\n",
       "    </tr>\n",
       "    <tr>\n",
       "      <th>1</th>\n",
       "      <td>Female</td>\n",
       "      <td>15849</td>\n",
       "      <td>23.642873</td>\n",
       "    </tr>\n",
       "    <tr>\n",
       "      <th>0</th>\n",
       "      <td>--None--</td>\n",
       "      <td>11</td>\n",
       "      <td>0.016409</td>\n",
       "    </tr>\n",
       "  </tbody>\n",
       "</table>\n",
       "</div>"
      ],
      "text/plain": [
       "  Gender__c  count          %\n",
       "2      Male  51175  76.340718\n",
       "1    Female  15849  23.642873\n",
       "0  --None--     11   0.016409"
      ]
     },
     "execution_count": 11,
     "metadata": {},
     "output_type": "execute_result"
    }
   ],
   "source": [
    "clean_contact_dataset = drop_null('Gender__c', clean_contact_dataset)\n",
    "summary('Gender__c', clean_contact_dataset)"
   ]
  },
  {
   "cell_type": "markdown",
   "metadata": {},
   "source": [
    "### Clean the data by droping all the rows with \"--None--\""
   ]
  },
  {
   "cell_type": "code",
   "execution_count": 12,
   "metadata": {},
   "outputs": [
    {
     "name": "stdout",
     "output_type": "stream",
     "text": [
      "*** After ***\n",
      "Number of records: 67024\n",
      "Unique Values: 2\n",
      "Null Values: 0\n",
      "Null Values %: 0.0\n"
     ]
    },
    {
     "data": {
      "text/html": [
       "<div>\n",
       "<style scoped>\n",
       "    .dataframe tbody tr th:only-of-type {\n",
       "        vertical-align: middle;\n",
       "    }\n",
       "\n",
       "    .dataframe tbody tr th {\n",
       "        vertical-align: top;\n",
       "    }\n",
       "\n",
       "    .dataframe thead th {\n",
       "        text-align: right;\n",
       "    }\n",
       "</style>\n",
       "<table border=\"1\" class=\"dataframe\">\n",
       "  <thead>\n",
       "    <tr style=\"text-align: right;\">\n",
       "      <th></th>\n",
       "      <th>Gender__c</th>\n",
       "      <th>count</th>\n",
       "      <th>%</th>\n",
       "    </tr>\n",
       "  </thead>\n",
       "  <tbody>\n",
       "    <tr>\n",
       "      <th>1</th>\n",
       "      <td>Male</td>\n",
       "      <td>51175</td>\n",
       "      <td>76.353247</td>\n",
       "    </tr>\n",
       "    <tr>\n",
       "      <th>0</th>\n",
       "      <td>Female</td>\n",
       "      <td>15849</td>\n",
       "      <td>23.646753</td>\n",
       "    </tr>\n",
       "  </tbody>\n",
       "</table>\n",
       "</div>"
      ],
      "text/plain": [
       "  Gender__c  count          %\n",
       "1      Male  51175  76.353247\n",
       "0    Female  15849  23.646753"
      ]
     },
     "execution_count": 12,
     "metadata": {},
     "output_type": "execute_result"
    }
   ],
   "source": [
    "clean_contact_dataset = clean_contact_dataset.drop(clean_contact_dataset[clean_contact_dataset.Gender__c == \"--None--\"].index)\n",
    "summary('Gender__c', clean_contact_dataset)"
   ]
  },
  {
   "cell_type": "markdown",
   "metadata": {},
   "source": [
    "## 3. Race"
   ]
  },
  {
   "cell_type": "code",
   "execution_count": 13,
   "metadata": {},
   "outputs": [],
   "source": [
    "# Alhasan's Code"
   ]
  },
  {
   "cell_type": "markdown",
   "metadata": {},
   "source": [
    "## 4. Service_Branch"
   ]
  },
  {
   "cell_type": "code",
   "execution_count": 14,
   "metadata": {},
   "outputs": [],
   "source": [
    "# Alhasan's Code"
   ]
  },
  {
   "cell_type": "markdown",
   "metadata": {},
   "source": [
    "### Clean the data by droping all the rows with missing values"
   ]
  },
  {
   "cell_type": "code",
   "execution_count": 15,
   "metadata": {},
   "outputs": [
    {
     "name": "stdout",
     "output_type": "stream",
     "text": [
      "*** Before ***\n",
      "Number of records: 67024\n",
      "Unique Values: 8\n",
      "Null Values: 6129\n",
      "Null Values %: 9.14448555741227\n",
      "*** After ***\n",
      "Number of records: 60895\n",
      "Unique Values: 8\n",
      "Null Values: 0\n",
      "Null Values %: 0.0\n"
     ]
    },
    {
     "data": {
      "text/html": [
       "<div>\n",
       "<style scoped>\n",
       "    .dataframe tbody tr th:only-of-type {\n",
       "        vertical-align: middle;\n",
       "    }\n",
       "\n",
       "    .dataframe tbody tr th {\n",
       "        vertical-align: top;\n",
       "    }\n",
       "\n",
       "    .dataframe thead th {\n",
       "        text-align: right;\n",
       "    }\n",
       "</style>\n",
       "<table border=\"1\" class=\"dataframe\">\n",
       "  <thead>\n",
       "    <tr style=\"text-align: right;\">\n",
       "      <th></th>\n",
       "      <th>Service_Branch__c</th>\n",
       "      <th>count</th>\n",
       "      <th>%</th>\n",
       "    </tr>\n",
       "  </thead>\n",
       "  <tbody>\n",
       "    <tr>\n",
       "      <th>1</th>\n",
       "      <td>Army</td>\n",
       "      <td>33341</td>\n",
       "      <td>54.751622</td>\n",
       "    </tr>\n",
       "    <tr>\n",
       "      <th>5</th>\n",
       "      <td>Navy</td>\n",
       "      <td>9970</td>\n",
       "      <td>16.372444</td>\n",
       "    </tr>\n",
       "    <tr>\n",
       "      <th>0</th>\n",
       "      <td>Air Force</td>\n",
       "      <td>8543</td>\n",
       "      <td>14.029066</td>\n",
       "    </tr>\n",
       "    <tr>\n",
       "      <th>3</th>\n",
       "      <td>Marines</td>\n",
       "      <td>8482</td>\n",
       "      <td>13.928894</td>\n",
       "    </tr>\n",
       "    <tr>\n",
       "      <th>2</th>\n",
       "      <td>Coast Guard</td>\n",
       "      <td>553</td>\n",
       "      <td>0.908121</td>\n",
       "    </tr>\n",
       "    <tr>\n",
       "      <th>6</th>\n",
       "      <td>Not Applicable</td>\n",
       "      <td>3</td>\n",
       "      <td>0.004927</td>\n",
       "    </tr>\n",
       "    <tr>\n",
       "      <th>7</th>\n",
       "      <td>Spouse</td>\n",
       "      <td>2</td>\n",
       "      <td>0.003284</td>\n",
       "    </tr>\n",
       "    <tr>\n",
       "      <th>4</th>\n",
       "      <td>Merchant Marine</td>\n",
       "      <td>1</td>\n",
       "      <td>0.001642</td>\n",
       "    </tr>\n",
       "  </tbody>\n",
       "</table>\n",
       "</div>"
      ],
      "text/plain": [
       "  Service_Branch__c  count          %\n",
       "1              Army  33341  54.751622\n",
       "5              Navy   9970  16.372444\n",
       "0         Air Force   8543  14.029066\n",
       "3           Marines   8482  13.928894\n",
       "2       Coast Guard    553   0.908121\n",
       "6    Not Applicable      3   0.004927\n",
       "7            Spouse      2   0.003284\n",
       "4   Merchant Marine      1   0.001642"
      ]
     },
     "execution_count": 15,
     "metadata": {},
     "output_type": "execute_result"
    }
   ],
   "source": [
    "clean_contact_dataset = drop_null('Service_Branch__c', clean_contact_dataset)\n",
    "summary('Service_Branch__c', clean_contact_dataset)"
   ]
  },
  {
   "cell_type": "markdown",
   "metadata": {},
   "source": [
    "### Clean the data by including {Spouse, Merchant Marine} into Not Applicable"
   ]
  },
  {
   "cell_type": "code",
   "execution_count": 16,
   "metadata": {},
   "outputs": [],
   "source": [
    "col = clean_contact_dataset['Service_Branch__c']\n",
    "col = col.where(col != \"Spouse\", \"Not Applicable\")\n",
    "col = col.where(col != \"Merchant Marine\", \"Not Applicable\")\n",
    "clean_contact_dataset['Service_Branch__c'] = col"
   ]
  },
  {
   "cell_type": "code",
   "execution_count": 17,
   "metadata": {},
   "outputs": [
    {
     "name": "stdout",
     "output_type": "stream",
     "text": [
      "*** After ***\n",
      "Number of records: 60895\n",
      "Unique Values: 6\n",
      "Null Values: 0\n",
      "Null Values %: 0.0\n"
     ]
    },
    {
     "data": {
      "text/html": [
       "<div>\n",
       "<style scoped>\n",
       "    .dataframe tbody tr th:only-of-type {\n",
       "        vertical-align: middle;\n",
       "    }\n",
       "\n",
       "    .dataframe tbody tr th {\n",
       "        vertical-align: top;\n",
       "    }\n",
       "\n",
       "    .dataframe thead th {\n",
       "        text-align: right;\n",
       "    }\n",
       "</style>\n",
       "<table border=\"1\" class=\"dataframe\">\n",
       "  <thead>\n",
       "    <tr style=\"text-align: right;\">\n",
       "      <th></th>\n",
       "      <th>Service_Branch__c</th>\n",
       "      <th>count</th>\n",
       "      <th>%</th>\n",
       "    </tr>\n",
       "  </thead>\n",
       "  <tbody>\n",
       "    <tr>\n",
       "      <th>1</th>\n",
       "      <td>Army</td>\n",
       "      <td>33341</td>\n",
       "      <td>54.751622</td>\n",
       "    </tr>\n",
       "    <tr>\n",
       "      <th>4</th>\n",
       "      <td>Navy</td>\n",
       "      <td>9970</td>\n",
       "      <td>16.372444</td>\n",
       "    </tr>\n",
       "    <tr>\n",
       "      <th>0</th>\n",
       "      <td>Air Force</td>\n",
       "      <td>8543</td>\n",
       "      <td>14.029066</td>\n",
       "    </tr>\n",
       "    <tr>\n",
       "      <th>3</th>\n",
       "      <td>Marines</td>\n",
       "      <td>8482</td>\n",
       "      <td>13.928894</td>\n",
       "    </tr>\n",
       "    <tr>\n",
       "      <th>2</th>\n",
       "      <td>Coast Guard</td>\n",
       "      <td>553</td>\n",
       "      <td>0.908121</td>\n",
       "    </tr>\n",
       "    <tr>\n",
       "      <th>5</th>\n",
       "      <td>Not Applicable</td>\n",
       "      <td>6</td>\n",
       "      <td>0.009853</td>\n",
       "    </tr>\n",
       "  </tbody>\n",
       "</table>\n",
       "</div>"
      ],
      "text/plain": [
       "  Service_Branch__c  count          %\n",
       "1              Army  33341  54.751622\n",
       "4              Navy   9970  16.372444\n",
       "0         Air Force   8543  14.029066\n",
       "3           Marines   8482  13.928894\n",
       "2       Coast Guard    553   0.908121\n",
       "5    Not Applicable      6   0.009853"
      ]
     },
     "execution_count": 17,
     "metadata": {},
     "output_type": "execute_result"
    }
   ],
   "source": [
    "summary('Service_Branch__c', clean_contact_dataset)"
   ]
  },
  {
   "cell_type": "markdown",
   "metadata": {},
   "source": [
    "## 5. Last_Service_Rank"
   ]
  },
  {
   "cell_type": "code",
   "execution_count": 18,
   "metadata": {},
   "outputs": [],
   "source": [
    "# Alhasan's Code"
   ]
  },
  {
   "cell_type": "markdown",
   "metadata": {},
   "source": [
    "### Clean the data by droping all the rows with missing values"
   ]
  },
  {
   "cell_type": "code",
   "execution_count": 19,
   "metadata": {},
   "outputs": [
    {
     "name": "stdout",
     "output_type": "stream",
     "text": [
      "*** Before ***\n",
      "Number of records: 60895\n",
      "Unique Values: 27\n",
      "Null Values: 982\n",
      "Null Values %: 1.6126118728959686\n",
      "*** After ***\n",
      "Number of records: 59913\n",
      "Unique Values: 27\n",
      "Null Values: 0\n",
      "Null Values %: 0.0\n"
     ]
    },
    {
     "data": {
      "text/html": [
       "<div>\n",
       "<style scoped>\n",
       "    .dataframe tbody tr th:only-of-type {\n",
       "        vertical-align: middle;\n",
       "    }\n",
       "\n",
       "    .dataframe tbody tr th {\n",
       "        vertical-align: top;\n",
       "    }\n",
       "\n",
       "    .dataframe thead th {\n",
       "        text-align: right;\n",
       "    }\n",
       "</style>\n",
       "<table border=\"1\" class=\"dataframe\">\n",
       "  <thead>\n",
       "    <tr style=\"text-align: right;\">\n",
       "      <th></th>\n",
       "      <th>Service_Rank__c</th>\n",
       "      <th>count</th>\n",
       "      <th>%</th>\n",
       "    </tr>\n",
       "  </thead>\n",
       "  <tbody>\n",
       "    <tr>\n",
       "      <th>6</th>\n",
       "      <td>E-4</td>\n",
       "      <td>13289</td>\n",
       "      <td>22.180495</td>\n",
       "    </tr>\n",
       "    <tr>\n",
       "      <th>7</th>\n",
       "      <td>E-5</td>\n",
       "      <td>12970</td>\n",
       "      <td>21.648056</td>\n",
       "    </tr>\n",
       "    <tr>\n",
       "      <th>8</th>\n",
       "      <td>E-6</td>\n",
       "      <td>8745</td>\n",
       "      <td>14.596164</td>\n",
       "    </tr>\n",
       "    <tr>\n",
       "      <th>9</th>\n",
       "      <td>E-7</td>\n",
       "      <td>7903</td>\n",
       "      <td>13.190793</td>\n",
       "    </tr>\n",
       "    <tr>\n",
       "      <th>10</th>\n",
       "      <td>E-8</td>\n",
       "      <td>3512</td>\n",
       "      <td>5.861833</td>\n",
       "    </tr>\n",
       "    <tr>\n",
       "      <th>15</th>\n",
       "      <td>O-3</td>\n",
       "      <td>2913</td>\n",
       "      <td>4.862050</td>\n",
       "    </tr>\n",
       "    <tr>\n",
       "      <th>5</th>\n",
       "      <td>E-3</td>\n",
       "      <td>2603</td>\n",
       "      <td>4.344633</td>\n",
       "    </tr>\n",
       "    <tr>\n",
       "      <th>16</th>\n",
       "      <td>O-4</td>\n",
       "      <td>1529</td>\n",
       "      <td>2.552034</td>\n",
       "    </tr>\n",
       "    <tr>\n",
       "      <th>11</th>\n",
       "      <td>E-9</td>\n",
       "      <td>1371</td>\n",
       "      <td>2.288318</td>\n",
       "    </tr>\n",
       "    <tr>\n",
       "      <th>17</th>\n",
       "      <td>O-5</td>\n",
       "      <td>1337</td>\n",
       "      <td>2.231569</td>\n",
       "    </tr>\n",
       "    <tr>\n",
       "      <th>14</th>\n",
       "      <td>O-2</td>\n",
       "      <td>825</td>\n",
       "      <td>1.376997</td>\n",
       "    </tr>\n",
       "    <tr>\n",
       "      <th>4</th>\n",
       "      <td>E-2</td>\n",
       "      <td>565</td>\n",
       "      <td>0.943034</td>\n",
       "    </tr>\n",
       "    <tr>\n",
       "      <th>18</th>\n",
       "      <td>O-6</td>\n",
       "      <td>542</td>\n",
       "      <td>0.904645</td>\n",
       "    </tr>\n",
       "    <tr>\n",
       "      <th>24</th>\n",
       "      <td>W-3</td>\n",
       "      <td>489</td>\n",
       "      <td>0.816183</td>\n",
       "    </tr>\n",
       "    <tr>\n",
       "      <th>25</th>\n",
       "      <td>W-4</td>\n",
       "      <td>352</td>\n",
       "      <td>0.587519</td>\n",
       "    </tr>\n",
       "    <tr>\n",
       "      <th>23</th>\n",
       "      <td>W-2</td>\n",
       "      <td>340</td>\n",
       "      <td>0.567490</td>\n",
       "    </tr>\n",
       "    <tr>\n",
       "      <th>3</th>\n",
       "      <td>E-1</td>\n",
       "      <td>291</td>\n",
       "      <td>0.485704</td>\n",
       "    </tr>\n",
       "    <tr>\n",
       "      <th>13</th>\n",
       "      <td>O-1</td>\n",
       "      <td>204</td>\n",
       "      <td>0.340494</td>\n",
       "    </tr>\n",
       "    <tr>\n",
       "      <th>26</th>\n",
       "      <td>W-5</td>\n",
       "      <td>75</td>\n",
       "      <td>0.125182</td>\n",
       "    </tr>\n",
       "    <tr>\n",
       "      <th>22</th>\n",
       "      <td>W-1</td>\n",
       "      <td>39</td>\n",
       "      <td>0.065094</td>\n",
       "    </tr>\n",
       "    <tr>\n",
       "      <th>19</th>\n",
       "      <td>O-7</td>\n",
       "      <td>6</td>\n",
       "      <td>0.010015</td>\n",
       "    </tr>\n",
       "    <tr>\n",
       "      <th>20</th>\n",
       "      <td>O-8</td>\n",
       "      <td>4</td>\n",
       "      <td>0.006676</td>\n",
       "    </tr>\n",
       "    <tr>\n",
       "      <th>1</th>\n",
       "      <td>CW-3</td>\n",
       "      <td>3</td>\n",
       "      <td>0.005007</td>\n",
       "    </tr>\n",
       "    <tr>\n",
       "      <th>2</th>\n",
       "      <td>CW-4</td>\n",
       "      <td>2</td>\n",
       "      <td>0.003338</td>\n",
       "    </tr>\n",
       "    <tr>\n",
       "      <th>0</th>\n",
       "      <td>CW-2</td>\n",
       "      <td>2</td>\n",
       "      <td>0.003338</td>\n",
       "    </tr>\n",
       "    <tr>\n",
       "      <th>21</th>\n",
       "      <td>O-9</td>\n",
       "      <td>1</td>\n",
       "      <td>0.001669</td>\n",
       "    </tr>\n",
       "    <tr>\n",
       "      <th>12</th>\n",
       "      <td>E5</td>\n",
       "      <td>1</td>\n",
       "      <td>0.001669</td>\n",
       "    </tr>\n",
       "  </tbody>\n",
       "</table>\n",
       "</div>"
      ],
      "text/plain": [
       "   Service_Rank__c  count          %\n",
       "6              E-4  13289  22.180495\n",
       "7              E-5  12970  21.648056\n",
       "8              E-6   8745  14.596164\n",
       "9              E-7   7903  13.190793\n",
       "10             E-8   3512   5.861833\n",
       "15             O-3   2913   4.862050\n",
       "5              E-3   2603   4.344633\n",
       "16             O-4   1529   2.552034\n",
       "11             E-9   1371   2.288318\n",
       "17             O-5   1337   2.231569\n",
       "14             O-2    825   1.376997\n",
       "4              E-2    565   0.943034\n",
       "18             O-6    542   0.904645\n",
       "24             W-3    489   0.816183\n",
       "25             W-4    352   0.587519\n",
       "23             W-2    340   0.567490\n",
       "3              E-1    291   0.485704\n",
       "13             O-1    204   0.340494\n",
       "26             W-5     75   0.125182\n",
       "22             W-1     39   0.065094\n",
       "19             O-7      6   0.010015\n",
       "20             O-8      4   0.006676\n",
       "1             CW-3      3   0.005007\n",
       "2             CW-4      2   0.003338\n",
       "0             CW-2      2   0.003338\n",
       "21             O-9      1   0.001669\n",
       "12              E5      1   0.001669"
      ]
     },
     "execution_count": 19,
     "metadata": {},
     "output_type": "execute_result"
    }
   ],
   "source": [
    "clean_contact_dataset = drop_null('Service_Rank__c', clean_contact_dataset)\n",
    "summary('Service_Rank__c', clean_contact_dataset)"
   ]
  },
  {
   "cell_type": "markdown",
   "metadata": {},
   "source": [
    "### Adding Last_Service_Rank Column accourding to:\n",
    "1. Enlisted Personnel (E)\n",
    "2. Warrant Officers (W, CW)\n",
    "3. Commissioned Officers (O)\n",
    "\n",
    "source: https://www.infoplease.com/us/military-personnel/us-military-ranks"
   ]
  },
  {
   "cell_type": "code",
   "execution_count": 20,
   "metadata": {},
   "outputs": [],
   "source": [
    "col = clean_contact_dataset['Service_Rank__c']\n",
    "col = col.where(col.str.startswith('O') == False, \"O\")\n",
    "col = col.where(col.str.startswith('E') == False, \"E\")\n",
    "col = col.where(col.str.contains('W') == False, \"W\")\n",
    "clean_contact_dataset['Last_Service_Rank'] = col"
   ]
  },
  {
   "cell_type": "code",
   "execution_count": 21,
   "metadata": {},
   "outputs": [
    {
     "name": "stdout",
     "output_type": "stream",
     "text": [
      "*** After ***\n",
      "Number of records: 59913\n",
      "Unique Values: 3\n",
      "Null Values: 0\n",
      "Null Values %: 0.0\n"
     ]
    },
    {
     "data": {
      "text/html": [
       "<div>\n",
       "<style scoped>\n",
       "    .dataframe tbody tr th:only-of-type {\n",
       "        vertical-align: middle;\n",
       "    }\n",
       "\n",
       "    .dataframe tbody tr th {\n",
       "        vertical-align: top;\n",
       "    }\n",
       "\n",
       "    .dataframe thead th {\n",
       "        text-align: right;\n",
       "    }\n",
       "</style>\n",
       "<table border=\"1\" class=\"dataframe\">\n",
       "  <thead>\n",
       "    <tr style=\"text-align: right;\">\n",
       "      <th></th>\n",
       "      <th>Last_Service_Rank</th>\n",
       "      <th>count</th>\n",
       "      <th>%</th>\n",
       "    </tr>\n",
       "  </thead>\n",
       "  <tbody>\n",
       "    <tr>\n",
       "      <th>0</th>\n",
       "      <td>E</td>\n",
       "      <td>51250</td>\n",
       "      <td>85.540701</td>\n",
       "    </tr>\n",
       "    <tr>\n",
       "      <th>1</th>\n",
       "      <td>O</td>\n",
       "      <td>7361</td>\n",
       "      <td>12.286148</td>\n",
       "    </tr>\n",
       "    <tr>\n",
       "      <th>2</th>\n",
       "      <td>W</td>\n",
       "      <td>1302</td>\n",
       "      <td>2.173151</td>\n",
       "    </tr>\n",
       "  </tbody>\n",
       "</table>\n",
       "</div>"
      ],
      "text/plain": [
       "  Last_Service_Rank  count          %\n",
       "0                 E  51250  85.540701\n",
       "1                 O   7361  12.286148\n",
       "2                 W   1302   2.173151"
      ]
     },
     "execution_count": 21,
     "metadata": {},
     "output_type": "execute_result"
    }
   ],
   "source": [
    "summary('Last_Service_Rank', clean_contact_dataset)"
   ]
  },
  {
   "cell_type": "markdown",
   "metadata": {},
   "source": [
    "## 8. Education"
   ]
  },
  {
   "cell_type": "code",
   "execution_count": 22,
   "metadata": {},
   "outputs": [],
   "source": [
    "# Maxim's Code edited by Nameetha"
   ]
  },
  {
   "cell_type": "code",
   "execution_count": 23,
   "metadata": {},
   "outputs": [
    {
     "name": "stdout",
     "output_type": "stream",
     "text": [
      "*** Before ***\n",
      "Number of records: 59913\n",
      "Unique Values: 26\n",
      "Null Values: 6688\n",
      "Null Values %: 11.162852803231353\n",
      "*** After ***\n",
      "Number of records: 53225\n",
      "Unique Values: 26\n",
      "Null Values: 0\n",
      "Null Values %: 0.0\n"
     ]
    },
    {
     "data": {
      "text/html": [
       "<div>\n",
       "<style scoped>\n",
       "    .dataframe tbody tr th:only-of-type {\n",
       "        vertical-align: middle;\n",
       "    }\n",
       "\n",
       "    .dataframe tbody tr th {\n",
       "        vertical-align: top;\n",
       "    }\n",
       "\n",
       "    .dataframe thead th {\n",
       "        text-align: right;\n",
       "    }\n",
       "</style>\n",
       "<table border=\"1\" class=\"dataframe\">\n",
       "  <thead>\n",
       "    <tr style=\"text-align: right;\">\n",
       "      <th></th>\n",
       "      <th>Highest_Level_of_Education_Completed__c</th>\n",
       "      <th>count</th>\n",
       "      <th>%</th>\n",
       "    </tr>\n",
       "  </thead>\n",
       "  <tbody>\n",
       "    <tr>\n",
       "      <th>14</th>\n",
       "      <td>High School/GED</td>\n",
       "      <td>20912</td>\n",
       "      <td>39.289807</td>\n",
       "    </tr>\n",
       "    <tr>\n",
       "      <th>2</th>\n",
       "      <td>4 Year Degree (BA, BS, etc.)</td>\n",
       "      <td>14732</td>\n",
       "      <td>27.678722</td>\n",
       "    </tr>\n",
       "    <tr>\n",
       "      <th>0</th>\n",
       "      <td>2 Year Degree (AA, AS, etc.)</td>\n",
       "      <td>9083</td>\n",
       "      <td>17.065289</td>\n",
       "    </tr>\n",
       "    <tr>\n",
       "      <th>21</th>\n",
       "      <td>Post-Graduate Degree (MA, MS, JD, etc.)</td>\n",
       "      <td>8054</td>\n",
       "      <td>15.131987</td>\n",
       "    </tr>\n",
       "    <tr>\n",
       "      <th>9</th>\n",
       "      <td>Doctorate (PhD, MD, etc.)</td>\n",
       "      <td>340</td>\n",
       "      <td>0.638798</td>\n",
       "    </tr>\n",
       "    <tr>\n",
       "      <th>8</th>\n",
       "      <td>College/University</td>\n",
       "      <td>40</td>\n",
       "      <td>0.075153</td>\n",
       "    </tr>\n",
       "    <tr>\n",
       "      <th>6</th>\n",
       "      <td>Associate degree (A.A., A.S., etc.)</td>\n",
       "      <td>32</td>\n",
       "      <td>0.060122</td>\n",
       "    </tr>\n",
       "    <tr>\n",
       "      <th>3</th>\n",
       "      <td>4 year college</td>\n",
       "      <td>6</td>\n",
       "      <td>0.011273</td>\n",
       "    </tr>\n",
       "    <tr>\n",
       "      <th>20</th>\n",
       "      <td>Other, please specify</td>\n",
       "      <td>3</td>\n",
       "      <td>0.005636</td>\n",
       "    </tr>\n",
       "    <tr>\n",
       "      <th>1</th>\n",
       "      <td>2 year college</td>\n",
       "      <td>2</td>\n",
       "      <td>0.003758</td>\n",
       "    </tr>\n",
       "    <tr>\n",
       "      <th>19</th>\n",
       "      <td>Other</td>\n",
       "      <td>2</td>\n",
       "      <td>0.003758</td>\n",
       "    </tr>\n",
       "    <tr>\n",
       "      <th>16</th>\n",
       "      <td>Masters</td>\n",
       "      <td>2</td>\n",
       "      <td>0.003758</td>\n",
       "    </tr>\n",
       "    <tr>\n",
       "      <th>25</th>\n",
       "      <td>Vocational School</td>\n",
       "      <td>2</td>\n",
       "      <td>0.003758</td>\n",
       "    </tr>\n",
       "    <tr>\n",
       "      <th>10</th>\n",
       "      <td>Doctorite</td>\n",
       "      <td>2</td>\n",
       "      <td>0.003758</td>\n",
       "    </tr>\n",
       "    <tr>\n",
       "      <th>4</th>\n",
       "      <td>4 year college degree</td>\n",
       "      <td>2</td>\n",
       "      <td>0.003758</td>\n",
       "    </tr>\n",
       "    <tr>\n",
       "      <th>12</th>\n",
       "      <td>Graduate School</td>\n",
       "      <td>1</td>\n",
       "      <td>0.001879</td>\n",
       "    </tr>\n",
       "    <tr>\n",
       "      <th>11</th>\n",
       "      <td>Graduate Degree-MBA, Air Traffic Control Schoo...</td>\n",
       "      <td>1</td>\n",
       "      <td>0.001879</td>\n",
       "    </tr>\n",
       "    <tr>\n",
       "      <th>15</th>\n",
       "      <td>Master?s degree</td>\n",
       "      <td>1</td>\n",
       "      <td>0.001879</td>\n",
       "    </tr>\n",
       "    <tr>\n",
       "      <th>17</th>\n",
       "      <td>Medical Technical Classes</td>\n",
       "      <td>1</td>\n",
       "      <td>0.001879</td>\n",
       "    </tr>\n",
       "    <tr>\n",
       "      <th>18</th>\n",
       "      <td>New York State certified EMT -B Some college</td>\n",
       "      <td>1</td>\n",
       "      <td>0.001879</td>\n",
       "    </tr>\n",
       "    <tr>\n",
       "      <th>7</th>\n",
       "      <td>Bachelors of Science in Management of Informat...</td>\n",
       "      <td>1</td>\n",
       "      <td>0.001879</td>\n",
       "    </tr>\n",
       "    <tr>\n",
       "      <th>5</th>\n",
       "      <td>Associate Degree in Science (Computer Systems ...</td>\n",
       "      <td>1</td>\n",
       "      <td>0.001879</td>\n",
       "    </tr>\n",
       "    <tr>\n",
       "      <th>22</th>\n",
       "      <td>Some college-Now attending Rutgers University,...</td>\n",
       "      <td>1</td>\n",
       "      <td>0.001879</td>\n",
       "    </tr>\n",
       "    <tr>\n",
       "      <th>23</th>\n",
       "      <td>Supervisor Development Course Non Commission O...</td>\n",
       "      <td>1</td>\n",
       "      <td>0.001879</td>\n",
       "    </tr>\n",
       "    <tr>\n",
       "      <th>24</th>\n",
       "      <td>Technical Training</td>\n",
       "      <td>1</td>\n",
       "      <td>0.001879</td>\n",
       "    </tr>\n",
       "    <tr>\n",
       "      <th>13</th>\n",
       "      <td>HS/GED</td>\n",
       "      <td>1</td>\n",
       "      <td>0.001879</td>\n",
       "    </tr>\n",
       "  </tbody>\n",
       "</table>\n",
       "</div>"
      ],
      "text/plain": [
       "              Highest_Level_of_Education_Completed__c  count          %\n",
       "14                                    High School/GED  20912  39.289807\n",
       "2                        4 Year Degree (BA, BS, etc.)  14732  27.678722\n",
       "0                        2 Year Degree (AA, AS, etc.)   9083  17.065289\n",
       "21            Post-Graduate Degree (MA, MS, JD, etc.)   8054  15.131987\n",
       "9                           Doctorate (PhD, MD, etc.)    340   0.638798\n",
       "8                                  College/University     40   0.075153\n",
       "6                 Associate degree (A.A., A.S., etc.)     32   0.060122\n",
       "3                                      4 year college      6   0.011273\n",
       "20                              Other, please specify      3   0.005636\n",
       "1                                      2 year college      2   0.003758\n",
       "19                                              Other      2   0.003758\n",
       "16                                            Masters      2   0.003758\n",
       "25                                  Vocational School      2   0.003758\n",
       "10                                          Doctorite      2   0.003758\n",
       "4                               4 year college degree      2   0.003758\n",
       "12                                    Graduate School      1   0.001879\n",
       "11  Graduate Degree-MBA, Air Traffic Control Schoo...      1   0.001879\n",
       "15                                    Master?s degree      1   0.001879\n",
       "17                          Medical Technical Classes      1   0.001879\n",
       "18       New York State certified EMT -B Some college      1   0.001879\n",
       "7   Bachelors of Science in Management of Informat...      1   0.001879\n",
       "5   Associate Degree in Science (Computer Systems ...      1   0.001879\n",
       "22  Some college-Now attending Rutgers University,...      1   0.001879\n",
       "23  Supervisor Development Course Non Commission O...      1   0.001879\n",
       "24                                 Technical Training      1   0.001879\n",
       "13                                             HS/GED      1   0.001879"
      ]
     },
     "execution_count": 23,
     "metadata": {},
     "output_type": "execute_result"
    }
   ],
   "source": [
    "clean_contact_dataset = drop_null('Highest_Level_of_Education_Completed__c', clean_contact_dataset)\n",
    "summary('Highest_Level_of_Education_Completed__c', clean_contact_dataset)"
   ]
  },
  {
   "cell_type": "code",
   "execution_count": 24,
   "metadata": {},
   "outputs": [],
   "source": [
    "#Higher_education=['High School/GED','4 Year Degree (BA, BS, etc.)','2 Year Degree (AA, AS, etc.)','Post-Graduate Degree (MA, MS, JD, etc.','Doctorate (PhD, MD, etc.)','Post-Graduate Degree (MA, MS, JD, etc.)']\n",
    "clean_contact_dataset = clean_contact_dataset[clean_contact_dataset['Highest_Level_of_Education_Completed__c'].isin(['High School/GED','4 Year Degree (BA, BS, etc.)','2 Year Degree (AA, AS, etc.)','Post-Graduate Degree (MA, MS, JD, etc.','Doctorate (PhD, MD, etc.)','Post-Graduate Degree (MA, MS, JD, etc.)'] )]"
   ]
  },
  {
   "cell_type": "code",
   "execution_count": 25,
   "metadata": {},
   "outputs": [
    {
     "name": "stdout",
     "output_type": "stream",
     "text": [
      "*** After ***\n",
      "Number of records: 53121\n",
      "Unique Values: 5\n",
      "Null Values: 0\n",
      "Null Values %: 0.0\n"
     ]
    },
    {
     "data": {
      "text/html": [
       "<div>\n",
       "<style scoped>\n",
       "    .dataframe tbody tr th:only-of-type {\n",
       "        vertical-align: middle;\n",
       "    }\n",
       "\n",
       "    .dataframe tbody tr th {\n",
       "        vertical-align: top;\n",
       "    }\n",
       "\n",
       "    .dataframe thead th {\n",
       "        text-align: right;\n",
       "    }\n",
       "</style>\n",
       "<table border=\"1\" class=\"dataframe\">\n",
       "  <thead>\n",
       "    <tr style=\"text-align: right;\">\n",
       "      <th></th>\n",
       "      <th>Highest_Level_of_Education_Completed__c</th>\n",
       "      <th>count</th>\n",
       "      <th>%</th>\n",
       "    </tr>\n",
       "  </thead>\n",
       "  <tbody>\n",
       "    <tr>\n",
       "      <th>3</th>\n",
       "      <td>High School/GED</td>\n",
       "      <td>20912</td>\n",
       "      <td>39.366729</td>\n",
       "    </tr>\n",
       "    <tr>\n",
       "      <th>1</th>\n",
       "      <td>4 Year Degree (BA, BS, etc.)</td>\n",
       "      <td>14732</td>\n",
       "      <td>27.732912</td>\n",
       "    </tr>\n",
       "    <tr>\n",
       "      <th>0</th>\n",
       "      <td>2 Year Degree (AA, AS, etc.)</td>\n",
       "      <td>9083</td>\n",
       "      <td>17.098699</td>\n",
       "    </tr>\n",
       "    <tr>\n",
       "      <th>4</th>\n",
       "      <td>Post-Graduate Degree (MA, MS, JD, etc.)</td>\n",
       "      <td>8054</td>\n",
       "      <td>15.161612</td>\n",
       "    </tr>\n",
       "    <tr>\n",
       "      <th>2</th>\n",
       "      <td>Doctorate (PhD, MD, etc.)</td>\n",
       "      <td>340</td>\n",
       "      <td>0.640048</td>\n",
       "    </tr>\n",
       "  </tbody>\n",
       "</table>\n",
       "</div>"
      ],
      "text/plain": [
       "   Highest_Level_of_Education_Completed__c  count          %\n",
       "3                          High School/GED  20912  39.366729\n",
       "1             4 Year Degree (BA, BS, etc.)  14732  27.732912\n",
       "0             2 Year Degree (AA, AS, etc.)   9083  17.098699\n",
       "4  Post-Graduate Degree (MA, MS, JD, etc.)   8054  15.161612\n",
       "2                Doctorate (PhD, MD, etc.)    340   0.640048"
      ]
     },
     "execution_count": 25,
     "metadata": {},
     "output_type": "execute_result"
    }
   ],
   "source": [
    "summary('Highest_Level_of_Education_Completed__c', clean_contact_dataset)"
   ]
  },
  {
   "cell_type": "code",
   "execution_count": 26,
   "metadata": {},
   "outputs": [],
   "source": [
    "#Nameetha's code"
   ]
  },
  {
   "cell_type": "markdown",
   "metadata": {},
   "source": [
    "# 9. Hire_Heroes_USA_Confirmed_Hire__c"
   ]
  },
  {
   "cell_type": "code",
   "execution_count": 27,
   "metadata": {},
   "outputs": [
    {
     "name": "stdout",
     "output_type": "stream",
     "text": [
      "*** Before ***\n",
      "Number of records: 53121\n",
      "Unique Values: 2\n",
      "Null Values: 0\n",
      "Null Values %: 0.0\n",
      "*** After ***\n",
      "Number of records: 53121\n",
      "Unique Values: 2\n",
      "Null Values: 0\n",
      "Null Values %: 0.0\n"
     ]
    },
    {
     "data": {
      "text/html": [
       "<div>\n",
       "<style scoped>\n",
       "    .dataframe tbody tr th:only-of-type {\n",
       "        vertical-align: middle;\n",
       "    }\n",
       "\n",
       "    .dataframe tbody tr th {\n",
       "        vertical-align: top;\n",
       "    }\n",
       "\n",
       "    .dataframe thead th {\n",
       "        text-align: right;\n",
       "    }\n",
       "</style>\n",
       "<table border=\"1\" class=\"dataframe\">\n",
       "  <thead>\n",
       "    <tr style=\"text-align: right;\">\n",
       "      <th></th>\n",
       "      <th>Hire_Heroes_USA_Confirmed_Hire__c</th>\n",
       "      <th>count</th>\n",
       "      <th>%</th>\n",
       "    </tr>\n",
       "  </thead>\n",
       "  <tbody>\n",
       "    <tr>\n",
       "      <th>0</th>\n",
       "      <td>0</td>\n",
       "      <td>29415</td>\n",
       "      <td>55.373581</td>\n",
       "    </tr>\n",
       "    <tr>\n",
       "      <th>1</th>\n",
       "      <td>1</td>\n",
       "      <td>23706</td>\n",
       "      <td>44.626419</td>\n",
       "    </tr>\n",
       "  </tbody>\n",
       "</table>\n",
       "</div>"
      ],
      "text/plain": [
       "   Hire_Heroes_USA_Confirmed_Hire__c  count          %\n",
       "0                                  0  29415  55.373581\n",
       "1                                  1  23706  44.626419"
      ]
     },
     "execution_count": 27,
     "metadata": {},
     "output_type": "execute_result"
    }
   ],
   "source": [
    "clean_contact_dataset = drop_null('Hire_Heroes_USA_Confirmed_Hire__c', clean_contact_dataset)\n",
    "summary('Hire_Heroes_USA_Confirmed_Hire__c', clean_contact_dataset)"
   ]
  },
  {
   "cell_type": "markdown",
   "metadata": {},
   "source": [
    "# 10. Used_Volunteer_Services__c"
   ]
  },
  {
   "cell_type": "code",
   "execution_count": 28,
   "metadata": {},
   "outputs": [
    {
     "name": "stdout",
     "output_type": "stream",
     "text": [
      "*** Before ***\n",
      "Number of records: 53121\n",
      "Unique Values: 2\n",
      "Null Values: 65\n",
      "Null Values %: 0.12236215432691402\n",
      "*** After ***\n",
      "Number of records: 53056\n",
      "Unique Values: 2\n",
      "Null Values: 0\n",
      "Null Values %: 0.0\n"
     ]
    },
    {
     "data": {
      "text/html": [
       "<div>\n",
       "<style scoped>\n",
       "    .dataframe tbody tr th:only-of-type {\n",
       "        vertical-align: middle;\n",
       "    }\n",
       "\n",
       "    .dataframe tbody tr th {\n",
       "        vertical-align: top;\n",
       "    }\n",
       "\n",
       "    .dataframe thead th {\n",
       "        text-align: right;\n",
       "    }\n",
       "</style>\n",
       "<table border=\"1\" class=\"dataframe\">\n",
       "  <thead>\n",
       "    <tr style=\"text-align: right;\">\n",
       "      <th></th>\n",
       "      <th>Used_Volunteer_Services__c</th>\n",
       "      <th>count</th>\n",
       "      <th>%</th>\n",
       "    </tr>\n",
       "  </thead>\n",
       "  <tbody>\n",
       "    <tr>\n",
       "      <th>0</th>\n",
       "      <td>0.0</td>\n",
       "      <td>48704</td>\n",
       "      <td>91.797346</td>\n",
       "    </tr>\n",
       "    <tr>\n",
       "      <th>1</th>\n",
       "      <td>1.0</td>\n",
       "      <td>4352</td>\n",
       "      <td>8.202654</td>\n",
       "    </tr>\n",
       "  </tbody>\n",
       "</table>\n",
       "</div>"
      ],
      "text/plain": [
       "   Used_Volunteer_Services__c  count          %\n",
       "0                         0.0  48704  91.797346\n",
       "1                         1.0   4352   8.202654"
      ]
     },
     "execution_count": 28,
     "metadata": {},
     "output_type": "execute_result"
    }
   ],
   "source": [
    "clean_contact_dataset = drop_null('Used_Volunteer_Services__c', clean_contact_dataset)\n",
    "summary('Used_Volunteer_Services__c', clean_contact_dataset)"
   ]
  },
  {
   "cell_type": "markdown",
   "metadata": {},
   "source": [
    "# 11. VCF_Participant__c"
   ]
  },
  {
   "cell_type": "code",
   "execution_count": 29,
   "metadata": {},
   "outputs": [
    {
     "name": "stdout",
     "output_type": "stream",
     "text": [
      "*** Before ***\n",
      "Number of records: 53056\n",
      "Unique Values: 2\n",
      "Null Values: 0\n",
      "Null Values %: 0.0\n",
      "*** After ***\n",
      "Number of records: 53056\n",
      "Unique Values: 2\n",
      "Null Values: 0\n",
      "Null Values %: 0.0\n"
     ]
    },
    {
     "data": {
      "text/html": [
       "<div>\n",
       "<style scoped>\n",
       "    .dataframe tbody tr th:only-of-type {\n",
       "        vertical-align: middle;\n",
       "    }\n",
       "\n",
       "    .dataframe tbody tr th {\n",
       "        vertical-align: top;\n",
       "    }\n",
       "\n",
       "    .dataframe thead th {\n",
       "        text-align: right;\n",
       "    }\n",
       "</style>\n",
       "<table border=\"1\" class=\"dataframe\">\n",
       "  <thead>\n",
       "    <tr style=\"text-align: right;\">\n",
       "      <th></th>\n",
       "      <th>VCF_Participant__c</th>\n",
       "      <th>count</th>\n",
       "      <th>%</th>\n",
       "    </tr>\n",
       "  </thead>\n",
       "  <tbody>\n",
       "    <tr>\n",
       "      <th>0</th>\n",
       "      <td>0.0</td>\n",
       "      <td>52159</td>\n",
       "      <td>98.309334</td>\n",
       "    </tr>\n",
       "    <tr>\n",
       "      <th>1</th>\n",
       "      <td>1.0</td>\n",
       "      <td>897</td>\n",
       "      <td>1.690666</td>\n",
       "    </tr>\n",
       "  </tbody>\n",
       "</table>\n",
       "</div>"
      ],
      "text/plain": [
       "   VCF_Participant__c  count          %\n",
       "0                 0.0  52159  98.309334\n",
       "1                 1.0    897   1.690666"
      ]
     },
     "execution_count": 29,
     "metadata": {},
     "output_type": "execute_result"
    }
   ],
   "source": [
    "clean_contact_dataset = drop_null('VCF_Participant__c', clean_contact_dataset)\n",
    "summary('VCF_Participant__c', clean_contact_dataset)"
   ]
  },
  {
   "cell_type": "markdown",
   "metadata": {},
   "source": [
    "# 12. Virtual_Workshop_Participant__c"
   ]
  },
  {
   "cell_type": "code",
   "execution_count": 30,
   "metadata": {},
   "outputs": [
    {
     "name": "stdout",
     "output_type": "stream",
     "text": [
      "*** Before ***\n",
      "Number of records: 53056\n",
      "Unique Values: 2\n",
      "Null Values: 0\n",
      "Null Values %: 0.0\n",
      "*** After ***\n",
      "Number of records: 53056\n",
      "Unique Values: 2\n",
      "Null Values: 0\n",
      "Null Values %: 0.0\n"
     ]
    },
    {
     "data": {
      "text/html": [
       "<div>\n",
       "<style scoped>\n",
       "    .dataframe tbody tr th:only-of-type {\n",
       "        vertical-align: middle;\n",
       "    }\n",
       "\n",
       "    .dataframe tbody tr th {\n",
       "        vertical-align: top;\n",
       "    }\n",
       "\n",
       "    .dataframe thead th {\n",
       "        text-align: right;\n",
       "    }\n",
       "</style>\n",
       "<table border=\"1\" class=\"dataframe\">\n",
       "  <thead>\n",
       "    <tr style=\"text-align: right;\">\n",
       "      <th></th>\n",
       "      <th>Virtual_Workshop_Participant__c</th>\n",
       "      <th>count</th>\n",
       "      <th>%</th>\n",
       "    </tr>\n",
       "  </thead>\n",
       "  <tbody>\n",
       "    <tr>\n",
       "      <th>0</th>\n",
       "      <td>0.0</td>\n",
       "      <td>52903</td>\n",
       "      <td>99.711625</td>\n",
       "    </tr>\n",
       "    <tr>\n",
       "      <th>1</th>\n",
       "      <td>1.0</td>\n",
       "      <td>153</td>\n",
       "      <td>0.288375</td>\n",
       "    </tr>\n",
       "  </tbody>\n",
       "</table>\n",
       "</div>"
      ],
      "text/plain": [
       "   Virtual_Workshop_Participant__c  count          %\n",
       "0                              0.0  52903  99.711625\n",
       "1                              1.0    153   0.288375"
      ]
     },
     "execution_count": 30,
     "metadata": {},
     "output_type": "execute_result"
    }
   ],
   "source": [
    "clean_contact_dataset = drop_null('Virtual_Workshop_Participant__c', clean_contact_dataset)\n",
    "summary('Virtual_Workshop_Participant__c', clean_contact_dataset)"
   ]
  },
  {
   "cell_type": "markdown",
   "metadata": {},
   "source": [
    "# 13. On_Job_Board__c "
   ]
  },
  {
   "cell_type": "code",
   "execution_count": 31,
   "metadata": {},
   "outputs": [
    {
     "name": "stdout",
     "output_type": "stream",
     "text": [
      "*** Before ***\n",
      "Number of records: 53056\n",
      "Unique Values: 2\n",
      "Null Values: 0\n",
      "Null Values %: 0.0\n",
      "*** After ***\n",
      "Number of records: 53056\n",
      "Unique Values: 2\n",
      "Null Values: 0\n",
      "Null Values %: 0.0\n"
     ]
    },
    {
     "data": {
      "text/html": [
       "<div>\n",
       "<style scoped>\n",
       "    .dataframe tbody tr th:only-of-type {\n",
       "        vertical-align: middle;\n",
       "    }\n",
       "\n",
       "    .dataframe tbody tr th {\n",
       "        vertical-align: top;\n",
       "    }\n",
       "\n",
       "    .dataframe thead th {\n",
       "        text-align: right;\n",
       "    }\n",
       "</style>\n",
       "<table border=\"1\" class=\"dataframe\">\n",
       "  <thead>\n",
       "    <tr style=\"text-align: right;\">\n",
       "      <th></th>\n",
       "      <th>On_Job_Board__c</th>\n",
       "      <th>count</th>\n",
       "      <th>%</th>\n",
       "    </tr>\n",
       "  </thead>\n",
       "  <tbody>\n",
       "    <tr>\n",
       "      <th>0</th>\n",
       "      <td>0.0</td>\n",
       "      <td>46781</td>\n",
       "      <td>88.172874</td>\n",
       "    </tr>\n",
       "    <tr>\n",
       "      <th>1</th>\n",
       "      <td>1.0</td>\n",
       "      <td>6275</td>\n",
       "      <td>11.827126</td>\n",
       "    </tr>\n",
       "  </tbody>\n",
       "</table>\n",
       "</div>"
      ],
      "text/plain": [
       "   On_Job_Board__c  count          %\n",
       "0              0.0  46781  88.172874\n",
       "1              1.0   6275  11.827126"
      ]
     },
     "execution_count": 31,
     "metadata": {},
     "output_type": "execute_result"
    }
   ],
   "source": [
    "clean_contact_dataset = drop_null('On_Job_Board__c', clean_contact_dataset)\n",
    "summary('On_Job_Board__c', clean_contact_dataset)"
   ]
  },
  {
   "cell_type": "markdown",
   "metadata": {},
   "source": [
    "# 14. Used_Federal_Services__c"
   ]
  },
  {
   "cell_type": "code",
   "execution_count": 32,
   "metadata": {},
   "outputs": [
    {
     "name": "stdout",
     "output_type": "stream",
     "text": [
      "*** Before ***\n",
      "Number of records: 53056\n",
      "Unique Values: 2\n",
      "Null Values: 0\n",
      "Null Values %: 0.0\n",
      "*** After ***\n",
      "Number of records: 53056\n",
      "Unique Values: 2\n",
      "Null Values: 0\n",
      "Null Values %: 0.0\n"
     ]
    },
    {
     "data": {
      "text/html": [
       "<div>\n",
       "<style scoped>\n",
       "    .dataframe tbody tr th:only-of-type {\n",
       "        vertical-align: middle;\n",
       "    }\n",
       "\n",
       "    .dataframe tbody tr th {\n",
       "        vertical-align: top;\n",
       "    }\n",
       "\n",
       "    .dataframe thead th {\n",
       "        text-align: right;\n",
       "    }\n",
       "</style>\n",
       "<table border=\"1\" class=\"dataframe\">\n",
       "  <thead>\n",
       "    <tr style=\"text-align: right;\">\n",
       "      <th></th>\n",
       "      <th>Used_Federal_Services__c</th>\n",
       "      <th>count</th>\n",
       "      <th>%</th>\n",
       "    </tr>\n",
       "  </thead>\n",
       "  <tbody>\n",
       "    <tr>\n",
       "      <th>0</th>\n",
       "      <td>0.0</td>\n",
       "      <td>50865</td>\n",
       "      <td>95.870401</td>\n",
       "    </tr>\n",
       "    <tr>\n",
       "      <th>1</th>\n",
       "      <td>1.0</td>\n",
       "      <td>2191</td>\n",
       "      <td>4.129599</td>\n",
       "    </tr>\n",
       "  </tbody>\n",
       "</table>\n",
       "</div>"
      ],
      "text/plain": [
       "   Used_Federal_Services__c  count          %\n",
       "0                       0.0  50865  95.870401\n",
       "1                       1.0   2191   4.129599"
      ]
     },
     "execution_count": 32,
     "metadata": {},
     "output_type": "execute_result"
    }
   ],
   "source": [
    "clean_contact_dataset = drop_null('Used_Federal_Services__c', clean_contact_dataset)\n",
    "summary('Used_Federal_Services__c', clean_contact_dataset)"
   ]
  },
  {
   "cell_type": "markdown",
   "metadata": {},
   "source": [
    "# 15. Interview_Skills__c"
   ]
  },
  {
   "cell_type": "code",
   "execution_count": 33,
   "metadata": {},
   "outputs": [
    {
     "name": "stdout",
     "output_type": "stream",
     "text": [
      "*** Before ***\n",
      "Number of records: 53056\n",
      "Unique Values: 2\n",
      "Null Values: 0\n",
      "Null Values %: 0.0\n",
      "*** After ***\n",
      "Number of records: 53056\n",
      "Unique Values: 2\n",
      "Null Values: 0\n",
      "Null Values %: 0.0\n"
     ]
    },
    {
     "data": {
      "text/html": [
       "<div>\n",
       "<style scoped>\n",
       "    .dataframe tbody tr th:only-of-type {\n",
       "        vertical-align: middle;\n",
       "    }\n",
       "\n",
       "    .dataframe tbody tr th {\n",
       "        vertical-align: top;\n",
       "    }\n",
       "\n",
       "    .dataframe thead th {\n",
       "        text-align: right;\n",
       "    }\n",
       "</style>\n",
       "<table border=\"1\" class=\"dataframe\">\n",
       "  <thead>\n",
       "    <tr style=\"text-align: right;\">\n",
       "      <th></th>\n",
       "      <th>Interview_Skills__c</th>\n",
       "      <th>count</th>\n",
       "      <th>%</th>\n",
       "    </tr>\n",
       "  </thead>\n",
       "  <tbody>\n",
       "    <tr>\n",
       "      <th>1</th>\n",
       "      <td>1</td>\n",
       "      <td>35543</td>\n",
       "      <td>66.991481</td>\n",
       "    </tr>\n",
       "    <tr>\n",
       "      <th>0</th>\n",
       "      <td>0</td>\n",
       "      <td>17513</td>\n",
       "      <td>33.008519</td>\n",
       "    </tr>\n",
       "  </tbody>\n",
       "</table>\n",
       "</div>"
      ],
      "text/plain": [
       "   Interview_Skills__c  count          %\n",
       "1                    1  35543  66.991481\n",
       "0                    0  17513  33.008519"
      ]
     },
     "execution_count": 33,
     "metadata": {},
     "output_type": "execute_result"
    }
   ],
   "source": [
    "clean_contact_dataset = drop_null('Interview_Skills__c', clean_contact_dataset)\n",
    "summary('Interview_Skills__c', clean_contact_dataset)"
   ]
  },
  {
   "cell_type": "markdown",
   "metadata": {},
   "source": [
    "# 16. Created_LinkedIn_account__c"
   ]
  },
  {
   "cell_type": "code",
   "execution_count": 34,
   "metadata": {},
   "outputs": [
    {
     "name": "stdout",
     "output_type": "stream",
     "text": [
      "*** Before ***\n",
      "Number of records: 53056\n",
      "Unique Values: 2\n",
      "Null Values: 0\n",
      "Null Values %: 0.0\n",
      "*** After ***\n",
      "Number of records: 53056\n",
      "Unique Values: 2\n",
      "Null Values: 0\n",
      "Null Values %: 0.0\n"
     ]
    },
    {
     "data": {
      "text/html": [
       "<div>\n",
       "<style scoped>\n",
       "    .dataframe tbody tr th:only-of-type {\n",
       "        vertical-align: middle;\n",
       "    }\n",
       "\n",
       "    .dataframe tbody tr th {\n",
       "        vertical-align: top;\n",
       "    }\n",
       "\n",
       "    .dataframe thead th {\n",
       "        text-align: right;\n",
       "    }\n",
       "</style>\n",
       "<table border=\"1\" class=\"dataframe\">\n",
       "  <thead>\n",
       "    <tr style=\"text-align: right;\">\n",
       "      <th></th>\n",
       "      <th>Created_LinkedIn_account__c</th>\n",
       "      <th>count</th>\n",
       "      <th>%</th>\n",
       "    </tr>\n",
       "  </thead>\n",
       "  <tbody>\n",
       "    <tr>\n",
       "      <th>1</th>\n",
       "      <td>1</td>\n",
       "      <td>28623</td>\n",
       "      <td>53.948658</td>\n",
       "    </tr>\n",
       "    <tr>\n",
       "      <th>0</th>\n",
       "      <td>0</td>\n",
       "      <td>24433</td>\n",
       "      <td>46.051342</td>\n",
       "    </tr>\n",
       "  </tbody>\n",
       "</table>\n",
       "</div>"
      ],
      "text/plain": [
       "   Created_LinkedIn_account__c  count          %\n",
       "1                            1  28623  53.948658\n",
       "0                            0  24433  46.051342"
      ]
     },
     "execution_count": 34,
     "metadata": {},
     "output_type": "execute_result"
    }
   ],
   "source": [
    "clean_contact_dataset = drop_null('Created_LinkedIn_account__c', clean_contact_dataset)\n",
    "summary('Created_LinkedIn_account__c', clean_contact_dataset)"
   ]
  },
  {
   "cell_type": "markdown",
   "metadata": {},
   "source": [
    "# 17. Value_Proposition__c"
   ]
  },
  {
   "cell_type": "code",
   "execution_count": 35,
   "metadata": {},
   "outputs": [
    {
     "name": "stdout",
     "output_type": "stream",
     "text": [
      "*** Before ***\n",
      "Number of records: 53056\n",
      "Unique Values: 2\n",
      "Null Values: 0\n",
      "Null Values %: 0.0\n",
      "*** After ***\n",
      "Number of records: 53056\n",
      "Unique Values: 2\n",
      "Null Values: 0\n",
      "Null Values %: 0.0\n"
     ]
    },
    {
     "data": {
      "text/html": [
       "<div>\n",
       "<style scoped>\n",
       "    .dataframe tbody tr th:only-of-type {\n",
       "        vertical-align: middle;\n",
       "    }\n",
       "\n",
       "    .dataframe tbody tr th {\n",
       "        vertical-align: top;\n",
       "    }\n",
       "\n",
       "    .dataframe thead th {\n",
       "        text-align: right;\n",
       "    }\n",
       "</style>\n",
       "<table border=\"1\" class=\"dataframe\">\n",
       "  <thead>\n",
       "    <tr style=\"text-align: right;\">\n",
       "      <th></th>\n",
       "      <th>Value_Proposition__c</th>\n",
       "      <th>count</th>\n",
       "      <th>%</th>\n",
       "    </tr>\n",
       "  </thead>\n",
       "  <tbody>\n",
       "    <tr>\n",
       "      <th>1</th>\n",
       "      <td>1.0</td>\n",
       "      <td>36552</td>\n",
       "      <td>68.893245</td>\n",
       "    </tr>\n",
       "    <tr>\n",
       "      <th>0</th>\n",
       "      <td>0.0</td>\n",
       "      <td>16504</td>\n",
       "      <td>31.106755</td>\n",
       "    </tr>\n",
       "  </tbody>\n",
       "</table>\n",
       "</div>"
      ],
      "text/plain": [
       "   Value_Proposition__c  count          %\n",
       "1                   1.0  36552  68.893245\n",
       "0                   0.0  16504  31.106755"
      ]
     },
     "execution_count": 35,
     "metadata": {},
     "output_type": "execute_result"
    }
   ],
   "source": [
    "clean_contact_dataset = drop_null('Value_Proposition__c', clean_contact_dataset)\n",
    "summary('Value_Proposition__c', clean_contact_dataset)"
   ]
  },
  {
   "cell_type": "markdown",
   "metadata": {},
   "source": [
    "# 18. Hired_with_EO_assistance__c"
   ]
  },
  {
   "cell_type": "code",
   "execution_count": 36,
   "metadata": {},
   "outputs": [
    {
     "name": "stdout",
     "output_type": "stream",
     "text": [
      "*** Before ***\n",
      "Number of records: 53056\n",
      "Unique Values: 2\n",
      "Null Values: 0\n",
      "Null Values %: 0.0\n",
      "*** After ***\n",
      "Number of records: 53056\n",
      "Unique Values: 2\n",
      "Null Values: 0\n",
      "Null Values %: 0.0\n"
     ]
    },
    {
     "data": {
      "text/html": [
       "<div>\n",
       "<style scoped>\n",
       "    .dataframe tbody tr th:only-of-type {\n",
       "        vertical-align: middle;\n",
       "    }\n",
       "\n",
       "    .dataframe tbody tr th {\n",
       "        vertical-align: top;\n",
       "    }\n",
       "\n",
       "    .dataframe thead th {\n",
       "        text-align: right;\n",
       "    }\n",
       "</style>\n",
       "<table border=\"1\" class=\"dataframe\">\n",
       "  <thead>\n",
       "    <tr style=\"text-align: right;\">\n",
       "      <th></th>\n",
       "      <th>Hired_with_EO_assistance__c</th>\n",
       "      <th>count</th>\n",
       "      <th>%</th>\n",
       "    </tr>\n",
       "  </thead>\n",
       "  <tbody>\n",
       "    <tr>\n",
       "      <th>0</th>\n",
       "      <td>0.0</td>\n",
       "      <td>53031</td>\n",
       "      <td>99.95288</td>\n",
       "    </tr>\n",
       "    <tr>\n",
       "      <th>1</th>\n",
       "      <td>1.0</td>\n",
       "      <td>25</td>\n",
       "      <td>0.04712</td>\n",
       "    </tr>\n",
       "  </tbody>\n",
       "</table>\n",
       "</div>"
      ],
      "text/plain": [
       "   Hired_with_EO_assistance__c  count         %\n",
       "0                          0.0  53031  99.95288\n",
       "1                          1.0     25   0.04712"
      ]
     },
     "execution_count": 36,
     "metadata": {},
     "output_type": "execute_result"
    }
   ],
   "source": [
    "clean_contact_dataset = drop_null('Hired_with_EO_assistance__c', clean_contact_dataset)\n",
    "summary('Hired_with_EO_assistance__c', clean_contact_dataset)"
   ]
  },
  {
   "cell_type": "markdown",
   "metadata": {},
   "source": [
    "# 19. Updated_Resume_Complete__c"
   ]
  },
  {
   "cell_type": "code",
   "execution_count": 37,
   "metadata": {},
   "outputs": [
    {
     "name": "stdout",
     "output_type": "stream",
     "text": [
      "*** Before ***\n",
      "Number of records: 53056\n",
      "Unique Values: 2\n",
      "Null Values: 0\n",
      "Null Values %: 0.0\n",
      "*** After ***\n",
      "Number of records: 53056\n",
      "Unique Values: 2\n",
      "Null Values: 0\n",
      "Null Values %: 0.0\n"
     ]
    },
    {
     "data": {
      "text/html": [
       "<div>\n",
       "<style scoped>\n",
       "    .dataframe tbody tr th:only-of-type {\n",
       "        vertical-align: middle;\n",
       "    }\n",
       "\n",
       "    .dataframe tbody tr th {\n",
       "        vertical-align: top;\n",
       "    }\n",
       "\n",
       "    .dataframe thead th {\n",
       "        text-align: right;\n",
       "    }\n",
       "</style>\n",
       "<table border=\"1\" class=\"dataframe\">\n",
       "  <thead>\n",
       "    <tr style=\"text-align: right;\">\n",
       "      <th></th>\n",
       "      <th>Updated_Resume_Complete__c</th>\n",
       "      <th>count</th>\n",
       "      <th>%</th>\n",
       "    </tr>\n",
       "  </thead>\n",
       "  <tbody>\n",
       "    <tr>\n",
       "      <th>0</th>\n",
       "      <td>0.0</td>\n",
       "      <td>51699</td>\n",
       "      <td>97.442325</td>\n",
       "    </tr>\n",
       "    <tr>\n",
       "      <th>1</th>\n",
       "      <td>1.0</td>\n",
       "      <td>1357</td>\n",
       "      <td>2.557675</td>\n",
       "    </tr>\n",
       "  </tbody>\n",
       "</table>\n",
       "</div>"
      ],
      "text/plain": [
       "   Updated_Resume_Complete__c  count          %\n",
       "0                         0.0  51699  97.442325\n",
       "1                         1.0   1357   2.557675"
      ]
     },
     "execution_count": 37,
     "metadata": {},
     "output_type": "execute_result"
    }
   ],
   "source": [
    "clean_contact_dataset = drop_null('Updated_Resume_Complete__c', clean_contact_dataset)\n",
    "summary('Updated_Resume_Complete__c', clean_contact_dataset)"
   ]
  },
  {
   "cell_type": "markdown",
   "metadata": {},
   "source": [
    "# 20. HHUSA_Workshop_Participant__c"
   ]
  },
  {
   "cell_type": "code",
   "execution_count": 38,
   "metadata": {},
   "outputs": [
    {
     "name": "stdout",
     "output_type": "stream",
     "text": [
      "*** Before ***\n",
      "Number of records: 53056\n",
      "Unique Values: 2\n",
      "Null Values: 0\n",
      "Null Values %: 0.0\n",
      "*** After ***\n",
      "Number of records: 53056\n",
      "Unique Values: 2\n",
      "Null Values: 0\n",
      "Null Values %: 0.0\n"
     ]
    },
    {
     "data": {
      "text/html": [
       "<div>\n",
       "<style scoped>\n",
       "    .dataframe tbody tr th:only-of-type {\n",
       "        vertical-align: middle;\n",
       "    }\n",
       "\n",
       "    .dataframe tbody tr th {\n",
       "        vertical-align: top;\n",
       "    }\n",
       "\n",
       "    .dataframe thead th {\n",
       "        text-align: right;\n",
       "    }\n",
       "</style>\n",
       "<table border=\"1\" class=\"dataframe\">\n",
       "  <thead>\n",
       "    <tr style=\"text-align: right;\">\n",
       "      <th></th>\n",
       "      <th>HHUSA_Workshop_Participant__c</th>\n",
       "      <th>count</th>\n",
       "      <th>%</th>\n",
       "    </tr>\n",
       "  </thead>\n",
       "  <tbody>\n",
       "    <tr>\n",
       "      <th>0</th>\n",
       "      <td>0</td>\n",
       "      <td>48866</td>\n",
       "      <td>92.102684</td>\n",
       "    </tr>\n",
       "    <tr>\n",
       "      <th>1</th>\n",
       "      <td>1</td>\n",
       "      <td>4190</td>\n",
       "      <td>7.897316</td>\n",
       "    </tr>\n",
       "  </tbody>\n",
       "</table>\n",
       "</div>"
      ],
      "text/plain": [
       "   HHUSA_Workshop_Participant__c  count          %\n",
       "0                              0  48866  92.102684\n",
       "1                              1   4190   7.897316"
      ]
     },
     "execution_count": 38,
     "metadata": {},
     "output_type": "execute_result"
    }
   ],
   "source": [
    "clean_contact_dataset = drop_null('HHUSA_Workshop_Participant__c', clean_contact_dataset)\n",
    "summary('HHUSA_Workshop_Participant__c', clean_contact_dataset)"
   ]
  },
  {
   "cell_type": "markdown",
   "metadata": {},
   "source": [
    "# 21. O2O_Initial_Assessment_Complete__c"
   ]
  },
  {
   "cell_type": "code",
   "execution_count": 39,
   "metadata": {},
   "outputs": [
    {
     "name": "stdout",
     "output_type": "stream",
     "text": [
      "*** Before ***\n",
      "Number of records: 53056\n",
      "Unique Values: 2\n",
      "Null Values: 0\n",
      "Null Values %: 0.0\n",
      "*** After ***\n",
      "Number of records: 53056\n",
      "Unique Values: 2\n",
      "Null Values: 0\n",
      "Null Values %: 0.0\n"
     ]
    },
    {
     "data": {
      "text/html": [
       "<div>\n",
       "<style scoped>\n",
       "    .dataframe tbody tr th:only-of-type {\n",
       "        vertical-align: middle;\n",
       "    }\n",
       "\n",
       "    .dataframe tbody tr th {\n",
       "        vertical-align: top;\n",
       "    }\n",
       "\n",
       "    .dataframe thead th {\n",
       "        text-align: right;\n",
       "    }\n",
       "</style>\n",
       "<table border=\"1\" class=\"dataframe\">\n",
       "  <thead>\n",
       "    <tr style=\"text-align: right;\">\n",
       "      <th></th>\n",
       "      <th>O2O_Initial_Assessment_Complete__c</th>\n",
       "      <th>count</th>\n",
       "      <th>%</th>\n",
       "    </tr>\n",
       "  </thead>\n",
       "  <tbody>\n",
       "    <tr>\n",
       "      <th>0</th>\n",
       "      <td>0.0</td>\n",
       "      <td>52677</td>\n",
       "      <td>99.28566</td>\n",
       "    </tr>\n",
       "    <tr>\n",
       "      <th>1</th>\n",
       "      <td>1.0</td>\n",
       "      <td>379</td>\n",
       "      <td>0.71434</td>\n",
       "    </tr>\n",
       "  </tbody>\n",
       "</table>\n",
       "</div>"
      ],
      "text/plain": [
       "   O2O_Initial_Assessment_Complete__c  count         %\n",
       "0                                 0.0  52677  99.28566\n",
       "1                                 1.0    379   0.71434"
      ]
     },
     "execution_count": 39,
     "metadata": {},
     "output_type": "execute_result"
    }
   ],
   "source": [
    "clean_contact_dataset = drop_null('O2O_Initial_Assessment_Complete__c', clean_contact_dataset)\n",
    "summary('O2O_Initial_Assessment_Complete__c', clean_contact_dataset)"
   ]
  },
  {
   "cell_type": "markdown",
   "metadata": {},
   "source": [
    "# 22.  Is_the_Initial_Intake_Assessment_done__c"
   ]
  },
  {
   "cell_type": "code",
   "execution_count": 40,
   "metadata": {},
   "outputs": [
    {
     "name": "stdout",
     "output_type": "stream",
     "text": [
      "*** Before ***\n",
      "Number of records: 53056\n",
      "Unique Values: 2\n",
      "Null Values: 0\n",
      "Null Values %: 0.0\n",
      "*** After ***\n",
      "Number of records: 53056\n",
      "Unique Values: 2\n",
      "Null Values: 0\n",
      "Null Values %: 0.0\n"
     ]
    },
    {
     "data": {
      "text/html": [
       "<div>\n",
       "<style scoped>\n",
       "    .dataframe tbody tr th:only-of-type {\n",
       "        vertical-align: middle;\n",
       "    }\n",
       "\n",
       "    .dataframe tbody tr th {\n",
       "        vertical-align: top;\n",
       "    }\n",
       "\n",
       "    .dataframe thead th {\n",
       "        text-align: right;\n",
       "    }\n",
       "</style>\n",
       "<table border=\"1\" class=\"dataframe\">\n",
       "  <thead>\n",
       "    <tr style=\"text-align: right;\">\n",
       "      <th></th>\n",
       "      <th>Is_the_Initial_Intake_Assessment_done__c</th>\n",
       "      <th>count</th>\n",
       "      <th>%</th>\n",
       "    </tr>\n",
       "  </thead>\n",
       "  <tbody>\n",
       "    <tr>\n",
       "      <th>1</th>\n",
       "      <td>1</td>\n",
       "      <td>45654</td>\n",
       "      <td>86.048703</td>\n",
       "    </tr>\n",
       "    <tr>\n",
       "      <th>0</th>\n",
       "      <td>0</td>\n",
       "      <td>7402</td>\n",
       "      <td>13.951297</td>\n",
       "    </tr>\n",
       "  </tbody>\n",
       "</table>\n",
       "</div>"
      ],
      "text/plain": [
       "   Is_the_Initial_Intake_Assessment_done__c  count          %\n",
       "1                                         1  45654  86.048703\n",
       "0                                         0   7402  13.951297"
      ]
     },
     "execution_count": 40,
     "metadata": {},
     "output_type": "execute_result"
    }
   ],
   "source": [
    "clean_contact_dataset = drop_null('Is_the_Initial_Intake_Assessment_done__c', clean_contact_dataset)\n",
    "summary('Is_the_Initial_Intake_Assessment_done__c', clean_contact_dataset)"
   ]
  },
  {
   "cell_type": "markdown",
   "metadata": {},
   "source": [
    "# 23.Permission_to_use_job_board_granted__c"
   ]
  },
  {
   "cell_type": "code",
   "execution_count": 41,
   "metadata": {},
   "outputs": [
    {
     "name": "stdout",
     "output_type": "stream",
     "text": [
      "*** Before ***\n",
      "Number of records: 53056\n",
      "Unique Values: 2\n",
      "Null Values: 0\n",
      "Null Values %: 0.0\n",
      "*** After ***\n",
      "Number of records: 53056\n",
      "Unique Values: 2\n",
      "Null Values: 0\n",
      "Null Values %: 0.0\n"
     ]
    },
    {
     "data": {
      "text/html": [
       "<div>\n",
       "<style scoped>\n",
       "    .dataframe tbody tr th:only-of-type {\n",
       "        vertical-align: middle;\n",
       "    }\n",
       "\n",
       "    .dataframe tbody tr th {\n",
       "        vertical-align: top;\n",
       "    }\n",
       "\n",
       "    .dataframe thead th {\n",
       "        text-align: right;\n",
       "    }\n",
       "</style>\n",
       "<table border=\"1\" class=\"dataframe\">\n",
       "  <thead>\n",
       "    <tr style=\"text-align: right;\">\n",
       "      <th></th>\n",
       "      <th>Permission_to_use_job_board_granted__c</th>\n",
       "      <th>count</th>\n",
       "      <th>%</th>\n",
       "    </tr>\n",
       "  </thead>\n",
       "  <tbody>\n",
       "    <tr>\n",
       "      <th>0</th>\n",
       "      <td>0</td>\n",
       "      <td>47494</td>\n",
       "      <td>89.516737</td>\n",
       "    </tr>\n",
       "    <tr>\n",
       "      <th>1</th>\n",
       "      <td>1</td>\n",
       "      <td>5562</td>\n",
       "      <td>10.483263</td>\n",
       "    </tr>\n",
       "  </tbody>\n",
       "</table>\n",
       "</div>"
      ],
      "text/plain": [
       "   Permission_to_use_job_board_granted__c  count          %\n",
       "0                                       0  47494  89.516737\n",
       "1                                       1   5562  10.483263"
      ]
     },
     "execution_count": 41,
     "metadata": {},
     "output_type": "execute_result"
    }
   ],
   "source": [
    "clean_contact_dataset = drop_null('Permission_to_use_job_board_granted__c', clean_contact_dataset)\n",
    "summary('Permission_to_use_job_board_granted__c', clean_contact_dataset)"
   ]
  },
  {
   "cell_type": "markdown",
   "metadata": {},
   "source": [
    "# 24. Finalized_HHUSA_revised_resume_on_file__c"
   ]
  },
  {
   "cell_type": "code",
   "execution_count": 42,
   "metadata": {},
   "outputs": [
    {
     "name": "stdout",
     "output_type": "stream",
     "text": [
      "*** Before ***\n",
      "Number of records: 53056\n",
      "Unique Values: 2\n",
      "Null Values: 0\n",
      "Null Values %: 0.0\n",
      "*** After ***\n",
      "Number of records: 53056\n",
      "Unique Values: 2\n",
      "Null Values: 0\n",
      "Null Values %: 0.0\n"
     ]
    },
    {
     "data": {
      "text/html": [
       "<div>\n",
       "<style scoped>\n",
       "    .dataframe tbody tr th:only-of-type {\n",
       "        vertical-align: middle;\n",
       "    }\n",
       "\n",
       "    .dataframe tbody tr th {\n",
       "        vertical-align: top;\n",
       "    }\n",
       "\n",
       "    .dataframe thead th {\n",
       "        text-align: right;\n",
       "    }\n",
       "</style>\n",
       "<table border=\"1\" class=\"dataframe\">\n",
       "  <thead>\n",
       "    <tr style=\"text-align: right;\">\n",
       "      <th></th>\n",
       "      <th>Finalized_HHUSA_revised_resume_on_file__c</th>\n",
       "      <th>count</th>\n",
       "      <th>%</th>\n",
       "    </tr>\n",
       "  </thead>\n",
       "  <tbody>\n",
       "    <tr>\n",
       "      <th>1</th>\n",
       "      <td>1</td>\n",
       "      <td>42145</td>\n",
       "      <td>79.434937</td>\n",
       "    </tr>\n",
       "    <tr>\n",
       "      <th>0</th>\n",
       "      <td>0</td>\n",
       "      <td>10911</td>\n",
       "      <td>20.565063</td>\n",
       "    </tr>\n",
       "  </tbody>\n",
       "</table>\n",
       "</div>"
      ],
      "text/plain": [
       "   Finalized_HHUSA_revised_resume_on_file__c  count          %\n",
       "1                                          1  42145  79.434937\n",
       "0                                          0  10911  20.565063"
      ]
     },
     "execution_count": 42,
     "metadata": {},
     "output_type": "execute_result"
    }
   ],
   "source": [
    "clean_contact_dataset = drop_null('Finalized_HHUSA_revised_resume_on_file__c', clean_contact_dataset)\n",
    "summary('Finalized_HHUSA_revised_resume_on_file__c', clean_contact_dataset)"
   ]
  },
  {
   "cell_type": "markdown",
   "metadata": {},
   "source": [
    "# 25.Resume_Tailoring_Tips__c"
   ]
  },
  {
   "cell_type": "code",
   "execution_count": 43,
   "metadata": {},
   "outputs": [
    {
     "name": "stdout",
     "output_type": "stream",
     "text": [
      "*** Before ***\n",
      "Number of records: 53056\n",
      "Unique Values: 2\n",
      "Null Values: 0\n",
      "Null Values %: 0.0\n",
      "*** After ***\n",
      "Number of records: 53056\n",
      "Unique Values: 2\n",
      "Null Values: 0\n",
      "Null Values %: 0.0\n"
     ]
    },
    {
     "data": {
      "text/html": [
       "<div>\n",
       "<style scoped>\n",
       "    .dataframe tbody tr th:only-of-type {\n",
       "        vertical-align: middle;\n",
       "    }\n",
       "\n",
       "    .dataframe tbody tr th {\n",
       "        vertical-align: top;\n",
       "    }\n",
       "\n",
       "    .dataframe thead th {\n",
       "        text-align: right;\n",
       "    }\n",
       "</style>\n",
       "<table border=\"1\" class=\"dataframe\">\n",
       "  <thead>\n",
       "    <tr style=\"text-align: right;\">\n",
       "      <th></th>\n",
       "      <th>Resume_Tailoring_Tips__c</th>\n",
       "      <th>count</th>\n",
       "      <th>%</th>\n",
       "    </tr>\n",
       "  </thead>\n",
       "  <tbody>\n",
       "    <tr>\n",
       "      <th>0</th>\n",
       "      <td>0.0</td>\n",
       "      <td>37446</td>\n",
       "      <td>70.578257</td>\n",
       "    </tr>\n",
       "    <tr>\n",
       "      <th>1</th>\n",
       "      <td>1.0</td>\n",
       "      <td>15610</td>\n",
       "      <td>29.421743</td>\n",
       "    </tr>\n",
       "  </tbody>\n",
       "</table>\n",
       "</div>"
      ],
      "text/plain": [
       "   Resume_Tailoring_Tips__c  count          %\n",
       "0                       0.0  37446  70.578257\n",
       "1                       1.0  15610  29.421743"
      ]
     },
     "execution_count": 43,
     "metadata": {},
     "output_type": "execute_result"
    }
   ],
   "source": [
    "clean_contact_dataset = drop_null('Resume_Tailoring_Tips__c', clean_contact_dataset)\n",
    "summary('Resume_Tailoring_Tips__c', clean_contact_dataset)"
   ]
  },
  {
   "cell_type": "markdown",
   "metadata": {},
   "source": [
    "# 26. Resume_Completed_By__c"
   ]
  },
  {
   "cell_type": "code",
   "execution_count": 44,
   "metadata": {},
   "outputs": [
    {
     "name": "stdout",
     "output_type": "stream",
     "text": [
      "*** Before ***\n",
      "Number of records: 53056\n",
      "Unique Values: 171\n",
      "Null Values: 11309\n",
      "Null Values %: 21.315214113389626\n",
      "*** After ***\n",
      "Number of records: 41747\n",
      "Unique Values: 171\n",
      "Null Values: 0\n",
      "Null Values %: 0.0\n"
     ]
    },
    {
     "data": {
      "text/html": [
       "<div>\n",
       "<style scoped>\n",
       "    .dataframe tbody tr th:only-of-type {\n",
       "        vertical-align: middle;\n",
       "    }\n",
       "\n",
       "    .dataframe tbody tr th {\n",
       "        vertical-align: top;\n",
       "    }\n",
       "\n",
       "    .dataframe thead th {\n",
       "        text-align: right;\n",
       "    }\n",
       "</style>\n",
       "<table border=\"1\" class=\"dataframe\">\n",
       "  <thead>\n",
       "    <tr style=\"text-align: right;\">\n",
       "      <th></th>\n",
       "      <th>Resume_Completed_By__c</th>\n",
       "      <th>count</th>\n",
       "      <th>%</th>\n",
       "    </tr>\n",
       "  </thead>\n",
       "  <tbody>\n",
       "    <tr>\n",
       "      <th>103</th>\n",
       "      <td>00550000001YDwUAAW</td>\n",
       "      <td>1108</td>\n",
       "      <td>2.654083</td>\n",
       "    </tr>\n",
       "    <tr>\n",
       "      <th>106</th>\n",
       "      <td>00550000001zVqjAAE</td>\n",
       "      <td>1086</td>\n",
       "      <td>2.601385</td>\n",
       "    </tr>\n",
       "    <tr>\n",
       "      <th>151</th>\n",
       "      <td>005500000042X0TAAU</td>\n",
       "      <td>822</td>\n",
       "      <td>1.969004</td>\n",
       "    </tr>\n",
       "    <tr>\n",
       "      <th>148</th>\n",
       "      <td>005500000042TrsAAE</td>\n",
       "      <td>794</td>\n",
       "      <td>1.901933</td>\n",
       "    </tr>\n",
       "    <tr>\n",
       "      <th>32</th>\n",
       "      <td>00538000004lJWlAAM</td>\n",
       "      <td>793</td>\n",
       "      <td>1.899538</td>\n",
       "    </tr>\n",
       "    <tr>\n",
       "      <th>155</th>\n",
       "      <td>005500000042c6HAAQ</td>\n",
       "      <td>762</td>\n",
       "      <td>1.825281</td>\n",
       "    </tr>\n",
       "    <tr>\n",
       "      <th>145</th>\n",
       "      <td>005500000042GlIAAU</td>\n",
       "      <td>697</td>\n",
       "      <td>1.669581</td>\n",
       "    </tr>\n",
       "    <tr>\n",
       "      <th>29</th>\n",
       "      <td>00538000004lAqgAAE</td>\n",
       "      <td>693</td>\n",
       "      <td>1.660000</td>\n",
       "    </tr>\n",
       "    <tr>\n",
       "      <th>20</th>\n",
       "      <td>00538000004SiwfAAC</td>\n",
       "      <td>675</td>\n",
       "      <td>1.616883</td>\n",
       "    </tr>\n",
       "    <tr>\n",
       "      <th>16</th>\n",
       "      <td>00538000004SivDAAS</td>\n",
       "      <td>651</td>\n",
       "      <td>1.559393</td>\n",
       "    </tr>\n",
       "    <tr>\n",
       "      <th>122</th>\n",
       "      <td>00550000002dthaAAA</td>\n",
       "      <td>631</td>\n",
       "      <td>1.511486</td>\n",
       "    </tr>\n",
       "    <tr>\n",
       "      <th>26</th>\n",
       "      <td>00538000004kgfTAAQ</td>\n",
       "      <td>617</td>\n",
       "      <td>1.477951</td>\n",
       "    </tr>\n",
       "    <tr>\n",
       "      <th>25</th>\n",
       "      <td>00538000004kgf9AAA</td>\n",
       "      <td>615</td>\n",
       "      <td>1.473160</td>\n",
       "    </tr>\n",
       "    <tr>\n",
       "      <th>30</th>\n",
       "      <td>00538000004lAqqAAE</td>\n",
       "      <td>610</td>\n",
       "      <td>1.461183</td>\n",
       "    </tr>\n",
       "    <tr>\n",
       "      <th>128</th>\n",
       "      <td>00550000003HPPXAA4</td>\n",
       "      <td>581</td>\n",
       "      <td>1.391717</td>\n",
       "    </tr>\n",
       "    <tr>\n",
       "      <th>15</th>\n",
       "      <td>005380000044j39AAA</td>\n",
       "      <td>570</td>\n",
       "      <td>1.365368</td>\n",
       "    </tr>\n",
       "    <tr>\n",
       "      <th>31</th>\n",
       "      <td>00538000004lJWkAAM</td>\n",
       "      <td>568</td>\n",
       "      <td>1.360577</td>\n",
       "    </tr>\n",
       "    <tr>\n",
       "      <th>45</th>\n",
       "      <td>00538000004sKV8AAM</td>\n",
       "      <td>558</td>\n",
       "      <td>1.336623</td>\n",
       "    </tr>\n",
       "    <tr>\n",
       "      <th>33</th>\n",
       "      <td>00538000004lJWmAAM</td>\n",
       "      <td>515</td>\n",
       "      <td>1.233622</td>\n",
       "    </tr>\n",
       "    <tr>\n",
       "      <th>34</th>\n",
       "      <td>00538000004lJWnAAM</td>\n",
       "      <td>499</td>\n",
       "      <td>1.195295</td>\n",
       "    </tr>\n",
       "    <tr>\n",
       "      <th>132</th>\n",
       "      <td>00550000003HPRrAAO</td>\n",
       "      <td>498</td>\n",
       "      <td>1.192900</td>\n",
       "    </tr>\n",
       "    <tr>\n",
       "      <th>28</th>\n",
       "      <td>00538000004l7NHAAY</td>\n",
       "      <td>497</td>\n",
       "      <td>1.190505</td>\n",
       "    </tr>\n",
       "    <tr>\n",
       "      <th>116</th>\n",
       "      <td>00550000002ME8LAAW</td>\n",
       "      <td>489</td>\n",
       "      <td>1.171342</td>\n",
       "    </tr>\n",
       "    <tr>\n",
       "      <th>158</th>\n",
       "      <td>005500000042pkoAAA</td>\n",
       "      <td>483</td>\n",
       "      <td>1.156969</td>\n",
       "    </tr>\n",
       "    <tr>\n",
       "      <th>47</th>\n",
       "      <td>00538000004scF3AAI</td>\n",
       "      <td>476</td>\n",
       "      <td>1.140202</td>\n",
       "    </tr>\n",
       "    <tr>\n",
       "      <th>50</th>\n",
       "      <td>00538000004scG1AAI</td>\n",
       "      <td>456</td>\n",
       "      <td>1.092294</td>\n",
       "    </tr>\n",
       "    <tr>\n",
       "      <th>149</th>\n",
       "      <td>005500000042TrxAAE</td>\n",
       "      <td>433</td>\n",
       "      <td>1.037200</td>\n",
       "    </tr>\n",
       "    <tr>\n",
       "      <th>52</th>\n",
       "      <td>00538000004suLxAAI</td>\n",
       "      <td>424</td>\n",
       "      <td>1.015642</td>\n",
       "    </tr>\n",
       "    <tr>\n",
       "      <th>139</th>\n",
       "      <td>00550000003KNnDAAW</td>\n",
       "      <td>423</td>\n",
       "      <td>1.013246</td>\n",
       "    </tr>\n",
       "    <tr>\n",
       "      <th>64</th>\n",
       "      <td>00538000005F2ADAA0</td>\n",
       "      <td>407</td>\n",
       "      <td>0.974920</td>\n",
       "    </tr>\n",
       "  </tbody>\n",
       "</table>\n",
       "</div>"
      ],
      "text/plain": [
       "    Resume_Completed_By__c  count         %\n",
       "103     00550000001YDwUAAW   1108  2.654083\n",
       "106     00550000001zVqjAAE   1086  2.601385\n",
       "151     005500000042X0TAAU    822  1.969004\n",
       "148     005500000042TrsAAE    794  1.901933\n",
       "32      00538000004lJWlAAM    793  1.899538\n",
       "155     005500000042c6HAAQ    762  1.825281\n",
       "145     005500000042GlIAAU    697  1.669581\n",
       "29      00538000004lAqgAAE    693  1.660000\n",
       "20      00538000004SiwfAAC    675  1.616883\n",
       "16      00538000004SivDAAS    651  1.559393\n",
       "122     00550000002dthaAAA    631  1.511486\n",
       "26      00538000004kgfTAAQ    617  1.477951\n",
       "25      00538000004kgf9AAA    615  1.473160\n",
       "30      00538000004lAqqAAE    610  1.461183\n",
       "128     00550000003HPPXAA4    581  1.391717\n",
       "15      005380000044j39AAA    570  1.365368\n",
       "31      00538000004lJWkAAM    568  1.360577\n",
       "45      00538000004sKV8AAM    558  1.336623\n",
       "33      00538000004lJWmAAM    515  1.233622\n",
       "34      00538000004lJWnAAM    499  1.195295\n",
       "132     00550000003HPRrAAO    498  1.192900\n",
       "28      00538000004l7NHAAY    497  1.190505\n",
       "116     00550000002ME8LAAW    489  1.171342\n",
       "158     005500000042pkoAAA    483  1.156969\n",
       "47      00538000004scF3AAI    476  1.140202\n",
       "50      00538000004scG1AAI    456  1.092294\n",
       "149     005500000042TrxAAE    433  1.037200\n",
       "52      00538000004suLxAAI    424  1.015642\n",
       "139     00550000003KNnDAAW    423  1.013246\n",
       "64      00538000005F2ADAA0    407  0.974920"
      ]
     },
     "execution_count": 44,
     "metadata": {},
     "output_type": "execute_result"
    }
   ],
   "source": [
    "clean_contact_dataset = drop_null('Resume_Completed_By__c', clean_contact_dataset)\n",
    "summary('Resume_Completed_By__c', clean_contact_dataset)\n",
    "\n"
   ]
  },
  {
   "cell_type": "markdown",
   "metadata": {},
   "source": [
    "# Hire_Info Features "
   ]
  },
  {
   "cell_type": "markdown",
   "metadata": {},
   "source": [
    "# 27. Hired_but_still_active_and_looking__c_y"
   ]
  },
  {
   "cell_type": "code",
   "execution_count": 45,
   "metadata": {},
   "outputs": [
    {
     "name": "stdout",
     "output_type": "stream",
     "text": [
      "*** Before ***\n",
      "Number of records: 30754\n",
      "Unique Values: 2\n",
      "Null Values: 0\n",
      "Null Values %: 0.0\n",
      "*** After ***\n",
      "Number of records: 30754\n",
      "Unique Values: 2\n",
      "Null Values: 0\n",
      "Null Values %: 0.0\n"
     ]
    },
    {
     "data": {
      "text/html": [
       "<div>\n",
       "<style scoped>\n",
       "    .dataframe tbody tr th:only-of-type {\n",
       "        vertical-align: middle;\n",
       "    }\n",
       "\n",
       "    .dataframe tbody tr th {\n",
       "        vertical-align: top;\n",
       "    }\n",
       "\n",
       "    .dataframe thead th {\n",
       "        text-align: right;\n",
       "    }\n",
       "</style>\n",
       "<table border=\"1\" class=\"dataframe\">\n",
       "  <thead>\n",
       "    <tr style=\"text-align: right;\">\n",
       "      <th></th>\n",
       "      <th>Hired_but_still_active_and_looking__c</th>\n",
       "      <th>count</th>\n",
       "      <th>%</th>\n",
       "    </tr>\n",
       "  </thead>\n",
       "  <tbody>\n",
       "    <tr>\n",
       "      <th>0</th>\n",
       "      <td>0</td>\n",
       "      <td>26875</td>\n",
       "      <td>87.387007</td>\n",
       "    </tr>\n",
       "    <tr>\n",
       "      <th>1</th>\n",
       "      <td>1</td>\n",
       "      <td>3879</td>\n",
       "      <td>12.612993</td>\n",
       "    </tr>\n",
       "  </tbody>\n",
       "</table>\n",
       "</div>"
      ],
      "text/plain": [
       "   Hired_but_still_active_and_looking__c  count          %\n",
       "0                                      0  26875  87.387007\n",
       "1                                      1   3879  12.612993"
      ]
     },
     "execution_count": 45,
     "metadata": {},
     "output_type": "execute_result"
    }
   ],
   "source": [
    "clean_Hireinfo_dataset = drop_null('Hired_but_still_active_and_looking__c', Hireinfo_dataset)\n",
    "summary('Hired_but_still_active_and_looking__c', clean_Hireinfo_dataset)"
   ]
  },
  {
   "cell_type": "markdown",
   "metadata": {},
   "source": [
    "# 28. PIM_Approved__c"
   ]
  },
  {
   "cell_type": "code",
   "execution_count": 46,
   "metadata": {},
   "outputs": [
    {
     "name": "stdout",
     "output_type": "stream",
     "text": [
      "*** Before ***\n",
      "Number of records: 30754\n",
      "Unique Values: 2\n",
      "Null Values: 0\n",
      "Null Values %: 0.0\n",
      "*** After ***\n",
      "Number of records: 30754\n",
      "Unique Values: 2\n",
      "Null Values: 0\n",
      "Null Values %: 0.0\n"
     ]
    },
    {
     "data": {
      "text/html": [
       "<div>\n",
       "<style scoped>\n",
       "    .dataframe tbody tr th:only-of-type {\n",
       "        vertical-align: middle;\n",
       "    }\n",
       "\n",
       "    .dataframe tbody tr th {\n",
       "        vertical-align: top;\n",
       "    }\n",
       "\n",
       "    .dataframe thead th {\n",
       "        text-align: right;\n",
       "    }\n",
       "</style>\n",
       "<table border=\"1\" class=\"dataframe\">\n",
       "  <thead>\n",
       "    <tr style=\"text-align: right;\">\n",
       "      <th></th>\n",
       "      <th>PIM_Approved__c</th>\n",
       "      <th>count</th>\n",
       "      <th>%</th>\n",
       "    </tr>\n",
       "  </thead>\n",
       "  <tbody>\n",
       "    <tr>\n",
       "      <th>1</th>\n",
       "      <td>1</td>\n",
       "      <td>28709</td>\n",
       "      <td>93.350458</td>\n",
       "    </tr>\n",
       "    <tr>\n",
       "      <th>0</th>\n",
       "      <td>0</td>\n",
       "      <td>2045</td>\n",
       "      <td>6.649542</td>\n",
       "    </tr>\n",
       "  </tbody>\n",
       "</table>\n",
       "</div>"
      ],
      "text/plain": [
       "   PIM_Approved__c  count          %\n",
       "1                1  28709  93.350458\n",
       "0                0   2045   6.649542"
      ]
     },
     "execution_count": 46,
     "metadata": {},
     "output_type": "execute_result"
    }
   ],
   "source": [
    "clean_Hireinfo_dataset = drop_null('PIM_Approved__c', clean_Hireinfo_dataset)\n",
    "summary('PIM_Approved__c', clean_Hireinfo_dataset)"
   ]
  },
  {
   "cell_type": "markdown",
   "metadata": {},
   "source": [
    "# 30 Confirmed_Hired_Date__c"
   ]
  },
  {
   "cell_type": "code",
   "execution_count": 47,
   "metadata": {},
   "outputs": [
    {
     "name": "stdout",
     "output_type": "stream",
     "text": [
      "*** Before ***\n",
      "Number of records: 30754\n",
      "Unique Values: 2179\n",
      "Null Values: 18\n",
      "Null Values %: 0.058528971841061324\n",
      "*** After ***\n",
      "Number of records: 30736\n",
      "Unique Values: 2179\n",
      "Null Values: 0\n",
      "Null Values %: 0.0\n"
     ]
    },
    {
     "data": {
      "text/html": [
       "<div>\n",
       "<style scoped>\n",
       "    .dataframe tbody tr th:only-of-type {\n",
       "        vertical-align: middle;\n",
       "    }\n",
       "\n",
       "    .dataframe tbody tr th {\n",
       "        vertical-align: top;\n",
       "    }\n",
       "\n",
       "    .dataframe thead th {\n",
       "        text-align: right;\n",
       "    }\n",
       "</style>\n",
       "<table border=\"1\" class=\"dataframe\">\n",
       "  <thead>\n",
       "    <tr style=\"text-align: right;\">\n",
       "      <th></th>\n",
       "      <th>Confirmed_Hired_Date__c</th>\n",
       "      <th>count</th>\n",
       "      <th>%</th>\n",
       "    </tr>\n",
       "  </thead>\n",
       "  <tbody>\n",
       "    <tr>\n",
       "      <th>1124</th>\n",
       "      <td>4/13/2018 0:00</td>\n",
       "      <td>81</td>\n",
       "      <td>0.263535</td>\n",
       "    </tr>\n",
       "    <tr>\n",
       "      <th>1162</th>\n",
       "      <td>4/20/2018 0:00</td>\n",
       "      <td>80</td>\n",
       "      <td>0.260281</td>\n",
       "    </tr>\n",
       "    <tr>\n",
       "      <th>2014</th>\n",
       "      <td>9/13/2018 0:00</td>\n",
       "      <td>68</td>\n",
       "      <td>0.221239</td>\n",
       "    </tr>\n",
       "    <tr>\n",
       "      <th>2068</th>\n",
       "      <td>9/20/2018 0:00</td>\n",
       "      <td>67</td>\n",
       "      <td>0.217985</td>\n",
       "    </tr>\n",
       "    <tr>\n",
       "      <th>205</th>\n",
       "      <td>10/12/2018 0:00</td>\n",
       "      <td>64</td>\n",
       "      <td>0.208225</td>\n",
       "    </tr>\n",
       "    <tr>\n",
       "      <th>428</th>\n",
       "      <td>11/15/2018 0:00</td>\n",
       "      <td>63</td>\n",
       "      <td>0.204971</td>\n",
       "    </tr>\n",
       "    <tr>\n",
       "      <th>1595</th>\n",
       "      <td>6/5/2017 0:00</td>\n",
       "      <td>63</td>\n",
       "      <td>0.204971</td>\n",
       "    </tr>\n",
       "    <tr>\n",
       "      <th>1985</th>\n",
       "      <td>9/1/2017 0:00</td>\n",
       "      <td>63</td>\n",
       "      <td>0.204971</td>\n",
       "    </tr>\n",
       "    <tr>\n",
       "      <th>133</th>\n",
       "      <td>1/3/2017 0:00</td>\n",
       "      <td>62</td>\n",
       "      <td>0.201718</td>\n",
       "    </tr>\n",
       "    <tr>\n",
       "      <th>435</th>\n",
       "      <td>11/16/2018 0:00</td>\n",
       "      <td>62</td>\n",
       "      <td>0.201718</td>\n",
       "    </tr>\n",
       "    <tr>\n",
       "      <th>565</th>\n",
       "      <td>12/1/2017 0:00</td>\n",
       "      <td>61</td>\n",
       "      <td>0.198464</td>\n",
       "    </tr>\n",
       "    <tr>\n",
       "      <th>1118</th>\n",
       "      <td>4/12/2018 0:00</td>\n",
       "      <td>61</td>\n",
       "      <td>0.198464</td>\n",
       "    </tr>\n",
       "    <tr>\n",
       "      <th>2073</th>\n",
       "      <td>9/21/2018 0:00</td>\n",
       "      <td>61</td>\n",
       "      <td>0.198464</td>\n",
       "    </tr>\n",
       "    <tr>\n",
       "      <th>1</th>\n",
       "      <td>1/1/2010 0:00</td>\n",
       "      <td>60</td>\n",
       "      <td>0.195211</td>\n",
       "    </tr>\n",
       "    <tr>\n",
       "      <th>177</th>\n",
       "      <td>1/9/2017 0:00</td>\n",
       "      <td>60</td>\n",
       "      <td>0.195211</td>\n",
       "    </tr>\n",
       "    <tr>\n",
       "      <th>1050</th>\n",
       "      <td>3/30/2018 0:00</td>\n",
       "      <td>60</td>\n",
       "      <td>0.195211</td>\n",
       "    </tr>\n",
       "    <tr>\n",
       "      <th>1238</th>\n",
       "      <td>4/5/2018 0:00</td>\n",
       "      <td>60</td>\n",
       "      <td>0.195211</td>\n",
       "    </tr>\n",
       "    <tr>\n",
       "      <th>572</th>\n",
       "      <td>12/10/2018 0:00</td>\n",
       "      <td>59</td>\n",
       "      <td>0.191957</td>\n",
       "    </tr>\n",
       "    <tr>\n",
       "      <th>1138</th>\n",
       "      <td>4/16/2018 0:00</td>\n",
       "      <td>59</td>\n",
       "      <td>0.191957</td>\n",
       "    </tr>\n",
       "    <tr>\n",
       "      <th>2020</th>\n",
       "      <td>9/14/2018 0:00</td>\n",
       "      <td>58</td>\n",
       "      <td>0.188704</td>\n",
       "    </tr>\n",
       "    <tr>\n",
       "      <th>65</th>\n",
       "      <td>1/19/2018 0:00</td>\n",
       "      <td>56</td>\n",
       "      <td>0.182197</td>\n",
       "    </tr>\n",
       "    <tr>\n",
       "      <th>516</th>\n",
       "      <td>11/30/2018 0:00</td>\n",
       "      <td>56</td>\n",
       "      <td>0.182197</td>\n",
       "    </tr>\n",
       "    <tr>\n",
       "      <th>1167</th>\n",
       "      <td>4/21/2017 0:00</td>\n",
       "      <td>55</td>\n",
       "      <td>0.178943</td>\n",
       "    </tr>\n",
       "    <tr>\n",
       "      <th>622</th>\n",
       "      <td>12/18/2018 0:00</td>\n",
       "      <td>54</td>\n",
       "      <td>0.175690</td>\n",
       "    </tr>\n",
       "    <tr>\n",
       "      <th>725</th>\n",
       "      <td>12/7/2018 0:00</td>\n",
       "      <td>54</td>\n",
       "      <td>0.175690</td>\n",
       "    </tr>\n",
       "    <tr>\n",
       "      <th>1054</th>\n",
       "      <td>3/31/2017 0:00</td>\n",
       "      <td>54</td>\n",
       "      <td>0.175690</td>\n",
       "    </tr>\n",
       "    <tr>\n",
       "      <th>1535</th>\n",
       "      <td>6/23/2017 0:00</td>\n",
       "      <td>54</td>\n",
       "      <td>0.175690</td>\n",
       "    </tr>\n",
       "    <tr>\n",
       "      <th>1608</th>\n",
       "      <td>6/7/2017 0:00</td>\n",
       "      <td>54</td>\n",
       "      <td>0.175690</td>\n",
       "    </tr>\n",
       "    <tr>\n",
       "      <th>2120</th>\n",
       "      <td>9/28/2018 0:00</td>\n",
       "      <td>54</td>\n",
       "      <td>0.175690</td>\n",
       "    </tr>\n",
       "    <tr>\n",
       "      <th>74</th>\n",
       "      <td>1/2/2019 0:00</td>\n",
       "      <td>53</td>\n",
       "      <td>0.172436</td>\n",
       "    </tr>\n",
       "  </tbody>\n",
       "</table>\n",
       "</div>"
      ],
      "text/plain": [
       "     Confirmed_Hired_Date__c  count         %\n",
       "1124          4/13/2018 0:00     81  0.263535\n",
       "1162          4/20/2018 0:00     80  0.260281\n",
       "2014          9/13/2018 0:00     68  0.221239\n",
       "2068          9/20/2018 0:00     67  0.217985\n",
       "205          10/12/2018 0:00     64  0.208225\n",
       "428          11/15/2018 0:00     63  0.204971\n",
       "1595           6/5/2017 0:00     63  0.204971\n",
       "1985           9/1/2017 0:00     63  0.204971\n",
       "133            1/3/2017 0:00     62  0.201718\n",
       "435          11/16/2018 0:00     62  0.201718\n",
       "565           12/1/2017 0:00     61  0.198464\n",
       "1118          4/12/2018 0:00     61  0.198464\n",
       "2073          9/21/2018 0:00     61  0.198464\n",
       "1              1/1/2010 0:00     60  0.195211\n",
       "177            1/9/2017 0:00     60  0.195211\n",
       "1050          3/30/2018 0:00     60  0.195211\n",
       "1238           4/5/2018 0:00     60  0.195211\n",
       "572          12/10/2018 0:00     59  0.191957\n",
       "1138          4/16/2018 0:00     59  0.191957\n",
       "2020          9/14/2018 0:00     58  0.188704\n",
       "65            1/19/2018 0:00     56  0.182197\n",
       "516          11/30/2018 0:00     56  0.182197\n",
       "1167          4/21/2017 0:00     55  0.178943\n",
       "622          12/18/2018 0:00     54  0.175690\n",
       "725           12/7/2018 0:00     54  0.175690\n",
       "1054          3/31/2017 0:00     54  0.175690\n",
       "1535          6/23/2017 0:00     54  0.175690\n",
       "1608           6/7/2017 0:00     54  0.175690\n",
       "2120          9/28/2018 0:00     54  0.175690\n",
       "74             1/2/2019 0:00     53  0.172436"
      ]
     },
     "execution_count": 47,
     "metadata": {},
     "output_type": "execute_result"
    }
   ],
   "source": [
    "clean_Hireinfo_dataset = drop_null('Confirmed_Hired_Date__c', clean_Hireinfo_dataset)\n",
    "summary('Confirmed_Hired_Date__c', clean_Hireinfo_dataset)"
   ]
  },
  {
   "cell_type": "code",
   "execution_count": 48,
   "metadata": {},
   "outputs": [
    {
     "name": "stdout",
     "output_type": "stream",
     "text": [
      "*** Before ***\n",
      "Number of records: 30736\n",
      "Unique Values: 2\n",
      "Null Values: 0\n",
      "Null Values %: 0.0\n",
      "*** After ***\n",
      "Number of records: 30736\n",
      "Unique Values: 2\n",
      "Null Values: 0\n",
      "Null Values %: 0.0\n"
     ]
    },
    {
     "data": {
      "text/html": [
       "<div>\n",
       "<style scoped>\n",
       "    .dataframe tbody tr th:only-of-type {\n",
       "        vertical-align: middle;\n",
       "    }\n",
       "\n",
       "    .dataframe tbody tr th {\n",
       "        vertical-align: top;\n",
       "    }\n",
       "\n",
       "    .dataframe thead th {\n",
       "        text-align: right;\n",
       "    }\n",
       "</style>\n",
       "<table border=\"1\" class=\"dataframe\">\n",
       "  <thead>\n",
       "    <tr style=\"text-align: right;\">\n",
       "      <th></th>\n",
       "      <th>Revised_Resume_Used_to_Apply_for_Job__c</th>\n",
       "      <th>count</th>\n",
       "      <th>%</th>\n",
       "    </tr>\n",
       "  </thead>\n",
       "  <tbody>\n",
       "    <tr>\n",
       "      <th>1</th>\n",
       "      <td>1</td>\n",
       "      <td>27322</td>\n",
       "      <td>88.892504</td>\n",
       "    </tr>\n",
       "    <tr>\n",
       "      <th>0</th>\n",
       "      <td>0</td>\n",
       "      <td>3414</td>\n",
       "      <td>11.107496</td>\n",
       "    </tr>\n",
       "  </tbody>\n",
       "</table>\n",
       "</div>"
      ],
      "text/plain": [
       "   Revised_Resume_Used_to_Apply_for_Job__c  count          %\n",
       "1                                        1  27322  88.892504\n",
       "0                                        0   3414  11.107496"
      ]
     },
     "execution_count": 48,
     "metadata": {},
     "output_type": "execute_result"
    }
   ],
   "source": [
    "clean_Hireinfo_dataset = drop_null('Revised_Resume_Used_to_Apply_for_Job__c', clean_Hireinfo_dataset)\n",
    "summary('Revised_Resume_Used_to_Apply_for_Job__c', clean_Hireinfo_dataset)"
   ]
  },
  {
   "cell_type": "code",
   "execution_count": 49,
   "metadata": {},
   "outputs": [
    {
     "data": {
      "text/plain": [
       "0"
      ]
     },
     "execution_count": 49,
     "metadata": {},
     "output_type": "execute_result"
    }
   ],
   "source": [
    "clean_Hireinfo_dataset[\"Revised_Resume_Used_to_Apply_for_Job__c\"].isna().sum()"
   ]
  },
  {
   "cell_type": "markdown",
   "metadata": {},
   "source": [
    "# Merging contact and Hire info Data using Left Outer Join"
   ]
  },
  {
   "cell_type": "code",
   "execution_count": 50,
   "metadata": {},
   "outputs": [],
   "source": [
    "merged_data=pd.merge(clean_contact_dataset, clean_Hireinfo_dataset, left_on='Id', right_on='Client_Name__c',how='left')"
   ]
  },
  {
   "cell_type": "code",
   "execution_count": 51,
   "metadata": {},
   "outputs": [
    {
     "data": {
      "text/plain": [
       "(41928, 426)"
      ]
     },
     "execution_count": 51,
     "metadata": {},
     "output_type": "execute_result"
    }
   ],
   "source": [
    "merged_data.shape"
   ]
  },
  {
   "cell_type": "code",
   "execution_count": 52,
   "metadata": {},
   "outputs": [
    {
     "name": "stdout",
     "output_type": "stream",
     "text": [
      "*** Before ***\n",
      "Number of records: 41928\n",
      "Unique Values: 2\n",
      "Null Values: 21693\n",
      "Null Values %: 51.73869490555237\n",
      "*** After ***\n",
      "Number of records: 20235\n",
      "Unique Values: 2\n",
      "Null Values: 0\n",
      "Null Values %: 0.0\n"
     ]
    },
    {
     "data": {
      "text/html": [
       "<div>\n",
       "<style scoped>\n",
       "    .dataframe tbody tr th:only-of-type {\n",
       "        vertical-align: middle;\n",
       "    }\n",
       "\n",
       "    .dataframe tbody tr th {\n",
       "        vertical-align: top;\n",
       "    }\n",
       "\n",
       "    .dataframe thead th {\n",
       "        text-align: right;\n",
       "    }\n",
       "</style>\n",
       "<table border=\"1\" class=\"dataframe\">\n",
       "  <thead>\n",
       "    <tr style=\"text-align: right;\">\n",
       "      <th></th>\n",
       "      <th>Revised_Resume_Used_to_Apply_for_Job__c_x</th>\n",
       "      <th>count</th>\n",
       "      <th>%</th>\n",
       "    </tr>\n",
       "  </thead>\n",
       "  <tbody>\n",
       "    <tr>\n",
       "      <th>1</th>\n",
       "      <td>Yes</td>\n",
       "      <td>18751</td>\n",
       "      <td>92.666172</td>\n",
       "    </tr>\n",
       "    <tr>\n",
       "      <th>0</th>\n",
       "      <td>No</td>\n",
       "      <td>1484</td>\n",
       "      <td>7.333828</td>\n",
       "    </tr>\n",
       "  </tbody>\n",
       "</table>\n",
       "</div>"
      ],
      "text/plain": [
       "  Revised_Resume_Used_to_Apply_for_Job__c_x  count          %\n",
       "1                                       Yes  18751  92.666172\n",
       "0                                        No   1484   7.333828"
      ]
     },
     "execution_count": 52,
     "metadata": {},
     "output_type": "execute_result"
    }
   ],
   "source": [
    "clean_Merge_dataset = drop_null('Revised_Resume_Used_to_Apply_for_Job__c_x', merged_data)\n",
    "summary('Revised_Resume_Used_to_Apply_for_Job__c_x', clean_Merge_dataset)"
   ]
  },
  {
   "cell_type": "code",
   "execution_count": 53,
   "metadata": {},
   "outputs": [
    {
     "name": "stderr",
     "output_type": "stream",
     "text": [
      "C:\\Users\\Nameetha\\Anaconda3\\lib\\site-packages\\pandas\\core\\generic.py:5890: SettingWithCopyWarning: \n",
      "A value is trying to be set on a copy of a slice from a DataFrame\n",
      "\n",
      "See the caveats in the documentation: http://pandas.pydata.org/pandas-docs/stable/indexing.html#indexing-view-versus-copy\n",
      "  self._update_inplace(new_data)\n"
     ]
    }
   ],
   "source": [
    "clean_Merge_dataset['Revised_Resume_Used_to_Apply_for_Job__c_x'].replace([\"Yes\",\"No\"],[1,0],inplace=True)"
   ]
  },
  {
   "cell_type": "code",
   "execution_count": 54,
   "metadata": {},
   "outputs": [
    {
     "data": {
      "text/plain": [
       "153      1.0\n",
       "157      0.0\n",
       "163      1.0\n",
       "344      1.0\n",
       "356      1.0\n",
       "638      1.0\n",
       "639      1.0\n",
       "651      1.0\n",
       "653      0.0\n",
       "660      1.0\n",
       "665      1.0\n",
       "675      1.0\n",
       "679      1.0\n",
       "681      1.0\n",
       "682      1.0\n",
       "683      1.0\n",
       "684      1.0\n",
       "686      1.0\n",
       "687      1.0\n",
       "825      0.0\n",
       "879      1.0\n",
       "880      0.0\n",
       "881      1.0\n",
       "884      1.0\n",
       "885      1.0\n",
       "899      1.0\n",
       "1017     0.0\n",
       "1023     1.0\n",
       "1243     1.0\n",
       "1259     1.0\n",
       "        ... \n",
       "41885    1.0\n",
       "41886    1.0\n",
       "41887    0.0\n",
       "41890    1.0\n",
       "41894    1.0\n",
       "41895    1.0\n",
       "41896    0.0\n",
       "41897    1.0\n",
       "41899    1.0\n",
       "41900    1.0\n",
       "41901    1.0\n",
       "41902    1.0\n",
       "41903    1.0\n",
       "41904    1.0\n",
       "41906    1.0\n",
       "41907    1.0\n",
       "41908    1.0\n",
       "41909    0.0\n",
       "41910    1.0\n",
       "41911    1.0\n",
       "41913    1.0\n",
       "41914    1.0\n",
       "41915    1.0\n",
       "41917    1.0\n",
       "41918    1.0\n",
       "41920    1.0\n",
       "41923    1.0\n",
       "41925    1.0\n",
       "41926    1.0\n",
       "41927    1.0\n",
       "Name: Revised_Resume_Used_to_Apply_for_Job__c_y, Length: 20235, dtype: float64"
      ]
     },
     "execution_count": 54,
     "metadata": {},
     "output_type": "execute_result"
    }
   ],
   "source": [
    "clean_Merge_dataset['Revised_Resume_Used_to_Apply_for_Job__c_y']"
   ]
  },
  {
   "cell_type": "code",
   "execution_count": 55,
   "metadata": {},
   "outputs": [],
   "source": [
    "#Mergind Hire Info and Cleaned co"
   ]
  },
  {
   "cell_type": "code",
   "execution_count": 56,
   "metadata": {},
   "outputs": [],
   "source": [
    "merged_data['Revised_Resume_Used_to_Apply_for_Job__c_y'].fillna(merged_data['Revised_Resume_Used_to_Apply_for_Job__c_x'],inplace= True)"
   ]
  },
  {
   "cell_type": "code",
   "execution_count": null,
   "metadata": {},
   "outputs": [],
   "source": []
  }
 ],
 "metadata": {
  "kernelspec": {
   "display_name": "Python 3",
   "language": "python",
   "name": "python3"
  },
  "language_info": {
   "codemirror_mode": {
    "name": "ipython",
    "version": 3
   },
   "file_extension": ".py",
   "mimetype": "text/x-python",
   "name": "python",
   "nbconvert_exporter": "python",
   "pygments_lexer": "ipython3",
   "version": "3.7.0"
  }
 },
 "nbformat": 4,
 "nbformat_minor": 2
}
