{
 "cells": [
  {
   "cell_type": "markdown",
   "metadata": {},
   "source": [
    "# Read me\n",
    "\n",
    "The current datasets relevant to our project scope are:\n",
    "Contact.csv and Hire information.csv\n",
    "\n",
    "This code merge and match them using the ID (Contact *ID* with Hire information *Client_Name__c*)"
   ]
  },
  {
   "cell_type": "code",
   "execution_count": 1,
   "metadata": {},
   "outputs": [],
   "source": [
    "import numpy as np\n",
    "import pandas as pd"
   ]
  },
  {
   "cell_type": "code",
   "execution_count": 2,
   "metadata": {
    "scrolled": false
   },
   "outputs": [],
   "source": [
    "contact_dataset = pd.read_csv('SalesForce_Contact.csv', encoding='latin', low_memory=False)"
   ]
  },
  {
   "cell_type": "code",
   "execution_count": 34,
   "metadata": {},
   "outputs": [
    {
     "name": "stdout",
     "output_type": "stream",
     "text": [
      "Id Column Facts:\n",
      "Unique Values: 132445\n",
      "Null Values: 0\n"
     ]
    },
    {
     "data": {
      "text/plain": [
       "(132445, 391)"
      ]
     },
     "execution_count": 34,
     "metadata": {},
     "output_type": "execute_result"
    }
   ],
   "source": [
    "print(\"Id Column Facts:\")\n",
    "print(\"Unique Values:\", contact_dataset['Id'].nunique())\n",
    "print(\"Null Values:\", contact_dataset['Id'].isna().sum())\n",
    "#dtypeCount =[contact_dataset.iloc[:,i].apply(type).value_counts() for i in range(contact_dataset.shape[1])]\n",
    "#dtypeCount[0]\n",
    "contact_dataset.shape"
   ]
  },
  {
   "cell_type": "code",
   "execution_count": 4,
   "metadata": {},
   "outputs": [],
   "source": [
    "hire_dataset = pd.read_csv('SalesForce_Hire_Information.csv', encoding='latin', low_memory=False)"
   ]
  },
  {
   "cell_type": "code",
   "execution_count": 32,
   "metadata": {},
   "outputs": [
    {
     "name": "stdout",
     "output_type": "stream",
     "text": [
      "Client_Name__c Column Facts:\n",
      "Unique Values: 30540\n",
      "Null Values: 0\n"
     ]
    },
    {
     "data": {
      "text/plain": [
       "(30754, 34)"
      ]
     },
     "execution_count": 32,
     "metadata": {},
     "output_type": "execute_result"
    }
   ],
   "source": [
    "print(\"Client_Name__c Column Facts:\")\n",
    "print(\"Unique Values:\", hire_dataset['Client_Name__c'].nunique())\n",
    "print(\"Null Values:\", hire_dataset['Client_Name__c'].isna().sum())\n",
    "#dtypeCount =[hire_dataset.iloc[:,i].apply(type).value_counts() for i in range(hire_dataset.shape[1])]\n",
    "#dtypeCount[12]\n",
    "hire_dataset.shape"
   ]
  },
  {
   "cell_type": "code",
   "execution_count": 28,
   "metadata": {},
   "outputs": [],
   "source": [
    "full_dataset = pd.merge(contact_dataset, hire_dataset, left_on='Id', right_on='Client_Name__c')"
   ]
  },
  {
   "cell_type": "code",
   "execution_count": 29,
   "metadata": {
    "scrolled": true
   },
   "outputs": [
    {
     "data": {
      "text/html": [
       "<div>\n",
       "<style scoped>\n",
       "    .dataframe tbody tr th:only-of-type {\n",
       "        vertical-align: middle;\n",
       "    }\n",
       "\n",
       "    .dataframe tbody tr th {\n",
       "        vertical-align: top;\n",
       "    }\n",
       "\n",
       "    .dataframe thead th {\n",
       "        text-align: right;\n",
       "    }\n",
       "</style>\n",
       "<table border=\"1\" class=\"dataframe\">\n",
       "  <thead>\n",
       "    <tr style=\"text-align: right;\">\n",
       "      <th></th>\n",
       "      <th>Id_x</th>\n",
       "      <th>AccountId</th>\n",
       "      <th>RecordTypeId</th>\n",
       "      <th>MailingState</th>\n",
       "      <th>MailingPostalCode</th>\n",
       "      <th>MailingCountry</th>\n",
       "      <th>LeadSource</th>\n",
       "      <th>OwnerId</th>\n",
       "      <th>HasOptedOutOfEmail</th>\n",
       "      <th>HasOptedOutOfFax</th>\n",
       "      <th>...</th>\n",
       "      <th>X7_Day_Review__c</th>\n",
       "      <th>Months_Unemployed__c_y</th>\n",
       "      <th>Revised_Resume_Used_to_Apply_for_Job__c_y</th>\n",
       "      <th>Hired_but_still_active_and_looking__c_y</th>\n",
       "      <th>Date_Submitted_For_Hire__c</th>\n",
       "      <th>Hire_Confirmed_By__c</th>\n",
       "      <th>Area_Manager_Approved__c</th>\n",
       "      <th>PIM_Approved__c</th>\n",
       "      <th>Ops_Review_Date__c</th>\n",
       "      <th>Multiple_Hire__c</th>\n",
       "    </tr>\n",
       "  </thead>\n",
       "  <tbody>\n",
       "    <tr>\n",
       "      <th>0</th>\n",
       "      <td>0030z00002PrWi1AAF</td>\n",
       "      <td>0015000000KUwKAAA1</td>\n",
       "      <td>01238000000UVfW</td>\n",
       "      <td>ID</td>\n",
       "      <td>83815</td>\n",
       "      <td>United States</td>\n",
       "      <td>NaN</td>\n",
       "      <td>00538000005F2ADAA0</td>\n",
       "      <td>0</td>\n",
       "      <td>0</td>\n",
       "      <td>...</td>\n",
       "      <td>NaN</td>\n",
       "      <td>NaN</td>\n",
       "      <td>1</td>\n",
       "      <td>0</td>\n",
       "      <td>10/22/2018 0:00</td>\n",
       "      <td>00538000005F2ADAA0</td>\n",
       "      <td>1</td>\n",
       "      <td>1</td>\n",
       "      <td>10/29/2018 0:00</td>\n",
       "      <td>0.0</td>\n",
       "    </tr>\n",
       "    <tr>\n",
       "      <th>1</th>\n",
       "      <td>0030z00002PrWn1AAF</td>\n",
       "      <td>0015000000KUwKAAA1</td>\n",
       "      <td>01238000000UVfW</td>\n",
       "      <td>CA</td>\n",
       "      <td>92103</td>\n",
       "      <td>United States</td>\n",
       "      <td>NaN</td>\n",
       "      <td>005380000063Mf7AAE</td>\n",
       "      <td>0</td>\n",
       "      <td>0</td>\n",
       "      <td>...</td>\n",
       "      <td>NaN</td>\n",
       "      <td>NaN</td>\n",
       "      <td>1</td>\n",
       "      <td>0</td>\n",
       "      <td>10/8/2018 0:00</td>\n",
       "      <td>005380000063Mf7AAE</td>\n",
       "      <td>1</td>\n",
       "      <td>1</td>\n",
       "      <td>10/15/2018 0:00</td>\n",
       "      <td>0.0</td>\n",
       "    </tr>\n",
       "    <tr>\n",
       "      <th>2</th>\n",
       "      <td>0030z00002PrXLpAAN</td>\n",
       "      <td>0015000000KUwKAAA1</td>\n",
       "      <td>01238000000UVfW</td>\n",
       "      <td>GA</td>\n",
       "      <td>31324</td>\n",
       "      <td>United States</td>\n",
       "      <td>NaN</td>\n",
       "      <td>00538000004sKV8AAM</td>\n",
       "      <td>0</td>\n",
       "      <td>0</td>\n",
       "      <td>...</td>\n",
       "      <td>0.0</td>\n",
       "      <td>1.0</td>\n",
       "      <td>1</td>\n",
       "      <td>0</td>\n",
       "      <td>11/28/2018 0:00</td>\n",
       "      <td>00538000004sKV8AAM</td>\n",
       "      <td>1</td>\n",
       "      <td>1</td>\n",
       "      <td>12/3/2018 0:00</td>\n",
       "      <td>0.0</td>\n",
       "    </tr>\n",
       "    <tr>\n",
       "      <th>3</th>\n",
       "      <td>0030z00002PrXU9AAN</td>\n",
       "      <td>0015000000KUwKAAA1</td>\n",
       "      <td>01238000000UVfW</td>\n",
       "      <td>TX</td>\n",
       "      <td>77006</td>\n",
       "      <td>United States</td>\n",
       "      <td>NaN</td>\n",
       "      <td>005380000063MfvAAE</td>\n",
       "      <td>0</td>\n",
       "      <td>0</td>\n",
       "      <td>...</td>\n",
       "      <td>0.0</td>\n",
       "      <td>NaN</td>\n",
       "      <td>0</td>\n",
       "      <td>0</td>\n",
       "      <td>12/14/2018 0:00</td>\n",
       "      <td>005380000063MfvAAE</td>\n",
       "      <td>1</td>\n",
       "      <td>1</td>\n",
       "      <td>12/17/2018 0:00</td>\n",
       "      <td>0.0</td>\n",
       "    </tr>\n",
       "    <tr>\n",
       "      <th>4</th>\n",
       "      <td>0030z00002PrXpMAAV</td>\n",
       "      <td>0015000000KUwKAAA1</td>\n",
       "      <td>01238000000UVfW</td>\n",
       "      <td>TX</td>\n",
       "      <td>77450</td>\n",
       "      <td>United States</td>\n",
       "      <td>NaN</td>\n",
       "      <td>00538000004wgQWAAY</td>\n",
       "      <td>0</td>\n",
       "      <td>0</td>\n",
       "      <td>...</td>\n",
       "      <td>NaN</td>\n",
       "      <td>1.0</td>\n",
       "      <td>0</td>\n",
       "      <td>0</td>\n",
       "      <td>9/14/2018 0:00</td>\n",
       "      <td>00538000004wgQWAAY</td>\n",
       "      <td>1</td>\n",
       "      <td>1</td>\n",
       "      <td>9/17/2018 0:00</td>\n",
       "      <td>0.0</td>\n",
       "    </tr>\n",
       "  </tbody>\n",
       "</table>\n",
       "<p>5 rows × 425 columns</p>\n",
       "</div>"
      ],
      "text/plain": [
       "                 Id_x           AccountId     RecordTypeId MailingState  \\\n",
       "0  0030z00002PrWi1AAF  0015000000KUwKAAA1  01238000000UVfW           ID   \n",
       "1  0030z00002PrWn1AAF  0015000000KUwKAAA1  01238000000UVfW           CA   \n",
       "2  0030z00002PrXLpAAN  0015000000KUwKAAA1  01238000000UVfW           GA   \n",
       "3  0030z00002PrXU9AAN  0015000000KUwKAAA1  01238000000UVfW           TX   \n",
       "4  0030z00002PrXpMAAV  0015000000KUwKAAA1  01238000000UVfW           TX   \n",
       "\n",
       "  MailingPostalCode MailingCountry LeadSource             OwnerId  \\\n",
       "0             83815  United States        NaN  00538000005F2ADAA0   \n",
       "1             92103  United States        NaN  005380000063Mf7AAE   \n",
       "2             31324  United States        NaN  00538000004sKV8AAM   \n",
       "3             77006  United States        NaN  005380000063MfvAAE   \n",
       "4             77450  United States        NaN  00538000004wgQWAAY   \n",
       "\n",
       "   HasOptedOutOfEmail  HasOptedOutOfFax  ...  X7_Day_Review__c  \\\n",
       "0                   0                 0  ...               NaN   \n",
       "1                   0                 0  ...               NaN   \n",
       "2                   0                 0  ...               0.0   \n",
       "3                   0                 0  ...               0.0   \n",
       "4                   0                 0  ...               NaN   \n",
       "\n",
       "   Months_Unemployed__c_y Revised_Resume_Used_to_Apply_for_Job__c_y  \\\n",
       "0                     NaN                                         1   \n",
       "1                     NaN                                         1   \n",
       "2                     1.0                                         1   \n",
       "3                     NaN                                         0   \n",
       "4                     1.0                                         0   \n",
       "\n",
       "  Hired_but_still_active_and_looking__c_y Date_Submitted_For_Hire__c  \\\n",
       "0                                       0            10/22/2018 0:00   \n",
       "1                                       0             10/8/2018 0:00   \n",
       "2                                       0            11/28/2018 0:00   \n",
       "3                                       0            12/14/2018 0:00   \n",
       "4                                       0             9/14/2018 0:00   \n",
       "\n",
       "  Hire_Confirmed_By__c Area_Manager_Approved__c PIM_Approved__c  \\\n",
       "0   00538000005F2ADAA0                        1               1   \n",
       "1   005380000063Mf7AAE                        1               1   \n",
       "2   00538000004sKV8AAM                        1               1   \n",
       "3   005380000063MfvAAE                        1               1   \n",
       "4   00538000004wgQWAAY                        1               1   \n",
       "\n",
       "   Ops_Review_Date__c Multiple_Hire__c  \n",
       "0     10/29/2018 0:00              0.0  \n",
       "1     10/15/2018 0:00              0.0  \n",
       "2      12/3/2018 0:00              0.0  \n",
       "3     12/17/2018 0:00              0.0  \n",
       "4      9/17/2018 0:00              0.0  \n",
       "\n",
       "[5 rows x 425 columns]"
      ]
     },
     "execution_count": 29,
     "metadata": {},
     "output_type": "execute_result"
    }
   ],
   "source": [
    "full_dataset.head()"
   ]
  },
  {
   "cell_type": "markdown",
   "metadata": {},
   "source": [
    "### After the merge, if both datasets have a column with the same name pd:\n",
    "\n",
    "- Add *_x* to contact_dataset column\n",
    "- Add *_y* to hire_dataset column"
   ]
  },
  {
   "cell_type": "code",
   "execution_count": 35,
   "metadata": {},
   "outputs": [
    {
     "name": "stdout",
     "output_type": "stream",
     "text": [
      "Id_x Column Facts:\n",
      "Unique Values: 30540\n",
      "Null Values: 0\n"
     ]
    },
    {
     "data": {
      "text/plain": [
       "(30754, 425)"
      ]
     },
     "execution_count": 35,
     "metadata": {},
     "output_type": "execute_result"
    }
   ],
   "source": [
    "print(\"Id_x Column Facts:\")\n",
    "print(\"Unique Values:\", full_dataset['Id_x'].nunique())\n",
    "print(\"Null Values:\", full_dataset['Id_x'].isna().sum())\n",
    "#dtypeCount =[full_dataset.iloc[:,i].apply(type).value_counts() for i in range(full_dataset.shape[1])]\n",
    "#dtypeCount[0]\n",
    "full_dataset.shape"
   ]
  },
  {
   "cell_type": "code",
   "execution_count": 36,
   "metadata": {},
   "outputs": [],
   "source": [
    "full_dataset.to_csv(\"full_dataset.csv\", index=False)"
   ]
  },
  {
   "cell_type": "code",
   "execution_count": 37,
   "metadata": {},
   "outputs": [
    {
     "name": "stdout",
     "output_type": "stream",
     "text": [
      "Id_x Column Facts:\n",
      "Unique Values: 30540\n",
      "Null Values: 0\n"
     ]
    },
    {
     "data": {
      "text/plain": [
       "(30754, 425)"
      ]
     },
     "execution_count": 37,
     "metadata": {},
     "output_type": "execute_result"
    }
   ],
   "source": [
    "full_dataset_final = pd.read_csv('full_dataset.csv', encoding='latin', low_memory=False)\n",
    "print(\"Id_x Column Facts:\")\n",
    "print(\"Unique Values:\", full_dataset_final['Id_x'].nunique())\n",
    "print(\"Null Values:\", full_dataset_final['Id_x'].isna().sum())\n",
    "#dtypeCount =[full_dataset_final.iloc[:,i].apply(type).value_counts() for i in range(full_dataset_final.shape[1])]\n",
    "#dtypeCount[0]\n",
    "full_dataset_final.shape"
   ]
  }
 ],
 "metadata": {
  "kernelspec": {
   "display_name": "Python 3",
   "language": "python",
   "name": "python3"
  },
  "language_info": {
   "codemirror_mode": {
    "name": "ipython",
    "version": 3
   },
   "file_extension": ".py",
   "mimetype": "text/x-python",
   "name": "python",
   "nbconvert_exporter": "python",
   "pygments_lexer": "ipython3",
   "version": "3.7.2"
  }
 },
 "nbformat": 4,
 "nbformat_minor": 2
}
