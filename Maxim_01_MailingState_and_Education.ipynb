{
 "cells": [
  {
   "cell_type": "code",
   "execution_count": 1,
   "metadata": {},
   "outputs": [],
   "source": [
    "import numpy as np\n",
    "import pandas as pd"
   ]
  },
  {
   "cell_type": "code",
   "execution_count": 2,
   "metadata": {},
   "outputs": [
    {
     "name": "stdout",
     "output_type": "stream",
     "text": [
      "Id_x Column Facts:\n",
      "Unique Values: 30540\n",
      "Null Values: 0\n"
     ]
    },
    {
     "data": {
      "text/plain": [
       "(30754, 425)"
      ]
     },
     "execution_count": 2,
     "metadata": {},
     "output_type": "execute_result"
    }
   ],
   "source": [
    "full_dataset = pd.read_csv('full_dataset_1.1.csv', encoding='latin', low_memory=False)\n",
    "print(\"Id_x Column Facts:\")\n",
    "print(\"Unique Values:\", full_dataset['Id_x'].nunique())\n",
    "print(\"Null Values:\", full_dataset['Id_x'].isna().sum())\n",
    "full_dataset.shape"
   ]
  },
  {
   "cell_type": "markdown",
   "metadata": {},
   "source": [
    "First, we see that most of data is clean, where Mailing state is encoded by 2-letter common abbreviation of state. In addition there is a bunch of garbage data, which typically represent no more than 10 records (most are just 1), including those located outside of US. It is prudent to limit research to only those records that can be easily attributed to one of 50 states in USA and ignore the rest of data. By doing this we lose about 500 records still leaving hefty 29K records to analyze."
   ]
  },
  {
   "cell_type": "code",
   "execution_count": 3,
   "metadata": {},
   "outputs": [
    {
     "data": {
      "text/plain": [
       "TX                          3885\n",
       "CA                          3170\n",
       "VA                          2547\n",
       "NC                          2532\n",
       "CO                          2449\n",
       "GA                          2229\n",
       "FL                          1886\n",
       "WA                          1344\n",
       "NY                           851\n",
       "MD                           609\n",
       "TN                           588\n",
       "SC                           496\n",
       "AZ                           493\n",
       "ID                           484\n",
       "PA                           462\n",
       "AL                           453\n",
       "HI                           442\n",
       "IL                           422\n",
       "NJ                           386\n",
       "KS                           340\n",
       "OH                           335\n",
       "MO                           310\n",
       "KY                           298\n",
       "OK                           262\n",
       "LA                           250\n",
       "MI                           250\n",
       "NV                           231\n",
       "IN                           230\n",
       "MA                           172\n",
       "MS                           142\n",
       "                            ... \n",
       "wy                             1\n",
       "Dumphries, VA                  1\n",
       "Tn                             1\n",
       "BS                             1\n",
       "Kanagawa Pref.                 1\n",
       "Texas                          1\n",
       "COLORADO                       1\n",
       "Sc                             1\n",
       "hi                             1\n",
       "Ny                             1\n",
       "Bavaria                        1\n",
       "north carolina                 1\n",
       "AA                             1\n",
       "Rheinland Pfalz                1\n",
       "oh                             1\n",
       "Baden Wurtemberg               1\n",
       "Kohinata                       1\n",
       "CALIFORNIA                     1\n",
       "FLORIDA                        1\n",
       "VQ                             1\n",
       "Al                             1\n",
       "Md.                            1\n",
       "nj                             1\n",
       "Mi                             1\n",
       "Baden-WÃÂÃÂ¼rttemberg       1\n",
       "Brussels                       1\n",
       "DF                             1\n",
       "GR                             1\n",
       "WASHINGTON                     1\n",
       "Rhineland-Palatinate           1\n",
       "Name: MailingState, Length: 136, dtype: int64"
      ]
     },
     "execution_count": 3,
     "metadata": {},
     "output_type": "execute_result"
    }
   ],
   "source": [
    "full_dataset.MailingState.value_counts()"
   ]
  },
  {
   "cell_type": "markdown",
   "metadata": {},
   "source": [
    "List of states abbreviation was taken from Wikipedia to create a mask (list of 2-letters abbreviation) that we can use to filter our data. A snippet of such list is shown below."
   ]
  },
  {
   "cell_type": "code",
   "execution_count": 4,
   "metadata": {},
   "outputs": [
    {
     "data": {
      "text/html": [
       "<div>\n",
       "<style scoped>\n",
       "    .dataframe tbody tr th:only-of-type {\n",
       "        vertical-align: middle;\n",
       "    }\n",
       "\n",
       "    .dataframe tbody tr th {\n",
       "        vertical-align: top;\n",
       "    }\n",
       "\n",
       "    .dataframe thead th {\n",
       "        text-align: right;\n",
       "    }\n",
       "</style>\n",
       "<table border=\"1\" class=\"dataframe\">\n",
       "  <thead>\n",
       "    <tr style=\"text-align: right;\">\n",
       "      <th></th>\n",
       "      <th>State_abr</th>\n",
       "      <th>State_name</th>\n",
       "    </tr>\n",
       "  </thead>\n",
       "  <tbody>\n",
       "    <tr>\n",
       "      <th>0</th>\n",
       "      <td>AL</td>\n",
       "      <td>Alabama</td>\n",
       "    </tr>\n",
       "    <tr>\n",
       "      <th>1</th>\n",
       "      <td>AK</td>\n",
       "      <td>Alaska</td>\n",
       "    </tr>\n",
       "    <tr>\n",
       "      <th>2</th>\n",
       "      <td>AZ</td>\n",
       "      <td>Arizona</td>\n",
       "    </tr>\n",
       "    <tr>\n",
       "      <th>3</th>\n",
       "      <td>AR</td>\n",
       "      <td>Arkansas</td>\n",
       "    </tr>\n",
       "    <tr>\n",
       "      <th>4</th>\n",
       "      <td>CA</td>\n",
       "      <td>California</td>\n",
       "    </tr>\n",
       "  </tbody>\n",
       "</table>\n",
       "</div>"
      ],
      "text/plain": [
       "  State_abr  State_name\n",
       "0        AL     Alabama\n",
       "1        AK      Alaska\n",
       "2        AZ     Arizona\n",
       "3        AR    Arkansas\n",
       "4        CA  California"
      ]
     },
     "execution_count": 4,
     "metadata": {},
     "output_type": "execute_result"
    }
   ],
   "source": [
    "states_dict = pd.read_csv('States_dict.csv', names=['State_abr', 'State_name'])\n",
    "states_dict.head()"
   ]
  },
  {
   "cell_type": "markdown",
   "metadata": {},
   "source": [
    "Creating a copy of dataframe to perfmorm all transformations."
   ]
  },
  {
   "cell_type": "code",
   "execution_count": 5,
   "metadata": {},
   "outputs": [],
   "source": [
    "clean_data = full_dataset.copy()"
   ]
  },
  {
   "cell_type": "markdown",
   "metadata": {},
   "source": [
    "Converting all records in Mailing_state column to uppercase to aovid misses from direct string comparison.\n",
    "\"Filtering\" dataframe to include only those records that are present in true list of 50 states abbreviations."
   ]
  },
  {
   "cell_type": "code",
   "execution_count": 6,
   "metadata": {},
   "outputs": [],
   "source": [
    "clean_data['MailingState'] = clean_data['MailingState'].str.upper()\n",
    "clean_data = clean_data[clean_data['MailingState'].isin(states_dict['State_abr'])]"
   ]
  },
  {
   "cell_type": "markdown",
   "metadata": {},
   "source": [
    "After filtering we lost about 700 records"
   ]
  },
  {
   "cell_type": "code",
   "execution_count": 7,
   "metadata": {},
   "outputs": [
    {
     "data": {
      "text/plain": [
       "661"
      ]
     },
     "execution_count": 7,
     "metadata": {},
     "output_type": "execute_result"
    }
   ],
   "source": [
    "len(full_dataset) - len(clean_data)"
   ]
  },
  {
   "cell_type": "markdown",
   "metadata": {},
   "source": [
    "\"Highest education attainment\" column also mostly has clean data with 6 categories that dominate: High School, Associate, 2 yr Degree, 4 yr Degree, Masters and Doctorate. Such categories can well be mapped to commonly used taxonomy. In addition, there are records (of 9 occurences and less) that, though contain some information, couldn't be easily mapped to common categories. Dropping those \"hard to deal with\" records looks like a resonable compromise."
   ]
  },
  {
   "cell_type": "code",
   "execution_count": 8,
   "metadata": {},
   "outputs": [
    {
     "data": {
      "text/plain": [
       "High School/GED                                                                                                                                                                                                                                  9789\n",
       "4 Year Degree (BA, BS, etc.)                                                                                                                                                                                                                     8696\n",
       "Post-Graduate Degree (MA, MS, JD, etc.)                                                                                                                                                                                                          4716\n",
       "2 Year Degree (AA, AS, etc.)                                                                                                                                                                                                                     4528\n",
       "Doctorate (PhD, MD, etc.)                                                                                                                                                                                                                         207\n",
       "Associate degree (A.A., A.S., etc.)                                                                                                                                                                                                                20\n",
       "College/University                                                                                                                                                                                                                                  9\n",
       "High School Some College                                                                                                                                                                                                                            3\n",
       "4 year college                                                                                                                                                                                                                                      2\n",
       "Doctorite                                                                                                                                                                                                                                           2\n",
       "Bachelors Degree - Criminology                                                                                                                                                                                                                      1\n",
       "Vocational School                                                                                                                                                                                                                                   1\n",
       "Masters of Science-Counseling Bachelor of Science - Social Psychology                                                                                                                                                                               1\n",
       "Graduate Degree-MBA, Air Traffic Control School, Air War College, Military Police                                                                                                                                                                   1\n",
       "HIgh School                                                                                                                                                                                                                                         1\n",
       "HS/GED                                                                                                                                                                                                                                              1\n",
       "Masters                                                                                                                                                                                                                                             1\n",
       "Master?s degree                                                                                                                                                                                                                                     1\n",
       "Some College                                                                                                                                                                                                                                        1\n",
       "Pursuing BS at Devry Institute of Technology - Electronics/engineering technology                                                                                                                                                                   1\n",
       "2 year college                                                                                                                                                                                                                                      1\n",
       "Other, please specify                                                                                                                                                                                                                               1\n",
       "41 semester hours towards B.S., Sports/Health Science   June 2001 ? Present       CPR certification 2006  Fitness Fundamentals Certification  2002 Personal Trainer Certification  2006 Master Fitness Course certificate of completion  2004       1\n",
       "Currently attending Devry University-pursing Bachelor's Science Degree in Technical Management                                                                                                                                                      1\n",
       "Name: Highest_Level_of_Education_Completed__c, dtype: int64"
      ]
     },
     "execution_count": 8,
     "metadata": {},
     "output_type": "execute_result"
    }
   ],
   "source": [
    "clean_data['Highest_Level_of_Education_Completed__c'].value_counts()"
   ]
  },
  {
   "cell_type": "markdown",
   "metadata": {},
   "source": [
    "Grouped list of occurences is stored in \"temp_ind\" variable. It is further reduced to a list where no. of occurences is over 10. It looks arbitrary but eventually it leaves us with the desired 6-categories that are commonly used."
   ]
  },
  {
   "cell_type": "code",
   "execution_count": 9,
   "metadata": {},
   "outputs": [],
   "source": [
    "temp_ind = clean_data['Highest_Level_of_Education_Completed__c'].value_counts()\n",
    "temp_ind = temp_ind.loc[temp_ind > 10]"
   ]
  },
  {
   "cell_type": "markdown",
   "metadata": {},
   "source": [
    "Finally cleaning the master dataframe to include only 6 categories for educational attainment and non missing values. By doing so we lose about 2K records."
   ]
  },
  {
   "cell_type": "code",
   "execution_count": 11,
   "metadata": {},
   "outputs": [
    {
     "data": {
      "text/plain": [
       "2798"
      ]
     },
     "execution_count": 11,
     "metadata": {},
     "output_type": "execute_result"
    }
   ],
   "source": [
    "clean_data = clean_data[clean_data['Highest_Level_of_Education_Completed__c'].isin(temp_ind.index)]\n",
    "len(full_dataset) - len(clean_data)"
   ]
  },
  {
   "cell_type": "markdown",
   "metadata": {},
   "source": [
    "After getting rid of all NaN, very low occurence or corrupted data a clean data set still contains almost 28K records."
   ]
  },
  {
   "cell_type": "code",
   "execution_count": 12,
   "metadata": {},
   "outputs": [
    {
     "data": {
      "text/plain": [
       "27956"
      ]
     },
     "execution_count": 12,
     "metadata": {},
     "output_type": "execute_result"
    }
   ],
   "source": [
    "len(clean_data)"
   ]
  },
  {
   "cell_type": "markdown",
   "metadata": {},
   "source": [
    "Saving end result to a file."
   ]
  },
  {
   "cell_type": "code",
   "execution_count": 13,
   "metadata": {},
   "outputs": [],
   "source": [
    "clean_data.to_csv(\"full_dataset_1.1.MK.csv\", index=False)"
   ]
  }
 ],
 "metadata": {
  "kernelspec": {
   "display_name": "Python 3",
   "language": "python",
   "name": "python3"
  },
  "language_info": {
   "codemirror_mode": {
    "name": "ipython",
    "version": 3
   },
   "file_extension": ".py",
   "mimetype": "text/x-python",
   "name": "python",
   "nbconvert_exporter": "python",
   "pygments_lexer": "ipython3",
   "version": "3.7.0"
  }
 },
 "nbformat": 4,
 "nbformat_minor": 2
}
