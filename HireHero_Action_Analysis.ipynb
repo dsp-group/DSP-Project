{
 "cells": [
  {
   "cell_type": "code",
   "execution_count": 47,
   "metadata": {},
   "outputs": [],
   "source": [
    "import pandas as pd\n"
   ]
  },
  {
   "cell_type": "code",
   "execution_count": 48,
   "metadata": {},
   "outputs": [],
   "source": [
    "data=pd.read_csv(\"C://Users/Nameetha/Desktop/DSP_Project/SalesForce_Contact/SalesForce_Contact.csv\",encoding='latin', low_memory=False)"
   ]
  },
  {
   "cell_type": "code",
   "execution_count": 49,
   "metadata": {},
   "outputs": [
    {
     "data": {
      "text/plain": [
       "(132445, 391)"
      ]
     },
     "execution_count": 49,
     "metadata": {},
     "output_type": "execute_result"
    }
   ],
   "source": [
    "data.shape"
   ]
  },
  {
   "cell_type": "code",
   "execution_count": 50,
   "metadata": {},
   "outputs": [],
   "source": [
    "confirmed_hire=data.loc[data[\"Hire_Heroes_USA_Confirmed_Hire__c\"]==1]"
   ]
  },
  {
   "cell_type": "code",
   "execution_count": 51,
   "metadata": {},
   "outputs": [
    {
     "data": {
      "text/plain": [
       "(30350, 391)"
      ]
     },
     "execution_count": 51,
     "metadata": {},
     "output_type": "execute_result"
    }
   ],
   "source": [
    "confirmed_hire.shape"
   ]
  },
  {
   "cell_type": "code",
   "execution_count": 52,
   "metadata": {},
   "outputs": [],
   "source": [
    "action_list=[\"Purple_Heart_Recipient__c\",\"Active_Color__c\",\"Assessment_Completed_By__c\",\"Resume_Completed_By__c\",\"Dat_Initial_Assessment_was_Completed__c\",\"Online_Training_Participant_Date__c\",\n",
    "             \"Hired_with_EO_assistance__c\",\"Updated_Resume_Complete__c\",\"HHUSA_Workshop_Participant__c\",\"O2O_Initial_Assessment_Complete__c\",\"MyTrak_1_on_1_Career_Coaching_Request__c\",\"MyTrak_Be_a_Desirable_Candidate_Complete__c\",\n",
    "           \"MyTrak_Essentials_Complete__c\",\"MyTrak_Federal_Resume_Review__c\",\"MyTrak_Is_MyTrak_Registrant__c\",\"MyTrak_Mock_Interview_Request__c\",\"MyTrak_Prepare_for_interview_Complete__c\",\"Is_the_Initial_Intake_Assessment_done__c\",\n",
    "            \"Revised_Resume_Used_to_Apply_for_Job__c\",\"Permission_to_use_job_board_granted__c\",\"Resume_Tailoring_Tips__c\",\"Finalized_HHUSA_revised_resume_on_file__c\",\"Hire_Heroes_USA_Confirmed_Hire__c\"]"
   ]
  },
  {
   "cell_type": "code",
   "execution_count": 53,
   "metadata": {},
   "outputs": [],
   "source": [
    "confirmed_hire=confirmed_hire[action_list]"
   ]
  },
  {
   "cell_type": "code",
   "execution_count": 54,
   "metadata": {},
   "outputs": [
    {
     "data": {
      "text/plain": [
       "(30350, 23)"
      ]
     },
     "execution_count": 54,
     "metadata": {},
     "output_type": "execute_result"
    }
   ],
   "source": [
    "confirmed_hire.shape"
   ]
  },
  {
   "cell_type": "code",
   "execution_count": 22,
   "metadata": {},
   "outputs": [
    {
     "data": {
      "text/html": [
       "<div>\n",
       "<style scoped>\n",
       "    .dataframe tbody tr th:only-of-type {\n",
       "        vertical-align: middle;\n",
       "    }\n",
       "\n",
       "    .dataframe tbody tr th {\n",
       "        vertical-align: top;\n",
       "    }\n",
       "\n",
       "    .dataframe thead th {\n",
       "        text-align: right;\n",
       "    }\n",
       "</style>\n",
       "<table border=\"1\" class=\"dataframe\">\n",
       "  <thead>\n",
       "    <tr style=\"text-align: right;\">\n",
       "      <th>col_0</th>\n",
       "      <th>Hired_with_EO_assistance__c</th>\n",
       "    </tr>\n",
       "    <tr>\n",
       "      <th>Hired_with_EO_assistance__c</th>\n",
       "      <th></th>\n",
       "    </tr>\n",
       "  </thead>\n",
       "  <tbody>\n",
       "    <tr>\n",
       "      <th>0.0</th>\n",
       "      <td>30312</td>\n",
       "    </tr>\n",
       "    <tr>\n",
       "      <th>1.0</th>\n",
       "      <td>38</td>\n",
       "    </tr>\n",
       "  </tbody>\n",
       "</table>\n",
       "</div>"
      ],
      "text/plain": [
       "col_0                        Hired_with_EO_assistance__c\n",
       "Hired_with_EO_assistance__c                             \n",
       "0.0                                                30312\n",
       "1.0                                                   38"
      ]
     },
     "execution_count": 22,
     "metadata": {},
     "output_type": "execute_result"
    }
   ],
   "source": [
    "pd.crosstab(confirmed_hire.Hired_with_EO_assistance__c, columns=['Hired_with_EO_assistance__c'])"
   ]
  },
  {
   "cell_type": "code",
   "execution_count": 23,
   "metadata": {},
   "outputs": [
    {
     "data": {
      "text/html": [
       "<div>\n",
       "<style scoped>\n",
       "    .dataframe tbody tr th:only-of-type {\n",
       "        vertical-align: middle;\n",
       "    }\n",
       "\n",
       "    .dataframe tbody tr th {\n",
       "        vertical-align: top;\n",
       "    }\n",
       "\n",
       "    .dataframe thead th {\n",
       "        text-align: right;\n",
       "    }\n",
       "</style>\n",
       "<table border=\"1\" class=\"dataframe\">\n",
       "  <thead>\n",
       "    <tr style=\"text-align: right;\">\n",
       "      <th>col_0</th>\n",
       "      <th>Updated_Resume_Complete__c</th>\n",
       "    </tr>\n",
       "    <tr>\n",
       "      <th>Updated_Resume_Complete__c</th>\n",
       "      <th></th>\n",
       "    </tr>\n",
       "  </thead>\n",
       "  <tbody>\n",
       "    <tr>\n",
       "      <th>0.0</th>\n",
       "      <td>29492</td>\n",
       "    </tr>\n",
       "    <tr>\n",
       "      <th>1.0</th>\n",
       "      <td>858</td>\n",
       "    </tr>\n",
       "  </tbody>\n",
       "</table>\n",
       "</div>"
      ],
      "text/plain": [
       "col_0                       Updated_Resume_Complete__c\n",
       "Updated_Resume_Complete__c                            \n",
       "0.0                                              29492\n",
       "1.0                                                858"
      ]
     },
     "execution_count": 23,
     "metadata": {},
     "output_type": "execute_result"
    }
   ],
   "source": [
    "pd.crosstab(confirmed_hire.Updated_Resume_Complete__c, columns=['Updated_Resume_Complete__c'])"
   ]
  },
  {
   "cell_type": "code",
   "execution_count": 24,
   "metadata": {},
   "outputs": [
    {
     "data": {
      "text/html": [
       "<div>\n",
       "<style scoped>\n",
       "    .dataframe tbody tr th:only-of-type {\n",
       "        vertical-align: middle;\n",
       "    }\n",
       "\n",
       "    .dataframe tbody tr th {\n",
       "        vertical-align: top;\n",
       "    }\n",
       "\n",
       "    .dataframe thead th {\n",
       "        text-align: right;\n",
       "    }\n",
       "</style>\n",
       "<table border=\"1\" class=\"dataframe\">\n",
       "  <thead>\n",
       "    <tr style=\"text-align: right;\">\n",
       "      <th>col_0</th>\n",
       "      <th>HHUSA_Workshop_Participant__c</th>\n",
       "    </tr>\n",
       "    <tr>\n",
       "      <th>HHUSA_Workshop_Participant__c</th>\n",
       "      <th></th>\n",
       "    </tr>\n",
       "  </thead>\n",
       "  <tbody>\n",
       "    <tr>\n",
       "      <th>0</th>\n",
       "      <td>27239</td>\n",
       "    </tr>\n",
       "    <tr>\n",
       "      <th>1</th>\n",
       "      <td>3111</td>\n",
       "    </tr>\n",
       "  </tbody>\n",
       "</table>\n",
       "</div>"
      ],
      "text/plain": [
       "col_0                          HHUSA_Workshop_Participant__c\n",
       "HHUSA_Workshop_Participant__c                               \n",
       "0                                                      27239\n",
       "1                                                       3111"
      ]
     },
     "execution_count": 24,
     "metadata": {},
     "output_type": "execute_result"
    }
   ],
   "source": [
    "pd.crosstab(confirmed_hire.HHUSA_Workshop_Participant__c, columns=['HHUSA_Workshop_Participant__c'])"
   ]
  },
  {
   "cell_type": "code",
   "execution_count": 25,
   "metadata": {},
   "outputs": [
    {
     "data": {
      "text/html": [
       "<div>\n",
       "<style scoped>\n",
       "    .dataframe tbody tr th:only-of-type {\n",
       "        vertical-align: middle;\n",
       "    }\n",
       "\n",
       "    .dataframe tbody tr th {\n",
       "        vertical-align: top;\n",
       "    }\n",
       "\n",
       "    .dataframe thead th {\n",
       "        text-align: right;\n",
       "    }\n",
       "</style>\n",
       "<table border=\"1\" class=\"dataframe\">\n",
       "  <thead>\n",
       "    <tr style=\"text-align: right;\">\n",
       "      <th>col_0</th>\n",
       "      <th>O2O_Initial_Assessment_Complete__c</th>\n",
       "    </tr>\n",
       "    <tr>\n",
       "      <th>O2O_Initial_Assessment_Complete__c</th>\n",
       "      <th></th>\n",
       "    </tr>\n",
       "  </thead>\n",
       "  <tbody>\n",
       "    <tr>\n",
       "      <th>0.0</th>\n",
       "      <td>30010</td>\n",
       "    </tr>\n",
       "    <tr>\n",
       "      <th>1.0</th>\n",
       "      <td>340</td>\n",
       "    </tr>\n",
       "  </tbody>\n",
       "</table>\n",
       "</div>"
      ],
      "text/plain": [
       "col_0                               O2O_Initial_Assessment_Complete__c\n",
       "O2O_Initial_Assessment_Complete__c                                    \n",
       "0.0                                                              30010\n",
       "1.0                                                                340"
      ]
     },
     "execution_count": 25,
     "metadata": {},
     "output_type": "execute_result"
    }
   ],
   "source": [
    "pd.crosstab(confirmed_hire.O2O_Initial_Assessment_Complete__c, columns=['O2O_Initial_Assessment_Complete__c'])"
   ]
  },
  {
   "cell_type": "code",
   "execution_count": 26,
   "metadata": {},
   "outputs": [
    {
     "data": {
      "text/html": [
       "<div>\n",
       "<style scoped>\n",
       "    .dataframe tbody tr th:only-of-type {\n",
       "        vertical-align: middle;\n",
       "    }\n",
       "\n",
       "    .dataframe tbody tr th {\n",
       "        vertical-align: top;\n",
       "    }\n",
       "\n",
       "    .dataframe thead th {\n",
       "        text-align: right;\n",
       "    }\n",
       "</style>\n",
       "<table border=\"1\" class=\"dataframe\">\n",
       "  <thead>\n",
       "    <tr style=\"text-align: right;\">\n",
       "      <th>col_0</th>\n",
       "      <th>MyTrak_1_on_1_Career_Coaching_Request__c</th>\n",
       "    </tr>\n",
       "    <tr>\n",
       "      <th>MyTrak_1_on_1_Career_Coaching_Request__c</th>\n",
       "      <th></th>\n",
       "    </tr>\n",
       "  </thead>\n",
       "  <tbody>\n",
       "    <tr>\n",
       "      <th>0.0</th>\n",
       "      <td>30281</td>\n",
       "    </tr>\n",
       "    <tr>\n",
       "      <th>1.0</th>\n",
       "      <td>69</td>\n",
       "    </tr>\n",
       "  </tbody>\n",
       "</table>\n",
       "</div>"
      ],
      "text/plain": [
       "col_0                                     MyTrak_1_on_1_Career_Coaching_Request__c\n",
       "MyTrak_1_on_1_Career_Coaching_Request__c                                          \n",
       "0.0                                                                          30281\n",
       "1.0                                                                             69"
      ]
     },
     "execution_count": 26,
     "metadata": {},
     "output_type": "execute_result"
    }
   ],
   "source": [
    "pd.crosstab(confirmed_hire.MyTrak_1_on_1_Career_Coaching_Request__c, columns=['MyTrak_1_on_1_Career_Coaching_Request__c'])"
   ]
  },
  {
   "cell_type": "code",
   "execution_count": 27,
   "metadata": {},
   "outputs": [
    {
     "data": {
      "text/html": [
       "<div>\n",
       "<style scoped>\n",
       "    .dataframe tbody tr th:only-of-type {\n",
       "        vertical-align: middle;\n",
       "    }\n",
       "\n",
       "    .dataframe tbody tr th {\n",
       "        vertical-align: top;\n",
       "    }\n",
       "\n",
       "    .dataframe thead th {\n",
       "        text-align: right;\n",
       "    }\n",
       "</style>\n",
       "<table border=\"1\" class=\"dataframe\">\n",
       "  <thead>\n",
       "    <tr style=\"text-align: right;\">\n",
       "      <th>col_0</th>\n",
       "      <th>MyTrak_Be_a_Desirable_Candidate_Complete__c</th>\n",
       "    </tr>\n",
       "    <tr>\n",
       "      <th>MyTrak_Be_a_Desirable_Candidate_Complete__c</th>\n",
       "      <th></th>\n",
       "    </tr>\n",
       "  </thead>\n",
       "  <tbody>\n",
       "    <tr>\n",
       "      <th>0.0</th>\n",
       "      <td>30350</td>\n",
       "    </tr>\n",
       "  </tbody>\n",
       "</table>\n",
       "</div>"
      ],
      "text/plain": [
       "col_0                                        MyTrak_Be_a_Desirable_Candidate_Complete__c\n",
       "MyTrak_Be_a_Desirable_Candidate_Complete__c                                             \n",
       "0.0                                                                                30350"
      ]
     },
     "execution_count": 27,
     "metadata": {},
     "output_type": "execute_result"
    }
   ],
   "source": [
    "pd.crosstab(confirmed_hire.MyTrak_Be_a_Desirable_Candidate_Complete__c, columns=['MyTrak_Be_a_Desirable_Candidate_Complete__c'])"
   ]
  },
  {
   "cell_type": "code",
   "execution_count": 28,
   "metadata": {},
   "outputs": [
    {
     "data": {
      "text/html": [
       "<div>\n",
       "<style scoped>\n",
       "    .dataframe tbody tr th:only-of-type {\n",
       "        vertical-align: middle;\n",
       "    }\n",
       "\n",
       "    .dataframe tbody tr th {\n",
       "        vertical-align: top;\n",
       "    }\n",
       "\n",
       "    .dataframe thead th {\n",
       "        text-align: right;\n",
       "    }\n",
       "</style>\n",
       "<table border=\"1\" class=\"dataframe\">\n",
       "  <thead>\n",
       "    <tr style=\"text-align: right;\">\n",
       "      <th>col_0</th>\n",
       "      <th>MyTrak_Essentials_Complete__c</th>\n",
       "    </tr>\n",
       "    <tr>\n",
       "      <th>MyTrak_Essentials_Complete__c</th>\n",
       "      <th></th>\n",
       "    </tr>\n",
       "  </thead>\n",
       "  <tbody>\n",
       "    <tr>\n",
       "      <th>0.0</th>\n",
       "      <td>24013</td>\n",
       "    </tr>\n",
       "    <tr>\n",
       "      <th>1.0</th>\n",
       "      <td>6337</td>\n",
       "    </tr>\n",
       "  </tbody>\n",
       "</table>\n",
       "</div>"
      ],
      "text/plain": [
       "col_0                          MyTrak_Essentials_Complete__c\n",
       "MyTrak_Essentials_Complete__c                               \n",
       "0.0                                                    24013\n",
       "1.0                                                     6337"
      ]
     },
     "execution_count": 28,
     "metadata": {},
     "output_type": "execute_result"
    }
   ],
   "source": [
    "pd.crosstab(confirmed_hire.MyTrak_Essentials_Complete__c, columns=['MyTrak_Essentials_Complete__c'])"
   ]
  },
  {
   "cell_type": "code",
   "execution_count": 29,
   "metadata": {},
   "outputs": [
    {
     "data": {
      "text/html": [
       "<div>\n",
       "<style scoped>\n",
       "    .dataframe tbody tr th:only-of-type {\n",
       "        vertical-align: middle;\n",
       "    }\n",
       "\n",
       "    .dataframe tbody tr th {\n",
       "        vertical-align: top;\n",
       "    }\n",
       "\n",
       "    .dataframe thead th {\n",
       "        text-align: right;\n",
       "    }\n",
       "</style>\n",
       "<table border=\"1\" class=\"dataframe\">\n",
       "  <thead>\n",
       "    <tr style=\"text-align: right;\">\n",
       "      <th>col_0</th>\n",
       "      <th>MyTrak_Federal_Resume_Review__c</th>\n",
       "    </tr>\n",
       "    <tr>\n",
       "      <th>MyTrak_Federal_Resume_Review__c</th>\n",
       "      <th></th>\n",
       "    </tr>\n",
       "  </thead>\n",
       "  <tbody>\n",
       "    <tr>\n",
       "      <th>0.0</th>\n",
       "      <td>30159</td>\n",
       "    </tr>\n",
       "    <tr>\n",
       "      <th>1.0</th>\n",
       "      <td>191</td>\n",
       "    </tr>\n",
       "  </tbody>\n",
       "</table>\n",
       "</div>"
      ],
      "text/plain": [
       "col_0                            MyTrak_Federal_Resume_Review__c\n",
       "MyTrak_Federal_Resume_Review__c                                 \n",
       "0.0                                                        30159\n",
       "1.0                                                          191"
      ]
     },
     "execution_count": 29,
     "metadata": {},
     "output_type": "execute_result"
    }
   ],
   "source": [
    "pd.crosstab(confirmed_hire.MyTrak_Federal_Resume_Review__c, columns=['MyTrak_Federal_Resume_Review__c'])"
   ]
  },
  {
   "cell_type": "code",
   "execution_count": 30,
   "metadata": {},
   "outputs": [
    {
     "data": {
      "text/html": [
       "<div>\n",
       "<style scoped>\n",
       "    .dataframe tbody tr th:only-of-type {\n",
       "        vertical-align: middle;\n",
       "    }\n",
       "\n",
       "    .dataframe tbody tr th {\n",
       "        vertical-align: top;\n",
       "    }\n",
       "\n",
       "    .dataframe thead th {\n",
       "        text-align: right;\n",
       "    }\n",
       "</style>\n",
       "<table border=\"1\" class=\"dataframe\">\n",
       "  <thead>\n",
       "    <tr style=\"text-align: right;\">\n",
       "      <th>col_0</th>\n",
       "      <th>MyTrak_Is_MyTrak_Registrant__c</th>\n",
       "    </tr>\n",
       "    <tr>\n",
       "      <th>MyTrak_Is_MyTrak_Registrant__c</th>\n",
       "      <th></th>\n",
       "    </tr>\n",
       "  </thead>\n",
       "  <tbody>\n",
       "    <tr>\n",
       "      <th>0.0</th>\n",
       "      <td>23684</td>\n",
       "    </tr>\n",
       "    <tr>\n",
       "      <th>1.0</th>\n",
       "      <td>6666</td>\n",
       "    </tr>\n",
       "  </tbody>\n",
       "</table>\n",
       "</div>"
      ],
      "text/plain": [
       "col_0                           MyTrak_Is_MyTrak_Registrant__c\n",
       "MyTrak_Is_MyTrak_Registrant__c                                \n",
       "0.0                                                      23684\n",
       "1.0                                                       6666"
      ]
     },
     "execution_count": 30,
     "metadata": {},
     "output_type": "execute_result"
    }
   ],
   "source": [
    "pd.crosstab(confirmed_hire.MyTrak_Is_MyTrak_Registrant__c, columns=['MyTrak_Is_MyTrak_Registrant__c'])"
   ]
  },
  {
   "cell_type": "code",
   "execution_count": 31,
   "metadata": {},
   "outputs": [
    {
     "data": {
      "text/html": [
       "<div>\n",
       "<style scoped>\n",
       "    .dataframe tbody tr th:only-of-type {\n",
       "        vertical-align: middle;\n",
       "    }\n",
       "\n",
       "    .dataframe tbody tr th {\n",
       "        vertical-align: top;\n",
       "    }\n",
       "\n",
       "    .dataframe thead th {\n",
       "        text-align: right;\n",
       "    }\n",
       "</style>\n",
       "<table border=\"1\" class=\"dataframe\">\n",
       "  <thead>\n",
       "    <tr style=\"text-align: right;\">\n",
       "      <th>col_0</th>\n",
       "      <th>MyTrak_Mock_Interview_Request__c</th>\n",
       "    </tr>\n",
       "    <tr>\n",
       "      <th>MyTrak_Mock_Interview_Request__c</th>\n",
       "      <th></th>\n",
       "    </tr>\n",
       "  </thead>\n",
       "  <tbody>\n",
       "    <tr>\n",
       "      <th>0.0</th>\n",
       "      <td>30290</td>\n",
       "    </tr>\n",
       "    <tr>\n",
       "      <th>1.0</th>\n",
       "      <td>60</td>\n",
       "    </tr>\n",
       "  </tbody>\n",
       "</table>\n",
       "</div>"
      ],
      "text/plain": [
       "col_0                             MyTrak_Mock_Interview_Request__c\n",
       "MyTrak_Mock_Interview_Request__c                                  \n",
       "0.0                                                          30290\n",
       "1.0                                                             60"
      ]
     },
     "execution_count": 31,
     "metadata": {},
     "output_type": "execute_result"
    }
   ],
   "source": [
    "pd.crosstab(confirmed_hire.MyTrak_Mock_Interview_Request__c, columns=['MyTrak_Mock_Interview_Request__c'])"
   ]
  },
  {
   "cell_type": "code",
   "execution_count": 32,
   "metadata": {},
   "outputs": [
    {
     "data": {
      "text/html": [
       "<div>\n",
       "<style scoped>\n",
       "    .dataframe tbody tr th:only-of-type {\n",
       "        vertical-align: middle;\n",
       "    }\n",
       "\n",
       "    .dataframe tbody tr th {\n",
       "        vertical-align: top;\n",
       "    }\n",
       "\n",
       "    .dataframe thead th {\n",
       "        text-align: right;\n",
       "    }\n",
       "</style>\n",
       "<table border=\"1\" class=\"dataframe\">\n",
       "  <thead>\n",
       "    <tr style=\"text-align: right;\">\n",
       "      <th>col_0</th>\n",
       "      <th>MyTrak_Prepare_for_interview_Complete__c</th>\n",
       "    </tr>\n",
       "    <tr>\n",
       "      <th>MyTrak_Prepare_for_interview_Complete__c</th>\n",
       "      <th></th>\n",
       "    </tr>\n",
       "  </thead>\n",
       "  <tbody>\n",
       "    <tr>\n",
       "      <th>0.0</th>\n",
       "      <td>30350</td>\n",
       "    </tr>\n",
       "  </tbody>\n",
       "</table>\n",
       "</div>"
      ],
      "text/plain": [
       "col_0                                     MyTrak_Prepare_for_interview_Complete__c\n",
       "MyTrak_Prepare_for_interview_Complete__c                                          \n",
       "0.0                                                                          30350"
      ]
     },
     "execution_count": 32,
     "metadata": {},
     "output_type": "execute_result"
    }
   ],
   "source": [
    "pd.crosstab(confirmed_hire.MyTrak_Prepare_for_interview_Complete__c, columns=['MyTrak_Prepare_for_interview_Complete__c'])"
   ]
  },
  {
   "cell_type": "code",
   "execution_count": 33,
   "metadata": {},
   "outputs": [
    {
     "data": {
      "text/html": [
       "<div>\n",
       "<style scoped>\n",
       "    .dataframe tbody tr th:only-of-type {\n",
       "        vertical-align: middle;\n",
       "    }\n",
       "\n",
       "    .dataframe tbody tr th {\n",
       "        vertical-align: top;\n",
       "    }\n",
       "\n",
       "    .dataframe thead th {\n",
       "        text-align: right;\n",
       "    }\n",
       "</style>\n",
       "<table border=\"1\" class=\"dataframe\">\n",
       "  <thead>\n",
       "    <tr style=\"text-align: right;\">\n",
       "      <th>col_0</th>\n",
       "      <th>Is_the_Initial_Intake_Assessment_done__c</th>\n",
       "    </tr>\n",
       "    <tr>\n",
       "      <th>Is_the_Initial_Intake_Assessment_done__c</th>\n",
       "      <th></th>\n",
       "    </tr>\n",
       "  </thead>\n",
       "  <tbody>\n",
       "    <tr>\n",
       "      <th>0</th>\n",
       "      <td>370</td>\n",
       "    </tr>\n",
       "    <tr>\n",
       "      <th>1</th>\n",
       "      <td>29980</td>\n",
       "    </tr>\n",
       "  </tbody>\n",
       "</table>\n",
       "</div>"
      ],
      "text/plain": [
       "col_0                                     Is_the_Initial_Intake_Assessment_done__c\n",
       "Is_the_Initial_Intake_Assessment_done__c                                          \n",
       "0                                                                              370\n",
       "1                                                                            29980"
      ]
     },
     "execution_count": 33,
     "metadata": {},
     "output_type": "execute_result"
    }
   ],
   "source": [
    "pd.crosstab(confirmed_hire.Is_the_Initial_Intake_Assessment_done__c, columns=['Is_the_Initial_Intake_Assessment_done__c'])"
   ]
  },
  {
   "cell_type": "code",
   "execution_count": 34,
   "metadata": {},
   "outputs": [
    {
     "data": {
      "text/html": [
       "<div>\n",
       "<style scoped>\n",
       "    .dataframe tbody tr th:only-of-type {\n",
       "        vertical-align: middle;\n",
       "    }\n",
       "\n",
       "    .dataframe tbody tr th {\n",
       "        vertical-align: top;\n",
       "    }\n",
       "\n",
       "    .dataframe thead th {\n",
       "        text-align: right;\n",
       "    }\n",
       "</style>\n",
       "<table border=\"1\" class=\"dataframe\">\n",
       "  <thead>\n",
       "    <tr style=\"text-align: right;\">\n",
       "      <th>col_0</th>\n",
       "      <th>Permission_to_use_job_board_granted__c</th>\n",
       "    </tr>\n",
       "    <tr>\n",
       "      <th>Permission_to_use_job_board_granted__c</th>\n",
       "      <th></th>\n",
       "    </tr>\n",
       "  </thead>\n",
       "  <tbody>\n",
       "    <tr>\n",
       "      <th>0</th>\n",
       "      <td>26681</td>\n",
       "    </tr>\n",
       "    <tr>\n",
       "      <th>1</th>\n",
       "      <td>3669</td>\n",
       "    </tr>\n",
       "  </tbody>\n",
       "</table>\n",
       "</div>"
      ],
      "text/plain": [
       "col_0                                   Permission_to_use_job_board_granted__c\n",
       "Permission_to_use_job_board_granted__c                                        \n",
       "0                                                                        26681\n",
       "1                                                                         3669"
      ]
     },
     "execution_count": 34,
     "metadata": {},
     "output_type": "execute_result"
    }
   ],
   "source": [
    "pd.crosstab(confirmed_hire.Permission_to_use_job_board_granted__c, columns=['Permission_to_use_job_board_granted__c'])"
   ]
  },
  {
   "cell_type": "code",
   "execution_count": 21,
   "metadata": {},
   "outputs": [
    {
     "data": {
      "text/html": [
       "<div>\n",
       "<style scoped>\n",
       "    .dataframe tbody tr th:only-of-type {\n",
       "        vertical-align: middle;\n",
       "    }\n",
       "\n",
       "    .dataframe tbody tr th {\n",
       "        vertical-align: top;\n",
       "    }\n",
       "\n",
       "    .dataframe thead th {\n",
       "        text-align: right;\n",
       "    }\n",
       "</style>\n",
       "<table border=\"1\" class=\"dataframe\">\n",
       "  <thead>\n",
       "    <tr style=\"text-align: right;\">\n",
       "      <th>col_0</th>\n",
       "      <th>Finalized_HHUSA_revised_resume_on_file__c</th>\n",
       "    </tr>\n",
       "    <tr>\n",
       "      <th>Finalized_HHUSA_revised_resume_on_file__c</th>\n",
       "      <th></th>\n",
       "    </tr>\n",
       "  </thead>\n",
       "  <tbody>\n",
       "    <tr>\n",
       "      <th>0</th>\n",
       "      <td>281</td>\n",
       "    </tr>\n",
       "    <tr>\n",
       "      <th>1</th>\n",
       "      <td>30069</td>\n",
       "    </tr>\n",
       "  </tbody>\n",
       "</table>\n",
       "</div>"
      ],
      "text/plain": [
       "col_0                                      Finalized_HHUSA_revised_resume_on_file__c\n",
       "Finalized_HHUSA_revised_resume_on_file__c                                           \n",
       "0                                                                                281\n",
       "1                                                                              30069"
      ]
     },
     "execution_count": 21,
     "metadata": {},
     "output_type": "execute_result"
    }
   ],
   "source": [
    "pd.crosstab(confirmed_hire.Finalized_HHUSA_revised_resume_on_file__c, columns=['Finalized_HHUSA_revised_resume_on_file__c'])"
   ]
  },
  {
   "cell_type": "code",
   "execution_count": 35,
   "metadata": {},
   "outputs": [
    {
     "data": {
      "text/html": [
       "<div>\n",
       "<style scoped>\n",
       "    .dataframe tbody tr th:only-of-type {\n",
       "        vertical-align: middle;\n",
       "    }\n",
       "\n",
       "    .dataframe tbody tr th {\n",
       "        vertical-align: top;\n",
       "    }\n",
       "\n",
       "    .dataframe thead th {\n",
       "        text-align: right;\n",
       "    }\n",
       "</style>\n",
       "<table border=\"1\" class=\"dataframe\">\n",
       "  <thead>\n",
       "    <tr style=\"text-align: right;\">\n",
       "      <th>col_0</th>\n",
       "      <th>Revised_Resume_Used_to_Apply_for_Job__c</th>\n",
       "    </tr>\n",
       "    <tr>\n",
       "      <th>Revised_Resume_Used_to_Apply_for_Job__c</th>\n",
       "      <th></th>\n",
       "    </tr>\n",
       "  </thead>\n",
       "  <tbody>\n",
       "    <tr>\n",
       "      <th>No</th>\n",
       "      <td>1882</td>\n",
       "    </tr>\n",
       "    <tr>\n",
       "      <th>Yes</th>\n",
       "      <td>23779</td>\n",
       "    </tr>\n",
       "  </tbody>\n",
       "</table>\n",
       "</div>"
      ],
      "text/plain": [
       "col_0                                    Revised_Resume_Used_to_Apply_for_Job__c\n",
       "Revised_Resume_Used_to_Apply_for_Job__c                                         \n",
       "No                                                                          1882\n",
       "Yes                                                                        23779"
      ]
     },
     "execution_count": 35,
     "metadata": {},
     "output_type": "execute_result"
    }
   ],
   "source": [
    "pd.crosstab(confirmed_hire.Revised_Resume_Used_to_Apply_for_Job__c, columns=['Revised_Resume_Used_to_Apply_for_Job__c'])"
   ]
  },
  {
   "cell_type": "code",
   "execution_count": 36,
   "metadata": {},
   "outputs": [
    {
     "data": {
      "text/html": [
       "<div>\n",
       "<style scoped>\n",
       "    .dataframe tbody tr th:only-of-type {\n",
       "        vertical-align: middle;\n",
       "    }\n",
       "\n",
       "    .dataframe tbody tr th {\n",
       "        vertical-align: top;\n",
       "    }\n",
       "\n",
       "    .dataframe thead th {\n",
       "        text-align: right;\n",
       "    }\n",
       "</style>\n",
       "<table border=\"1\" class=\"dataframe\">\n",
       "  <thead>\n",
       "    <tr style=\"text-align: right;\">\n",
       "      <th>col_0</th>\n",
       "      <th>Resume_Tailoring_Tips__c</th>\n",
       "    </tr>\n",
       "    <tr>\n",
       "      <th>Resume_Tailoring_Tips__c</th>\n",
       "      <th></th>\n",
       "    </tr>\n",
       "  </thead>\n",
       "  <tbody>\n",
       "    <tr>\n",
       "      <th>0.0</th>\n",
       "      <td>22076</td>\n",
       "    </tr>\n",
       "    <tr>\n",
       "      <th>1.0</th>\n",
       "      <td>8274</td>\n",
       "    </tr>\n",
       "  </tbody>\n",
       "</table>\n",
       "</div>"
      ],
      "text/plain": [
       "col_0                     Resume_Tailoring_Tips__c\n",
       "Resume_Tailoring_Tips__c                          \n",
       "0.0                                          22076\n",
       "1.0                                           8274"
      ]
     },
     "execution_count": 36,
     "metadata": {},
     "output_type": "execute_result"
    }
   ],
   "source": [
    "pd.crosstab(confirmed_hire.Resume_Tailoring_Tips__c, columns=['Resume_Tailoring_Tips__c'])"
   ]
  },
  {
   "cell_type": "markdown",
   "metadata": {},
   "source": [
    "#to check if the person conducting assesment influences the hiring chances"
   ]
  },
  {
   "cell_type": "code",
   "execution_count": 73,
   "metadata": {},
   "outputs": [],
   "source": [
    "result = (data.reset_index()\n",
    "          .groupby(['Resume_Completed_By__c'])['Resume_Completed_By__c']\n",
    "          .count()\n",
    "          \n",
    "          .rename(columns={'index':'count'})\n",
    "       )"
   ]
  },
  {
   "cell_type": "code",
   "execution_count": 74,
   "metadata": {},
   "outputs": [
    {
     "data": {
      "text/plain": [
       "Resume_Completed_By__c\n",
       "0050z000006tEPEAA2     129\n",
       "0050z0000078xG2AAI      91\n",
       "0050z0000078xGMAAY      91\n",
       "0050z00000796uVAAQ      44\n",
       "0050z00000796uaAAA      69\n",
       "0050z00000796vTAAQ      74\n",
       "0050z00000796vdAAA      72\n",
       "0050z0000079ElWAAU      47\n",
       "0050z0000079ElgAAE      51\n",
       "0050z0000079ElvAAE      59\n",
       "0050z0000079F81AAE      12\n",
       "0050z0000079O3UAAU       2\n",
       "0050z0000079S0yAAE      20\n",
       "0050z0000079S18AAE      17\n",
       "00538000003nrcXAAQ       2\n",
       "005380000044j39AAA     635\n",
       "00538000004SivDAAS     727\n",
       "00538000004SivXAAS     365\n",
       "00538000004SiwBAAS     219\n",
       "00538000004SiwLAAS     390\n",
       "00538000004SiwfAAC     791\n",
       "00538000004SsftAAC     288\n",
       "00538000004kCkJAAU     325\n",
       "00538000004kgd8AAA     427\n",
       "00538000004kgdmAAA     349\n",
       "00538000004kgf9AAA     653\n",
       "00538000004kgfTAAQ     727\n",
       "00538000004kmwXAAQ     295\n",
       "00538000004l7NHAAY     549\n",
       "00538000004lAqgAAE     814\n",
       "                      ... \n",
       "005500000040szYAAQ     452\n",
       "005500000041G89AAE     439\n",
       "005500000041It2AAE     541\n",
       "005500000042ED9AAM     172\n",
       "005500000042GlIAAU     820\n",
       "005500000042I1HAAU     226\n",
       "005500000042RauAAE     156\n",
       "005500000042TrsAAE    1013\n",
       "005500000042TrxAAE     471\n",
       "005500000042Vd4AAE     282\n",
       "005500000042X0TAAU     914\n",
       "005500000042X25AAE     588\n",
       "005500000042c67AAA     487\n",
       "005500000042c6CAAQ     151\n",
       "005500000042c6HAAQ     875\n",
       "005500000042c6MAAQ     231\n",
       "005500000042pkjAAA     490\n",
       "005500000042pkoAAA     607\n",
       "005500000042plIAAQ      86\n",
       "005500000042qPXAAY     425\n",
       "005500000043MkIAAU     413\n",
       "005500000043hbvAAA      63\n",
       "005500000043hc0AAA     224\n",
       "005500000043jE0AAI     323\n",
       "005500000043jLpAAI      70\n",
       "005500000044HdTAAU     319\n",
       "005500000044JlZAAU      13\n",
       "005500000044UKZAA2     221\n",
       "005500000044WcVAAU     337\n",
       "005500000044YEkAAM     336\n",
       "Length: 171, dtype: int64"
      ]
     },
     "execution_count": 74,
     "metadata": {},
     "output_type": "execute_result"
    }
   ],
   "source": [
    "result"
   ]
  },
  {
   "cell_type": "code",
   "execution_count": 72,
   "metadata": {},
   "outputs": [
    {
     "data": {
      "text/plain": [
       "Resume_Completed_By__c\n",
       "0050z000006tEPEAA2     16\n",
       "0050z0000078xG2AAI      7\n",
       "0050z0000078xGMAAY      6\n",
       "0050z00000796uVAAQ      2\n",
       "0050z00000796uaAAA      5\n",
       "0050z00000796vTAAQ      8\n",
       "0050z00000796vdAAA      2\n",
       "0050z0000079ElWAAU      1\n",
       "0050z0000079ElgAAE      1\n",
       "0050z0000079ElvAAE      3\n",
       "00538000003nrcXAAQ      2\n",
       "005380000044j39AAA    382\n",
       "00538000004SivDAAS    443\n",
       "00538000004SivXAAS    199\n",
       "00538000004SiwBAAS    133\n",
       "00538000004SiwLAAS    215\n",
       "00538000004SiwfAAC    373\n",
       "00538000004SsftAAC    149\n",
       "00538000004kCkJAAU    197\n",
       "00538000004kgd8AAA    226\n",
       "00538000004kgdmAAA    183\n",
       "00538000004kgf9AAA    386\n",
       "00538000004kgfTAAQ    344\n",
       "00538000004kmwXAAQ    174\n",
       "00538000004l7NHAAY    373\n",
       "00538000004lAqgAAE    504\n",
       "00538000004lAqqAAE    484\n",
       "00538000004lJWkAAM    434\n",
       "00538000004lJWlAAM    478\n",
       "00538000004lJWmAAM    393\n",
       "                     ... \n",
       "005500000040szYAAQ    315\n",
       "005500000041G89AAE    280\n",
       "005500000041It2AAE    324\n",
       "005500000042ED9AAM    121\n",
       "005500000042GlIAAU    506\n",
       "005500000042I1HAAU    162\n",
       "005500000042RauAAE    105\n",
       "005500000042TrsAAE    674\n",
       "005500000042TrxAAE    345\n",
       "005500000042Vd4AAE    185\n",
       "005500000042X0TAAU    477\n",
       "005500000042X25AAE    388\n",
       "005500000042c67AAA    255\n",
       "005500000042c6CAAQ     93\n",
       "005500000042c6HAAQ    550\n",
       "005500000042c6MAAQ    138\n",
       "005500000042pkjAAA    258\n",
       "005500000042pkoAAA    431\n",
       "005500000042plIAAQ     58\n",
       "005500000042qPXAAY    250\n",
       "005500000043MkIAAU    264\n",
       "005500000043hbvAAA     38\n",
       "005500000043hc0AAA    146\n",
       "005500000043jE0AAI    192\n",
       "005500000043jLpAAI     46\n",
       "005500000044HdTAAU    240\n",
       "005500000044JlZAAU      9\n",
       "005500000044UKZAA2    148\n",
       "005500000044WcVAAU    220\n",
       "005500000044YEkAAM    251\n",
       "Name: Resume_Completed_By__c, Length: 166, dtype: int64"
      ]
     },
     "execution_count": 72,
     "metadata": {},
     "output_type": "execute_result"
    }
   ],
   "source": [
    "confirmed_hire.groupby(['Resume_Completed_By__c'])['Resume_Completed_By__c'].count()"
   ]
  },
  {
   "cell_type": "markdown",
   "metadata": {},
   "source": [
    "Inference:#Data suggests that the hiring mostly depends on the person handling the clients."
   ]
  },
  {
   "cell_type": "code",
   "execution_count": 75,
   "metadata": {},
   "outputs": [
    {
     "data": {
      "text/plain": [
       "Assessment_Completed_By__c\n",
       "0050z000006tEPEAA2     130\n",
       "0050z0000078xG2AAI     107\n",
       "0050z0000078xGMAAY     103\n",
       "0050z00000796uVAAQ      56\n",
       "0050z00000796uaAAA      76\n",
       "0050z00000796vTAAQ      79\n",
       "0050z00000796vdAAA      76\n",
       "0050z0000079ElWAAU      47\n",
       "0050z0000079ElgAAE      58\n",
       "0050z0000079ElvAAE      60\n",
       "0050z0000079O3UAAU       2\n",
       "0050z0000079S0yAAE      23\n",
       "0050z0000079S18AAE      18\n",
       "00538000003nrcXAAQ       3\n",
       "005380000044j39AAA     716\n",
       "00538000004SivDAAS     785\n",
       "00538000004SivXAAS     386\n",
       "00538000004SiwBAAS     250\n",
       "00538000004SiwLAAS     437\n",
       "00538000004SiwfAAC     827\n",
       "00538000004SsftAAC     316\n",
       "00538000004kCkJAAU     325\n",
       "00538000004kgd8AAA     466\n",
       "00538000004kgdmAAA     371\n",
       "00538000004kgf9AAA     684\n",
       "00538000004kgfTAAQ     779\n",
       "00538000004kmwXAAQ     310\n",
       "00538000004l7NHAAY     565\n",
       "00538000004lAqgAAE     848\n",
       "00538000004lAqqAAE     831\n",
       "                      ... \n",
       "005500000040szYAAQ     478\n",
       "005500000041G89AAE     499\n",
       "005500000041It2AAE     600\n",
       "005500000042ED9AAM     206\n",
       "005500000042GlIAAU     862\n",
       "005500000042I1HAAU     258\n",
       "005500000042RauAAE     174\n",
       "005500000042TrsAAE    1030\n",
       "005500000042TrxAAE     482\n",
       "005500000042Vd4AAE     311\n",
       "005500000042X0TAAU     962\n",
       "005500000042X25AAE     619\n",
       "005500000042c67AAA     544\n",
       "005500000042c6CAAQ     191\n",
       "005500000042c6HAAQ     965\n",
       "005500000042c6MAAQ     311\n",
       "005500000042pkjAAA     542\n",
       "005500000042pkoAAA     650\n",
       "005500000042plIAAQ     107\n",
       "005500000042qPXAAY     441\n",
       "005500000043MkIAAU     471\n",
       "005500000043hbvAAA      71\n",
       "005500000043hc0AAA     248\n",
       "005500000043jE0AAI     343\n",
       "005500000043jLpAAI      71\n",
       "005500000044HdTAAU     324\n",
       "005500000044JlZAAU      30\n",
       "005500000044UKZAA2     227\n",
       "005500000044WcVAAU     344\n",
       "005500000044YEkAAM     341\n",
       "Length: 169, dtype: int64"
      ]
     },
     "execution_count": 75,
     "metadata": {},
     "output_type": "execute_result"
    }
   ],
   "source": [
    " (data.reset_index()\n",
    "          .groupby(['Assessment_Completed_By__c'])['Assessment_Completed_By__c']\n",
    "          .count()\n",
    "          \n",
    "          .rename(columns={'index':'count'})\n",
    "       )"
   ]
  },
  {
   "cell_type": "code",
   "execution_count": 76,
   "metadata": {},
   "outputs": [
    {
     "data": {
      "text/plain": [
       "Assessment_Completed_By__c\n",
       "0050z000006tEPEAA2     16\n",
       "0050z0000078xG2AAI      7\n",
       "0050z0000078xGMAAY      6\n",
       "0050z00000796uVAAQ      2\n",
       "0050z00000796uaAAA      5\n",
       "0050z00000796vTAAQ      8\n",
       "0050z00000796vdAAA      2\n",
       "0050z0000079ElWAAU      1\n",
       "0050z0000079ElgAAE      1\n",
       "0050z0000079ElvAAE      3\n",
       "00538000003nrcXAAQ      2\n",
       "005380000044j39AAA    385\n",
       "00538000004SivDAAS    443\n",
       "00538000004SivXAAS    197\n",
       "00538000004SiwBAAS    136\n",
       "00538000004SiwLAAS    210\n",
       "00538000004SiwfAAC    368\n",
       "00538000004SsftAAC    145\n",
       "00538000004kCkJAAU    188\n",
       "00538000004kgd8AAA    226\n",
       "00538000004kgdmAAA    178\n",
       "00538000004kgf9AAA    381\n",
       "00538000004kgfTAAQ    344\n",
       "00538000004kmwXAAQ    177\n",
       "00538000004l7NHAAY    376\n",
       "00538000004lAqgAAE    507\n",
       "00538000004lAqqAAE    481\n",
       "00538000004lJWkAAM    429\n",
       "00538000004lJWlAAM    465\n",
       "00538000004lJWmAAM    387\n",
       "                     ... \n",
       "005500000040szYAAQ    313\n",
       "005500000041G89AAE    275\n",
       "005500000041It2AAE    320\n",
       "005500000042ED9AAM    125\n",
       "005500000042GlIAAU    491\n",
       "005500000042I1HAAU    172\n",
       "005500000042RauAAE    108\n",
       "005500000042TrsAAE    673\n",
       "005500000042TrxAAE    342\n",
       "005500000042Vd4AAE    192\n",
       "005500000042X0TAAU    474\n",
       "005500000042X25AAE    393\n",
       "005500000042c67AAA    261\n",
       "005500000042c6CAAQ     98\n",
       "005500000042c6HAAQ    553\n",
       "005500000042c6MAAQ    140\n",
       "005500000042pkjAAA    262\n",
       "005500000042pkoAAA    426\n",
       "005500000042plIAAQ     60\n",
       "005500000042qPXAAY    252\n",
       "005500000043MkIAAU    268\n",
       "005500000043hbvAAA     37\n",
       "005500000043hc0AAA    143\n",
       "005500000043jE0AAI    185\n",
       "005500000043jLpAAI     47\n",
       "005500000044HdTAAU    234\n",
       "005500000044JlZAAU     16\n",
       "005500000044UKZAA2    151\n",
       "005500000044WcVAAU    223\n",
       "005500000044YEkAAM    252\n",
       "Name: Assessment_Completed_By__c, Length: 166, dtype: int64"
      ]
     },
     "execution_count": 76,
     "metadata": {},
     "output_type": "execute_result"
    }
   ],
   "source": [
    "confirmed_hire.groupby(['Assessment_Completed_By__c'])['Assessment_Completed_By__c'].count()"
   ]
  },
  {
   "cell_type": "code",
   "execution_count": null,
   "metadata": {},
   "outputs": [],
   "source": []
  }
 ],
 "metadata": {
  "kernelspec": {
   "display_name": "Python 3",
   "language": "python",
   "name": "python3"
  },
  "language_info": {
   "codemirror_mode": {
    "name": "ipython",
    "version": 3
   },
   "file_extension": ".py",
   "mimetype": "text/x-python",
   "name": "python",
   "nbconvert_exporter": "python",
   "pygments_lexer": "ipython3",
   "version": "3.7.0"
  }
 },
 "nbformat": 4,
 "nbformat_minor": 2
}
