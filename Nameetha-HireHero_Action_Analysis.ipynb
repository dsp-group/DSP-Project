{
 "cells": [
  {
   "cell_type": "code",
   "execution_count": 11,
   "metadata": {},
   "outputs": [],
   "source": [
    "import pandas as pd\n"
   ]
  },
  {
   "cell_type": "code",
   "execution_count": 12,
   "metadata": {},
   "outputs": [],
   "source": [
    "import numpy as np\n",
    "import pandas as pd\n",
    "import matplotlib.pyplot as plt"
   ]
  },
  {
   "cell_type": "code",
   "execution_count": 13,
   "metadata": {},
   "outputs": [],
   "source": [
    "data=pd.read_csv(\"clean_contact_dataset.csv\",encoding='latin', low_memory=False)"
   ]
  },
  {
   "cell_type": "code",
   "execution_count": 14,
   "metadata": {},
   "outputs": [],
   "source": [
    "action_list=[\"Resume_Tailoring_Tips__c\",\"Hire_Heroes_USA_Confirmed_Hire__c\",\"Used_Volunteer_Services__c\",\"VCF_Participant__c\",\"Virtual_Workshop_Participant__c\",\"On_Job_Board__c\",\"Used_Federal_Services__c\",\"Interview_Skills__c\",\n",
    "\"Created_LinkedIn_account__c\",\"Value_Proposition__c\",\"Updated_Resume_Complete__c\",\"HHUSA_Workshop_Participant__c\",\"O2O_Initial_Assessment_Complete__c\",\n",
    "\"Is_the_Initial_Intake_Assessment_done__c\",\"Permission_to_use_job_board_granted__c\",\"Finalized_HHUSA_revised_resume_on_file__c\"]"
   ]
  },
  {
   "cell_type": "code",
   "execution_count": 15,
   "metadata": {},
   "outputs": [],
   "source": [
    "data=data[action_list]"
   ]
  },
  {
   "cell_type": "markdown",
   "metadata": {},
   "source": [
    "# General Methods"
   ]
  },
  {
   "cell_type": "code",
   "execution_count": 16,
   "metadata": {},
   "outputs": [],
   "source": [
    "def count_table(dataFrame,feature):\n",
    "    dataset_by_feature = dataFrame.groupby(feature)\n",
    "    countTable = dataset_by_feature[feature].agg(['count'])\n",
    "    total_feature = countTable.values.sum()\n",
    "    proportion = np.divide(countTable['count'], total_feature/100)\n",
    "    countTable['%'] = proportion\n",
    "    countTable = countTable.reset_index()\n",
    "    return countTable.nlargest(25, 'count')\n",
    "def summary(dataFrame,feature):\n",
    "    plot = count_table(dataFrame,feature).plot(x = feature, y = '%', kind = 'bar')\n",
    "    plt.show()\n",
    "    return count_table(dataFrame,feature)\n",
    "def compare(feature1, feature2, data):\n",
    "    data0 = data.loc[data[feature2]==0]\n",
    "    data1 = data.loc[data[feature2]==1]\n",
    "    #print(data0.shape)\n",
    "    #print(data1.shape)\n",
    "    data0_by_feature = data0.groupby(feature1)\n",
    "    data1_by_feature = data1.groupby(feature1)\n",
    "    countTable0 = data0_by_feature[feature1].agg(['count'])\n",
    "    countTable1 = data1_by_feature[feature1].agg(['count'])\n",
    "    countTable0.rename(columns={'count': '0'}, inplace=True)\n",
    "    countTable1.rename(columns={'count': '1'}, inplace=True)\n",
    "    countTable = pd.merge(countTable0, countTable1, on=feature1)\n",
    "    #total_feature = countTable.values.sum()\n",
    "    #proportion = np.divide(countTable['count'], total_feature/100)\n",
    "    countTable['Not Hired'] = countTable['0']/(countTable['0'] + countTable['1'])*100\n",
    "    countTable['Hired'] = countTable['1']/(countTable['0'] + countTable['1'])*100\n",
    "    countTable['Difference'] = countTable['Hired'] - countTable['Not Hired']\n",
    "    countTable = countTable.reset_index()\n",
    "    ind = np.arange(len(countTable))\n",
    "    totals = [i+j for i,j in zip(countTable['0'], countTable['1'])]\n",
    "    bar0 = [i / j * 100 for i,j in zip(countTable['0'], totals)]\n",
    "    bar1 = [i / j * 100 for i,j in zip(countTable['1'], totals)]\n",
    "    #print(bar0)\n",
    "    #print(bar1)\n",
    "    width = 0.9\n",
    "    plt.figure(num=None, figsize=(3, 6), dpi=80, facecolor='w', edgecolor='k')\n",
    "    p1 = plt.bar(ind, bar1, color='orange', width=width, label='1 = Hired')\n",
    "    p2 = plt.bar(ind, bar0, color='blue', bottom=bar1, width=width, label='0 = Not Hired')\n",
    "    plt.xticks(ind, countTable[feature1].values)\n",
    "    plt.yticks(np.arange(0, 101, 10))\n",
    "    plt.legend(loc='upper left', bbox_to_anchor=(1,1), ncol=1)\n",
    "    plt.show()\n",
    "    print(\"Difference in Hired =\", abs(bar1[0]-bar1[1]))\n",
    "    return countTable"
   ]
  },
  {
   "cell_type": "markdown",
   "metadata": {},
   "source": [
    "# Used_Volunteer_Services__c"
   ]
  },
  {
   "cell_type": "code",
   "execution_count": 17,
   "metadata": {},
   "outputs": [
    {
     "data": {
      "image/png": "[encoded data removed]",
      "text/plain": [
       "<Figure size 240x480 with 1 Axes>"
      ]
     },
     "metadata": {},
     "output_type": "display_data"
    },
    {
     "name": "stdout",
     "output_type": "stream",
     "text": [
      "Difference in Hired = 11.209245657852541\n"
     ]
    },
    {
     "data": {
      "text/html": [
       "<div>\n",
       "<style scoped>\n",
       "    .dataframe tbody tr th:only-of-type {\n",
       "        vertical-align: middle;\n",
       "    }\n",
       "\n",
       "    .dataframe tbody tr th {\n",
       "        vertical-align: top;\n",
       "    }\n",
       "\n",
       "    .dataframe thead th {\n",
       "        text-align: right;\n",
       "    }\n",
       "</style>\n",
       "<table border=\"1\" class=\"dataframe\">\n",
       "  <thead>\n",
       "    <tr style=\"text-align: right;\">\n",
       "      <th></th>\n",
       "      <th>Used_Volunteer_Services__c</th>\n",
       "      <th>0</th>\n",
       "      <th>1</th>\n",
       "      <th>Not Hired</th>\n",
       "      <th>Hired</th>\n",
       "      <th>Difference</th>\n",
       "    </tr>\n",
       "  </thead>\n",
       "  <tbody>\n",
       "    <tr>\n",
       "      <th>0</th>\n",
       "      <td>0.0</td>\n",
       "      <td>16765</td>\n",
       "      <td>20641</td>\n",
       "      <td>44.819013</td>\n",
       "      <td>55.180987</td>\n",
       "      <td>10.361974</td>\n",
       "    </tr>\n",
       "    <tr>\n",
       "      <th>1</th>\n",
       "      <td>1.0</td>\n",
       "      <td>1459</td>\n",
       "      <td>2882</td>\n",
       "      <td>33.609767</td>\n",
       "      <td>66.390233</td>\n",
       "      <td>32.780465</td>\n",
       "    </tr>\n",
       "  </tbody>\n",
       "</table>\n",
       "</div>"
      ],
      "text/plain": [
       "   Used_Volunteer_Services__c      0      1  Not Hired      Hired  Difference\n",
       "0                         0.0  16765  20641  44.819013  55.180987   10.361974\n",
       "1                         1.0   1459   2882  33.609767  66.390233   32.780465"
      ]
     },
     "execution_count": 17,
     "metadata": {},
     "output_type": "execute_result"
    }
   ],
   "source": [
    "#summary(confirmed_hire,'Used_Volunteer_Services__c')\n",
    "compare(\"Used_Volunteer_Services__c\", \"Hire_Heroes_USA_Confirmed_Hire__c\", data)"
   ]
  },
  {
   "cell_type": "markdown",
   "metadata": {},
   "source": [
    "# VCF_Participant__c"
   ]
  },
  {
   "cell_type": "code",
   "execution_count": 18,
   "metadata": {},
   "outputs": [
    {
     "data": {
      "image/png": "[encoded data removed]",
      "text/plain": [
       "<Figure size 240x480 with 1 Axes>"
      ]
     },
     "metadata": {},
     "output_type": "display_data"
    },
    {
     "name": "stdout",
     "output_type": "stream",
     "text": [
      "Difference in Hired = 3.1442491196606355\n"
     ]
    },
    {
     "data": {
      "text/html": [
       "<div>\n",
       "<style scoped>\n",
       "    .dataframe tbody tr th:only-of-type {\n",
       "        vertical-align: middle;\n",
       "    }\n",
       "\n",
       "    .dataframe tbody tr th {\n",
       "        vertical-align: top;\n",
       "    }\n",
       "\n",
       "    .dataframe thead th {\n",
       "        text-align: right;\n",
       "    }\n",
       "</style>\n",
       "<table border=\"1\" class=\"dataframe\">\n",
       "  <thead>\n",
       "    <tr style=\"text-align: right;\">\n",
       "      <th></th>\n",
       "      <th>VCF_Participant__c</th>\n",
       "      <th>0</th>\n",
       "      <th>1</th>\n",
       "      <th>Not Hired</th>\n",
       "      <th>Hired</th>\n",
       "      <th>Difference</th>\n",
       "    </tr>\n",
       "  </thead>\n",
       "  <tbody>\n",
       "    <tr>\n",
       "      <th>0</th>\n",
       "      <td>0.0</td>\n",
       "      <td>17871</td>\n",
       "      <td>23006</td>\n",
       "      <td>43.718962</td>\n",
       "      <td>56.281038</td>\n",
       "      <td>12.562076</td>\n",
       "    </tr>\n",
       "    <tr>\n",
       "      <th>1</th>\n",
       "      <td>1.0</td>\n",
       "      <td>353</td>\n",
       "      <td>517</td>\n",
       "      <td>40.574713</td>\n",
       "      <td>59.425287</td>\n",
       "      <td>18.850575</td>\n",
       "    </tr>\n",
       "  </tbody>\n",
       "</table>\n",
       "</div>"
      ],
      "text/plain": [
       "   VCF_Participant__c      0      1  Not Hired      Hired  Difference\n",
       "0                 0.0  17871  23006  43.718962  56.281038   12.562076\n",
       "1                 1.0    353    517  40.574713  59.425287   18.850575"
      ]
     },
     "execution_count": 18,
     "metadata": {},
     "output_type": "execute_result"
    }
   ],
   "source": [
    "#summary(confirmed_hire,'VCF_Participant__c')\n",
    "compare(\"VCF_Participant__c\", \"Hire_Heroes_USA_Confirmed_Hire__c\", data)"
   ]
  },
  {
   "cell_type": "markdown",
   "metadata": {},
   "source": [
    "# Virtual_Workshop_Participant__c"
   ]
  },
  {
   "cell_type": "code",
   "execution_count": 19,
   "metadata": {},
   "outputs": [
    {
     "data": {
      "image/png": "[encoded data removed]",
      "text/plain": [
       "<Figure size 240x480 with 1 Axes>"
      ]
     },
     "metadata": {},
     "output_type": "display_data"
    },
    {
     "name": "stdout",
     "output_type": "stream",
     "text": [
      "Difference in Hired = 3.8773901609253727\n"
     ]
    },
    {
     "data": {
      "text/html": [
       "<div>\n",
       "<style scoped>\n",
       "    .dataframe tbody tr th:only-of-type {\n",
       "        vertical-align: middle;\n",
       "    }\n",
       "\n",
       "    .dataframe tbody tr th {\n",
       "        vertical-align: top;\n",
       "    }\n",
       "\n",
       "    .dataframe thead th {\n",
       "        text-align: right;\n",
       "    }\n",
       "</style>\n",
       "<table border=\"1\" class=\"dataframe\">\n",
       "  <thead>\n",
       "    <tr style=\"text-align: right;\">\n",
       "      <th></th>\n",
       "      <th>Virtual_Workshop_Participant__c</th>\n",
       "      <th>0</th>\n",
       "      <th>1</th>\n",
       "      <th>Not Hired</th>\n",
       "      <th>Hired</th>\n",
       "      <th>Difference</th>\n",
       "    </tr>\n",
       "  </thead>\n",
       "  <tbody>\n",
       "    <tr>\n",
       "      <th>0</th>\n",
       "      <td>0.0</td>\n",
       "      <td>18157</td>\n",
       "      <td>23449</td>\n",
       "      <td>43.64034</td>\n",
       "      <td>56.35966</td>\n",
       "      <td>12.719319</td>\n",
       "    </tr>\n",
       "    <tr>\n",
       "      <th>1</th>\n",
       "      <td>1.0</td>\n",
       "      <td>67</td>\n",
       "      <td>74</td>\n",
       "      <td>47.51773</td>\n",
       "      <td>52.48227</td>\n",
       "      <td>4.964539</td>\n",
       "    </tr>\n",
       "  </tbody>\n",
       "</table>\n",
       "</div>"
      ],
      "text/plain": [
       "   Virtual_Workshop_Participant__c      0      1  Not Hired     Hired  \\\n",
       "0                              0.0  18157  23449   43.64034  56.35966   \n",
       "1                              1.0     67     74   47.51773  52.48227   \n",
       "\n",
       "   Difference  \n",
       "0   12.719319  \n",
       "1    4.964539  "
      ]
     },
     "execution_count": 19,
     "metadata": {},
     "output_type": "execute_result"
    }
   ],
   "source": [
    "\n",
    "compare(\"Virtual_Workshop_Participant__c\", \"Hire_Heroes_USA_Confirmed_Hire__c\", data)"
   ]
  },
  {
   "cell_type": "markdown",
   "metadata": {},
   "source": [
    "# On_Job_Board__c"
   ]
  },
  {
   "cell_type": "code",
   "execution_count": 20,
   "metadata": {},
   "outputs": [
    {
     "data": {
      "image/png": "[encoded data removed]",
      "text/plain": [
       "<Figure size 240x480 with 1 Axes>"
      ]
     },
     "metadata": {},
     "output_type": "display_data"
    },
    {
     "name": "stdout",
     "output_type": "stream",
     "text": [
      "Difference in Hired = 0.36006833030356233\n"
     ]
    },
    {
     "data": {
      "text/html": [
       "<div>\n",
       "<style scoped>\n",
       "    .dataframe tbody tr th:only-of-type {\n",
       "        vertical-align: middle;\n",
       "    }\n",
       "\n",
       "    .dataframe tbody tr th {\n",
       "        vertical-align: top;\n",
       "    }\n",
       "\n",
       "    .dataframe thead th {\n",
       "        text-align: right;\n",
       "    }\n",
       "</style>\n",
       "<table border=\"1\" class=\"dataframe\">\n",
       "  <thead>\n",
       "    <tr style=\"text-align: right;\">\n",
       "      <th></th>\n",
       "      <th>On_Job_Board__c</th>\n",
       "      <th>0</th>\n",
       "      <th>1</th>\n",
       "      <th>Not Hired</th>\n",
       "      <th>Hired</th>\n",
       "      <th>Difference</th>\n",
       "    </tr>\n",
       "  </thead>\n",
       "  <tbody>\n",
       "    <tr>\n",
       "      <th>0</th>\n",
       "      <td>0.0</td>\n",
       "      <td>15574</td>\n",
       "      <td>20145</td>\n",
       "      <td>43.601445</td>\n",
       "      <td>56.398555</td>\n",
       "      <td>12.797111</td>\n",
       "    </tr>\n",
       "    <tr>\n",
       "      <th>1</th>\n",
       "      <td>1.0</td>\n",
       "      <td>2650</td>\n",
       "      <td>3378</td>\n",
       "      <td>43.961513</td>\n",
       "      <td>56.038487</td>\n",
       "      <td>12.076974</td>\n",
       "    </tr>\n",
       "  </tbody>\n",
       "</table>\n",
       "</div>"
      ],
      "text/plain": [
       "   On_Job_Board__c      0      1  Not Hired      Hired  Difference\n",
       "0              0.0  15574  20145  43.601445  56.398555   12.797111\n",
       "1              1.0   2650   3378  43.961513  56.038487   12.076974"
      ]
     },
     "execution_count": 20,
     "metadata": {},
     "output_type": "execute_result"
    }
   ],
   "source": [
    "\n",
    "compare(\"On_Job_Board__c\", \"Hire_Heroes_USA_Confirmed_Hire__c\", data)"
   ]
  },
  {
   "cell_type": "markdown",
   "metadata": {},
   "source": [
    "# Used_Federal_Services__c"
   ]
  },
  {
   "cell_type": "code",
   "execution_count": 21,
   "metadata": {},
   "outputs": [
    {
     "data": {
      "image/png": "[encoded data removed]",
      "text/plain": [
       "<Figure size 240x480 with 1 Axes>"
      ]
     },
     "metadata": {},
     "output_type": "display_data"
    },
    {
     "name": "stdout",
     "output_type": "stream",
     "text": [
      "Difference in Hired = 1.2835256787859919\n"
     ]
    },
    {
     "data": {
      "text/html": [
       "<div>\n",
       "<style scoped>\n",
       "    .dataframe tbody tr th:only-of-type {\n",
       "        vertical-align: middle;\n",
       "    }\n",
       "\n",
       "    .dataframe tbody tr th {\n",
       "        vertical-align: top;\n",
       "    }\n",
       "\n",
       "    .dataframe thead th {\n",
       "        text-align: right;\n",
       "    }\n",
       "</style>\n",
       "<table border=\"1\" class=\"dataframe\">\n",
       "  <thead>\n",
       "    <tr style=\"text-align: right;\">\n",
       "      <th></th>\n",
       "      <th>Used_Federal_Services__c</th>\n",
       "      <th>0</th>\n",
       "      <th>1</th>\n",
       "      <th>Not Hired</th>\n",
       "      <th>Hired</th>\n",
       "      <th>Difference</th>\n",
       "    </tr>\n",
       "  </thead>\n",
       "  <tbody>\n",
       "    <tr>\n",
       "      <th>0</th>\n",
       "      <td>0.0</td>\n",
       "      <td>17301</td>\n",
       "      <td>22271</td>\n",
       "      <td>43.720307</td>\n",
       "      <td>56.279693</td>\n",
       "      <td>12.559385</td>\n",
       "    </tr>\n",
       "    <tr>\n",
       "      <th>1</th>\n",
       "      <td>1.0</td>\n",
       "      <td>923</td>\n",
       "      <td>1252</td>\n",
       "      <td>42.436782</td>\n",
       "      <td>57.563218</td>\n",
       "      <td>15.126437</td>\n",
       "    </tr>\n",
       "  </tbody>\n",
       "</table>\n",
       "</div>"
      ],
      "text/plain": [
       "   Used_Federal_Services__c      0      1  Not Hired      Hired  Difference\n",
       "0                       0.0  17301  22271  43.720307  56.279693   12.559385\n",
       "1                       1.0    923   1252  42.436782  57.563218   15.126437"
      ]
     },
     "execution_count": 21,
     "metadata": {},
     "output_type": "execute_result"
    }
   ],
   "source": [
    "\n",
    "compare(\"Used_Federal_Services__c\", \"Hire_Heroes_USA_Confirmed_Hire__c\", data)"
   ]
  },
  {
   "cell_type": "markdown",
   "metadata": {},
   "source": [
    "# Interview_Skills__c"
   ]
  },
  {
   "cell_type": "code",
   "execution_count": 22,
   "metadata": {},
   "outputs": [
    {
     "data": {
      "image/png": "[encoded data removed]",
      "text/plain": [
       "<Figure size 240x480 with 1 Axes>"
      ]
     },
     "metadata": {},
     "output_type": "display_data"
    },
    {
     "name": "stdout",
     "output_type": "stream",
     "text": [
      "Difference in Hired = 0.9218199517375609\n"
     ]
    },
    {
     "data": {
      "text/html": [
       "<div>\n",
       "<style scoped>\n",
       "    .dataframe tbody tr th:only-of-type {\n",
       "        vertical-align: middle;\n",
       "    }\n",
       "\n",
       "    .dataframe tbody tr th {\n",
       "        vertical-align: top;\n",
       "    }\n",
       "\n",
       "    .dataframe thead th {\n",
       "        text-align: right;\n",
       "    }\n",
       "</style>\n",
       "<table border=\"1\" class=\"dataframe\">\n",
       "  <thead>\n",
       "    <tr style=\"text-align: right;\">\n",
       "      <th></th>\n",
       "      <th>Interview_Skills__c</th>\n",
       "      <th>0</th>\n",
       "      <th>1</th>\n",
       "      <th>Not Hired</th>\n",
       "      <th>Hired</th>\n",
       "      <th>Difference</th>\n",
       "    </tr>\n",
       "  </thead>\n",
       "  <tbody>\n",
       "    <tr>\n",
       "      <th>0</th>\n",
       "      <td>0</td>\n",
       "      <td>3275</td>\n",
       "      <td>4359</td>\n",
       "      <td>42.900183</td>\n",
       "      <td>57.099817</td>\n",
       "      <td>14.199633</td>\n",
       "    </tr>\n",
       "    <tr>\n",
       "      <th>1</th>\n",
       "      <td>1</td>\n",
       "      <td>14949</td>\n",
       "      <td>19164</td>\n",
       "      <td>43.822003</td>\n",
       "      <td>56.177997</td>\n",
       "      <td>12.355993</td>\n",
       "    </tr>\n",
       "  </tbody>\n",
       "</table>\n",
       "</div>"
      ],
      "text/plain": [
       "   Interview_Skills__c      0      1  Not Hired      Hired  Difference\n",
       "0                    0   3275   4359  42.900183  57.099817   14.199633\n",
       "1                    1  14949  19164  43.822003  56.177997   12.355993"
      ]
     },
     "execution_count": 22,
     "metadata": {},
     "output_type": "execute_result"
    }
   ],
   "source": [
    "compare(\"Interview_Skills__c\", \"Hire_Heroes_USA_Confirmed_Hire__c\", data)"
   ]
  },
  {
   "cell_type": "markdown",
   "metadata": {},
   "source": [
    "# Created_LinkedIn_account__c"
   ]
  },
  {
   "cell_type": "code",
   "execution_count": 23,
   "metadata": {},
   "outputs": [
    {
     "data": {
      "image/png": "[encoded data removed]",
      "text/plain": [
       "<Figure size 240x480 with 1 Axes>"
      ]
     },
     "metadata": {},
     "output_type": "display_data"
    },
    {
     "name": "stdout",
     "output_type": "stream",
     "text": [
      "Difference in Hired = 3.571461634752417\n"
     ]
    },
    {
     "data": {
      "text/html": [
       "<div>\n",
       "<style scoped>\n",
       "    .dataframe tbody tr th:only-of-type {\n",
       "        vertical-align: middle;\n",
       "    }\n",
       "\n",
       "    .dataframe tbody tr th {\n",
       "        vertical-align: top;\n",
       "    }\n",
       "\n",
       "    .dataframe thead th {\n",
       "        text-align: right;\n",
       "    }\n",
       "</style>\n",
       "<table border=\"1\" class=\"dataframe\">\n",
       "  <thead>\n",
       "    <tr style=\"text-align: right;\">\n",
       "      <th></th>\n",
       "      <th>Created_LinkedIn_account__c</th>\n",
       "      <th>0</th>\n",
       "      <th>1</th>\n",
       "      <th>Not Hired</th>\n",
       "      <th>Hired</th>\n",
       "      <th>Difference</th>\n",
       "    </tr>\n",
       "  </thead>\n",
       "  <tbody>\n",
       "    <tr>\n",
       "      <th>0</th>\n",
       "      <td>0</td>\n",
       "      <td>6507</td>\n",
       "      <td>7634</td>\n",
       "      <td>46.015133</td>\n",
       "      <td>53.984867</td>\n",
       "      <td>7.969733</td>\n",
       "    </tr>\n",
       "    <tr>\n",
       "      <th>1</th>\n",
       "      <td>1</td>\n",
       "      <td>11717</td>\n",
       "      <td>15889</td>\n",
       "      <td>42.443672</td>\n",
       "      <td>57.556328</td>\n",
       "      <td>15.112657</td>\n",
       "    </tr>\n",
       "  </tbody>\n",
       "</table>\n",
       "</div>"
      ],
      "text/plain": [
       "   Created_LinkedIn_account__c      0      1  Not Hired      Hired  Difference\n",
       "0                            0   6507   7634  46.015133  53.984867    7.969733\n",
       "1                            1  11717  15889  42.443672  57.556328   15.112657"
      ]
     },
     "execution_count": 23,
     "metadata": {},
     "output_type": "execute_result"
    }
   ],
   "source": [
    "compare(\"Created_LinkedIn_account__c\", \"Hire_Heroes_USA_Confirmed_Hire__c\", data)"
   ]
  },
  {
   "cell_type": "markdown",
   "metadata": {},
   "source": [
    "# Value_Proposition__c"
   ]
  },
  {
   "cell_type": "code",
   "execution_count": 24,
   "metadata": {},
   "outputs": [
    {
     "data": {
      "image/png": "[encoded data removed]",
      "text/plain": [
       "<Figure size 240x480 with 1 Axes>"
      ]
     },
     "metadata": {},
     "output_type": "display_data"
    },
    {
     "name": "stdout",
     "output_type": "stream",
     "text": [
      "Difference in Hired = 4.540929892038449\n"
     ]
    },
    {
     "data": {
      "text/html": [
       "<div>\n",
       "<style scoped>\n",
       "    .dataframe tbody tr th:only-of-type {\n",
       "        vertical-align: middle;\n",
       "    }\n",
       "\n",
       "    .dataframe tbody tr th {\n",
       "        vertical-align: top;\n",
       "    }\n",
       "\n",
       "    .dataframe thead th {\n",
       "        text-align: right;\n",
       "    }\n",
       "</style>\n",
       "<table border=\"1\" class=\"dataframe\">\n",
       "  <thead>\n",
       "    <tr style=\"text-align: right;\">\n",
       "      <th></th>\n",
       "      <th>Value_Proposition__c</th>\n",
       "      <th>0</th>\n",
       "      <th>1</th>\n",
       "      <th>Not Hired</th>\n",
       "      <th>Hired</th>\n",
       "      <th>Difference</th>\n",
       "    </tr>\n",
       "  </thead>\n",
       "  <tbody>\n",
       "    <tr>\n",
       "      <th>0</th>\n",
       "      <td>0.0</td>\n",
       "      <td>2643</td>\n",
       "      <td>3992</td>\n",
       "      <td>39.834213</td>\n",
       "      <td>60.165787</td>\n",
       "      <td>20.331575</td>\n",
       "    </tr>\n",
       "    <tr>\n",
       "      <th>1</th>\n",
       "      <td>1.0</td>\n",
       "      <td>15581</td>\n",
       "      <td>19531</td>\n",
       "      <td>44.375142</td>\n",
       "      <td>55.624858</td>\n",
       "      <td>11.249715</td>\n",
       "    </tr>\n",
       "  </tbody>\n",
       "</table>\n",
       "</div>"
      ],
      "text/plain": [
       "   Value_Proposition__c      0      1  Not Hired      Hired  Difference\n",
       "0                   0.0   2643   3992  39.834213  60.165787   20.331575\n",
       "1                   1.0  15581  19531  44.375142  55.624858   11.249715"
      ]
     },
     "execution_count": 24,
     "metadata": {},
     "output_type": "execute_result"
    }
   ],
   "source": [
    "compare(\"Value_Proposition__c\", \"Hire_Heroes_USA_Confirmed_Hire__c\", data)"
   ]
  },
  {
   "cell_type": "markdown",
   "metadata": {},
   "source": [
    "# Updated_Resume_Complete__c"
   ]
  },
  {
   "cell_type": "code",
   "execution_count": 25,
   "metadata": {},
   "outputs": [
    {
     "data": {
      "image/png": "[encoded data removed]",
      "text/plain": [
       "<Figure size 240x480 with 1 Axes>"
      ]
     },
     "metadata": {},
     "output_type": "display_data"
    },
    {
     "name": "stdout",
     "output_type": "stream",
     "text": [
      "Difference in Hired = 0.2573432180823758\n"
     ]
    },
    {
     "data": {
      "text/html": [
       "<div>\n",
       "<style scoped>\n",
       "    .dataframe tbody tr th:only-of-type {\n",
       "        vertical-align: middle;\n",
       "    }\n",
       "\n",
       "    .dataframe tbody tr th {\n",
       "        vertical-align: top;\n",
       "    }\n",
       "\n",
       "    .dataframe thead th {\n",
       "        text-align: right;\n",
       "    }\n",
       "</style>\n",
       "<table border=\"1\" class=\"dataframe\">\n",
       "  <thead>\n",
       "    <tr style=\"text-align: right;\">\n",
       "      <th></th>\n",
       "      <th>Updated_Resume_Complete__c</th>\n",
       "      <th>0</th>\n",
       "      <th>1</th>\n",
       "      <th>Not Hired</th>\n",
       "      <th>Hired</th>\n",
       "      <th>Difference</th>\n",
       "    </tr>\n",
       "  </thead>\n",
       "  <tbody>\n",
       "    <tr>\n",
       "      <th>0</th>\n",
       "      <td>0.0</td>\n",
       "      <td>17630</td>\n",
       "      <td>22764</td>\n",
       "      <td>43.645096</td>\n",
       "      <td>56.354904</td>\n",
       "      <td>12.709808</td>\n",
       "    </tr>\n",
       "    <tr>\n",
       "      <th>1</th>\n",
       "      <td>1.0</td>\n",
       "      <td>594</td>\n",
       "      <td>759</td>\n",
       "      <td>43.902439</td>\n",
       "      <td>56.097561</td>\n",
       "      <td>12.195122</td>\n",
       "    </tr>\n",
       "  </tbody>\n",
       "</table>\n",
       "</div>"
      ],
      "text/plain": [
       "   Updated_Resume_Complete__c      0      1  Not Hired      Hired  Difference\n",
       "0                         0.0  17630  22764  43.645096  56.354904   12.709808\n",
       "1                         1.0    594    759  43.902439  56.097561   12.195122"
      ]
     },
     "execution_count": 25,
     "metadata": {},
     "output_type": "execute_result"
    }
   ],
   "source": [
    "\n",
    "compare(\"Updated_Resume_Complete__c\", \"Hire_Heroes_USA_Confirmed_Hire__c\", data)"
   ]
  },
  {
   "cell_type": "markdown",
   "metadata": {},
   "source": [
    "# HHUSA_Workshop_Participant__c"
   ]
  },
  {
   "cell_type": "code",
   "execution_count": 26,
   "metadata": {},
   "outputs": [
    {
     "data": {
      "image/png": "[encoded data removed]",
      "text/plain": [
       "<Figure size 240x480 with 1 Axes>"
      ]
     },
     "metadata": {},
     "output_type": "display_data"
    },
    {
     "name": "stdout",
     "output_type": "stream",
     "text": [
      "Difference in Hired = 3.1552739551972877\n"
     ]
    },
    {
     "data": {
      "text/html": [
       "<div>\n",
       "<style scoped>\n",
       "    .dataframe tbody tr th:only-of-type {\n",
       "        vertical-align: middle;\n",
       "    }\n",
       "\n",
       "    .dataframe tbody tr th {\n",
       "        vertical-align: top;\n",
       "    }\n",
       "\n",
       "    .dataframe thead th {\n",
       "        text-align: right;\n",
       "    }\n",
       "</style>\n",
       "<table border=\"1\" class=\"dataframe\">\n",
       "  <thead>\n",
       "    <tr style=\"text-align: right;\">\n",
       "      <th></th>\n",
       "      <th>HHUSA_Workshop_Participant__c</th>\n",
       "      <th>0</th>\n",
       "      <th>1</th>\n",
       "      <th>Not Hired</th>\n",
       "      <th>Hired</th>\n",
       "      <th>Difference</th>\n",
       "    </tr>\n",
       "  </thead>\n",
       "  <tbody>\n",
       "    <tr>\n",
       "      <th>0</th>\n",
       "      <td>0</td>\n",
       "      <td>16385</td>\n",
       "      <td>21408</td>\n",
       "      <td>43.354589</td>\n",
       "      <td>56.645411</td>\n",
       "      <td>13.290821</td>\n",
       "    </tr>\n",
       "    <tr>\n",
       "      <th>1</th>\n",
       "      <td>1</td>\n",
       "      <td>1839</td>\n",
       "      <td>2115</td>\n",
       "      <td>46.509863</td>\n",
       "      <td>53.490137</td>\n",
       "      <td>6.980273</td>\n",
       "    </tr>\n",
       "  </tbody>\n",
       "</table>\n",
       "</div>"
      ],
      "text/plain": [
       "   HHUSA_Workshop_Participant__c      0      1  Not Hired      Hired  \\\n",
       "0                              0  16385  21408  43.354589  56.645411   \n",
       "1                              1   1839   2115  46.509863  53.490137   \n",
       "\n",
       "   Difference  \n",
       "0   13.290821  \n",
       "1    6.980273  "
      ]
     },
     "execution_count": 26,
     "metadata": {},
     "output_type": "execute_result"
    }
   ],
   "source": [
    "compare(\"HHUSA_Workshop_Participant__c\", \"Hire_Heroes_USA_Confirmed_Hire__c\", data)"
   ]
  },
  {
   "cell_type": "markdown",
   "metadata": {},
   "source": [
    "# O2O_Initial_Assessment_Complete__c"
   ]
  },
  {
   "cell_type": "code",
   "execution_count": 27,
   "metadata": {},
   "outputs": [
    {
     "data": {
      "image/png": "[encoded data removed]",
      "text/plain": [
       "<Figure size 240x480 with 1 Axes>"
      ]
     },
     "metadata": {},
     "output_type": "display_data"
    },
    {
     "name": "stdout",
     "output_type": "stream",
     "text": [
      "Difference in Hired = 18.225226284806332\n"
     ]
    },
    {
     "data": {
      "text/html": [
       "<div>\n",
       "<style scoped>\n",
       "    .dataframe tbody tr th:only-of-type {\n",
       "        vertical-align: middle;\n",
       "    }\n",
       "\n",
       "    .dataframe tbody tr th {\n",
       "        vertical-align: top;\n",
       "    }\n",
       "\n",
       "    .dataframe thead th {\n",
       "        text-align: right;\n",
       "    }\n",
       "</style>\n",
       "<table border=\"1\" class=\"dataframe\">\n",
       "  <thead>\n",
       "    <tr style=\"text-align: right;\">\n",
       "      <th></th>\n",
       "      <th>O2O_Initial_Assessment_Complete__c</th>\n",
       "      <th>0</th>\n",
       "      <th>1</th>\n",
       "      <th>Not Hired</th>\n",
       "      <th>Hired</th>\n",
       "      <th>Difference</th>\n",
       "    </tr>\n",
       "  </thead>\n",
       "  <tbody>\n",
       "    <tr>\n",
       "      <th>0</th>\n",
       "      <td>0.0</td>\n",
       "      <td>18127</td>\n",
       "      <td>23241</td>\n",
       "      <td>43.818894</td>\n",
       "      <td>56.181106</td>\n",
       "      <td>12.362212</td>\n",
       "    </tr>\n",
       "    <tr>\n",
       "      <th>1</th>\n",
       "      <td>1.0</td>\n",
       "      <td>97</td>\n",
       "      <td>282</td>\n",
       "      <td>25.593668</td>\n",
       "      <td>74.406332</td>\n",
       "      <td>48.812665</td>\n",
       "    </tr>\n",
       "  </tbody>\n",
       "</table>\n",
       "</div>"
      ],
      "text/plain": [
       "   O2O_Initial_Assessment_Complete__c      0      1  Not Hired      Hired  \\\n",
       "0                                 0.0  18127  23241  43.818894  56.181106   \n",
       "1                                 1.0     97    282  25.593668  74.406332   \n",
       "\n",
       "   Difference  \n",
       "0   12.362212  \n",
       "1   48.812665  "
      ]
     },
     "execution_count": 27,
     "metadata": {},
     "output_type": "execute_result"
    }
   ],
   "source": [
    "#summary(confirmed_hire,'O2O_Initial_Assessment_Complete__c')\n",
    "compare(\"O2O_Initial_Assessment_Complete__c\", \"Hire_Heroes_USA_Confirmed_Hire__c\", data)"
   ]
  },
  {
   "cell_type": "markdown",
   "metadata": {},
   "source": [
    "# Is_the_Initial_Intake_Assessment_done__c"
   ]
  },
  {
   "cell_type": "code",
   "execution_count": 28,
   "metadata": {},
   "outputs": [
    {
     "data": {
      "image/png": "[encoded data removed]",
      "text/plain": [
       "<Figure size 240x480 with 1 Axes>"
      ]
     },
     "metadata": {},
     "output_type": "display_data"
    },
    {
     "name": "stdout",
     "output_type": "stream",
     "text": [
      "Difference in Hired = 11.165625004785873\n"
     ]
    },
    {
     "data": {
      "text/html": [
       "<div>\n",
       "<style scoped>\n",
       "    .dataframe tbody tr th:only-of-type {\n",
       "        vertical-align: middle;\n",
       "    }\n",
       "\n",
       "    .dataframe tbody tr th {\n",
       "        vertical-align: top;\n",
       "    }\n",
       "\n",
       "    .dataframe thead th {\n",
       "        text-align: right;\n",
       "    }\n",
       "</style>\n",
       "<table border=\"1\" class=\"dataframe\">\n",
       "  <thead>\n",
       "    <tr style=\"text-align: right;\">\n",
       "      <th></th>\n",
       "      <th>Is_the_Initial_Intake_Assessment_done__c</th>\n",
       "      <th>0</th>\n",
       "      <th>1</th>\n",
       "      <th>Not Hired</th>\n",
       "      <th>Hired</th>\n",
       "      <th>Difference</th>\n",
       "    </tr>\n",
       "  </thead>\n",
       "  <tbody>\n",
       "    <tr>\n",
       "      <th>0</th>\n",
       "      <td>0</td>\n",
       "      <td>86</td>\n",
       "      <td>71</td>\n",
       "      <td>54.777070</td>\n",
       "      <td>45.222930</td>\n",
       "      <td>-9.55414</td>\n",
       "    </tr>\n",
       "    <tr>\n",
       "      <th>1</th>\n",
       "      <td>1</td>\n",
       "      <td>18138</td>\n",
       "      <td>23452</td>\n",
       "      <td>43.611445</td>\n",
       "      <td>56.388555</td>\n",
       "      <td>12.77711</td>\n",
       "    </tr>\n",
       "  </tbody>\n",
       "</table>\n",
       "</div>"
      ],
      "text/plain": [
       "   Is_the_Initial_Intake_Assessment_done__c      0      1  Not Hired  \\\n",
       "0                                         0     86     71  54.777070   \n",
       "1                                         1  18138  23452  43.611445   \n",
       "\n",
       "       Hired  Difference  \n",
       "0  45.222930    -9.55414  \n",
       "1  56.388555    12.77711  "
      ]
     },
     "execution_count": 28,
     "metadata": {},
     "output_type": "execute_result"
    }
   ],
   "source": [
    "compare(\"Is_the_Initial_Intake_Assessment_done__c\", \"Hire_Heroes_USA_Confirmed_Hire__c\", data)"
   ]
  },
  {
   "cell_type": "markdown",
   "metadata": {},
   "source": [
    "# Permission_to_use_job_board_granted__c"
   ]
  },
  {
   "cell_type": "code",
   "execution_count": 29,
   "metadata": {},
   "outputs": [
    {
     "data": {
      "image/png": "[encoded data removed]",
      "text/plain": [
       "<Figure size 240x480 with 1 Axes>"
      ]
     },
     "metadata": {},
     "output_type": "display_data"
    },
    {
     "name": "stdout",
     "output_type": "stream",
     "text": [
      "Difference in Hired = 3.6242047463808333\n"
     ]
    },
    {
     "data": {
      "text/html": [
       "<div>\n",
       "<style scoped>\n",
       "    .dataframe tbody tr th:only-of-type {\n",
       "        vertical-align: middle;\n",
       "    }\n",
       "\n",
       "    .dataframe tbody tr th {\n",
       "        vertical-align: top;\n",
       "    }\n",
       "\n",
       "    .dataframe thead th {\n",
       "        text-align: right;\n",
       "    }\n",
       "</style>\n",
       "<table border=\"1\" class=\"dataframe\">\n",
       "  <thead>\n",
       "    <tr style=\"text-align: right;\">\n",
       "      <th></th>\n",
       "      <th>Permission_to_use_job_board_granted__c</th>\n",
       "      <th>0</th>\n",
       "      <th>1</th>\n",
       "      <th>Not Hired</th>\n",
       "      <th>Hired</th>\n",
       "      <th>Difference</th>\n",
       "    </tr>\n",
       "  </thead>\n",
       "  <tbody>\n",
       "    <tr>\n",
       "      <th>0</th>\n",
       "      <td>0</td>\n",
       "      <td>15631</td>\n",
       "      <td>20575</td>\n",
       "      <td>43.172402</td>\n",
       "      <td>56.827598</td>\n",
       "      <td>13.655195</td>\n",
       "    </tr>\n",
       "    <tr>\n",
       "      <th>1</th>\n",
       "      <td>1</td>\n",
       "      <td>2593</td>\n",
       "      <td>2948</td>\n",
       "      <td>46.796607</td>\n",
       "      <td>53.203393</td>\n",
       "      <td>6.406786</td>\n",
       "    </tr>\n",
       "  </tbody>\n",
       "</table>\n",
       "</div>"
      ],
      "text/plain": [
       "   Permission_to_use_job_board_granted__c      0      1  Not Hired      Hired  \\\n",
       "0                                       0  15631  20575  43.172402  56.827598   \n",
       "1                                       1   2593   2948  46.796607  53.203393   \n",
       "\n",
       "   Difference  \n",
       "0   13.655195  \n",
       "1    6.406786  "
      ]
     },
     "execution_count": 29,
     "metadata": {},
     "output_type": "execute_result"
    }
   ],
   "source": [
    "compare(\"Permission_to_use_job_board_granted__c\", \"Hire_Heroes_USA_Confirmed_Hire__c\", data)"
   ]
  },
  {
   "cell_type": "markdown",
   "metadata": {},
   "source": [
    "# Finalized_HHUSA_revised_resume_on_file__c"
   ]
  },
  {
   "cell_type": "code",
   "execution_count": 30,
   "metadata": {},
   "outputs": [
    {
     "data": {
      "image/png": "[encoded data removed]",
      "text/plain": [
       "<Figure size 240x480 with 1 Axes>"
      ]
     },
     "metadata": {},
     "output_type": "display_data"
    },
    {
     "name": "stdout",
     "output_type": "stream",
     "text": [
      "Difference in Hired = 16.360280015343314\n"
     ]
    },
    {
     "data": {
      "text/html": [
       "<div>\n",
       "<style scoped>\n",
       "    .dataframe tbody tr th:only-of-type {\n",
       "        vertical-align: middle;\n",
       "    }\n",
       "\n",
       "    .dataframe tbody tr th {\n",
       "        vertical-align: top;\n",
       "    }\n",
       "\n",
       "    .dataframe thead th {\n",
       "        text-align: right;\n",
       "    }\n",
       "</style>\n",
       "<table border=\"1\" class=\"dataframe\">\n",
       "  <thead>\n",
       "    <tr style=\"text-align: right;\">\n",
       "      <th></th>\n",
       "      <th>Finalized_HHUSA_revised_resume_on_file__c</th>\n",
       "      <th>0</th>\n",
       "      <th>1</th>\n",
       "      <th>Not Hired</th>\n",
       "      <th>Hired</th>\n",
       "      <th>Difference</th>\n",
       "    </tr>\n",
       "  </thead>\n",
       "  <tbody>\n",
       "    <tr>\n",
       "      <th>0</th>\n",
       "      <td>0</td>\n",
       "      <td>21</td>\n",
       "      <td>14</td>\n",
       "      <td>60.00000</td>\n",
       "      <td>40.00000</td>\n",
       "      <td>-20.00000</td>\n",
       "    </tr>\n",
       "    <tr>\n",
       "      <th>1</th>\n",
       "      <td>1</td>\n",
       "      <td>18203</td>\n",
       "      <td>23509</td>\n",
       "      <td>43.63972</td>\n",
       "      <td>56.36028</td>\n",
       "      <td>12.72056</td>\n",
       "    </tr>\n",
       "  </tbody>\n",
       "</table>\n",
       "</div>"
      ],
      "text/plain": [
       "   Finalized_HHUSA_revised_resume_on_file__c      0      1  Not Hired  \\\n",
       "0                                          0     21     14   60.00000   \n",
       "1                                          1  18203  23509   43.63972   \n",
       "\n",
       "      Hired  Difference  \n",
       "0  40.00000   -20.00000  \n",
       "1  56.36028    12.72056  "
      ]
     },
     "execution_count": 30,
     "metadata": {},
     "output_type": "execute_result"
    }
   ],
   "source": [
    "compare(\"Finalized_HHUSA_revised_resume_on_file__c\", \"Hire_Heroes_USA_Confirmed_Hire__c\", data)"
   ]
  },
  {
   "cell_type": "markdown",
   "metadata": {},
   "source": [
    "# Resume_Tailoring_Tips__c"
   ]
  },
  {
   "cell_type": "code",
   "execution_count": 31,
   "metadata": {},
   "outputs": [
    {
     "data": {
      "image/png": "[encoded data removed]",
      "text/plain": [
       "<Figure size 240x480 with 1 Axes>"
      ]
     },
     "metadata": {},
     "output_type": "display_data"
    },
    {
     "name": "stdout",
     "output_type": "stream",
     "text": [
      "Difference in Hired = 13.917565677372416\n"
     ]
    },
    {
     "data": {
      "text/html": [
       "<div>\n",
       "<style scoped>\n",
       "    .dataframe tbody tr th:only-of-type {\n",
       "        vertical-align: middle;\n",
       "    }\n",
       "\n",
       "    .dataframe tbody tr th {\n",
       "        vertical-align: top;\n",
       "    }\n",
       "\n",
       "    .dataframe thead th {\n",
       "        text-align: right;\n",
       "    }\n",
       "</style>\n",
       "<table border=\"1\" class=\"dataframe\">\n",
       "  <thead>\n",
       "    <tr style=\"text-align: right;\">\n",
       "      <th></th>\n",
       "      <th>Resume_Tailoring_Tips__c</th>\n",
       "      <th>0</th>\n",
       "      <th>1</th>\n",
       "      <th>Not Hired</th>\n",
       "      <th>Hired</th>\n",
       "      <th>Difference</th>\n",
       "    </tr>\n",
       "  </thead>\n",
       "  <tbody>\n",
       "    <tr>\n",
       "      <th>0</th>\n",
       "      <td>0.0</td>\n",
       "      <td>10170</td>\n",
       "      <td>16222</td>\n",
       "      <td>38.534404</td>\n",
       "      <td>61.465596</td>\n",
       "      <td>22.931191</td>\n",
       "    </tr>\n",
       "    <tr>\n",
       "      <th>1</th>\n",
       "      <td>1.0</td>\n",
       "      <td>8054</td>\n",
       "      <td>7301</td>\n",
       "      <td>52.451970</td>\n",
       "      <td>47.548030</td>\n",
       "      <td>-4.903940</td>\n",
       "    </tr>\n",
       "  </tbody>\n",
       "</table>\n",
       "</div>"
      ],
      "text/plain": [
       "   Resume_Tailoring_Tips__c      0      1  Not Hired      Hired  Difference\n",
       "0                       0.0  10170  16222  38.534404  61.465596   22.931191\n",
       "1                       1.0   8054   7301  52.451970  47.548030   -4.903940"
      ]
     },
     "execution_count": 31,
     "metadata": {},
     "output_type": "execute_result"
    }
   ],
   "source": [
    "compare(\"Resume_Tailoring_Tips__c\", \"Hire_Heroes_USA_Confirmed_Hire__c\", data)"
   ]
  },
  {
   "cell_type": "markdown",
   "metadata": {},
   "source": [
    "# to check if the person conducting assesment influences the hiring chances"
   ]
  },
  {
   "cell_type": "code",
   "execution_count": 32,
   "metadata": {},
   "outputs": [],
   "source": [
    "def count_unique_null(contact_dataset,feature):\n",
    "    print(\"Unique Values:\", contact_dataset[feature].nunique())\n",
    "    print(\"Null Values:\", contact_dataset[feature].isna().sum())\n",
    "    print(\"Null Values %:\", contact_dataset[feature].isna().sum()/len(contact_dataset.index)*100)\n",
    "def count_table(contact_dataset,feature):\n",
    "    contact_dataset_by_feature = contact_dataset.groupby(feature)\n",
    "    countTable = contact_dataset_by_feature[feature].agg(['count'])\n",
    "    total_feature = countTable.values.sum()\n",
    "    proportion = np.divide(countTable['count'], total_feature/100)\n",
    "    countTable['%'] = proportion\n",
    "    countTable = countTable.reset_index()\n",
    "    return countTable.nlargest(25, 'count')\n",
    "def summary(contact_dataset,feature):\n",
    "    count_unique_null(contact_dataset,feature)\n",
    "    plot = count_table(contact_dataset,feature).plot(x = feature, y = '%', kind = 'bar')\n",
    "    plt.show()\n",
    "    return count_table(contact_dataset,feature)"
   ]
  },
  {
   "cell_type": "code",
   "execution_count": 33,
   "metadata": {},
   "outputs": [],
   "source": [
    "    contact=pd.read_csv('SalesForce_Contact.csv', encoding='latin', low_memory=False)"
   ]
  },
  {
   "cell_type": "code",
   "execution_count": 34,
   "metadata": {},
   "outputs": [
    {
     "name": "stdout",
     "output_type": "stream",
     "text": [
      "Unique Values: 171\n",
      "Null Values: 79170\n",
      "Null Values %: 59.775755974177954\n"
     ]
    },
    {
     "data": {
      "image/png": "[encoded data removed]",
      "text/plain": [
       "<Figure size 432x288 with 1 Axes>"
      ]
     },
     "metadata": {
      "needs_background": "light"
     },
     "output_type": "display_data"
    },
    {
     "data": {
      "text/html": [
       "<div>\n",
       "<style scoped>\n",
       "    .dataframe tbody tr th:only-of-type {\n",
       "        vertical-align: middle;\n",
       "    }\n",
       "\n",
       "    .dataframe tbody tr th {\n",
       "        vertical-align: top;\n",
       "    }\n",
       "\n",
       "    .dataframe thead th {\n",
       "        text-align: right;\n",
       "    }\n",
       "</style>\n",
       "<table border=\"1\" class=\"dataframe\">\n",
       "  <thead>\n",
       "    <tr style=\"text-align: right;\">\n",
       "      <th></th>\n",
       "      <th>Resume_Completed_By__c</th>\n",
       "      <th>count</th>\n",
       "      <th>%</th>\n",
       "    </tr>\n",
       "  </thead>\n",
       "  <tbody>\n",
       "    <tr>\n",
       "      <th>103</th>\n",
       "      <td>00550000001YDwUAAW</td>\n",
       "      <td>1444</td>\n",
       "      <td>2.710465</td>\n",
       "    </tr>\n",
       "    <tr>\n",
       "      <th>106</th>\n",
       "      <td>00550000001zVqjAAE</td>\n",
       "      <td>1389</td>\n",
       "      <td>2.607227</td>\n",
       "    </tr>\n",
       "    <tr>\n",
       "      <th>148</th>\n",
       "      <td>005500000042TrsAAE</td>\n",
       "      <td>1013</td>\n",
       "      <td>1.901455</td>\n",
       "    </tr>\n",
       "    <tr>\n",
       "      <th>32</th>\n",
       "      <td>00538000004lJWlAAM</td>\n",
       "      <td>955</td>\n",
       "      <td>1.792586</td>\n",
       "    </tr>\n",
       "    <tr>\n",
       "      <th>151</th>\n",
       "      <td>005500000042X0TAAU</td>\n",
       "      <td>914</td>\n",
       "      <td>1.715626</td>\n",
       "    </tr>\n",
       "    <tr>\n",
       "      <th>98</th>\n",
       "      <td>00550000001Vw8JAAS</td>\n",
       "      <td>880</td>\n",
       "      <td>1.651807</td>\n",
       "    </tr>\n",
       "    <tr>\n",
       "      <th>155</th>\n",
       "      <td>005500000042c6HAAQ</td>\n",
       "      <td>875</td>\n",
       "      <td>1.642421</td>\n",
       "    </tr>\n",
       "    <tr>\n",
       "      <th>128</th>\n",
       "      <td>00550000003HPPXAA4</td>\n",
       "      <td>858</td>\n",
       "      <td>1.610511</td>\n",
       "    </tr>\n",
       "    <tr>\n",
       "      <th>145</th>\n",
       "      <td>005500000042GlIAAU</td>\n",
       "      <td>820</td>\n",
       "      <td>1.539183</td>\n",
       "    </tr>\n",
       "    <tr>\n",
       "      <th>29</th>\n",
       "      <td>00538000004lAqgAAE</td>\n",
       "      <td>814</td>\n",
       "      <td>1.527921</td>\n",
       "    </tr>\n",
       "    <tr>\n",
       "      <th>30</th>\n",
       "      <td>00538000004lAqqAAE</td>\n",
       "      <td>814</td>\n",
       "      <td>1.527921</td>\n",
       "    </tr>\n",
       "    <tr>\n",
       "      <th>20</th>\n",
       "      <td>00538000004SiwfAAC</td>\n",
       "      <td>791</td>\n",
       "      <td>1.484749</td>\n",
       "    </tr>\n",
       "    <tr>\n",
       "      <th>16</th>\n",
       "      <td>00538000004SivDAAS</td>\n",
       "      <td>727</td>\n",
       "      <td>1.364618</td>\n",
       "    </tr>\n",
       "    <tr>\n",
       "      <th>26</th>\n",
       "      <td>00538000004kgfTAAQ</td>\n",
       "      <td>727</td>\n",
       "      <td>1.364618</td>\n",
       "    </tr>\n",
       "    <tr>\n",
       "      <th>45</th>\n",
       "      <td>00538000004sKV8AAM</td>\n",
       "      <td>720</td>\n",
       "      <td>1.351478</td>\n",
       "    </tr>\n",
       "    <tr>\n",
       "      <th>122</th>\n",
       "      <td>00550000002dthaAAA</td>\n",
       "      <td>695</td>\n",
       "      <td>1.304552</td>\n",
       "    </tr>\n",
       "    <tr>\n",
       "      <th>31</th>\n",
       "      <td>00538000004lJWkAAM</td>\n",
       "      <td>685</td>\n",
       "      <td>1.285781</td>\n",
       "    </tr>\n",
       "    <tr>\n",
       "      <th>116</th>\n",
       "      <td>00550000002ME8LAAW</td>\n",
       "      <td>672</td>\n",
       "      <td>1.261380</td>\n",
       "    </tr>\n",
       "    <tr>\n",
       "      <th>132</th>\n",
       "      <td>00550000003HPRrAAO</td>\n",
       "      <td>672</td>\n",
       "      <td>1.261380</td>\n",
       "    </tr>\n",
       "    <tr>\n",
       "      <th>25</th>\n",
       "      <td>00538000004kgf9AAA</td>\n",
       "      <td>653</td>\n",
       "      <td>1.225716</td>\n",
       "    </tr>\n",
       "    <tr>\n",
       "      <th>15</th>\n",
       "      <td>005380000044j39AAA</td>\n",
       "      <td>635</td>\n",
       "      <td>1.191929</td>\n",
       "    </tr>\n",
       "    <tr>\n",
       "      <th>33</th>\n",
       "      <td>00538000004lJWmAAM</td>\n",
       "      <td>615</td>\n",
       "      <td>1.154388</td>\n",
       "    </tr>\n",
       "    <tr>\n",
       "      <th>158</th>\n",
       "      <td>005500000042pkoAAA</td>\n",
       "      <td>607</td>\n",
       "      <td>1.139371</td>\n",
       "    </tr>\n",
       "    <tr>\n",
       "      <th>139</th>\n",
       "      <td>00550000003KNnDAAW</td>\n",
       "      <td>589</td>\n",
       "      <td>1.105584</td>\n",
       "    </tr>\n",
       "    <tr>\n",
       "      <th>152</th>\n",
       "      <td>005500000042X25AAE</td>\n",
       "      <td>588</td>\n",
       "      <td>1.103707</td>\n",
       "    </tr>\n",
       "  </tbody>\n",
       "</table>\n",
       "</div>"
      ],
      "text/plain": [
       "    Resume_Completed_By__c  count         %\n",
       "103     00550000001YDwUAAW   1444  2.710465\n",
       "106     00550000001zVqjAAE   1389  2.607227\n",
       "148     005500000042TrsAAE   1013  1.901455\n",
       "32      00538000004lJWlAAM    955  1.792586\n",
       "151     005500000042X0TAAU    914  1.715626\n",
       "98      00550000001Vw8JAAS    880  1.651807\n",
       "155     005500000042c6HAAQ    875  1.642421\n",
       "128     00550000003HPPXAA4    858  1.610511\n",
       "145     005500000042GlIAAU    820  1.539183\n",
       "29      00538000004lAqgAAE    814  1.527921\n",
       "30      00538000004lAqqAAE    814  1.527921\n",
       "20      00538000004SiwfAAC    791  1.484749\n",
       "16      00538000004SivDAAS    727  1.364618\n",
       "26      00538000004kgfTAAQ    727  1.364618\n",
       "45      00538000004sKV8AAM    720  1.351478\n",
       "122     00550000002dthaAAA    695  1.304552\n",
       "31      00538000004lJWkAAM    685  1.285781\n",
       "116     00550000002ME8LAAW    672  1.261380\n",
       "132     00550000003HPRrAAO    672  1.261380\n",
       "25      00538000004kgf9AAA    653  1.225716\n",
       "15      005380000044j39AAA    635  1.191929\n",
       "33      00538000004lJWmAAM    615  1.154388\n",
       "158     005500000042pkoAAA    607  1.139371\n",
       "139     00550000003KNnDAAW    589  1.105584\n",
       "152     005500000042X25AAE    588  1.103707"
      ]
     },
     "execution_count": 34,
     "metadata": {},
     "output_type": "execute_result"
    }
   ],
   "source": [
    "summary(contact,'Resume_Completed_By__c')"
   ]
  },
  {
   "cell_type": "code",
   "execution_count": 35,
   "metadata": {},
   "outputs": [],
   "source": [
    "Contact_confirmed_hire=contact.loc[contact[\"Hire_Heroes_USA_Confirmed_Hire__c\"]==1]"
   ]
  },
  {
   "cell_type": "code",
   "execution_count": 36,
   "metadata": {},
   "outputs": [],
   "source": [
    "Result_without_Filtering=(Contact_confirmed_hire.reset_index()\n",
    "          .groupby(['Resume_Completed_By__c'])['Resume_Completed_By__c']\n",
    "          .count().rename(columns={'count':'Count'})\n",
    "       )"
   ]
  },
  {
   "cell_type": "code",
   "execution_count": 37,
   "metadata": {},
   "outputs": [],
   "source": [
    "Result_without_Filtering=Result_without_Filtering.to_frame().reset_index()"
   ]
  },
  {
   "cell_type": "code",
   "execution_count": 38,
   "metadata": {},
   "outputs": [],
   "source": [
    "names=['Resume_Completed_By__c', 'Total_Count']"
   ]
  },
  {
   "cell_type": "code",
   "execution_count": 39,
   "metadata": {},
   "outputs": [],
   "source": [
    "Result_without_Filtering.columns = names"
   ]
  },
  {
   "cell_type": "code",
   "execution_count": 40,
   "metadata": {},
   "outputs": [],
   "source": [
    "Resume_evaluation=Contact_confirmed_hire.loc[Contact_confirmed_hire[\"Revised_Resume_Used_to_Apply_for_Job__c\"]==\"Yes\"]"
   ]
  },
  {
   "cell_type": "code",
   "execution_count": 41,
   "metadata": {},
   "outputs": [],
   "source": [
    "result = (Resume_evaluation.reset_index()\n",
    "          .groupby(['Resume_Completed_By__c'])['Resume_Completed_By__c']\n",
    "          .count().rename(columns={'count':'Count'})\n",
    "       )"
   ]
  },
  {
   "cell_type": "code",
   "execution_count": 42,
   "metadata": {},
   "outputs": [],
   "source": [
    "names=['Resume_Completed_By__c', 'Total_Count']"
   ]
  },
  {
   "cell_type": "code",
   "execution_count": 43,
   "metadata": {},
   "outputs": [],
   "source": [
    "result=result.to_frame().reset_index()"
   ]
  },
  {
   "cell_type": "code",
   "execution_count": 44,
   "metadata": {},
   "outputs": [],
   "source": [
    "names=['Resume_Completed_By__c', 'Count']"
   ]
  },
  {
   "cell_type": "code",
   "execution_count": 45,
   "metadata": {},
   "outputs": [],
   "source": [
    "result.columns = names"
   ]
  },
  {
   "cell_type": "code",
   "execution_count": 46,
   "metadata": {},
   "outputs": [
    {
     "data": {
      "text/html": [
       "<div>\n",
       "<style scoped>\n",
       "    .dataframe tbody tr th:only-of-type {\n",
       "        vertical-align: middle;\n",
       "    }\n",
       "\n",
       "    .dataframe tbody tr th {\n",
       "        vertical-align: top;\n",
       "    }\n",
       "\n",
       "    .dataframe thead th {\n",
       "        text-align: right;\n",
       "    }\n",
       "</style>\n",
       "<table border=\"1\" class=\"dataframe\">\n",
       "  <thead>\n",
       "    <tr style=\"text-align: right;\">\n",
       "      <th></th>\n",
       "      <th>Resume_Completed_By__c</th>\n",
       "      <th>Count</th>\n",
       "    </tr>\n",
       "  </thead>\n",
       "  <tbody>\n",
       "    <tr>\n",
       "      <th>0</th>\n",
       "      <td>00538000003nrcXAAQ</td>\n",
       "      <td>2</td>\n",
       "    </tr>\n",
       "    <tr>\n",
       "      <th>1</th>\n",
       "      <td>005380000044j39AAA</td>\n",
       "      <td>297</td>\n",
       "    </tr>\n",
       "    <tr>\n",
       "      <th>2</th>\n",
       "      <td>00538000004SivDAAS</td>\n",
       "      <td>340</td>\n",
       "    </tr>\n",
       "  </tbody>\n",
       "</table>\n",
       "</div>"
      ],
      "text/plain": [
       "  Resume_Completed_By__c  Count\n",
       "0     00538000003nrcXAAQ      2\n",
       "1     005380000044j39AAA    297\n",
       "2     00538000004SivDAAS    340"
      ]
     },
     "execution_count": 46,
     "metadata": {},
     "output_type": "execute_result"
    }
   ],
   "source": [
    "result.head(3)"
   ]
  },
  {
   "cell_type": "code",
   "execution_count": 47,
   "metadata": {},
   "outputs": [],
   "source": [
    "final_dataset = pd.merge(Result_without_Filtering, result, left_on='Resume_Completed_By__c', right_on='Resume_Completed_By__c')"
   ]
  },
  {
   "cell_type": "code",
   "execution_count": 48,
   "metadata": {},
   "outputs": [
    {
     "data": {
      "text/html": [
       "<div>\n",
       "<style scoped>\n",
       "    .dataframe tbody tr th:only-of-type {\n",
       "        vertical-align: middle;\n",
       "    }\n",
       "\n",
       "    .dataframe tbody tr th {\n",
       "        vertical-align: top;\n",
       "    }\n",
       "\n",
       "    .dataframe thead th {\n",
       "        text-align: right;\n",
       "    }\n",
       "</style>\n",
       "<table border=\"1\" class=\"dataframe\">\n",
       "  <thead>\n",
       "    <tr style=\"text-align: right;\">\n",
       "      <th></th>\n",
       "      <th>Resume_Completed_By__c</th>\n",
       "      <th>Total_Count</th>\n",
       "      <th>Count</th>\n",
       "    </tr>\n",
       "  </thead>\n",
       "  <tbody>\n",
       "    <tr>\n",
       "      <th>0</th>\n",
       "      <td>00538000003nrcXAAQ</td>\n",
       "      <td>2</td>\n",
       "      <td>2</td>\n",
       "    </tr>\n",
       "    <tr>\n",
       "      <th>1</th>\n",
       "      <td>005380000044j39AAA</td>\n",
       "      <td>382</td>\n",
       "      <td>297</td>\n",
       "    </tr>\n",
       "    <tr>\n",
       "      <th>2</th>\n",
       "      <td>00538000004SivDAAS</td>\n",
       "      <td>443</td>\n",
       "      <td>340</td>\n",
       "    </tr>\n",
       "  </tbody>\n",
       "</table>\n",
       "</div>"
      ],
      "text/plain": [
       "  Resume_Completed_By__c  Total_Count  Count\n",
       "0     00538000003nrcXAAQ            2      2\n",
       "1     005380000044j39AAA          382    297\n",
       "2     00538000004SivDAAS          443    340"
      ]
     },
     "execution_count": 48,
     "metadata": {},
     "output_type": "execute_result"
    }
   ],
   "source": [
    "final_dataset.head(3)"
   ]
  },
  {
   "cell_type": "code",
   "execution_count": 49,
   "metadata": {},
   "outputs": [],
   "source": [
    "final_dataset['Yes_percentage']=(final_dataset['Count']/final_dataset['Total_Count'])*100"
   ]
  },
  {
   "cell_type": "code",
   "execution_count": 50,
   "metadata": {},
   "outputs": [
    {
     "data": {
      "text/html": [
       "<div>\n",
       "<style scoped>\n",
       "    .dataframe tbody tr th:only-of-type {\n",
       "        vertical-align: middle;\n",
       "    }\n",
       "\n",
       "    .dataframe tbody tr th {\n",
       "        vertical-align: top;\n",
       "    }\n",
       "\n",
       "    .dataframe thead th {\n",
       "        text-align: right;\n",
       "    }\n",
       "</style>\n",
       "<table border=\"1\" class=\"dataframe\">\n",
       "  <thead>\n",
       "    <tr style=\"text-align: right;\">\n",
       "      <th></th>\n",
       "      <th>Resume_Completed_By__c</th>\n",
       "      <th>Total_Count</th>\n",
       "      <th>Count</th>\n",
       "      <th>Yes_percentage</th>\n",
       "    </tr>\n",
       "  </thead>\n",
       "  <tbody>\n",
       "    <tr>\n",
       "      <th>0</th>\n",
       "      <td>00538000003nrcXAAQ</td>\n",
       "      <td>2</td>\n",
       "      <td>2</td>\n",
       "      <td>100.000000</td>\n",
       "    </tr>\n",
       "    <tr>\n",
       "      <th>1</th>\n",
       "      <td>005380000044j39AAA</td>\n",
       "      <td>382</td>\n",
       "      <td>297</td>\n",
       "      <td>77.748691</td>\n",
       "    </tr>\n",
       "    <tr>\n",
       "      <th>2</th>\n",
       "      <td>00538000004SivDAAS</td>\n",
       "      <td>443</td>\n",
       "      <td>340</td>\n",
       "      <td>76.749436</td>\n",
       "    </tr>\n",
       "    <tr>\n",
       "      <th>3</th>\n",
       "      <td>00538000004SivXAAS</td>\n",
       "      <td>199</td>\n",
       "      <td>167</td>\n",
       "      <td>83.919598</td>\n",
       "    </tr>\n",
       "    <tr>\n",
       "      <th>4</th>\n",
       "      <td>00538000004SiwBAAS</td>\n",
       "      <td>133</td>\n",
       "      <td>114</td>\n",
       "      <td>85.714286</td>\n",
       "    </tr>\n",
       "    <tr>\n",
       "      <th>5</th>\n",
       "      <td>00538000004SiwLAAS</td>\n",
       "      <td>215</td>\n",
       "      <td>198</td>\n",
       "      <td>92.093023</td>\n",
       "    </tr>\n",
       "    <tr>\n",
       "      <th>6</th>\n",
       "      <td>00538000004SiwfAAC</td>\n",
       "      <td>373</td>\n",
       "      <td>258</td>\n",
       "      <td>69.168901</td>\n",
       "    </tr>\n",
       "    <tr>\n",
       "      <th>7</th>\n",
       "      <td>00538000004SsftAAC</td>\n",
       "      <td>149</td>\n",
       "      <td>132</td>\n",
       "      <td>88.590604</td>\n",
       "    </tr>\n",
       "    <tr>\n",
       "      <th>8</th>\n",
       "      <td>00538000004kCkJAAU</td>\n",
       "      <td>197</td>\n",
       "      <td>173</td>\n",
       "      <td>87.817259</td>\n",
       "    </tr>\n",
       "    <tr>\n",
       "      <th>9</th>\n",
       "      <td>00538000004kgd8AAA</td>\n",
       "      <td>226</td>\n",
       "      <td>184</td>\n",
       "      <td>81.415929</td>\n",
       "    </tr>\n",
       "  </tbody>\n",
       "</table>\n",
       "</div>"
      ],
      "text/plain": [
       "  Resume_Completed_By__c  Total_Count  Count  Yes_percentage\n",
       "0     00538000003nrcXAAQ            2      2      100.000000\n",
       "1     005380000044j39AAA          382    297       77.748691\n",
       "2     00538000004SivDAAS          443    340       76.749436\n",
       "3     00538000004SivXAAS          199    167       83.919598\n",
       "4     00538000004SiwBAAS          133    114       85.714286\n",
       "5     00538000004SiwLAAS          215    198       92.093023\n",
       "6     00538000004SiwfAAC          373    258       69.168901\n",
       "7     00538000004SsftAAC          149    132       88.590604\n",
       "8     00538000004kCkJAAU          197    173       87.817259\n",
       "9     00538000004kgd8AAA          226    184       81.415929"
      ]
     },
     "execution_count": 50,
     "metadata": {},
     "output_type": "execute_result"
    }
   ],
   "source": [
    "final_dataset.head(10)"
   ]
  },
  {
   "cell_type": "markdown",
   "metadata": {},
   "source": [
    "# Feature Selection"
   ]
  },
  {
   "cell_type": "code",
   "execution_count": 51,
   "metadata": {},
   "outputs": [],
   "source": [
    "#Univariate Selection"
   ]
  },
  {
   "cell_type": "code",
   "execution_count": 52,
   "metadata": {},
   "outputs": [],
   "source": [
    "\n",
    "# Feature Extraction with Univariate Statistical Tests (Chi-squared for classification)\n",
    "import pandas\n",
    "import numpy\n",
    "from sklearn.feature_selection import SelectKBest\n",
    "from sklearn.feature_selection import chi2\n",
    "\n"
   ]
  },
  {
   "cell_type": "code",
   "execution_count": 53,
   "metadata": {},
   "outputs": [],
   "source": [
    "Independent_Variables=[\"Resume_Tailoring_Tips__c\",\"Used_Volunteer_Services__c\",\"VCF_Participant__c\",\"Virtual_Workshop_Participant__c\",\"On_Job_Board__c\",\"Used_Federal_Services__c\",\"Interview_Skills__c\",\n",
    "\"Created_LinkedIn_account__c\",\"Value_Proposition__c\",\"Updated_Resume_Complete__c\",\"HHUSA_Workshop_Participant__c\",\"O2O_Initial_Assessment_Complete__c\",\n",
    "\"Is_the_Initial_Intake_Assessment_done__c\",\"Permission_to_use_job_board_granted__c\",\"Finalized_HHUSA_revised_resume_on_file__c\"]"
   ]
  },
  {
   "cell_type": "code",
   "execution_count": 54,
   "metadata": {},
   "outputs": [],
   "source": [
    "X=data[Independent_Variables]"
   ]
  },
  {
   "cell_type": "code",
   "execution_count": 55,
   "metadata": {},
   "outputs": [],
   "source": [
    "data=pd.read_csv(\"clean_contact_dataset.csv\",encoding='latin', low_memory=False)"
   ]
  },
  {
   "cell_type": "code",
   "execution_count": 56,
   "metadata": {},
   "outputs": [],
   "source": [
    "Y=data['Hire_Heroes_USA_Confirmed_Hire__c']"
   ]
  },
  {
   "cell_type": "code",
   "execution_count": 57,
   "metadata": {},
   "outputs": [],
   "source": [
    "test = SelectKBest(score_func=chi2, k=4)"
   ]
  },
  {
   "cell_type": "code",
   "execution_count": 58,
   "metadata": {},
   "outputs": [],
   "source": [
    "from sklearn.feature_selection import RFE"
   ]
  },
  {
   "cell_type": "code",
   "execution_count": 59,
   "metadata": {},
   "outputs": [
    {
     "name": "stdout",
     "output_type": "stream",
     "text": [
      "[4.833e+02 1.780e+02 3.353e+00 8.560e-01 2.326e-01 1.309e+00 3.941e-01\n",
      " 1.643e+01 7.435e+00 3.411e-02 1.312e+01 5.025e+01 2.981e-02 2.226e+01\n",
      " 3.190e-03]\n",
      "[[1. 0. 0. 0.]\n",
      " [1. 0. 0. 0.]\n",
      " [1. 0. 0. 0.]\n",
      " [1. 0. 0. 0.]\n",
      " [1. 0. 0. 0.]]\n"
     ]
    }
   ],
   "source": [
    "\n",
    "test = SelectKBest(score_func=chi2, k=4)\n",
    "fit = test.fit(X, Y)\n",
    "# summarize scores\n",
    "numpy.set_printoptions(precision=3)\n",
    "print(fit.scores_)\n",
    "features = fit.transform(X)\n",
    "# summarize selected features\n",
    "print(features[0:5,:])"
   ]
  },
  {
   "cell_type": "code",
   "execution_count": 60,
   "metadata": {},
   "outputs": [],
   "source": [
    "#Features and their corresponging scores\n",
    "#Resume_Tailoring_Tips__c------------------>4.833e+02\n",
    "#Used_Volunteer_Services__c---------------->1.780e+02\n",
    "#VCF_Participant__c------------------------>3.353e+00\n",
    "#Virtual_Workshop_Participant__c------------>8.560e-01\n",
    "#On_Job_Board__c---------------------------->2.326e-01\n",
    "#Used_Federal_Services__c------------------->1.309e+00\n",
    "#Interview_Skills__c------------------------>3.941e-01\n",
    "#Created_LinkedIn_account__c---------------->1.643e+01\n",
    "#Value_Proposition__c----------------------->7.435e+00\n",
    "#Updated_Resume_Complete__c----------------->3.411e-02\n",
    "#HHUSA_Workshop_Participant__c-------------->1.312e+01\n",
    "#O2O_Initial_Assessment_Complete__c--------->5.025e+01\n",
    "#Is_the_Initial_Intake_Assessment_done__c---->2.981e-02\n",
    "#Permission_to_use_job_board_granted__c------->2.226e+01\n",
    "#Finalized_HHUSA_revised_resume_on_file__c---->3.190e-03\n",
    "\n",
    "\n"
   ]
  },
  {
   "cell_type": "code",
   "execution_count": null,
   "metadata": {},
   "outputs": [],
   "source": []
  }
 ],
 "metadata": {
  "kernelspec": {
   "display_name": "Python 3",
   "language": "python",
   "name": "python3"
  },
  "language_info": {
   "codemirror_mode": {
    "name": "ipython",
    "version": 3
   },
   "file_extension": ".py",
   "mimetype": "text/x-python",
   "name": "python",
   "nbconvert_exporter": "python",
   "pygments_lexer": "ipython3",
   "version": "3.7.0"
  }
 },
 "nbformat": 4,
 "nbformat_minor": 2
}
