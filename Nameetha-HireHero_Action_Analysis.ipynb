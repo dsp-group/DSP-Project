{
 "cells": [
  {
   "cell_type": "code",
   "execution_count": 1,
   "metadata": {},
   "outputs": [],
   "source": [
    "import pandas as pd\n"
   ]
  },
  {
   "cell_type": "code",
   "execution_count": 2,
   "metadata": {},
   "outputs": [],
   "source": [
    "data=pd.read_csv(\"SalesForce_Contact.csv\",encoding='latin', low_memory=False)"
   ]
  },
  {
   "cell_type": "code",
   "execution_count": 3,
   "metadata": {},
   "outputs": [
    {
     "data": {
      "text/plain": [
       "(132445, 391)"
      ]
     },
     "execution_count": 3,
     "metadata": {},
     "output_type": "execute_result"
    }
   ],
   "source": [
    "data.shape"
   ]
  },
  {
   "cell_type": "code",
   "execution_count": 8,
   "metadata": {},
   "outputs": [
    {
     "data": {
      "text/plain": [
       "Id                                                 0\n",
       "AccountId                                          0\n",
       "RecordTypeId                                       0\n",
       "MailingState                                    8083\n",
       "MailingPostalCode                              16898\n",
       "MailingCountry                                  9204\n",
       "LeadSource                                    119425\n",
       "OwnerId                                            0\n",
       "HasOptedOutOfEmail                                 0\n",
       "HasOptedOutOfFax                                   0\n",
       "DoNotCall                                          0\n",
       "CanAllowPortalSelfReg                              0\n",
       "CreatedDate                                        0\n",
       "CreatedById                                        0\n",
       "LastModifiedDate                                   0\n",
       "LastModifiedById                                   0\n",
       "SystemModstamp                                     0\n",
       "LastActivityDate                               30364\n",
       "Previous_HH_Client__c                              0\n",
       "Volunteer_Interests__c                        132047\n",
       "Tableau_Fix__c                                 22833\n",
       "Multiple_AVR__c                                    0\n",
       "Vendor_Contact__c                              91538\n",
       "Do_Not_Mail_old__c                                 0\n",
       "Gender__c                                      63159\n",
       "Race__c                                       112560\n",
       "Number_of_dependents__c                        85428\n",
       "Employment_Barriers__c                        129843\n",
       "Interview_Skills__c                                0\n",
       "Veteran_agreed_to_terms_at_Registration__c         0\n",
       "                                               ...  \n",
       "Selected_by__c                                132268\n",
       "Success_Story_published_on__c                 132314\n",
       "Success_Story_Notes__c                        132182\n",
       "Bilingual__c                                       0\n",
       "Willing_to_Relocate__c                             0\n",
       "Min_Salary_Expectations__c                     85765\n",
       "Used_Volunteer_Services__c                     23107\n",
       "Desired_Earnings_Type__c                       85635\n",
       "Used_Federal_Services__c                       23107\n",
       "Program_Location__c                           131757\n",
       "O2O_Cohort_Id__c                              131764\n",
       "Orientation_Date__c                           131776\n",
       "O2O_Career_Track__c                           131807\n",
       "O2O_Training_Track__c                         132273\n",
       "Online_Training_Track__c                      126627\n",
       "Hired_By_Partnered_Employer__c                     0\n",
       "Scheduled_Interview_Date__c                   132443\n",
       "Matched_Partner_Employer__c                   132427\n",
       "For_Workflow_Update__c                             0\n",
       "Orientation_Completed_By__c                   131184\n",
       "Send_Green_Survey__c                               0\n",
       "Professional_Certification__c                 129135\n",
       "TS_Referral_Requested_By__c                   131989\n",
       "RealZip__RealZip__c                            20885\n",
       "Discharge_Type__c                             128174\n",
       "Discharge_Disposition__c                      131463\n",
       "Date_Turned_Black__c                          118483\n",
       "Litmos__Litmos_Login_Access__c                109203\n",
       "Litmos__Total_Sum_Percentages__c              132445\n",
       "Willing_to_Relocate_to_High_Risk_Area__c       21737\n",
       "Length: 391, dtype: int64"
      ]
     },
     "execution_count": 8,
     "metadata": {},
     "output_type": "execute_result"
    }
   ],
   "source": [
    "data.isnull().sum()"
   ]
  },
  {
   "cell_type": "code",
   "execution_count": 6,
   "metadata": {},
   "outputs": [
    {
     "data": {
      "text/plain": [
       "['Id_x',\n",
       " 'AccountId',\n",
       " 'RecordTypeId',\n",
       " 'MailingState',\n",
       " 'MailingPostalCode',\n",
       " 'MailingCountry',\n",
       " 'LeadSource',\n",
       " 'OwnerId',\n",
       " 'HasOptedOutOfEmail',\n",
       " 'HasOptedOutOfFax',\n",
       " 'DoNotCall',\n",
       " 'CanAllowPortalSelfReg',\n",
       " 'CreatedDate_x',\n",
       " 'CreatedById_x',\n",
       " 'LastModifiedDate_x',\n",
       " 'LastModifiedById_x',\n",
       " 'SystemModstamp_x',\n",
       " 'LastActivityDate_x',\n",
       " 'Previous_HH_Client__c',\n",
       " 'Volunteer_Interests__c',\n",
       " 'Tableau_Fix__c',\n",
       " 'Multiple_AVR__c',\n",
       " 'Vendor_Contact__c',\n",
       " 'Do_Not_Mail_old__c',\n",
       " 'Gender__c',\n",
       " 'Race__c',\n",
       " 'Number_of_dependents__c',\n",
       " 'Employment_Barriers__c',\n",
       " 'Interview_Skills__c',\n",
       " 'Veteran_agreed_to_terms_at_Registration__c',\n",
       " 'Start_Date__c_x',\n",
       " 'Volunteer_Agreement_on_File__c',\n",
       " 'Additional_Service_Needs__c',\n",
       " 'Previously_Interviewed__c',\n",
       " 'Referral_Date__c',\n",
       " 'Date_of_Service_Entry__c',\n",
       " 'Last_Rank__c',\n",
       " 'Unsubscribe__c',\n",
       " 'O2O_Status__c',\n",
       " 'O2O_Partners_Previously_Applied_To__c',\n",
       " 'Active__c',\n",
       " 'X3_Month_Survey_Date__c',\n",
       " 'Mileage_Willing_To_Commute__c',\n",
       " 'Alumni_Survey_Completed__c',\n",
       " 'Send_Retention_Survey__c',\n",
       " 'Referred_To__c',\n",
       " 'X6_Month_Survey_Date__c',\n",
       " 'Security_Clearance_Description__c',\n",
       " 'Temporarily_Unavailable__c',\n",
       " 'Highest_Level_of_Education_Completed__c',\n",
       " 'OIF_OEF_Deployed__c',\n",
       " 'Status__c',\n",
       " 'Reasons_For_Additional_Service__c',\n",
       " 'CRF_Impact__c',\n",
       " 'DD214__c',\n",
       " 'Purple_Heart_Recipient__c',\n",
       " 'Active_Color__c',\n",
       " 'Job_Function_Hired_In__c_x',\n",
       " 'Desired_Job_Function__c',\n",
       " 'Possible_Job_Matches__c',\n",
       " 'Date_Assigned_To_Online__c',\n",
       " 'Military_Occupation__c',\n",
       " 'Submitted_for_Mentor__c',\n",
       " 'VTS_Recommended_Seniority_Level__c',\n",
       " 'Assessment_Completed_By__c',\n",
       " 'Resume_Completed_By__c',\n",
       " 'contact_history__c',\n",
       " 'Independence_Project_Group__c',\n",
       " 'Dat_Initial_Assessment_was_Completed__c',\n",
       " 'Do_Not_Notify_Client__c',\n",
       " 'Hire_Funding_Source__c',\n",
       " 'Company_Name__c',\n",
       " 'Primary_Military_Occupational_Specialty__c',\n",
       " 'IVMF_Service_Branch__c',\n",
       " 'stayclassy__date_of_last_donation__c',\n",
       " 'Donation_Amount__c',\n",
       " 'Donor_Status__c',\n",
       " 'stayclassy__opt_in__c',\n",
       " 'MyTrak_Goal_Job_Industry__c',\n",
       " 'stayclassy__sc_total_donated__c',\n",
       " 'Payment_Type_for_Donation__c',\n",
       " 'Months_Unemployed__c_x',\n",
       " 'What_volunteer_experience_have_they_had__c',\n",
       " 'Payment_Received__c',\n",
       " 'Anonymous_Donor__c',\n",
       " 'stayclassy__sc_total_donations__c',\n",
       " 'Online_Training_Participant__c',\n",
       " 'Date_Assigned_To_HHUSA__c',\n",
       " 'Expected_Separation_Date__c',\n",
       " 'Date_Vet_was_recommended_to_portal__c',\n",
       " 'Date_Vet_was_removed_from_portal__c',\n",
       " 'Act_On_Behavior_Score__c',\n",
       " 'Responsive__c',\n",
       " 'Interested_In_Volunteer_Opportunities__c',\n",
       " 'O2O_Hire__c',\n",
       " 'Donor__c',\n",
       " 'How_they_want_to_volunteer_picklist__c',\n",
       " 'Awards_and_Decorations_Earned__c',\n",
       " 'Volunteer__c',\n",
       " 'Client__c',\n",
       " 'Disability_Rating__c',\n",
       " 'Business_Contact__c',\n",
       " 'Client_Type__c',\n",
       " 'priority_veteran__c',\n",
       " 'O2O_Program_Participant__c',\n",
       " 'VCTP_Participant__c',\n",
       " 'Available_For_Urgents__c',\n",
       " 'Service_Branch__c',\n",
       " 'O2O_Coordinator__c',\n",
       " 'Contact_Type__c',\n",
       " 'Pledged_Amount_per_hole_played__c',\n",
       " 'Special_Event__c',\n",
       " 'Wish_to_become_Corporate_Sponsor__c',\n",
       " 'Interested_In_Online_Employer_Training__c',\n",
       " 'X1_Year_Survey_Date__c',\n",
       " 'X2_Year_Survey_Date__c',\n",
       " 'X3_Year_Survey_Date__c',\n",
       " 'Last_Correspondence_Type__c',\n",
       " 'Last_Discussion_Topic__c',\n",
       " 'Do_Not_Use__c',\n",
       " 'Funder__c',\n",
       " 'Volunteer_Owner__c',\n",
       " 'Service_Members_Status__c',\n",
       " 'Newsletter_Subscriber__c',\n",
       " 'O2O_Hire_Date__c',\n",
       " 'Exclude_From_Alumni_Survey__c',\n",
       " 'Upskilled__c',\n",
       " 'O2O_Upskilled_Date__c',\n",
       " 'Times_Hired__c',\n",
       " 'Match_Eligible_Date__c',\n",
       " 'Online_Training_Participant_Date__c',\n",
       " 'AVR__c',\n",
       " 'Multiple_Hire_Review_Complete__c',\n",
       " 'Concentration__c',\n",
       " 'Date_of_Volunteer_Application__c',\n",
       " 'Federal_Hire__c_x',\n",
       " 'Date_IP_Survey_Sent__c',\n",
       " 'O2O_Unresponsive_Date__c',\n",
       " 'Hired_with_EO_assistance__c',\n",
       " 'Hire_Records__c',\n",
       " 'Litmos_Provisioned_Date__c',\n",
       " 'Virtual_Services_Specialist__c',\n",
       " 'HHELP_Status__c',\n",
       " 'Additional_Registration_Interest__c',\n",
       " 'Volunteer_Inactive_Reason__c',\n",
       " 'External_Profile_Id__c',\n",
       " 'VTS_Ready_Date__c',\n",
       " 'Federal_Program_Participant__c',\n",
       " 'Exclude_From_Retention_Survey__c',\n",
       " 'IP_Consent__c',\n",
       " 'Employer_Account_Specialist_Notes__c',\n",
       " 'On_Job_Board__c',\n",
       " 'Program_Enrollments__c',\n",
       " 'Client_Transfer_Date__c',\n",
       " 'IVMF_Employment_Outcome_Type__c',\n",
       " 'EventbriteSync__EventbriteId__c',\n",
       " 'EventbriteSync__EventbriteType__c',\n",
       " 'Alumni__c',\n",
       " 'Ambassadorship_Level__c',\n",
       " 'Event_Information__c',\n",
       " 'Applied_to_hired_position_on_Job_Board__c',\n",
       " 'Updated_Resume_Complete__c',\n",
       " 'Date_Updated_Resume_Complete__c',\n",
       " 'Updated_Resume_Completed_By__c',\n",
       " 'Earliest_Availability__c',\n",
       " 'Federal_Program_Participant_Date__c',\n",
       " 'About_Me_Completion_Date__c',\n",
       " 'Get_Start_Date__c',\n",
       " 'HHUSA_Workshop_Participant__c',\n",
       " 'O2O_Initial_Assessment_Complete__c',\n",
       " 'Date_Attended_HHUSA_Workshop__c',\n",
       " 'Location_of_Vet_When_Trained__c',\n",
       " 'O2O_Initial_Assessment_Date__c',\n",
       " 'IVMF_Position_Hired_For__c',\n",
       " 'Hiring_Account__c_x',\n",
       " 'Litmos__Access_Level__c',\n",
       " 'Litmos__Completed_Percentage__c',\n",
       " 'Willing_to_relo_with_no_assistance__c',\n",
       " 'Litmos__Courses_Assigned__c',\n",
       " 'Litmos__Courses_Completed__c',\n",
       " 'Litmos__Deactivate_From_Litmos__c',\n",
       " 'Litmos__Languages__c',\n",
       " 'Litmos__Level__c',\n",
       " 'Service_Rank__c',\n",
       " 'Date_of_Separation__c',\n",
       " 'My_Goals_Completion_Date__c',\n",
       " 'Litmos__LitmosID__c',\n",
       " 'Litmos__Litmos_Activated__c',\n",
       " 'Staff_member_assigned_to_be_mentor__c',\n",
       " 'Created_LinkedIn_account__c',\n",
       " 'Date_assigned_to_staff__c',\n",
       " 'Litmos__Litmos_UserId__c',\n",
       " 'Litmos__OriginalId__c',\n",
       " 'Litmos__Sync_Litmos__c',\n",
       " 'Date_Turned_Purple__c',\n",
       " 'Languages_Spoken__c',\n",
       " 'Litmos__User_Id__c',\n",
       " 'CODE_Release_on_File__c',\n",
       " 'Email_Verified_Date__c',\n",
       " 'MyTrak_1_on_1_Career_Coaching_Request__c',\n",
       " 'MyTrak_1_on_1_Request_Date__c',\n",
       " 'MyTrak_Be_a_Desirable_Candidate_Complete__c',\n",
       " 'MyTrak_Employed_outside_military__c',\n",
       " 'MyTrak_Essentials_Complete__c',\n",
       " 'MyTrak_Fed_Resume_Review_Request_Date__c',\n",
       " 'MyTrak_Federal_Resume_Review__c',\n",
       " 'MyTrak_Is_MyTrak_Registrant__c',\n",
       " 'MyTrak_Mock_Interview_Request__c',\n",
       " 'MyTrak_Mock_Inteview_Request_Date__c',\n",
       " 'MyTrak_Prepare_for_interview_Complete__c',\n",
       " 'MyTrak_Request_a_Service_Complete__c',\n",
       " 'MyTrak_Rethink_Social_Presence_Complete__c',\n",
       " 'MyTrak_Save_and_Exit__c',\n",
       " 'MyTrak_Self_Portrait_Complete__c',\n",
       " 'MyTrak_Share_your_Experience_Complete__c',\n",
       " 'MyTrak_Spouse_is_Employed__c',\n",
       " 'MyTrak_VTS_Assigned__c',\n",
       " 'Self_Registration_Delete__c',\n",
       " 'Self_Registration_RefId__c',\n",
       " 'Self_Registration_SessionId__c',\n",
       " 'Self_Registration_Source__c',\n",
       " 'Self_Registration_Step__c',\n",
       " 'MyTrak_Essentials_Completed_Date__c',\n",
       " 'MyTrak_About_Me__c',\n",
       " 'MyTrak_Military_Experience__c',\n",
       " 'MyTrak_My_Goals__c',\n",
       " 'MyTrak_Past_Jobs__c',\n",
       " 'MyTrak_Manually_Enabled_Date__c',\n",
       " 'MyTrak_Manually_Enabled__c',\n",
       " 'MyTrak_Send_Manual_Email__c',\n",
       " 'MyTrak_Total_Questions_Answered__c',\n",
       " 'Manager_Concurs__c',\n",
       " 'Job_Board_Access__c',\n",
       " 'O2O_Multiple_Hire_Date__c',\n",
       " 'Targeted_Services__c',\n",
       " 'Donor_Type__c',\n",
       " 'Photo_on_File__c',\n",
       " 'Tax_Communication_Preference__c',\n",
       " 'Donor_Tracking_Color__c',\n",
       " 'Date_Resume_Completed__c',\n",
       " 'Add_l_Military_Service_Notes__c',\n",
       " 'Earliest_Employment_Start_Date__c',\n",
       " 'Desired_City_of_Employment__c',\n",
       " 'Desired_State_of_Employment__c',\n",
       " 'Salary_Expectations__c',\n",
       " 'Specific_Industries_Jobs__c',\n",
       " 'Is_the_Initial_Intake_Assessment_done__c',\n",
       " 'Other_Workshop_Notes__c',\n",
       " 'Confirmed_Hired_Date__c_x',\n",
       " 'Position_Hired_For__c_x',\n",
       " 'Client_Currently_Overseas__c',\n",
       " 'Revised_Resume_Used_to_Apply_for_Job__c_x',\n",
       " 'ringdna100__Call_Attempts__c',\n",
       " 'Job_Type__c',\n",
       " 'Original_Resume_on_File__c',\n",
       " 'Education_Summary__c',\n",
       " 'Hired_Section_Notes__c',\n",
       " 'Hired_but_still_active_and_looking__c_x',\n",
       " 'ringdna100__Email_Attempts__c',\n",
       " 'Career_Opportunity_Day_Participant__c',\n",
       " 'Location_of_Career_Opportunity_Day__c',\n",
       " 'Date_of_Career_Opportunity_Day__c',\n",
       " 'ringdna100__First_Inbound_Call__c',\n",
       " 'ringdna100__First_Outbound_Call__c',\n",
       " 'Date_turned_grey__c',\n",
       " 'Date_turned_green__c',\n",
       " 'Date_of_first_contact__c',\n",
       " 'Summary_of_Qualifications__c',\n",
       " 'Areas_of_Experience__c',\n",
       " 'Preferred_Method_of_Contact__c',\n",
       " 'Military_Training_Courses_Attended__c',\n",
       " 'How_the_veteran_heard_about_us__c',\n",
       " 'Permission_to_use_job_board_granted__c',\n",
       " 'Additional_Referred_By__c',\n",
       " 'ringdna100__Last_Email_Attempt__c',\n",
       " 'ringdna100__Last_Inbound_Call__c',\n",
       " 'Success_Story_on_file__c',\n",
       " 'Is_vet_willing_to_go_on_camera__c',\n",
       " 'ringdna100__Last_Outbound_Call__c',\n",
       " 'ringdna100__Response_Type__c',\n",
       " 'Current_Volunteer__c',\n",
       " 'ringdna100__Time_to_First_Dial_Minutes__c',\n",
       " 'ringdna100__Time_to_First_Response__c',\n",
       " 'VCF_Participant__c',\n",
       " 'Recurring_Donor__c',\n",
       " 'Recurring_Donor_Frequency__c',\n",
       " 'Virtual_Workshop_Participant__c',\n",
       " 'Webinar_Participant__c',\n",
       " 'Grey_Black_Justification__c',\n",
       " 'GW_Volunteers__Volunteer_Auto_Reminder_Email_Opt_Out__c',\n",
       " 'No_match_found__c',\n",
       " 'Jobs_applied_to_on_HHUSA_job_board__c',\n",
       " 'Resume_Tailoring_Tips__c',\n",
       " 'OTYC_Start_Date__c',\n",
       " 'VCTP_Start_Date__c',\n",
       " 'Additional_Referred_By_Date__c',\n",
       " 'Willing_to_complete_success_story__c',\n",
       " 'Coded_Black_Reviewer_Comments__c',\n",
       " 'HHUSA_Corporate_Partner__c',\n",
       " 'Date_Of_Birth__c',\n",
       " 'Automated_Success_Story_Completed__c',\n",
       " 'If_Security_Clearance_Yes_What_kind__c',\n",
       " 'Disability_percentage_60_or_above__c',\n",
       " 'Job_Seeker_Last_Activity_Date__c',\n",
       " 'Volunteer_Keywords__c',\n",
       " 'Industry_hired_in__c',\n",
       " 'Litmos_Deactivated__c',\n",
       " 'Salary_Range__c_x',\n",
       " 'Internship__c_x',\n",
       " 'Paid_Internship__c',\n",
       " 'Hired_Location__c_x',\n",
       " 'Date_Turned_Blue__c',\n",
       " 'Foreign_Service__c',\n",
       " 'If_served_overseas_locations_of_service__c',\n",
       " 'Foreign_Service_Summary__c',\n",
       " 'Workshop_Staff_Members__c',\n",
       " 'Reason_Vet_Turned_Grey__c',\n",
       " 'Volunteer_Services__c',\n",
       " 'Other_Volunteer_Services__c',\n",
       " 'Workshop_Type__c',\n",
       " 'Military_Spouse_Caregiver__c',\n",
       " 'Volunteer_is_a_Veteran__c',\n",
       " 'Military_Branch__c',\n",
       " 'Multiple_HHUSA_Hire__c',\n",
       " 'Historical_hire_summary__c',\n",
       " 'Employment_Type__c_x',\n",
       " 'Desired_Geographic_Region_of_Employment__c',\n",
       " 'Desired_State_s_of_Employment__c',\n",
       " 'Proof_of_Service_Type__c',\n",
       " 'Published_on_details__c',\n",
       " 'Date_of_Service_EntryNew__c',\n",
       " 'Date_of_SeparationNew__c',\n",
       " 'Referred_by__c',\n",
       " 'Reserves_National_Guard__c',\n",
       " 'Submitted_for_Hire__c',\n",
       " 'Office_Manager_Approved__c',\n",
       " 'Regional_Manager_Approved__c',\n",
       " 'Hire_Heroes_USA_Confirmed_Hire__c',\n",
       " 'Date_Submitted_for_Hire__c',\n",
       " 'Approval_Notes__c',\n",
       " 'Workshop_Sponsor__c',\n",
       " 'VP_Dash_Date__c',\n",
       " 'Hired_ZIP_Code__c',\n",
       " 'Do_Not_Text__c',\n",
       " 'Volunteer_Jobs_Availability__c',\n",
       " 'Date_of_Volunteer_Orientation__c',\n",
       " 'Enrolled_in_School__c',\n",
       " 'Expected_Graduation_Date__c',\n",
       " 'Funding_Source__c',\n",
       " 'Agrees_to_be_Recognized_on_Website__c',\n",
       " 'Preferred_Contact_Time_Start__c',\n",
       " 'Preferred_Contact_Time_End__c',\n",
       " 'Desired_Industry_for_Employment__c',\n",
       " 'Finalized_HHUSA_revised_resume_on_file__c',\n",
       " 'Value_Proposition__c',\n",
       " 'Documents_Received__c',\n",
       " 'Date_Documents_Received__c',\n",
       " 'Previous_Confirmed_Hire_Date__c',\n",
       " 'Selected_by_M_D_for_Success_Story__c',\n",
       " 'Date_published__c',\n",
       " 'Type_of_Success_Story__c',\n",
       " 'Selected_by__c',\n",
       " 'Success_Story_published_on__c',\n",
       " 'Success_Story_Notes__c',\n",
       " 'Bilingual__c',\n",
       " 'Willing_to_Relocate__c',\n",
       " 'Min_Salary_Expectations__c',\n",
       " 'Used_Volunteer_Services__c',\n",
       " 'Desired_Earnings_Type__c',\n",
       " 'Used_Federal_Services__c',\n",
       " 'Program_Location__c',\n",
       " 'O2O_Cohort_Id__c',\n",
       " 'Orientation_Date__c',\n",
       " 'O2O_Career_Track__c',\n",
       " 'O2O_Training_Track__c',\n",
       " 'Online_Training_Track__c',\n",
       " 'Hired_By_Partnered_Employer__c',\n",
       " 'Scheduled_Interview_Date__c',\n",
       " 'Matched_Partner_Employer__c',\n",
       " 'For_Workflow_Update__c',\n",
       " 'Orientation_Completed_By__c',\n",
       " 'Send_Green_Survey__c',\n",
       " 'Professional_Certification__c',\n",
       " 'TS_Referral_Requested_By__c',\n",
       " 'RealZip__RealZip__c',\n",
       " 'Discharge_Type__c',\n",
       " 'Discharge_Disposition__c',\n",
       " 'Date_Turned_Black__c',\n",
       " 'Litmos__Litmos_Login_Access__c',\n",
       " 'Litmos__Total_Sum_Percentages__c',\n",
       " 'Willing_to_Relocate_to_High_Risk_Area__c',\n",
       " 'Id_y',\n",
       " 'IsDeleted',\n",
       " 'Name',\n",
       " 'CreatedDate_y',\n",
       " 'CreatedById_y',\n",
       " 'LastModifiedDate_y',\n",
       " 'LastModifiedById_y',\n",
       " 'SystemModstamp_y',\n",
       " 'LastActivityDate_y',\n",
       " 'Confirmed_Hired_Date__c_y',\n",
       " 'Start_Date__c_y',\n",
       " 'Hiring_Account__c_y',\n",
       " 'Client_Name__c',\n",
       " 'Hiring_Company_Name__c',\n",
       " 'Position_Hired_For__c_y',\n",
       " 'Job_Function_Hired_In__c_y',\n",
       " 'Industry_Hired_In__c',\n",
       " 'Hired_Location__c_y',\n",
       " 'Hired_Zip_Code__c',\n",
       " 'Salary_Range__c_y',\n",
       " 'Employment_Type__c_y',\n",
       " 'Federal_Hire__c_y',\n",
       " 'Internship__c_y',\n",
       " 'Hired_With_EO_Assistance__c',\n",
       " 'X7_Day_Review__c',\n",
       " 'Months_Unemployed__c_y',\n",
       " 'Revised_Resume_Used_to_Apply_for_Job__c_y',\n",
       " 'Hired_but_still_active_and_looking__c_y',\n",
       " 'Date_Submitted_For_Hire__c',\n",
       " 'Hire_Confirmed_By__c',\n",
       " 'Area_Manager_Approved__c',\n",
       " 'PIM_Approved__c',\n",
       " 'Ops_Review_Date__c',\n",
       " 'Multiple_Hire__c']"
      ]
     },
     "execution_count": 6,
     "metadata": {},
     "output_type": "execute_result"
    }
   ],
   "source": [
    "list(data.head(0))"
   ]
  },
  {
   "cell_type": "code",
   "execution_count": null,
   "metadata": {},
   "outputs": [],
   "source": [
    "Initial Assessment Complete--done\n",
    "Initial HHUSA Resume Complete--done\n",
    "Resume Tailoring Tips--done\n",
    "Value Proposition--done\n",
    "Interview Skills--done\n",
    "LinkedIn Revision (Created LinkedIn)--done\n",
    "On Job Board--done\n",
    "Virtual Workshop Participant--done\n",
    "VCF Participant--done\n",
    "Virtual Workshop Participant--done+\n",
    "Used Volunteer Services--done\n",
    "Used Federal Services--done\n",
    "Call Attempts\n",
    "Email Attempts\n",
    "Revised Resume used to apply for a job--done"
   ]
  },
  {
   "cell_type": "code",
   "execution_count": 4,
   "metadata": {},
   "outputs": [],
   "source": [
    "confirmed_hire=data.loc[data[\"Hire_Heroes_USA_Confirmed_Hire__c\"]==1]"
   ]
  },
  {
   "cell_type": "code",
   "execution_count": 5,
   "metadata": {},
   "outputs": [
    {
     "data": {
      "text/plain": [
       "(30350, 391)"
      ]
     },
     "execution_count": 5,
     "metadata": {},
     "output_type": "execute_result"
    }
   ],
   "source": [
    "confirmed_hire.shape"
   ]
  },
  {
   "cell_type": "code",
   "execution_count": 9,
   "metadata": {},
   "outputs": [
    {
     "data": {
      "text/plain": [
       "Id                                                0\n",
       "AccountId                                         0\n",
       "RecordTypeId                                      0\n",
       "MailingState                                    257\n",
       "MailingPostalCode                              3229\n",
       "MailingCountry                                  431\n",
       "LeadSource                                    27782\n",
       "OwnerId                                           0\n",
       "HasOptedOutOfEmail                                0\n",
       "HasOptedOutOfFax                                  0\n",
       "DoNotCall                                         0\n",
       "CanAllowPortalSelfReg                             0\n",
       "CreatedDate                                       0\n",
       "CreatedById                                       0\n",
       "LastModifiedDate                                  0\n",
       "LastModifiedById                                  0\n",
       "SystemModstamp                                    0\n",
       "LastActivityDate                                  7\n",
       "Previous_HH_Client__c                             0\n",
       "Volunteer_Interests__c                        30350\n",
       "Tableau_Fix__c                                    0\n",
       "Multiple_AVR__c                                   0\n",
       "Vendor_Contact__c                             19004\n",
       "Do_Not_Mail_old__c                                0\n",
       "Gender__c                                      2704\n",
       "Race__c                                       25304\n",
       "Number_of_dependents__c                       15718\n",
       "Employment_Barriers__c                        30123\n",
       "Interview_Skills__c                               0\n",
       "Veteran_agreed_to_terms_at_Registration__c        0\n",
       "                                              ...  \n",
       "Selected_by__c                                30174\n",
       "Success_Story_published_on__c                 30220\n",
       "Success_Story_Notes__c                        30095\n",
       "Bilingual__c                                      0\n",
       "Willing_to_Relocate__c                            0\n",
       "Min_Salary_Expectations__c                     6684\n",
       "Used_Volunteer_Services__c                        0\n",
       "Desired_Earnings_Type__c                       6622\n",
       "Used_Federal_Services__c                          0\n",
       "Program_Location__c                           29956\n",
       "O2O_Cohort_Id__c                              29963\n",
       "Orientation_Date__c                           29970\n",
       "O2O_Career_Track__c                           29993\n",
       "O2O_Training_Track__c                         30243\n",
       "Online_Training_Track__c                      28265\n",
       "Hired_By_Partnered_Employer__c                    0\n",
       "Scheduled_Interview_Date__c                   30349\n",
       "Matched_Partner_Employer__c                   30337\n",
       "For_Workflow_Update__c                            0\n",
       "Orientation_Completed_By__c                   30290\n",
       "Send_Green_Survey__c                              0\n",
       "Professional_Certification__c                 28780\n",
       "TS_Referral_Requested_By__c                   30222\n",
       "RealZip__RealZip__c                            3614\n",
       "Discharge_Type__c                             28829\n",
       "Discharge_Disposition__c                      29935\n",
       "Date_Turned_Black__c                          30212\n",
       "Litmos__Litmos_Login_Access__c                27422\n",
       "Litmos__Total_Sum_Percentages__c              30350\n",
       "Willing_to_Relocate_to_High_Risk_Area__c          0\n",
       "Length: 391, dtype: int64"
      ]
     },
     "execution_count": 9,
     "metadata": {},
     "output_type": "execute_result"
    }
   ],
   "source": [
    "confirmed_hire.isnull().sum()"
   ]
  },
  {
   "cell_type": "code",
   "execution_count": 6,
   "metadata": {},
   "outputs": [],
   "source": [
    "not_confirmed_hire=data.loc[data[\"Hire_Heroes_USA_Confirmed_Hire__c\"]==0]"
   ]
  },
  {
   "cell_type": "code",
   "execution_count": 7,
   "metadata": {},
   "outputs": [
    {
     "data": {
      "text/plain": [
       "(102095, 391)"
      ]
     },
     "execution_count": 7,
     "metadata": {},
     "output_type": "execute_result"
    }
   ],
   "source": [
    "not_confirmed_hire.shape"
   ]
  },
  {
   "cell_type": "code",
   "execution_count": 21,
   "metadata": {},
   "outputs": [],
   "source": [
    "action_list=[\"Used_Federal_Services__c\",\"Used_Volunteer_Services__c\",\"Assessment_Completed_By__c\",\"Resume_Completed_By__c\",\"Virtual_Workshop_Participant__c\",\"On_Job_Board__c\",\"Federal_Hire__c\",\"Created_LinkedIn_account__c\",\n",
    "             \"Hired_with_EO_assistance__c\",\"Updated_Resume_Complete__c\",\"HHUSA_Workshop_Participant__c\",\"O2O_Initial_Assessment_Complete__c\",\n",
    "          \"Is_the_Initial_Intake_Assessment_done__c\",\"Revised_Resume_Used_to_Apply_for_Job__c\",\"Permission_to_use_job_board_granted__c\",\"Resume_Tailoring_Tips__c\",\"Finalized_HHUSA_revised_resume_on_file__c\",\"Hire_Heroes_USA_Confirmed_Hire__c\",\"VCF_Participant__c\",\"Interview_Skills__c\",\"Value_Proposition__c\"]"
   ]
  },
  {
   "cell_type": "code",
   "execution_count": 22,
   "metadata": {},
   "outputs": [],
   "source": [
    "confirmed_hire=confirmed_hire[action_list]"
   ]
  },
  {
   "cell_type": "code",
   "execution_count": 23,
   "metadata": {},
   "outputs": [
    {
     "data": {
      "text/plain": [
       "(30350, 21)"
      ]
     },
     "execution_count": 23,
     "metadata": {},
     "output_type": "execute_result"
    }
   ],
   "source": [
    "confirmed_hire.shape"
   ]
  },
  {
   "cell_type": "code",
   "execution_count": 24,
   "metadata": {},
   "outputs": [
    {
     "data": {
      "text/plain": [
       "Used_Federal_Services__c                        0\n",
       "Used_Volunteer_Services__c                      0\n",
       "Assessment_Completed_By__c                    708\n",
       "Resume_Completed_By__c                        653\n",
       "Virtual_Workshop_Participant__c                 0\n",
       "On_Job_Board__c                                 0\n",
       "Federal_Hire__c                                 0\n",
       "Created_LinkedIn_account__c                     0\n",
       "Hired_with_EO_assistance__c                     0\n",
       "Updated_Resume_Complete__c                      0\n",
       "HHUSA_Workshop_Participant__c                   0\n",
       "O2O_Initial_Assessment_Complete__c              0\n",
       "Is_the_Initial_Intake_Assessment_done__c        0\n",
       "Revised_Resume_Used_to_Apply_for_Job__c      4689\n",
       "Permission_to_use_job_board_granted__c          0\n",
       "Resume_Tailoring_Tips__c                        0\n",
       "Finalized_HHUSA_revised_resume_on_file__c       0\n",
       "Hire_Heroes_USA_Confirmed_Hire__c               0\n",
       "VCF_Participant__c                              0\n",
       "Interview_Skills__c                             0\n",
       "Value_Proposition__c                            0\n",
       "dtype: int64"
      ]
     },
     "execution_count": 24,
     "metadata": {},
     "output_type": "execute_result"
    }
   ],
   "source": [
    "confirmed_hire.isnull().sum()"
   ]
  },
  {
   "cell_type": "code",
   "execution_count": 26,
   "metadata": {},
   "outputs": [],
   "source": [
    "confirmed_hire=confirmed_hire.dropna()"
   ]
  },
  {
   "cell_type": "code",
   "execution_count": 35,
   "metadata": {},
   "outputs": [
    {
     "data": {
      "text/plain": [
       "Used_Federal_Services__c                     0\n",
       "Used_Volunteer_Services__c                   0\n",
       "Assessment_Completed_By__c                   0\n",
       "Resume_Completed_By__c                       0\n",
       "Virtual_Workshop_Participant__c              0\n",
       "On_Job_Board__c                              0\n",
       "Federal_Hire__c                              0\n",
       "Created_LinkedIn_account__c                  0\n",
       "Hired_with_EO_assistance__c                  0\n",
       "Updated_Resume_Complete__c                   0\n",
       "HHUSA_Workshop_Participant__c                0\n",
       "O2O_Initial_Assessment_Complete__c           0\n",
       "Is_the_Initial_Intake_Assessment_done__c     0\n",
       "Revised_Resume_Used_to_Apply_for_Job__c      0\n",
       "Permission_to_use_job_board_granted__c       0\n",
       "Resume_Tailoring_Tips__c                     0\n",
       "Finalized_HHUSA_revised_resume_on_file__c    0\n",
       "Hire_Heroes_USA_Confirmed_Hire__c            0\n",
       "VCF_Participant__c                           0\n",
       "Interview_Skills__c                          0\n",
       "Value_Proposition__c                         0\n",
       "dtype: int64"
      ]
     },
     "execution_count": 35,
     "metadata": {},
     "output_type": "execute_result"
    }
   ],
   "source": [
    "confirmed_hire.isnull().sum()"
   ]
  },
  {
   "cell_type": "code",
   "execution_count": 29,
   "metadata": {},
   "outputs": [],
   "source": [
    "not_confirmed_hire=not_confirmed_hire[action_list]"
   ]
  },
  {
   "cell_type": "code",
   "execution_count": 30,
   "metadata": {},
   "outputs": [
    {
     "data": {
      "text/plain": [
       "Used_Federal_Services__c                      23107\n",
       "Used_Volunteer_Services__c                    23107\n",
       "Assessment_Completed_By__c                    72390\n",
       "Resume_Completed_By__c                        78517\n",
       "Virtual_Workshop_Participant__c                 954\n",
       "On_Job_Board__c                                 834\n",
       "Federal_Hire__c                                 813\n",
       "Created_LinkedIn_account__c                       0\n",
       "Hired_with_EO_assistance__c                     818\n",
       "Updated_Resume_Complete__c                      854\n",
       "HHUSA_Workshop_Participant__c                     0\n",
       "O2O_Initial_Assessment_Complete__c              914\n",
       "Is_the_Initial_Intake_Assessment_done__c          0\n",
       "Revised_Resume_Used_to_Apply_for_Job__c      101616\n",
       "Permission_to_use_job_board_granted__c            0\n",
       "Resume_Tailoring_Tips__c                       4008\n",
       "Finalized_HHUSA_revised_resume_on_file__c         0\n",
       "Hire_Heroes_USA_Confirmed_Hire__c                 0\n",
       "VCF_Participant__c                              946\n",
       "Interview_Skills__c                               0\n",
       "Value_Proposition__c                          23075\n",
       "dtype: int64"
      ]
     },
     "execution_count": 30,
     "metadata": {},
     "output_type": "execute_result"
    }
   ],
   "source": [
    "not_confirmed_hire.isnull().sum()"
   ]
  },
  {
   "cell_type": "code",
   "execution_count": 31,
   "metadata": {},
   "outputs": [
    {
     "data": {
      "text/plain": [
       "(102095, 21)"
      ]
     },
     "execution_count": 31,
     "metadata": {},
     "output_type": "execute_result"
    }
   ],
   "source": [
    "not_confirmed_hire.shape"
   ]
  },
  {
   "cell_type": "code",
   "execution_count": 32,
   "metadata": {},
   "outputs": [],
   "source": [
    "not_confirmed_hire=not_confirmed_hire.dropna()"
   ]
  },
  {
   "cell_type": "code",
   "execution_count": 33,
   "metadata": {},
   "outputs": [
    {
     "data": {
      "text/plain": [
       "(417, 21)"
      ]
     },
     "execution_count": 33,
     "metadata": {},
     "output_type": "execute_result"
    }
   ],
   "source": [
    "not_confirmed_hire.shape"
   ]
  },
  {
   "cell_type": "markdown",
   "metadata": {},
   "source": [
    "# Confirmed Hire"
   ]
  },
  {
   "cell_type": "code",
   "execution_count": 37,
   "metadata": {},
   "outputs": [
    {
     "data": {
      "text/html": [
       "<div>\n",
       "<style scoped>\n",
       "    .dataframe tbody tr th:only-of-type {\n",
       "        vertical-align: middle;\n",
       "    }\n",
       "\n",
       "    .dataframe tbody tr th {\n",
       "        vertical-align: top;\n",
       "    }\n",
       "\n",
       "    .dataframe thead th {\n",
       "        text-align: right;\n",
       "    }\n",
       "</style>\n",
       "<table border=\"1\" class=\"dataframe\">\n",
       "  <thead>\n",
       "    <tr style=\"text-align: right;\">\n",
       "      <th>col_0</th>\n",
       "      <th>Used_Volunteer_Services__c</th>\n",
       "    </tr>\n",
       "    <tr>\n",
       "      <th>Used_Volunteer_Services__c</th>\n",
       "      <th></th>\n",
       "    </tr>\n",
       "  </thead>\n",
       "  <tbody>\n",
       "    <tr>\n",
       "      <th>0.0</th>\n",
       "      <td>22005</td>\n",
       "    </tr>\n",
       "    <tr>\n",
       "      <th>1.0</th>\n",
       "      <td>2813</td>\n",
       "    </tr>\n",
       "  </tbody>\n",
       "</table>\n",
       "</div>"
      ],
      "text/plain": [
       "col_0                       Used_Volunteer_Services__c\n",
       "Used_Volunteer_Services__c                            \n",
       "0.0                                              22005\n",
       "1.0                                               2813"
      ]
     },
     "execution_count": 37,
     "metadata": {},
     "output_type": "execute_result"
    }
   ],
   "source": [
    "pd.crosstab(confirmed_hire.Used_Volunteer_Services__c, columns=['Used_Volunteer_Services__c'])"
   ]
  },
  {
   "cell_type": "markdown",
   "metadata": {},
   "source": [
    "# Not confirmed Hire"
   ]
  },
  {
   "cell_type": "code",
   "execution_count": 38,
   "metadata": {},
   "outputs": [
    {
     "data": {
      "text/html": [
       "<div>\n",
       "<style scoped>\n",
       "    .dataframe tbody tr th:only-of-type {\n",
       "        vertical-align: middle;\n",
       "    }\n",
       "\n",
       "    .dataframe tbody tr th {\n",
       "        vertical-align: top;\n",
       "    }\n",
       "\n",
       "    .dataframe thead th {\n",
       "        text-align: right;\n",
       "    }\n",
       "</style>\n",
       "<table border=\"1\" class=\"dataframe\">\n",
       "  <thead>\n",
       "    <tr style=\"text-align: right;\">\n",
       "      <th>col_0</th>\n",
       "      <th>Used_Volunteer_Services__c</th>\n",
       "    </tr>\n",
       "    <tr>\n",
       "      <th>Used_Volunteer_Services__c</th>\n",
       "      <th></th>\n",
       "    </tr>\n",
       "  </thead>\n",
       "  <tbody>\n",
       "    <tr>\n",
       "      <th>0.0</th>\n",
       "      <td>396</td>\n",
       "    </tr>\n",
       "    <tr>\n",
       "      <th>1.0</th>\n",
       "      <td>21</td>\n",
       "    </tr>\n",
       "  </tbody>\n",
       "</table>\n",
       "</div>"
      ],
      "text/plain": [
       "col_0                       Used_Volunteer_Services__c\n",
       "Used_Volunteer_Services__c                            \n",
       "0.0                                                396\n",
       "1.0                                                 21"
      ]
     },
     "execution_count": 38,
     "metadata": {},
     "output_type": "execute_result"
    }
   ],
   "source": [
    "pd.crosstab(not_confirmed_hire.Used_Volunteer_Services__c, columns=['Used_Volunteer_Services__c'])"
   ]
  },
  {
   "cell_type": "markdown",
   "metadata": {},
   "source": [
    "# Confirmed Hire"
   ]
  },
  {
   "cell_type": "code",
   "execution_count": 39,
   "metadata": {},
   "outputs": [
    {
     "data": {
      "text/html": [
       "<div>\n",
       "<style scoped>\n",
       "    .dataframe tbody tr th:only-of-type {\n",
       "        vertical-align: middle;\n",
       "    }\n",
       "\n",
       "    .dataframe tbody tr th {\n",
       "        vertical-align: top;\n",
       "    }\n",
       "\n",
       "    .dataframe thead th {\n",
       "        text-align: right;\n",
       "    }\n",
       "</style>\n",
       "<table border=\"1\" class=\"dataframe\">\n",
       "  <thead>\n",
       "    <tr style=\"text-align: right;\">\n",
       "      <th>col_0</th>\n",
       "      <th>VCF_Participant__c</th>\n",
       "    </tr>\n",
       "    <tr>\n",
       "      <th>VCF_Participant__c</th>\n",
       "      <th></th>\n",
       "    </tr>\n",
       "  </thead>\n",
       "  <tbody>\n",
       "    <tr>\n",
       "      <th>0.0</th>\n",
       "      <td>24409</td>\n",
       "    </tr>\n",
       "    <tr>\n",
       "      <th>1.0</th>\n",
       "      <td>409</td>\n",
       "    </tr>\n",
       "  </tbody>\n",
       "</table>\n",
       "</div>"
      ],
      "text/plain": [
       "col_0               VCF_Participant__c\n",
       "VCF_Participant__c                    \n",
       "0.0                              24409\n",
       "1.0                                409"
      ]
     },
     "execution_count": 39,
     "metadata": {},
     "output_type": "execute_result"
    }
   ],
   "source": [
    "pd.crosstab(confirmed_hire.VCF_Participant__c, columns=['VCF_Participant__c'])"
   ]
  },
  {
   "cell_type": "markdown",
   "metadata": {},
   "source": [
    "# Not Confirmed Hire"
   ]
  },
  {
   "cell_type": "code",
   "execution_count": 40,
   "metadata": {},
   "outputs": [
    {
     "data": {
      "text/html": [
       "<div>\n",
       "<style scoped>\n",
       "    .dataframe tbody tr th:only-of-type {\n",
       "        vertical-align: middle;\n",
       "    }\n",
       "\n",
       "    .dataframe tbody tr th {\n",
       "        vertical-align: top;\n",
       "    }\n",
       "\n",
       "    .dataframe thead th {\n",
       "        text-align: right;\n",
       "    }\n",
       "</style>\n",
       "<table border=\"1\" class=\"dataframe\">\n",
       "  <thead>\n",
       "    <tr style=\"text-align: right;\">\n",
       "      <th>col_0</th>\n",
       "      <th>VCF_Participant__c</th>\n",
       "    </tr>\n",
       "    <tr>\n",
       "      <th>VCF_Participant__c</th>\n",
       "      <th></th>\n",
       "    </tr>\n",
       "  </thead>\n",
       "  <tbody>\n",
       "    <tr>\n",
       "      <th>0.0</th>\n",
       "      <td>414</td>\n",
       "    </tr>\n",
       "    <tr>\n",
       "      <th>1.0</th>\n",
       "      <td>3</td>\n",
       "    </tr>\n",
       "  </tbody>\n",
       "</table>\n",
       "</div>"
      ],
      "text/plain": [
       "col_0               VCF_Participant__c\n",
       "VCF_Participant__c                    \n",
       "0.0                                414\n",
       "1.0                                  3"
      ]
     },
     "execution_count": 40,
     "metadata": {},
     "output_type": "execute_result"
    }
   ],
   "source": [
    "pd.crosstab(not_confirmed_hire.VCF_Participant__c, columns=['VCF_Participant__c'])"
   ]
  },
  {
   "cell_type": "markdown",
   "metadata": {},
   "source": [
    "# Confirmed Hire"
   ]
  },
  {
   "cell_type": "code",
   "execution_count": 41,
   "metadata": {},
   "outputs": [
    {
     "data": {
      "text/html": [
       "<div>\n",
       "<style scoped>\n",
       "    .dataframe tbody tr th:only-of-type {\n",
       "        vertical-align: middle;\n",
       "    }\n",
       "\n",
       "    .dataframe tbody tr th {\n",
       "        vertical-align: top;\n",
       "    }\n",
       "\n",
       "    .dataframe thead th {\n",
       "        text-align: right;\n",
       "    }\n",
       "</style>\n",
       "<table border=\"1\" class=\"dataframe\">\n",
       "  <thead>\n",
       "    <tr style=\"text-align: right;\">\n",
       "      <th>col_0</th>\n",
       "      <th>Virtual_Workshop_Participant__c</th>\n",
       "    </tr>\n",
       "    <tr>\n",
       "      <th>Virtual_Workshop_Participant__c</th>\n",
       "      <th></th>\n",
       "    </tr>\n",
       "  </thead>\n",
       "  <tbody>\n",
       "    <tr>\n",
       "      <th>0.0</th>\n",
       "      <td>24772</td>\n",
       "    </tr>\n",
       "    <tr>\n",
       "      <th>1.0</th>\n",
       "      <td>46</td>\n",
       "    </tr>\n",
       "  </tbody>\n",
       "</table>\n",
       "</div>"
      ],
      "text/plain": [
       "col_0                            Virtual_Workshop_Participant__c\n",
       "Virtual_Workshop_Participant__c                                 \n",
       "0.0                                                        24772\n",
       "1.0                                                           46"
      ]
     },
     "execution_count": 41,
     "metadata": {},
     "output_type": "execute_result"
    }
   ],
   "source": [
    "pd.crosstab(confirmed_hire.Virtual_Workshop_Participant__c, columns=['Virtual_Workshop_Participant__c'])"
   ]
  },
  {
   "cell_type": "markdown",
   "metadata": {},
   "source": [
    "# Not Confirmed Hire"
   ]
  },
  {
   "cell_type": "code",
   "execution_count": 42,
   "metadata": {},
   "outputs": [
    {
     "data": {
      "text/html": [
       "<div>\n",
       "<style scoped>\n",
       "    .dataframe tbody tr th:only-of-type {\n",
       "        vertical-align: middle;\n",
       "    }\n",
       "\n",
       "    .dataframe tbody tr th {\n",
       "        vertical-align: top;\n",
       "    }\n",
       "\n",
       "    .dataframe thead th {\n",
       "        text-align: right;\n",
       "    }\n",
       "</style>\n",
       "<table border=\"1\" class=\"dataframe\">\n",
       "  <thead>\n",
       "    <tr style=\"text-align: right;\">\n",
       "      <th>col_0</th>\n",
       "      <th>Virtual_Workshop_Participant__c</th>\n",
       "    </tr>\n",
       "    <tr>\n",
       "      <th>Virtual_Workshop_Participant__c</th>\n",
       "      <th></th>\n",
       "    </tr>\n",
       "  </thead>\n",
       "  <tbody>\n",
       "    <tr>\n",
       "      <th>0.0</th>\n",
       "      <td>417</td>\n",
       "    </tr>\n",
       "  </tbody>\n",
       "</table>\n",
       "</div>"
      ],
      "text/plain": [
       "col_0                            Virtual_Workshop_Participant__c\n",
       "Virtual_Workshop_Participant__c                                 \n",
       "0.0                                                          417"
      ]
     },
     "execution_count": 42,
     "metadata": {},
     "output_type": "execute_result"
    }
   ],
   "source": [
    "pd.crosstab(not_confirmed_hire.Virtual_Workshop_Participant__c, columns=['Virtual_Workshop_Participant__c'])"
   ]
  },
  {
   "cell_type": "markdown",
   "metadata": {},
   "source": [
    "# Confirmed Hire"
   ]
  },
  {
   "cell_type": "code",
   "execution_count": 43,
   "metadata": {},
   "outputs": [
    {
     "data": {
      "text/html": [
       "<div>\n",
       "<style scoped>\n",
       "    .dataframe tbody tr th:only-of-type {\n",
       "        vertical-align: middle;\n",
       "    }\n",
       "\n",
       "    .dataframe tbody tr th {\n",
       "        vertical-align: top;\n",
       "    }\n",
       "\n",
       "    .dataframe thead th {\n",
       "        text-align: right;\n",
       "    }\n",
       "</style>\n",
       "<table border=\"1\" class=\"dataframe\">\n",
       "  <thead>\n",
       "    <tr style=\"text-align: right;\">\n",
       "      <th>col_0</th>\n",
       "      <th>On_Job_Board__c</th>\n",
       "    </tr>\n",
       "    <tr>\n",
       "      <th>On_Job_Board__c</th>\n",
       "      <th></th>\n",
       "    </tr>\n",
       "  </thead>\n",
       "  <tbody>\n",
       "    <tr>\n",
       "      <th>0.0</th>\n",
       "      <td>22018</td>\n",
       "    </tr>\n",
       "    <tr>\n",
       "      <th>1.0</th>\n",
       "      <td>2800</td>\n",
       "    </tr>\n",
       "  </tbody>\n",
       "</table>\n",
       "</div>"
      ],
      "text/plain": [
       "col_0            On_Job_Board__c\n",
       "On_Job_Board__c                 \n",
       "0.0                        22018\n",
       "1.0                         2800"
      ]
     },
     "execution_count": 43,
     "metadata": {},
     "output_type": "execute_result"
    }
   ],
   "source": [
    "pd.crosstab(confirmed_hire.On_Job_Board__c, columns=['On_Job_Board__c'])"
   ]
  },
  {
   "cell_type": "markdown",
   "metadata": {},
   "source": [
    "# Not Confirmed Hire"
   ]
  },
  {
   "cell_type": "code",
   "execution_count": 44,
   "metadata": {},
   "outputs": [
    {
     "data": {
      "text/html": [
       "<div>\n",
       "<style scoped>\n",
       "    .dataframe tbody tr th:only-of-type {\n",
       "        vertical-align: middle;\n",
       "    }\n",
       "\n",
       "    .dataframe tbody tr th {\n",
       "        vertical-align: top;\n",
       "    }\n",
       "\n",
       "    .dataframe thead th {\n",
       "        text-align: right;\n",
       "    }\n",
       "</style>\n",
       "<table border=\"1\" class=\"dataframe\">\n",
       "  <thead>\n",
       "    <tr style=\"text-align: right;\">\n",
       "      <th>col_0</th>\n",
       "      <th>On_Job_Board__c</th>\n",
       "    </tr>\n",
       "    <tr>\n",
       "      <th>On_Job_Board__c</th>\n",
       "      <th></th>\n",
       "    </tr>\n",
       "  </thead>\n",
       "  <tbody>\n",
       "    <tr>\n",
       "      <th>0.0</th>\n",
       "      <td>393</td>\n",
       "    </tr>\n",
       "    <tr>\n",
       "      <th>1.0</th>\n",
       "      <td>24</td>\n",
       "    </tr>\n",
       "  </tbody>\n",
       "</table>\n",
       "</div>"
      ],
      "text/plain": [
       "col_0            On_Job_Board__c\n",
       "On_Job_Board__c                 \n",
       "0.0                          393\n",
       "1.0                           24"
      ]
     },
     "execution_count": 44,
     "metadata": {},
     "output_type": "execute_result"
    }
   ],
   "source": [
    "pd.crosstab(not_confirmed_hire.On_Job_Board__c, columns=['On_Job_Board__c'])"
   ]
  },
  {
   "cell_type": "markdown",
   "metadata": {},
   "source": [
    "#  Confirmed Hire"
   ]
  },
  {
   "cell_type": "code",
   "execution_count": 46,
   "metadata": {},
   "outputs": [
    {
     "data": {
      "text/html": [
       "<div>\n",
       "<style scoped>\n",
       "    .dataframe tbody tr th:only-of-type {\n",
       "        vertical-align: middle;\n",
       "    }\n",
       "\n",
       "    .dataframe tbody tr th {\n",
       "        vertical-align: top;\n",
       "    }\n",
       "\n",
       "    .dataframe thead th {\n",
       "        text-align: right;\n",
       "    }\n",
       "</style>\n",
       "<table border=\"1\" class=\"dataframe\">\n",
       "  <thead>\n",
       "    <tr style=\"text-align: right;\">\n",
       "      <th>col_0</th>\n",
       "      <th>Used_Federal_Services__c</th>\n",
       "    </tr>\n",
       "    <tr>\n",
       "      <th>Used_Federal_Services__c</th>\n",
       "      <th></th>\n",
       "    </tr>\n",
       "  </thead>\n",
       "  <tbody>\n",
       "    <tr>\n",
       "      <th>0.0</th>\n",
       "      <td>23717</td>\n",
       "    </tr>\n",
       "    <tr>\n",
       "      <th>1.0</th>\n",
       "      <td>1101</td>\n",
       "    </tr>\n",
       "  </tbody>\n",
       "</table>\n",
       "</div>"
      ],
      "text/plain": [
       "col_0                     Used_Federal_Services__c\n",
       "Used_Federal_Services__c                          \n",
       "0.0                                          23717\n",
       "1.0                                           1101"
      ]
     },
     "execution_count": 46,
     "metadata": {},
     "output_type": "execute_result"
    }
   ],
   "source": [
    "pd.crosstab(confirmed_hire.Used_Federal_Services__c, columns=['Used_Federal_Services__c'])"
   ]
  },
  {
   "cell_type": "markdown",
   "metadata": {},
   "source": [
    "# Not  Confirmed Hire"
   ]
  },
  {
   "cell_type": "code",
   "execution_count": 48,
   "metadata": {},
   "outputs": [
    {
     "data": {
      "text/html": [
       "<div>\n",
       "<style scoped>\n",
       "    .dataframe tbody tr th:only-of-type {\n",
       "        vertical-align: middle;\n",
       "    }\n",
       "\n",
       "    .dataframe tbody tr th {\n",
       "        vertical-align: top;\n",
       "    }\n",
       "\n",
       "    .dataframe thead th {\n",
       "        text-align: right;\n",
       "    }\n",
       "</style>\n",
       "<table border=\"1\" class=\"dataframe\">\n",
       "  <thead>\n",
       "    <tr style=\"text-align: right;\">\n",
       "      <th>col_0</th>\n",
       "      <th>Used_Federal_Services__c</th>\n",
       "    </tr>\n",
       "    <tr>\n",
       "      <th>Used_Federal_Services__c</th>\n",
       "      <th></th>\n",
       "    </tr>\n",
       "  </thead>\n",
       "  <tbody>\n",
       "    <tr>\n",
       "      <th>0.0</th>\n",
       "      <td>412</td>\n",
       "    </tr>\n",
       "    <tr>\n",
       "      <th>1.0</th>\n",
       "      <td>5</td>\n",
       "    </tr>\n",
       "  </tbody>\n",
       "</table>\n",
       "</div>"
      ],
      "text/plain": [
       "col_0                     Used_Federal_Services__c\n",
       "Used_Federal_Services__c                          \n",
       "0.0                                            412\n",
       "1.0                                              5"
      ]
     },
     "execution_count": 48,
     "metadata": {},
     "output_type": "execute_result"
    }
   ],
   "source": [
    "pd.crosstab(not_confirmed_hire.Used_Federal_Services__c, columns=['Used_Federal_Services__c'])"
   ]
  },
  {
   "cell_type": "markdown",
   "metadata": {},
   "source": [
    "#  Confirmed Hire"
   ]
  },
  {
   "cell_type": "code",
   "execution_count": 49,
   "metadata": {},
   "outputs": [
    {
     "data": {
      "text/html": [
       "<div>\n",
       "<style scoped>\n",
       "    .dataframe tbody tr th:only-of-type {\n",
       "        vertical-align: middle;\n",
       "    }\n",
       "\n",
       "    .dataframe tbody tr th {\n",
       "        vertical-align: top;\n",
       "    }\n",
       "\n",
       "    .dataframe thead th {\n",
       "        text-align: right;\n",
       "    }\n",
       "</style>\n",
       "<table border=\"1\" class=\"dataframe\">\n",
       "  <thead>\n",
       "    <tr style=\"text-align: right;\">\n",
       "      <th>col_0</th>\n",
       "      <th>Interview_Skills__c</th>\n",
       "    </tr>\n",
       "    <tr>\n",
       "      <th>Interview_Skills__c</th>\n",
       "      <th></th>\n",
       "    </tr>\n",
       "  </thead>\n",
       "  <tbody>\n",
       "    <tr>\n",
       "      <th>0</th>\n",
       "      <td>6133</td>\n",
       "    </tr>\n",
       "    <tr>\n",
       "      <th>1</th>\n",
       "      <td>18685</td>\n",
       "    </tr>\n",
       "  </tbody>\n",
       "</table>\n",
       "</div>"
      ],
      "text/plain": [
       "col_0                Interview_Skills__c\n",
       "Interview_Skills__c                     \n",
       "0                                   6133\n",
       "1                                  18685"
      ]
     },
     "execution_count": 49,
     "metadata": {},
     "output_type": "execute_result"
    }
   ],
   "source": [
    "pd.crosstab(confirmed_hire.Interview_Skills__c, columns=['Interview_Skills__c'])"
   ]
  },
  {
   "cell_type": "markdown",
   "metadata": {},
   "source": [
    "#  Not Confirmed Hire"
   ]
  },
  {
   "cell_type": "code",
   "execution_count": 50,
   "metadata": {},
   "outputs": [
    {
     "data": {
      "text/html": [
       "<div>\n",
       "<style scoped>\n",
       "    .dataframe tbody tr th:only-of-type {\n",
       "        vertical-align: middle;\n",
       "    }\n",
       "\n",
       "    .dataframe tbody tr th {\n",
       "        vertical-align: top;\n",
       "    }\n",
       "\n",
       "    .dataframe thead th {\n",
       "        text-align: right;\n",
       "    }\n",
       "</style>\n",
       "<table border=\"1\" class=\"dataframe\">\n",
       "  <thead>\n",
       "    <tr style=\"text-align: right;\">\n",
       "      <th>col_0</th>\n",
       "      <th>Interview_Skills__c</th>\n",
       "    </tr>\n",
       "    <tr>\n",
       "      <th>Interview_Skills__c</th>\n",
       "      <th></th>\n",
       "    </tr>\n",
       "  </thead>\n",
       "  <tbody>\n",
       "    <tr>\n",
       "      <th>0</th>\n",
       "      <td>164</td>\n",
       "    </tr>\n",
       "    <tr>\n",
       "      <th>1</th>\n",
       "      <td>253</td>\n",
       "    </tr>\n",
       "  </tbody>\n",
       "</table>\n",
       "</div>"
      ],
      "text/plain": [
       "col_0                Interview_Skills__c\n",
       "Interview_Skills__c                     \n",
       "0                                    164\n",
       "1                                    253"
      ]
     },
     "execution_count": 50,
     "metadata": {},
     "output_type": "execute_result"
    }
   ],
   "source": [
    "pd.crosstab(not_confirmed_hire.Interview_Skills__c, columns=['Interview_Skills__c'])"
   ]
  },
  {
   "cell_type": "markdown",
   "metadata": {},
   "source": [
    "# Confirmed Hire"
   ]
  },
  {
   "cell_type": "code",
   "execution_count": 51,
   "metadata": {},
   "outputs": [
    {
     "data": {
      "text/html": [
       "<div>\n",
       "<style scoped>\n",
       "    .dataframe tbody tr th:only-of-type {\n",
       "        vertical-align: middle;\n",
       "    }\n",
       "\n",
       "    .dataframe tbody tr th {\n",
       "        vertical-align: top;\n",
       "    }\n",
       "\n",
       "    .dataframe thead th {\n",
       "        text-align: right;\n",
       "    }\n",
       "</style>\n",
       "<table border=\"1\" class=\"dataframe\">\n",
       "  <thead>\n",
       "    <tr style=\"text-align: right;\">\n",
       "      <th>col_0</th>\n",
       "      <th>Created_LinkedIn_account__c</th>\n",
       "    </tr>\n",
       "    <tr>\n",
       "      <th>Created_LinkedIn_account__c</th>\n",
       "      <th></th>\n",
       "    </tr>\n",
       "  </thead>\n",
       "  <tbody>\n",
       "    <tr>\n",
       "      <th>0</th>\n",
       "      <td>9653</td>\n",
       "    </tr>\n",
       "    <tr>\n",
       "      <th>1</th>\n",
       "      <td>15165</td>\n",
       "    </tr>\n",
       "  </tbody>\n",
       "</table>\n",
       "</div>"
      ],
      "text/plain": [
       "col_0                        Created_LinkedIn_account__c\n",
       "Created_LinkedIn_account__c                             \n",
       "0                                                   9653\n",
       "1                                                  15165"
      ]
     },
     "execution_count": 51,
     "metadata": {},
     "output_type": "execute_result"
    }
   ],
   "source": [
    "pd.crosstab(confirmed_hire.Created_LinkedIn_account__c, columns=['Created_LinkedIn_account__c'])"
   ]
  },
  {
   "cell_type": "markdown",
   "metadata": {},
   "source": [
    "#  Not Confirmed Hire"
   ]
  },
  {
   "cell_type": "code",
   "execution_count": 52,
   "metadata": {},
   "outputs": [
    {
     "data": {
      "text/html": [
       "<div>\n",
       "<style scoped>\n",
       "    .dataframe tbody tr th:only-of-type {\n",
       "        vertical-align: middle;\n",
       "    }\n",
       "\n",
       "    .dataframe tbody tr th {\n",
       "        vertical-align: top;\n",
       "    }\n",
       "\n",
       "    .dataframe thead th {\n",
       "        text-align: right;\n",
       "    }\n",
       "</style>\n",
       "<table border=\"1\" class=\"dataframe\">\n",
       "  <thead>\n",
       "    <tr style=\"text-align: right;\">\n",
       "      <th>col_0</th>\n",
       "      <th>Created_LinkedIn_account__c</th>\n",
       "    </tr>\n",
       "    <tr>\n",
       "      <th>Created_LinkedIn_account__c</th>\n",
       "      <th></th>\n",
       "    </tr>\n",
       "  </thead>\n",
       "  <tbody>\n",
       "    <tr>\n",
       "      <th>0</th>\n",
       "      <td>195</td>\n",
       "    </tr>\n",
       "    <tr>\n",
       "      <th>1</th>\n",
       "      <td>222</td>\n",
       "    </tr>\n",
       "  </tbody>\n",
       "</table>\n",
       "</div>"
      ],
      "text/plain": [
       "col_0                        Created_LinkedIn_account__c\n",
       "Created_LinkedIn_account__c                             \n",
       "0                                                    195\n",
       "1                                                    222"
      ]
     },
     "execution_count": 52,
     "metadata": {},
     "output_type": "execute_result"
    }
   ],
   "source": [
    "pd.crosstab(not_confirmed_hire.Created_LinkedIn_account__c, columns=['Created_LinkedIn_account__c'])"
   ]
  },
  {
   "cell_type": "markdown",
   "metadata": {},
   "source": [
    "# Confirmed Hire"
   ]
  },
  {
   "cell_type": "code",
   "execution_count": 53,
   "metadata": {},
   "outputs": [
    {
     "data": {
      "text/html": [
       "<div>\n",
       "<style scoped>\n",
       "    .dataframe tbody tr th:only-of-type {\n",
       "        vertical-align: middle;\n",
       "    }\n",
       "\n",
       "    .dataframe tbody tr th {\n",
       "        vertical-align: top;\n",
       "    }\n",
       "\n",
       "    .dataframe thead th {\n",
       "        text-align: right;\n",
       "    }\n",
       "</style>\n",
       "<table border=\"1\" class=\"dataframe\">\n",
       "  <thead>\n",
       "    <tr style=\"text-align: right;\">\n",
       "      <th>col_0</th>\n",
       "      <th>Value_Proposition__c</th>\n",
       "    </tr>\n",
       "    <tr>\n",
       "      <th>Value_Proposition__c</th>\n",
       "      <th></th>\n",
       "    </tr>\n",
       "  </thead>\n",
       "  <tbody>\n",
       "    <tr>\n",
       "      <th>0.0</th>\n",
       "      <td>5863</td>\n",
       "    </tr>\n",
       "    <tr>\n",
       "      <th>1.0</th>\n",
       "      <td>18955</td>\n",
       "    </tr>\n",
       "  </tbody>\n",
       "</table>\n",
       "</div>"
      ],
      "text/plain": [
       "col_0                 Value_Proposition__c\n",
       "Value_Proposition__c                      \n",
       "0.0                                   5863\n",
       "1.0                                  18955"
      ]
     },
     "execution_count": 53,
     "metadata": {},
     "output_type": "execute_result"
    }
   ],
   "source": [
    "pd.crosstab(confirmed_hire.Value_Proposition__c, columns=['Value_Proposition__c'])"
   ]
  },
  {
   "cell_type": "markdown",
   "metadata": {},
   "source": [
    "# Not Confirmed Hire"
   ]
  },
  {
   "cell_type": "code",
   "execution_count": 54,
   "metadata": {},
   "outputs": [
    {
     "data": {
      "text/html": [
       "<div>\n",
       "<style scoped>\n",
       "    .dataframe tbody tr th:only-of-type {\n",
       "        vertical-align: middle;\n",
       "    }\n",
       "\n",
       "    .dataframe tbody tr th {\n",
       "        vertical-align: top;\n",
       "    }\n",
       "\n",
       "    .dataframe thead th {\n",
       "        text-align: right;\n",
       "    }\n",
       "</style>\n",
       "<table border=\"1\" class=\"dataframe\">\n",
       "  <thead>\n",
       "    <tr style=\"text-align: right;\">\n",
       "      <th>col_0</th>\n",
       "      <th>Value_Proposition__c</th>\n",
       "    </tr>\n",
       "    <tr>\n",
       "      <th>Value_Proposition__c</th>\n",
       "      <th></th>\n",
       "    </tr>\n",
       "  </thead>\n",
       "  <tbody>\n",
       "    <tr>\n",
       "      <th>0.0</th>\n",
       "      <td>159</td>\n",
       "    </tr>\n",
       "    <tr>\n",
       "      <th>1.0</th>\n",
       "      <td>258</td>\n",
       "    </tr>\n",
       "  </tbody>\n",
       "</table>\n",
       "</div>"
      ],
      "text/plain": [
       "col_0                 Value_Proposition__c\n",
       "Value_Proposition__c                      \n",
       "0.0                                    159\n",
       "1.0                                    258"
      ]
     },
     "execution_count": 54,
     "metadata": {},
     "output_type": "execute_result"
    }
   ],
   "source": [
    "pd.crosstab(not_confirmed_hire.Value_Proposition__c, columns=['Value_Proposition__c'])"
   ]
  },
  {
   "cell_type": "markdown",
   "metadata": {},
   "source": [
    "# Confirmed Hire"
   ]
  },
  {
   "cell_type": "code",
   "execution_count": 55,
   "metadata": {},
   "outputs": [
    {
     "data": {
      "text/html": [
       "<div>\n",
       "<style scoped>\n",
       "    .dataframe tbody tr th:only-of-type {\n",
       "        vertical-align: middle;\n",
       "    }\n",
       "\n",
       "    .dataframe tbody tr th {\n",
       "        vertical-align: top;\n",
       "    }\n",
       "\n",
       "    .dataframe thead th {\n",
       "        text-align: right;\n",
       "    }\n",
       "</style>\n",
       "<table border=\"1\" class=\"dataframe\">\n",
       "  <thead>\n",
       "    <tr style=\"text-align: right;\">\n",
       "      <th>col_0</th>\n",
       "      <th>Hired_with_EO_assistance__c</th>\n",
       "    </tr>\n",
       "    <tr>\n",
       "      <th>Hired_with_EO_assistance__c</th>\n",
       "      <th></th>\n",
       "    </tr>\n",
       "  </thead>\n",
       "  <tbody>\n",
       "    <tr>\n",
       "      <th>0.0</th>\n",
       "      <td>24781</td>\n",
       "    </tr>\n",
       "    <tr>\n",
       "      <th>1.0</th>\n",
       "      <td>37</td>\n",
       "    </tr>\n",
       "  </tbody>\n",
       "</table>\n",
       "</div>"
      ],
      "text/plain": [
       "col_0                        Hired_with_EO_assistance__c\n",
       "Hired_with_EO_assistance__c                             \n",
       "0.0                                                24781\n",
       "1.0                                                   37"
      ]
     },
     "execution_count": 55,
     "metadata": {},
     "output_type": "execute_result"
    }
   ],
   "source": [
    "pd.crosstab(confirmed_hire.Hired_with_EO_assistance__c, columns=['Hired_with_EO_assistance__c'])"
   ]
  },
  {
   "cell_type": "markdown",
   "metadata": {},
   "source": [
    "# Not Confirmed Hire"
   ]
  },
  {
   "cell_type": "code",
   "execution_count": 56,
   "metadata": {},
   "outputs": [
    {
     "data": {
      "text/html": [
       "<div>\n",
       "<style scoped>\n",
       "    .dataframe tbody tr th:only-of-type {\n",
       "        vertical-align: middle;\n",
       "    }\n",
       "\n",
       "    .dataframe tbody tr th {\n",
       "        vertical-align: top;\n",
       "    }\n",
       "\n",
       "    .dataframe thead th {\n",
       "        text-align: right;\n",
       "    }\n",
       "</style>\n",
       "<table border=\"1\" class=\"dataframe\">\n",
       "  <thead>\n",
       "    <tr style=\"text-align: right;\">\n",
       "      <th>col_0</th>\n",
       "      <th>Hired_with_EO_assistance__c</th>\n",
       "    </tr>\n",
       "    <tr>\n",
       "      <th>Hired_with_EO_assistance__c</th>\n",
       "      <th></th>\n",
       "    </tr>\n",
       "  </thead>\n",
       "  <tbody>\n",
       "    <tr>\n",
       "      <th>0.0</th>\n",
       "      <td>417</td>\n",
       "    </tr>\n",
       "  </tbody>\n",
       "</table>\n",
       "</div>"
      ],
      "text/plain": [
       "col_0                        Hired_with_EO_assistance__c\n",
       "Hired_with_EO_assistance__c                             \n",
       "0.0                                                  417"
      ]
     },
     "execution_count": 56,
     "metadata": {},
     "output_type": "execute_result"
    }
   ],
   "source": [
    "pd.crosstab(not_confirmed_hire.Hired_with_EO_assistance__c, columns=['Hired_with_EO_assistance__c'])"
   ]
  },
  {
   "cell_type": "markdown",
   "metadata": {},
   "source": [
    "# Confirmed Hire"
   ]
  },
  {
   "cell_type": "code",
   "execution_count": 57,
   "metadata": {},
   "outputs": [
    {
     "data": {
      "text/html": [
       "<div>\n",
       "<style scoped>\n",
       "    .dataframe tbody tr th:only-of-type {\n",
       "        vertical-align: middle;\n",
       "    }\n",
       "\n",
       "    .dataframe tbody tr th {\n",
       "        vertical-align: top;\n",
       "    }\n",
       "\n",
       "    .dataframe thead th {\n",
       "        text-align: right;\n",
       "    }\n",
       "</style>\n",
       "<table border=\"1\" class=\"dataframe\">\n",
       "  <thead>\n",
       "    <tr style=\"text-align: right;\">\n",
       "      <th>col_0</th>\n",
       "      <th>Updated_Resume_Complete__c</th>\n",
       "    </tr>\n",
       "    <tr>\n",
       "      <th>Updated_Resume_Complete__c</th>\n",
       "      <th></th>\n",
       "    </tr>\n",
       "  </thead>\n",
       "  <tbody>\n",
       "    <tr>\n",
       "      <th>0.0</th>\n",
       "      <td>24192</td>\n",
       "    </tr>\n",
       "    <tr>\n",
       "      <th>1.0</th>\n",
       "      <td>626</td>\n",
       "    </tr>\n",
       "  </tbody>\n",
       "</table>\n",
       "</div>"
      ],
      "text/plain": [
       "col_0                       Updated_Resume_Complete__c\n",
       "Updated_Resume_Complete__c                            \n",
       "0.0                                              24192\n",
       "1.0                                                626"
      ]
     },
     "execution_count": 57,
     "metadata": {},
     "output_type": "execute_result"
    }
   ],
   "source": [
    "pd.crosstab(confirmed_hire.Updated_Resume_Complete__c, columns=['Updated_Resume_Complete__c'])"
   ]
  },
  {
   "cell_type": "markdown",
   "metadata": {},
   "source": [
    "# Not Confirmed Hire"
   ]
  },
  {
   "cell_type": "code",
   "execution_count": 58,
   "metadata": {},
   "outputs": [
    {
     "data": {
      "text/html": [
       "<div>\n",
       "<style scoped>\n",
       "    .dataframe tbody tr th:only-of-type {\n",
       "        vertical-align: middle;\n",
       "    }\n",
       "\n",
       "    .dataframe tbody tr th {\n",
       "        vertical-align: top;\n",
       "    }\n",
       "\n",
       "    .dataframe thead th {\n",
       "        text-align: right;\n",
       "    }\n",
       "</style>\n",
       "<table border=\"1\" class=\"dataframe\">\n",
       "  <thead>\n",
       "    <tr style=\"text-align: right;\">\n",
       "      <th>col_0</th>\n",
       "      <th>Updated_Resume_Complete__c</th>\n",
       "    </tr>\n",
       "    <tr>\n",
       "      <th>Updated_Resume_Complete__c</th>\n",
       "      <th></th>\n",
       "    </tr>\n",
       "  </thead>\n",
       "  <tbody>\n",
       "    <tr>\n",
       "      <th>0.0</th>\n",
       "      <td>411</td>\n",
       "    </tr>\n",
       "    <tr>\n",
       "      <th>1.0</th>\n",
       "      <td>6</td>\n",
       "    </tr>\n",
       "  </tbody>\n",
       "</table>\n",
       "</div>"
      ],
      "text/plain": [
       "col_0                       Updated_Resume_Complete__c\n",
       "Updated_Resume_Complete__c                            \n",
       "0.0                                                411\n",
       "1.0                                                  6"
      ]
     },
     "execution_count": 58,
     "metadata": {},
     "output_type": "execute_result"
    }
   ],
   "source": [
    "pd.crosstab(not_confirmed_hire.Updated_Resume_Complete__c, columns=['Updated_Resume_Complete__c'])"
   ]
  },
  {
   "cell_type": "markdown",
   "metadata": {},
   "source": [
    "# Confirmed Hire"
   ]
  },
  {
   "cell_type": "code",
   "execution_count": 59,
   "metadata": {},
   "outputs": [
    {
     "data": {
      "text/html": [
       "<div>\n",
       "<style scoped>\n",
       "    .dataframe tbody tr th:only-of-type {\n",
       "        vertical-align: middle;\n",
       "    }\n",
       "\n",
       "    .dataframe tbody tr th {\n",
       "        vertical-align: top;\n",
       "    }\n",
       "\n",
       "    .dataframe thead th {\n",
       "        text-align: right;\n",
       "    }\n",
       "</style>\n",
       "<table border=\"1\" class=\"dataframe\">\n",
       "  <thead>\n",
       "    <tr style=\"text-align: right;\">\n",
       "      <th>col_0</th>\n",
       "      <th>HHUSA_Workshop_Participant__c</th>\n",
       "    </tr>\n",
       "    <tr>\n",
       "      <th>HHUSA_Workshop_Participant__c</th>\n",
       "      <th></th>\n",
       "    </tr>\n",
       "  </thead>\n",
       "  <tbody>\n",
       "    <tr>\n",
       "      <th>0</th>\n",
       "      <td>22382</td>\n",
       "    </tr>\n",
       "    <tr>\n",
       "      <th>1</th>\n",
       "      <td>2436</td>\n",
       "    </tr>\n",
       "  </tbody>\n",
       "</table>\n",
       "</div>"
      ],
      "text/plain": [
       "col_0                          HHUSA_Workshop_Participant__c\n",
       "HHUSA_Workshop_Participant__c                               \n",
       "0                                                      22382\n",
       "1                                                       2436"
      ]
     },
     "execution_count": 59,
     "metadata": {},
     "output_type": "execute_result"
    }
   ],
   "source": [
    "pd.crosstab(confirmed_hire.HHUSA_Workshop_Participant__c, columns=['HHUSA_Workshop_Participant__c'])"
   ]
  },
  {
   "cell_type": "markdown",
   "metadata": {},
   "source": [
    "# Not Confirmed Hire"
   ]
  },
  {
   "cell_type": "code",
   "execution_count": 60,
   "metadata": {},
   "outputs": [
    {
     "data": {
      "text/html": [
       "<div>\n",
       "<style scoped>\n",
       "    .dataframe tbody tr th:only-of-type {\n",
       "        vertical-align: middle;\n",
       "    }\n",
       "\n",
       "    .dataframe tbody tr th {\n",
       "        vertical-align: top;\n",
       "    }\n",
       "\n",
       "    .dataframe thead th {\n",
       "        text-align: right;\n",
       "    }\n",
       "</style>\n",
       "<table border=\"1\" class=\"dataframe\">\n",
       "  <thead>\n",
       "    <tr style=\"text-align: right;\">\n",
       "      <th>col_0</th>\n",
       "      <th>HHUSA_Workshop_Participant__c</th>\n",
       "    </tr>\n",
       "    <tr>\n",
       "      <th>HHUSA_Workshop_Participant__c</th>\n",
       "      <th></th>\n",
       "    </tr>\n",
       "  </thead>\n",
       "  <tbody>\n",
       "    <tr>\n",
       "      <th>0</th>\n",
       "      <td>372</td>\n",
       "    </tr>\n",
       "    <tr>\n",
       "      <th>1</th>\n",
       "      <td>45</td>\n",
       "    </tr>\n",
       "  </tbody>\n",
       "</table>\n",
       "</div>"
      ],
      "text/plain": [
       "col_0                          HHUSA_Workshop_Participant__c\n",
       "HHUSA_Workshop_Participant__c                               \n",
       "0                                                        372\n",
       "1                                                         45"
      ]
     },
     "execution_count": 60,
     "metadata": {},
     "output_type": "execute_result"
    }
   ],
   "source": [
    "pd.crosstab(not_confirmed_hire.HHUSA_Workshop_Participant__c, columns=['HHUSA_Workshop_Participant__c'])"
   ]
  },
  {
   "cell_type": "markdown",
   "metadata": {},
   "source": [
    "# Confirmed Hire"
   ]
  },
  {
   "cell_type": "code",
   "execution_count": 61,
   "metadata": {},
   "outputs": [
    {
     "data": {
      "text/html": [
       "<div>\n",
       "<style scoped>\n",
       "    .dataframe tbody tr th:only-of-type {\n",
       "        vertical-align: middle;\n",
       "    }\n",
       "\n",
       "    .dataframe tbody tr th {\n",
       "        vertical-align: top;\n",
       "    }\n",
       "\n",
       "    .dataframe thead th {\n",
       "        text-align: right;\n",
       "    }\n",
       "</style>\n",
       "<table border=\"1\" class=\"dataframe\">\n",
       "  <thead>\n",
       "    <tr style=\"text-align: right;\">\n",
       "      <th>col_0</th>\n",
       "      <th>O2O_Initial_Assessment_Complete__c</th>\n",
       "    </tr>\n",
       "    <tr>\n",
       "      <th>O2O_Initial_Assessment_Complete__c</th>\n",
       "      <th></th>\n",
       "    </tr>\n",
       "  </thead>\n",
       "  <tbody>\n",
       "    <tr>\n",
       "      <th>0.0</th>\n",
       "      <td>24503</td>\n",
       "    </tr>\n",
       "    <tr>\n",
       "      <th>1.0</th>\n",
       "      <td>315</td>\n",
       "    </tr>\n",
       "  </tbody>\n",
       "</table>\n",
       "</div>"
      ],
      "text/plain": [
       "col_0                               O2O_Initial_Assessment_Complete__c\n",
       "O2O_Initial_Assessment_Complete__c                                    \n",
       "0.0                                                              24503\n",
       "1.0                                                                315"
      ]
     },
     "execution_count": 61,
     "metadata": {},
     "output_type": "execute_result"
    }
   ],
   "source": [
    "pd.crosstab(confirmed_hire.O2O_Initial_Assessment_Complete__c, columns=['O2O_Initial_Assessment_Complete__c'])"
   ]
  },
  {
   "cell_type": "markdown",
   "metadata": {},
   "source": [
    "# Not Confirmed Hire"
   ]
  },
  {
   "cell_type": "code",
   "execution_count": 62,
   "metadata": {},
   "outputs": [
    {
     "data": {
      "text/html": [
       "<div>\n",
       "<style scoped>\n",
       "    .dataframe tbody tr th:only-of-type {\n",
       "        vertical-align: middle;\n",
       "    }\n",
       "\n",
       "    .dataframe tbody tr th {\n",
       "        vertical-align: top;\n",
       "    }\n",
       "\n",
       "    .dataframe thead th {\n",
       "        text-align: right;\n",
       "    }\n",
       "</style>\n",
       "<table border=\"1\" class=\"dataframe\">\n",
       "  <thead>\n",
       "    <tr style=\"text-align: right;\">\n",
       "      <th>col_0</th>\n",
       "      <th>O2O_Initial_Assessment_Complete__c</th>\n",
       "    </tr>\n",
       "    <tr>\n",
       "      <th>O2O_Initial_Assessment_Complete__c</th>\n",
       "      <th></th>\n",
       "    </tr>\n",
       "  </thead>\n",
       "  <tbody>\n",
       "    <tr>\n",
       "      <th>0.0</th>\n",
       "      <td>414</td>\n",
       "    </tr>\n",
       "    <tr>\n",
       "      <th>1.0</th>\n",
       "      <td>3</td>\n",
       "    </tr>\n",
       "  </tbody>\n",
       "</table>\n",
       "</div>"
      ],
      "text/plain": [
       "col_0                               O2O_Initial_Assessment_Complete__c\n",
       "O2O_Initial_Assessment_Complete__c                                    \n",
       "0.0                                                                414\n",
       "1.0                                                                  3"
      ]
     },
     "execution_count": 62,
     "metadata": {},
     "output_type": "execute_result"
    }
   ],
   "source": [
    "pd.crosstab(not_confirmed_hire.O2O_Initial_Assessment_Complete__c, columns=['O2O_Initial_Assessment_Complete__c'])"
   ]
  },
  {
   "cell_type": "markdown",
   "metadata": {},
   "source": [
    "# Confirmed Hire"
   ]
  },
  {
   "cell_type": "code",
   "execution_count": 63,
   "metadata": {},
   "outputs": [
    {
     "data": {
      "text/html": [
       "<div>\n",
       "<style scoped>\n",
       "    .dataframe tbody tr th:only-of-type {\n",
       "        vertical-align: middle;\n",
       "    }\n",
       "\n",
       "    .dataframe tbody tr th {\n",
       "        vertical-align: top;\n",
       "    }\n",
       "\n",
       "    .dataframe thead th {\n",
       "        text-align: right;\n",
       "    }\n",
       "</style>\n",
       "<table border=\"1\" class=\"dataframe\">\n",
       "  <thead>\n",
       "    <tr style=\"text-align: right;\">\n",
       "      <th>col_0</th>\n",
       "      <th>Is_the_Initial_Intake_Assessment_done__c</th>\n",
       "    </tr>\n",
       "    <tr>\n",
       "      <th>Is_the_Initial_Intake_Assessment_done__c</th>\n",
       "      <th></th>\n",
       "    </tr>\n",
       "  </thead>\n",
       "  <tbody>\n",
       "    <tr>\n",
       "      <th>0</th>\n",
       "      <td>6</td>\n",
       "    </tr>\n",
       "    <tr>\n",
       "      <th>1</th>\n",
       "      <td>24812</td>\n",
       "    </tr>\n",
       "  </tbody>\n",
       "</table>\n",
       "</div>"
      ],
      "text/plain": [
       "col_0                                     Is_the_Initial_Intake_Assessment_done__c\n",
       "Is_the_Initial_Intake_Assessment_done__c                                          \n",
       "0                                                                                6\n",
       "1                                                                            24812"
      ]
     },
     "execution_count": 63,
     "metadata": {},
     "output_type": "execute_result"
    }
   ],
   "source": [
    "pd.crosstab(confirmed_hire.Is_the_Initial_Intake_Assessment_done__c, columns=['Is_the_Initial_Intake_Assessment_done__c'])"
   ]
  },
  {
   "cell_type": "markdown",
   "metadata": {},
   "source": [
    "# Not Confirmed Hire"
   ]
  },
  {
   "cell_type": "code",
   "execution_count": 64,
   "metadata": {},
   "outputs": [
    {
     "data": {
      "text/html": [
       "<div>\n",
       "<style scoped>\n",
       "    .dataframe tbody tr th:only-of-type {\n",
       "        vertical-align: middle;\n",
       "    }\n",
       "\n",
       "    .dataframe tbody tr th {\n",
       "        vertical-align: top;\n",
       "    }\n",
       "\n",
       "    .dataframe thead th {\n",
       "        text-align: right;\n",
       "    }\n",
       "</style>\n",
       "<table border=\"1\" class=\"dataframe\">\n",
       "  <thead>\n",
       "    <tr style=\"text-align: right;\">\n",
       "      <th>col_0</th>\n",
       "      <th>Is_the_Initial_Intake_Assessment_done__c</th>\n",
       "    </tr>\n",
       "    <tr>\n",
       "      <th>Is_the_Initial_Intake_Assessment_done__c</th>\n",
       "      <th></th>\n",
       "    </tr>\n",
       "  </thead>\n",
       "  <tbody>\n",
       "    <tr>\n",
       "      <th>0</th>\n",
       "      <td>1</td>\n",
       "    </tr>\n",
       "    <tr>\n",
       "      <th>1</th>\n",
       "      <td>416</td>\n",
       "    </tr>\n",
       "  </tbody>\n",
       "</table>\n",
       "</div>"
      ],
      "text/plain": [
       "col_0                                     Is_the_Initial_Intake_Assessment_done__c\n",
       "Is_the_Initial_Intake_Assessment_done__c                                          \n",
       "0                                                                                1\n",
       "1                                                                              416"
      ]
     },
     "execution_count": 64,
     "metadata": {},
     "output_type": "execute_result"
    }
   ],
   "source": [
    "pd.crosstab(not_confirmed_hire.Is_the_Initial_Intake_Assessment_done__c, columns=['Is_the_Initial_Intake_Assessment_done__c'])"
   ]
  },
  {
   "cell_type": "markdown",
   "metadata": {},
   "source": [
    "# Confirmed Hire"
   ]
  },
  {
   "cell_type": "code",
   "execution_count": 65,
   "metadata": {},
   "outputs": [
    {
     "data": {
      "text/html": [
       "<div>\n",
       "<style scoped>\n",
       "    .dataframe tbody tr th:only-of-type {\n",
       "        vertical-align: middle;\n",
       "    }\n",
       "\n",
       "    .dataframe tbody tr th {\n",
       "        vertical-align: top;\n",
       "    }\n",
       "\n",
       "    .dataframe thead th {\n",
       "        text-align: right;\n",
       "    }\n",
       "</style>\n",
       "<table border=\"1\" class=\"dataframe\">\n",
       "  <thead>\n",
       "    <tr style=\"text-align: right;\">\n",
       "      <th>col_0</th>\n",
       "      <th>Permission_to_use_job_board_granted__c</th>\n",
       "    </tr>\n",
       "    <tr>\n",
       "      <th>Permission_to_use_job_board_granted__c</th>\n",
       "      <th></th>\n",
       "    </tr>\n",
       "  </thead>\n",
       "  <tbody>\n",
       "    <tr>\n",
       "      <th>0</th>\n",
       "      <td>21527</td>\n",
       "    </tr>\n",
       "    <tr>\n",
       "      <th>1</th>\n",
       "      <td>3291</td>\n",
       "    </tr>\n",
       "  </tbody>\n",
       "</table>\n",
       "</div>"
      ],
      "text/plain": [
       "col_0                                   Permission_to_use_job_board_granted__c\n",
       "Permission_to_use_job_board_granted__c                                        \n",
       "0                                                                        21527\n",
       "1                                                                         3291"
      ]
     },
     "execution_count": 65,
     "metadata": {},
     "output_type": "execute_result"
    }
   ],
   "source": [
    "pd.crosstab(confirmed_hire.Permission_to_use_job_board_granted__c, columns=['Permission_to_use_job_board_granted__c'])"
   ]
  },
  {
   "cell_type": "markdown",
   "metadata": {},
   "source": [
    "# Not Confirmed Hire"
   ]
  },
  {
   "cell_type": "code",
   "execution_count": 66,
   "metadata": {},
   "outputs": [
    {
     "data": {
      "text/html": [
       "<div>\n",
       "<style scoped>\n",
       "    .dataframe tbody tr th:only-of-type {\n",
       "        vertical-align: middle;\n",
       "    }\n",
       "\n",
       "    .dataframe tbody tr th {\n",
       "        vertical-align: top;\n",
       "    }\n",
       "\n",
       "    .dataframe thead th {\n",
       "        text-align: right;\n",
       "    }\n",
       "</style>\n",
       "<table border=\"1\" class=\"dataframe\">\n",
       "  <thead>\n",
       "    <tr style=\"text-align: right;\">\n",
       "      <th>col_0</th>\n",
       "      <th>Permission_to_use_job_board_granted__c</th>\n",
       "    </tr>\n",
       "    <tr>\n",
       "      <th>Permission_to_use_job_board_granted__c</th>\n",
       "      <th></th>\n",
       "    </tr>\n",
       "  </thead>\n",
       "  <tbody>\n",
       "    <tr>\n",
       "      <th>0</th>\n",
       "      <td>373</td>\n",
       "    </tr>\n",
       "    <tr>\n",
       "      <th>1</th>\n",
       "      <td>44</td>\n",
       "    </tr>\n",
       "  </tbody>\n",
       "</table>\n",
       "</div>"
      ],
      "text/plain": [
       "col_0                                   Permission_to_use_job_board_granted__c\n",
       "Permission_to_use_job_board_granted__c                                        \n",
       "0                                                                          373\n",
       "1                                                                           44"
      ]
     },
     "execution_count": 66,
     "metadata": {},
     "output_type": "execute_result"
    }
   ],
   "source": [
    "pd.crosstab(not_confirmed_hire.Permission_to_use_job_board_granted__c, columns=['Permission_to_use_job_board_granted__c'])"
   ]
  },
  {
   "cell_type": "markdown",
   "metadata": {},
   "source": [
    "# Confirmed Hire"
   ]
  },
  {
   "cell_type": "code",
   "execution_count": 67,
   "metadata": {},
   "outputs": [
    {
     "data": {
      "text/html": [
       "<div>\n",
       "<style scoped>\n",
       "    .dataframe tbody tr th:only-of-type {\n",
       "        vertical-align: middle;\n",
       "    }\n",
       "\n",
       "    .dataframe tbody tr th {\n",
       "        vertical-align: top;\n",
       "    }\n",
       "\n",
       "    .dataframe thead th {\n",
       "        text-align: right;\n",
       "    }\n",
       "</style>\n",
       "<table border=\"1\" class=\"dataframe\">\n",
       "  <thead>\n",
       "    <tr style=\"text-align: right;\">\n",
       "      <th>col_0</th>\n",
       "      <th>Finalized_HHUSA_revised_resume_on_file__c</th>\n",
       "    </tr>\n",
       "    <tr>\n",
       "      <th>Finalized_HHUSA_revised_resume_on_file__c</th>\n",
       "      <th></th>\n",
       "    </tr>\n",
       "  </thead>\n",
       "  <tbody>\n",
       "    <tr>\n",
       "      <th>0</th>\n",
       "      <td>20</td>\n",
       "    </tr>\n",
       "    <tr>\n",
       "      <th>1</th>\n",
       "      <td>24798</td>\n",
       "    </tr>\n",
       "  </tbody>\n",
       "</table>\n",
       "</div>"
      ],
      "text/plain": [
       "col_0                                      Finalized_HHUSA_revised_resume_on_file__c\n",
       "Finalized_HHUSA_revised_resume_on_file__c                                           \n",
       "0                                                                                 20\n",
       "1                                                                              24798"
      ]
     },
     "execution_count": 67,
     "metadata": {},
     "output_type": "execute_result"
    }
   ],
   "source": [
    "pd.crosstab(confirmed_hire.Finalized_HHUSA_revised_resume_on_file__c, columns=['Finalized_HHUSA_revised_resume_on_file__c'])"
   ]
  },
  {
   "cell_type": "markdown",
   "metadata": {},
   "source": [
    "# Not Confirmed Hire"
   ]
  },
  {
   "cell_type": "code",
   "execution_count": 68,
   "metadata": {},
   "outputs": [
    {
     "data": {
      "text/html": [
       "<div>\n",
       "<style scoped>\n",
       "    .dataframe tbody tr th:only-of-type {\n",
       "        vertical-align: middle;\n",
       "    }\n",
       "\n",
       "    .dataframe tbody tr th {\n",
       "        vertical-align: top;\n",
       "    }\n",
       "\n",
       "    .dataframe thead th {\n",
       "        text-align: right;\n",
       "    }\n",
       "</style>\n",
       "<table border=\"1\" class=\"dataframe\">\n",
       "  <thead>\n",
       "    <tr style=\"text-align: right;\">\n",
       "      <th>col_0</th>\n",
       "      <th>Finalized_HHUSA_revised_resume_on_file__c</th>\n",
       "    </tr>\n",
       "    <tr>\n",
       "      <th>Finalized_HHUSA_revised_resume_on_file__c</th>\n",
       "      <th></th>\n",
       "    </tr>\n",
       "  </thead>\n",
       "  <tbody>\n",
       "    <tr>\n",
       "      <th>0</th>\n",
       "      <td>4</td>\n",
       "    </tr>\n",
       "    <tr>\n",
       "      <th>1</th>\n",
       "      <td>413</td>\n",
       "    </tr>\n",
       "  </tbody>\n",
       "</table>\n",
       "</div>"
      ],
      "text/plain": [
       "col_0                                      Finalized_HHUSA_revised_resume_on_file__c\n",
       "Finalized_HHUSA_revised_resume_on_file__c                                           \n",
       "0                                                                                  4\n",
       "1                                                                                413"
      ]
     },
     "execution_count": 68,
     "metadata": {},
     "output_type": "execute_result"
    }
   ],
   "source": [
    "pd.crosstab(not_confirmed_hire.Finalized_HHUSA_revised_resume_on_file__c, columns=['Finalized_HHUSA_revised_resume_on_file__c'])"
   ]
  },
  {
   "cell_type": "markdown",
   "metadata": {},
   "source": [
    "# Confirmed Hire"
   ]
  },
  {
   "cell_type": "code",
   "execution_count": 70,
   "metadata": {},
   "outputs": [
    {
     "data": {
      "text/html": [
       "<div>\n",
       "<style scoped>\n",
       "    .dataframe tbody tr th:only-of-type {\n",
       "        vertical-align: middle;\n",
       "    }\n",
       "\n",
       "    .dataframe tbody tr th {\n",
       "        vertical-align: top;\n",
       "    }\n",
       "\n",
       "    .dataframe thead th {\n",
       "        text-align: right;\n",
       "    }\n",
       "</style>\n",
       "<table border=\"1\" class=\"dataframe\">\n",
       "  <thead>\n",
       "    <tr style=\"text-align: right;\">\n",
       "      <th>col_0</th>\n",
       "      <th>Revised_Resume_Used_to_Apply_for_Job__c</th>\n",
       "    </tr>\n",
       "    <tr>\n",
       "      <th>Revised_Resume_Used_to_Apply_for_Job__c</th>\n",
       "      <th></th>\n",
       "    </tr>\n",
       "  </thead>\n",
       "  <tbody>\n",
       "    <tr>\n",
       "      <th>No</th>\n",
       "      <td>1717</td>\n",
       "    </tr>\n",
       "    <tr>\n",
       "      <th>Yes</th>\n",
       "      <td>23101</td>\n",
       "    </tr>\n",
       "  </tbody>\n",
       "</table>\n",
       "</div>"
      ],
      "text/plain": [
       "col_0                                    Revised_Resume_Used_to_Apply_for_Job__c\n",
       "Revised_Resume_Used_to_Apply_for_Job__c                                         \n",
       "No                                                                          1717\n",
       "Yes                                                                        23101"
      ]
     },
     "execution_count": 70,
     "metadata": {},
     "output_type": "execute_result"
    }
   ],
   "source": [
    "pd.crosstab(confirmed_hire.Revised_Resume_Used_to_Apply_for_Job__c, columns=['Revised_Resume_Used_to_Apply_for_Job__c'])"
   ]
  },
  {
   "cell_type": "markdown",
   "metadata": {},
   "source": [
    "# Not Confirmed Hire"
   ]
  },
  {
   "cell_type": "code",
   "execution_count": 72,
   "metadata": {},
   "outputs": [
    {
     "data": {
      "text/html": [
       "<div>\n",
       "<style scoped>\n",
       "    .dataframe tbody tr th:only-of-type {\n",
       "        vertical-align: middle;\n",
       "    }\n",
       "\n",
       "    .dataframe tbody tr th {\n",
       "        vertical-align: top;\n",
       "    }\n",
       "\n",
       "    .dataframe thead th {\n",
       "        text-align: right;\n",
       "    }\n",
       "</style>\n",
       "<table border=\"1\" class=\"dataframe\">\n",
       "  <thead>\n",
       "    <tr style=\"text-align: right;\">\n",
       "      <th>col_0</th>\n",
       "      <th>Revised_Resume_Used_to_Apply_for_Job__c</th>\n",
       "    </tr>\n",
       "    <tr>\n",
       "      <th>Revised_Resume_Used_to_Apply_for_Job__c</th>\n",
       "      <th></th>\n",
       "    </tr>\n",
       "  </thead>\n",
       "  <tbody>\n",
       "    <tr>\n",
       "      <th>No</th>\n",
       "      <td>202</td>\n",
       "    </tr>\n",
       "    <tr>\n",
       "      <th>Yes</th>\n",
       "      <td>215</td>\n",
       "    </tr>\n",
       "  </tbody>\n",
       "</table>\n",
       "</div>"
      ],
      "text/plain": [
       "col_0                                    Revised_Resume_Used_to_Apply_for_Job__c\n",
       "Revised_Resume_Used_to_Apply_for_Job__c                                         \n",
       "No                                                                           202\n",
       "Yes                                                                          215"
      ]
     },
     "execution_count": 72,
     "metadata": {},
     "output_type": "execute_result"
    }
   ],
   "source": [
    "pd.crosstab(not_confirmed_hire.Revised_Resume_Used_to_Apply_for_Job__c, columns=['Revised_Resume_Used_to_Apply_for_Job__c'])"
   ]
  },
  {
   "cell_type": "markdown",
   "metadata": {},
   "source": [
    "# Confirmed Hire"
   ]
  },
  {
   "cell_type": "code",
   "execution_count": 75,
   "metadata": {},
   "outputs": [
    {
     "data": {
      "text/html": [
       "<div>\n",
       "<style scoped>\n",
       "    .dataframe tbody tr th:only-of-type {\n",
       "        vertical-align: middle;\n",
       "    }\n",
       "\n",
       "    .dataframe tbody tr th {\n",
       "        vertical-align: top;\n",
       "    }\n",
       "\n",
       "    .dataframe thead th {\n",
       "        text-align: right;\n",
       "    }\n",
       "</style>\n",
       "<table border=\"1\" class=\"dataframe\">\n",
       "  <thead>\n",
       "    <tr style=\"text-align: right;\">\n",
       "      <th>col_0</th>\n",
       "      <th>Resume_Tailoring_Tips__c</th>\n",
       "    </tr>\n",
       "    <tr>\n",
       "      <th>Resume_Tailoring_Tips__c</th>\n",
       "      <th></th>\n",
       "    </tr>\n",
       "  </thead>\n",
       "  <tbody>\n",
       "    <tr>\n",
       "      <th>0.0</th>\n",
       "      <td>19737</td>\n",
       "    </tr>\n",
       "    <tr>\n",
       "      <th>1.0</th>\n",
       "      <td>5081</td>\n",
       "    </tr>\n",
       "  </tbody>\n",
       "</table>\n",
       "</div>"
      ],
      "text/plain": [
       "col_0                     Resume_Tailoring_Tips__c\n",
       "Resume_Tailoring_Tips__c                          \n",
       "0.0                                          19737\n",
       "1.0                                           5081"
      ]
     },
     "execution_count": 75,
     "metadata": {},
     "output_type": "execute_result"
    }
   ],
   "source": [
    "pd.crosstab(confirmed_hire.Resume_Tailoring_Tips__c, columns=['Resume_Tailoring_Tips__c'])"
   ]
  },
  {
   "cell_type": "markdown",
   "metadata": {},
   "source": [
    "# Not Confirmed Hire"
   ]
  },
  {
   "cell_type": "code",
   "execution_count": 76,
   "metadata": {},
   "outputs": [
    {
     "data": {
      "text/html": [
       "<div>\n",
       "<style scoped>\n",
       "    .dataframe tbody tr th:only-of-type {\n",
       "        vertical-align: middle;\n",
       "    }\n",
       "\n",
       "    .dataframe tbody tr th {\n",
       "        vertical-align: top;\n",
       "    }\n",
       "\n",
       "    .dataframe thead th {\n",
       "        text-align: right;\n",
       "    }\n",
       "</style>\n",
       "<table border=\"1\" class=\"dataframe\">\n",
       "  <thead>\n",
       "    <tr style=\"text-align: right;\">\n",
       "      <th>col_0</th>\n",
       "      <th>Resume_Tailoring_Tips__c</th>\n",
       "    </tr>\n",
       "    <tr>\n",
       "      <th>Resume_Tailoring_Tips__c</th>\n",
       "      <th></th>\n",
       "    </tr>\n",
       "  </thead>\n",
       "  <tbody>\n",
       "    <tr>\n",
       "      <th>0.0</th>\n",
       "      <td>383</td>\n",
       "    </tr>\n",
       "    <tr>\n",
       "      <th>1.0</th>\n",
       "      <td>34</td>\n",
       "    </tr>\n",
       "  </tbody>\n",
       "</table>\n",
       "</div>"
      ],
      "text/plain": [
       "col_0                     Resume_Tailoring_Tips__c\n",
       "Resume_Tailoring_Tips__c                          \n",
       "0.0                                            383\n",
       "1.0                                             34"
      ]
     },
     "execution_count": 76,
     "metadata": {},
     "output_type": "execute_result"
    }
   ],
   "source": [
    "pd.crosstab(not_confirmed_hire.Resume_Tailoring_Tips__c, columns=['Resume_Tailoring_Tips__c'])"
   ]
  },
  {
   "cell_type": "markdown",
   "metadata": {},
   "source": [
    "# to check if the person conducting assesment influences the hiring chances"
   ]
  },
  {
   "cell_type": "code",
   "execution_count": 77,
   "metadata": {},
   "outputs": [],
   "source": [
    "Result_without_Filtering=(confirmed_hire.reset_index()\n",
    "          .groupby(['Resume_Completed_By__c'])['Resume_Completed_By__c']\n",
    "          .count().rename(columns={'count':'Count'})\n",
    "       )"
   ]
  },
  {
   "cell_type": "code",
   "execution_count": 78,
   "metadata": {},
   "outputs": [],
   "source": [
    "Result_without_Filtering=Result_without_Filtering.to_frame().reset_index()"
   ]
  },
  {
   "cell_type": "code",
   "execution_count": 79,
   "metadata": {},
   "outputs": [],
   "source": [
    "names=['Resume_Completed_By__c', 'Total_Count']"
   ]
  },
  {
   "cell_type": "code",
   "execution_count": 80,
   "metadata": {},
   "outputs": [],
   "source": [
    "Result_without_Filtering.columns = names"
   ]
  },
  {
   "cell_type": "code",
   "execution_count": 81,
   "metadata": {},
   "outputs": [
    {
     "data": {
      "text/html": [
       "<div>\n",
       "<style scoped>\n",
       "    .dataframe tbody tr th:only-of-type {\n",
       "        vertical-align: middle;\n",
       "    }\n",
       "\n",
       "    .dataframe tbody tr th {\n",
       "        vertical-align: top;\n",
       "    }\n",
       "\n",
       "    .dataframe thead th {\n",
       "        text-align: right;\n",
       "    }\n",
       "</style>\n",
       "<table border=\"1\" class=\"dataframe\">\n",
       "  <thead>\n",
       "    <tr style=\"text-align: right;\">\n",
       "      <th></th>\n",
       "      <th>Resume_Completed_By__c</th>\n",
       "      <th>Total_Count</th>\n",
       "    </tr>\n",
       "  </thead>\n",
       "  <tbody>\n",
       "    <tr>\n",
       "      <th>0</th>\n",
       "      <td>00538000003nrcXAAQ</td>\n",
       "      <td>2</td>\n",
       "    </tr>\n",
       "    <tr>\n",
       "      <th>1</th>\n",
       "      <td>005380000044j39AAA</td>\n",
       "      <td>326</td>\n",
       "    </tr>\n",
       "    <tr>\n",
       "      <th>2</th>\n",
       "      <td>00538000004SivDAAS</td>\n",
       "      <td>341</td>\n",
       "    </tr>\n",
       "    <tr>\n",
       "      <th>3</th>\n",
       "      <td>00538000004SivXAAS</td>\n",
       "      <td>182</td>\n",
       "    </tr>\n",
       "    <tr>\n",
       "      <th>4</th>\n",
       "      <td>00538000004SiwBAAS</td>\n",
       "      <td>125</td>\n",
       "    </tr>\n",
       "    <tr>\n",
       "      <th>5</th>\n",
       "      <td>00538000004SiwLAAS</td>\n",
       "      <td>201</td>\n",
       "    </tr>\n",
       "    <tr>\n",
       "      <th>6</th>\n",
       "      <td>00538000004SiwfAAC</td>\n",
       "      <td>270</td>\n",
       "    </tr>\n",
       "    <tr>\n",
       "      <th>7</th>\n",
       "      <td>00538000004SsftAAC</td>\n",
       "      <td>138</td>\n",
       "    </tr>\n",
       "    <tr>\n",
       "      <th>8</th>\n",
       "      <td>00538000004kCkJAAU</td>\n",
       "      <td>192</td>\n",
       "    </tr>\n",
       "    <tr>\n",
       "      <th>9</th>\n",
       "      <td>00538000004kgd8AAA</td>\n",
       "      <td>184</td>\n",
       "    </tr>\n",
       "    <tr>\n",
       "      <th>10</th>\n",
       "      <td>00538000004kgdmAAA</td>\n",
       "      <td>169</td>\n",
       "    </tr>\n",
       "    <tr>\n",
       "      <th>11</th>\n",
       "      <td>00538000004kgf9AAA</td>\n",
       "      <td>301</td>\n",
       "    </tr>\n",
       "    <tr>\n",
       "      <th>12</th>\n",
       "      <td>00538000004kgfTAAQ</td>\n",
       "      <td>235</td>\n",
       "    </tr>\n",
       "    <tr>\n",
       "      <th>13</th>\n",
       "      <td>00538000004kmwXAAQ</td>\n",
       "      <td>163</td>\n",
       "    </tr>\n",
       "    <tr>\n",
       "      <th>14</th>\n",
       "      <td>00538000004l7NHAAY</td>\n",
       "      <td>349</td>\n",
       "    </tr>\n",
       "    <tr>\n",
       "      <th>15</th>\n",
       "      <td>00538000004lAqgAAE</td>\n",
       "      <td>438</td>\n",
       "    </tr>\n",
       "    <tr>\n",
       "      <th>16</th>\n",
       "      <td>00538000004lAqqAAE</td>\n",
       "      <td>388</td>\n",
       "    </tr>\n",
       "    <tr>\n",
       "      <th>17</th>\n",
       "      <td>00538000004lJWkAAM</td>\n",
       "      <td>356</td>\n",
       "    </tr>\n",
       "    <tr>\n",
       "      <th>18</th>\n",
       "      <td>00538000004lJWlAAM</td>\n",
       "      <td>366</td>\n",
       "    </tr>\n",
       "    <tr>\n",
       "      <th>19</th>\n",
       "      <td>00538000004lJWmAAM</td>\n",
       "      <td>340</td>\n",
       "    </tr>\n",
       "    <tr>\n",
       "      <th>20</th>\n",
       "      <td>00538000004lJWnAAM</td>\n",
       "      <td>323</td>\n",
       "    </tr>\n",
       "    <tr>\n",
       "      <th>21</th>\n",
       "      <td>00538000004lKI0AAM</td>\n",
       "      <td>75</td>\n",
       "    </tr>\n",
       "    <tr>\n",
       "      <th>22</th>\n",
       "      <td>00538000004laKWAAY</td>\n",
       "      <td>38</td>\n",
       "    </tr>\n",
       "    <tr>\n",
       "      <th>23</th>\n",
       "      <td>00538000004mAs5AAE</td>\n",
       "      <td>167</td>\n",
       "    </tr>\n",
       "    <tr>\n",
       "      <th>24</th>\n",
       "      <td>00538000004mAsAAAU</td>\n",
       "      <td>45</td>\n",
       "    </tr>\n",
       "    <tr>\n",
       "      <th>25</th>\n",
       "      <td>00538000004mAsFAAU</td>\n",
       "      <td>29</td>\n",
       "    </tr>\n",
       "    <tr>\n",
       "      <th>26</th>\n",
       "      <td>00538000004mAsPAAU</td>\n",
       "      <td>31</td>\n",
       "    </tr>\n",
       "    <tr>\n",
       "      <th>27</th>\n",
       "      <td>00538000004mGdGAAU</td>\n",
       "      <td>20</td>\n",
       "    </tr>\n",
       "    <tr>\n",
       "      <th>28</th>\n",
       "      <td>00538000004mHsqAAE</td>\n",
       "      <td>59</td>\n",
       "    </tr>\n",
       "    <tr>\n",
       "      <th>29</th>\n",
       "      <td>00538000004mHtFAAU</td>\n",
       "      <td>32</td>\n",
       "    </tr>\n",
       "    <tr>\n",
       "      <th>...</th>\n",
       "      <td>...</td>\n",
       "      <td>...</td>\n",
       "    </tr>\n",
       "    <tr>\n",
       "      <th>113</th>\n",
       "      <td>005500000040szYAAQ</td>\n",
       "      <td>230</td>\n",
       "    </tr>\n",
       "    <tr>\n",
       "      <th>114</th>\n",
       "      <td>005500000041G89AAE</td>\n",
       "      <td>271</td>\n",
       "    </tr>\n",
       "    <tr>\n",
       "      <th>115</th>\n",
       "      <td>005500000041It2AAE</td>\n",
       "      <td>287</td>\n",
       "    </tr>\n",
       "    <tr>\n",
       "      <th>116</th>\n",
       "      <td>005500000042ED9AAM</td>\n",
       "      <td>117</td>\n",
       "    </tr>\n",
       "    <tr>\n",
       "      <th>117</th>\n",
       "      <td>005500000042GlIAAU</td>\n",
       "      <td>436</td>\n",
       "    </tr>\n",
       "    <tr>\n",
       "      <th>118</th>\n",
       "      <td>005500000042I1HAAU</td>\n",
       "      <td>158</td>\n",
       "    </tr>\n",
       "    <tr>\n",
       "      <th>119</th>\n",
       "      <td>005500000042RauAAE</td>\n",
       "      <td>103</td>\n",
       "    </tr>\n",
       "    <tr>\n",
       "      <th>120</th>\n",
       "      <td>005500000042TrsAAE</td>\n",
       "      <td>496</td>\n",
       "    </tr>\n",
       "    <tr>\n",
       "      <th>121</th>\n",
       "      <td>005500000042TrxAAE</td>\n",
       "      <td>331</td>\n",
       "    </tr>\n",
       "    <tr>\n",
       "      <th>122</th>\n",
       "      <td>005500000042Vd4AAE</td>\n",
       "      <td>172</td>\n",
       "    </tr>\n",
       "    <tr>\n",
       "      <th>123</th>\n",
       "      <td>005500000042X0TAAU</td>\n",
       "      <td>393</td>\n",
       "    </tr>\n",
       "    <tr>\n",
       "      <th>124</th>\n",
       "      <td>005500000042X25AAE</td>\n",
       "      <td>354</td>\n",
       "    </tr>\n",
       "    <tr>\n",
       "      <th>125</th>\n",
       "      <td>005500000042c67AAA</td>\n",
       "      <td>240</td>\n",
       "    </tr>\n",
       "    <tr>\n",
       "      <th>126</th>\n",
       "      <td>005500000042c6CAAQ</td>\n",
       "      <td>90</td>\n",
       "    </tr>\n",
       "    <tr>\n",
       "      <th>127</th>\n",
       "      <td>005500000042c6HAAQ</td>\n",
       "      <td>492</td>\n",
       "    </tr>\n",
       "    <tr>\n",
       "      <th>128</th>\n",
       "      <td>005500000042c6MAAQ</td>\n",
       "      <td>131</td>\n",
       "    </tr>\n",
       "    <tr>\n",
       "      <th>129</th>\n",
       "      <td>005500000042pkjAAA</td>\n",
       "      <td>239</td>\n",
       "    </tr>\n",
       "    <tr>\n",
       "      <th>130</th>\n",
       "      <td>005500000042pkoAAA</td>\n",
       "      <td>370</td>\n",
       "    </tr>\n",
       "    <tr>\n",
       "      <th>131</th>\n",
       "      <td>005500000042plIAAQ</td>\n",
       "      <td>55</td>\n",
       "    </tr>\n",
       "    <tr>\n",
       "      <th>132</th>\n",
       "      <td>005500000042qPXAAY</td>\n",
       "      <td>227</td>\n",
       "    </tr>\n",
       "    <tr>\n",
       "      <th>133</th>\n",
       "      <td>005500000043MkIAAU</td>\n",
       "      <td>256</td>\n",
       "    </tr>\n",
       "    <tr>\n",
       "      <th>134</th>\n",
       "      <td>005500000043hbvAAA</td>\n",
       "      <td>38</td>\n",
       "    </tr>\n",
       "    <tr>\n",
       "      <th>135</th>\n",
       "      <td>005500000043hc0AAA</td>\n",
       "      <td>139</td>\n",
       "    </tr>\n",
       "    <tr>\n",
       "      <th>136</th>\n",
       "      <td>005500000043jE0AAI</td>\n",
       "      <td>179</td>\n",
       "    </tr>\n",
       "    <tr>\n",
       "      <th>137</th>\n",
       "      <td>005500000043jLpAAI</td>\n",
       "      <td>43</td>\n",
       "    </tr>\n",
       "    <tr>\n",
       "      <th>138</th>\n",
       "      <td>005500000044HdTAAU</td>\n",
       "      <td>224</td>\n",
       "    </tr>\n",
       "    <tr>\n",
       "      <th>139</th>\n",
       "      <td>005500000044JlZAAU</td>\n",
       "      <td>8</td>\n",
       "    </tr>\n",
       "    <tr>\n",
       "      <th>140</th>\n",
       "      <td>005500000044UKZAA2</td>\n",
       "      <td>146</td>\n",
       "    </tr>\n",
       "    <tr>\n",
       "      <th>141</th>\n",
       "      <td>005500000044WcVAAU</td>\n",
       "      <td>209</td>\n",
       "    </tr>\n",
       "    <tr>\n",
       "      <th>142</th>\n",
       "      <td>005500000044YEkAAM</td>\n",
       "      <td>238</td>\n",
       "    </tr>\n",
       "  </tbody>\n",
       "</table>\n",
       "<p>143 rows × 2 columns</p>\n",
       "</div>"
      ],
      "text/plain": [
       "    Resume_Completed_By__c  Total_Count\n",
       "0       00538000003nrcXAAQ            2\n",
       "1       005380000044j39AAA          326\n",
       "2       00538000004SivDAAS          341\n",
       "3       00538000004SivXAAS          182\n",
       "4       00538000004SiwBAAS          125\n",
       "5       00538000004SiwLAAS          201\n",
       "6       00538000004SiwfAAC          270\n",
       "7       00538000004SsftAAC          138\n",
       "8       00538000004kCkJAAU          192\n",
       "9       00538000004kgd8AAA          184\n",
       "10      00538000004kgdmAAA          169\n",
       "11      00538000004kgf9AAA          301\n",
       "12      00538000004kgfTAAQ          235\n",
       "13      00538000004kmwXAAQ          163\n",
       "14      00538000004l7NHAAY          349\n",
       "15      00538000004lAqgAAE          438\n",
       "16      00538000004lAqqAAE          388\n",
       "17      00538000004lJWkAAM          356\n",
       "18      00538000004lJWlAAM          366\n",
       "19      00538000004lJWmAAM          340\n",
       "20      00538000004lJWnAAM          323\n",
       "21      00538000004lKI0AAM           75\n",
       "22      00538000004laKWAAY           38\n",
       "23      00538000004mAs5AAE          167\n",
       "24      00538000004mAsAAAU           45\n",
       "25      00538000004mAsFAAU           29\n",
       "26      00538000004mAsPAAU           31\n",
       "27      00538000004mGdGAAU           20\n",
       "28      00538000004mHsqAAE           59\n",
       "29      00538000004mHtFAAU           32\n",
       "..                     ...          ...\n",
       "113     005500000040szYAAQ          230\n",
       "114     005500000041G89AAE          271\n",
       "115     005500000041It2AAE          287\n",
       "116     005500000042ED9AAM          117\n",
       "117     005500000042GlIAAU          436\n",
       "118     005500000042I1HAAU          158\n",
       "119     005500000042RauAAE          103\n",
       "120     005500000042TrsAAE          496\n",
       "121     005500000042TrxAAE          331\n",
       "122     005500000042Vd4AAE          172\n",
       "123     005500000042X0TAAU          393\n",
       "124     005500000042X25AAE          354\n",
       "125     005500000042c67AAA          240\n",
       "126     005500000042c6CAAQ           90\n",
       "127     005500000042c6HAAQ          492\n",
       "128     005500000042c6MAAQ          131\n",
       "129     005500000042pkjAAA          239\n",
       "130     005500000042pkoAAA          370\n",
       "131     005500000042plIAAQ           55\n",
       "132     005500000042qPXAAY          227\n",
       "133     005500000043MkIAAU          256\n",
       "134     005500000043hbvAAA           38\n",
       "135     005500000043hc0AAA          139\n",
       "136     005500000043jE0AAI          179\n",
       "137     005500000043jLpAAI           43\n",
       "138     005500000044HdTAAU          224\n",
       "139     005500000044JlZAAU            8\n",
       "140     005500000044UKZAA2          146\n",
       "141     005500000044WcVAAU          209\n",
       "142     005500000044YEkAAM          238\n",
       "\n",
       "[143 rows x 2 columns]"
      ]
     },
     "execution_count": 81,
     "metadata": {},
     "output_type": "execute_result"
    }
   ],
   "source": [
    "Result_without_Filtering"
   ]
  },
  {
   "cell_type": "code",
   "execution_count": 83,
   "metadata": {},
   "outputs": [],
   "source": [
    "Resume_evaluation=confirmed_hire.loc[confirmed_hire[\"Revised_Resume_Used_to_Apply_for_Job__c\"]==\"Yes\"]"
   ]
  },
  {
   "cell_type": "code",
   "execution_count": 84,
   "metadata": {},
   "outputs": [],
   "source": [
    "result = (Resume_evaluation.reset_index()\n",
    "          .groupby(['Resume_Completed_By__c'])['Resume_Completed_By__c']\n",
    "          .count().rename(columns={'count':'Count'})\n",
    "       )"
   ]
  },
  {
   "cell_type": "code",
   "execution_count": 85,
   "metadata": {},
   "outputs": [],
   "source": [
    "names=['Resume_Completed_By__c', 'Total_Count']"
   ]
  },
  {
   "cell_type": "code",
   "execution_count": 86,
   "metadata": {},
   "outputs": [],
   "source": [
    "result=result.to_frame().reset_index()"
   ]
  },
  {
   "cell_type": "code",
   "execution_count": 87,
   "metadata": {},
   "outputs": [],
   "source": [
    "names=['Resume_Completed_By__c', 'Count']"
   ]
  },
  {
   "cell_type": "code",
   "execution_count": 88,
   "metadata": {},
   "outputs": [],
   "source": [
    "result.columns = names"
   ]
  },
  {
   "cell_type": "code",
   "execution_count": 89,
   "metadata": {},
   "outputs": [
    {
     "data": {
      "text/html": [
       "<div>\n",
       "<style scoped>\n",
       "    .dataframe tbody tr th:only-of-type {\n",
       "        vertical-align: middle;\n",
       "    }\n",
       "\n",
       "    .dataframe tbody tr th {\n",
       "        vertical-align: top;\n",
       "    }\n",
       "\n",
       "    .dataframe thead th {\n",
       "        text-align: right;\n",
       "    }\n",
       "</style>\n",
       "<table border=\"1\" class=\"dataframe\">\n",
       "  <thead>\n",
       "    <tr style=\"text-align: right;\">\n",
       "      <th></th>\n",
       "      <th>Resume_Completed_By__c</th>\n",
       "      <th>Count</th>\n",
       "    </tr>\n",
       "  </thead>\n",
       "  <tbody>\n",
       "    <tr>\n",
       "      <th>0</th>\n",
       "      <td>00538000003nrcXAAQ</td>\n",
       "      <td>2</td>\n",
       "    </tr>\n",
       "    <tr>\n",
       "      <th>1</th>\n",
       "      <td>005380000044j39AAA</td>\n",
       "      <td>297</td>\n",
       "    </tr>\n",
       "    <tr>\n",
       "      <th>2</th>\n",
       "      <td>00538000004SivDAAS</td>\n",
       "      <td>340</td>\n",
       "    </tr>\n",
       "  </tbody>\n",
       "</table>\n",
       "</div>"
      ],
      "text/plain": [
       "  Resume_Completed_By__c  Count\n",
       "0     00538000003nrcXAAQ      2\n",
       "1     005380000044j39AAA    297\n",
       "2     00538000004SivDAAS    340"
      ]
     },
     "execution_count": 89,
     "metadata": {},
     "output_type": "execute_result"
    }
   ],
   "source": [
    "result.head(3)"
   ]
  },
  {
   "cell_type": "code",
   "execution_count": 90,
   "metadata": {},
   "outputs": [],
   "source": [
    "final_dataset = pd.merge(Result_without_Filtering, result, left_on='Resume_Completed_By__c', right_on='Resume_Completed_By__c')"
   ]
  },
  {
   "cell_type": "code",
   "execution_count": 91,
   "metadata": {},
   "outputs": [
    {
     "data": {
      "text/html": [
       "<div>\n",
       "<style scoped>\n",
       "    .dataframe tbody tr th:only-of-type {\n",
       "        vertical-align: middle;\n",
       "    }\n",
       "\n",
       "    .dataframe tbody tr th {\n",
       "        vertical-align: top;\n",
       "    }\n",
       "\n",
       "    .dataframe thead th {\n",
       "        text-align: right;\n",
       "    }\n",
       "</style>\n",
       "<table border=\"1\" class=\"dataframe\">\n",
       "  <thead>\n",
       "    <tr style=\"text-align: right;\">\n",
       "      <th></th>\n",
       "      <th>Resume_Completed_By__c</th>\n",
       "      <th>Total_Count</th>\n",
       "      <th>Count</th>\n",
       "    </tr>\n",
       "  </thead>\n",
       "  <tbody>\n",
       "    <tr>\n",
       "      <th>0</th>\n",
       "      <td>00538000003nrcXAAQ</td>\n",
       "      <td>2</td>\n",
       "      <td>2</td>\n",
       "    </tr>\n",
       "    <tr>\n",
       "      <th>1</th>\n",
       "      <td>005380000044j39AAA</td>\n",
       "      <td>326</td>\n",
       "      <td>297</td>\n",
       "    </tr>\n",
       "    <tr>\n",
       "      <th>2</th>\n",
       "      <td>00538000004SivDAAS</td>\n",
       "      <td>341</td>\n",
       "      <td>340</td>\n",
       "    </tr>\n",
       "  </tbody>\n",
       "</table>\n",
       "</div>"
      ],
      "text/plain": [
       "  Resume_Completed_By__c  Total_Count  Count\n",
       "0     00538000003nrcXAAQ            2      2\n",
       "1     005380000044j39AAA          326    297\n",
       "2     00538000004SivDAAS          341    340"
      ]
     },
     "execution_count": 91,
     "metadata": {},
     "output_type": "execute_result"
    }
   ],
   "source": [
    "final_dataset.head(3)"
   ]
  },
  {
   "cell_type": "code",
   "execution_count": 92,
   "metadata": {},
   "outputs": [],
   "source": [
    "final_dataset['Yes_percentage']=(final_dataset['Count']/final_dataset['Total_Count'])*100"
   ]
  },
  {
   "cell_type": "code",
   "execution_count": 93,
   "metadata": {},
   "outputs": [
    {
     "data": {
      "text/html": [
       "<div>\n",
       "<style scoped>\n",
       "    .dataframe tbody tr th:only-of-type {\n",
       "        vertical-align: middle;\n",
       "    }\n",
       "\n",
       "    .dataframe tbody tr th {\n",
       "        vertical-align: top;\n",
       "    }\n",
       "\n",
       "    .dataframe thead th {\n",
       "        text-align: right;\n",
       "    }\n",
       "</style>\n",
       "<table border=\"1\" class=\"dataframe\">\n",
       "  <thead>\n",
       "    <tr style=\"text-align: right;\">\n",
       "      <th></th>\n",
       "      <th>Resume_Completed_By__c</th>\n",
       "      <th>Total_Count</th>\n",
       "      <th>Count</th>\n",
       "      <th>Yes_percentage</th>\n",
       "    </tr>\n",
       "  </thead>\n",
       "  <tbody>\n",
       "    <tr>\n",
       "      <th>0</th>\n",
       "      <td>00538000003nrcXAAQ</td>\n",
       "      <td>2</td>\n",
       "      <td>2</td>\n",
       "      <td>100.000000</td>\n",
       "    </tr>\n",
       "    <tr>\n",
       "      <th>1</th>\n",
       "      <td>005380000044j39AAA</td>\n",
       "      <td>326</td>\n",
       "      <td>297</td>\n",
       "      <td>91.104294</td>\n",
       "    </tr>\n",
       "    <tr>\n",
       "      <th>2</th>\n",
       "      <td>00538000004SivDAAS</td>\n",
       "      <td>341</td>\n",
       "      <td>340</td>\n",
       "      <td>99.706745</td>\n",
       "    </tr>\n",
       "  </tbody>\n",
       "</table>\n",
       "</div>"
      ],
      "text/plain": [
       "  Resume_Completed_By__c  Total_Count  Count  Yes_percentage\n",
       "0     00538000003nrcXAAQ            2      2      100.000000\n",
       "1     005380000044j39AAA          326    297       91.104294\n",
       "2     00538000004SivDAAS          341    340       99.706745"
      ]
     },
     "execution_count": 93,
     "metadata": {},
     "output_type": "execute_result"
    }
   ],
   "source": [
    "final_dataset.head(3)"
   ]
  },
  {
   "cell_type": "code",
   "execution_count": null,
   "metadata": {},
   "outputs": [],
   "source": []
  }
 ],
 "metadata": {
  "kernelspec": {
   "display_name": "Python 3",
   "language": "python",
   "name": "python3"
  },
  "language_info": {
   "codemirror_mode": {
    "name": "ipython",
    "version": 3
   },
   "file_extension": ".py",
   "mimetype": "text/x-python",
   "name": "python",
   "nbconvert_exporter": "python",
   "pygments_lexer": "ipython3",
   "version": "3.7.0"
  }
 },
 "nbformat": 4,
 "nbformat_minor": 2
}
